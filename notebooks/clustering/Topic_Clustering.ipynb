{
 "cells": [
  {
   "cell_type": "code",
   "execution_count": 7,
   "id": "initial_id",
   "metadata": {
    "collapsed": true,
    "ExecuteTime": {
     "end_time": "2024-05-23T16:03:04.101518800Z",
     "start_time": "2024-05-23T16:03:04.089769Z"
    }
   },
   "outputs": [],
   "source": [
    "import os\n",
    "# First we change the directory to the root directory of the project.\n",
    "os.chdir(os.getcwd().replace(\"\\\\notebooks\\\\clustering\", \"\"))\n",
    "import pandas as pd\n",
    "import pickle"
   ]
  },
  {
   "cell_type": "code",
   "execution_count": 16,
   "outputs": [
    {
     "name": "stdout",
     "output_type": "stream",
     "text": [
      "The autoreload extension is already loaded. To reload it, use:\n",
      "  %reload_ext autoreload\n"
     ]
    }
   ],
   "source": [
    "from bertopic import BERTopic\n",
    "from umap import UMAP\n",
    "from bertopic.vectorizers import ClassTfidfTransformer\n",
    "from sklearn.cluster import KMeans, AgglomerativeClustering\n",
    "import pyLDAvis\n",
    "from hdbscan import HDBSCAN\n",
    "import pyLDAvis.lda_model as lda\n",
    "from sklearn.decomposition import LatentDirichletAllocation\n",
    "import nltk\n",
    "from nltk.corpus import stopwords\n",
    "from sentence_transformers import SentenceTransformer\n",
    "from keyphrase_vectorizers import KeyphraseCountVectorizer\n",
    "%load_ext autoreload\n",
    "%autoreload 2"
   ],
   "metadata": {
    "collapsed": false,
    "ExecuteTime": {
     "end_time": "2024-05-23T16:04:40.604540500Z",
     "start_time": "2024-05-23T16:04:40.510819500Z"
    }
   },
   "id": "f178281882e99d48"
  },
  {
   "cell_type": "code",
   "execution_count": 9,
   "outputs": [
    {
     "data": {
      "text/plain": "[{'input': 'I retook the project report, and I noticed that you assigned a grade for it. However, on the student portal, Project 1.1 is still listed as a failed course. Could you please verify if everything is in order?',\n  'output': 'I’m waiting for all examiners to submit the results of the repair assignments. Then I will process everything simultaneously.'},\n {'input': 'I am reaching out to inquire about the process concerning my academic credits, as I received a notification from the school indicating that my credit is lower than expected for the first semester. I have already contacted the school via email to explain my situation, and their response mentioned that I should consider any changes in credits on the student portal as an indication that the email has not been sent. Could you please provide me with an update on the current status of the process?',\n  'output': 'I’m sorry but I cannot help you with this. I refer to the student advisors, in CC.'},\n {'input': 'I think there was a misunderstanding. I mailed you to get information about when you will be able to update my Project 1.1 grade? We talked about this previously and you mentioned that since I wasn’t be able to attend the project report examination, you gave me that point but after, I attended the repair assignment of it. Can you inform me about the progress please?',\n  'output': 'Once the exam office has changed the grade, the BSA committee will not send a new letter. They will check all credits again when they send the new round of letters and it will be taken into account by then.'},\n {'input': 'when do I get the results for Project1-1 makeup assignment? , if u know any estimation date',\n  'output': 'I submitted the grades this morning. I expect they will be available soon.'},\n {'input': 'The project 1-1 grades have been given and I got an NG and I have honestly no idea why. Could you help me knowing what happened?',\n  'output': 'According to my records, you were not present during the Final Presentation and the Product & Report Examination in Phase 3. Not being present during the Product & Report Examination leads to an NG for the project, as per R&R. (Not being present during the Final Presentation leads to a zero on the Presentation component in the Phase 3 grade.)'},\n {'input': 'I understand but I had a verry good reason for not coming to the presentation, I was unable to leave Belgium because of sickness and my doctor provided me a paper. I had been said, after scanning and sending the paper to the boe, that I could do my best to be present for at least one of the two presentations but if it was impossible then it was ok since I had a justification.',\n  'output': 'As coordinator, I can only take note of attendance and inform you of the consequences. I don’t know who told you this information, but the rules and regulations for the projects, which you ought to know if you participated in the Skill Class: Introduction to Project Work, are clear. I copy Article 5.6.3 below. “As indicated in paragraph 1, for each project there are a number of on-campus assessment moments that may include, but are not limited to: the presentation first phase, the presentation second phase, the final presentation and the product and report examination (if applicable). Failure to participate in either the presentation first phase or presentation second phase has the consequence that the student concerned cannot be graded for that particular phase and the grade for that phase will count as 0. Failure to participate in the final project presentation means that the student cannot be graded for the presentation and the grade for the rubrics concerning the presentation will count as 0. If a student does not participate in the product and report examination (if applicable), or misses in total two or more of the aforementioned assessment moments, there is insufficient bases for assessing the individual contribution of the student, with the consequence that an NG is awarded for the overall project of the student involved.” If you think you have a valid reason for missing both the final presentation and/or the product and report examination, you can contact the BoE. Please do not waste the BoE’s time and make a clear case. The BoE will then decide if your claim is valid. Only then can we decide how to move on.'},\n {'input': 'In the documentation about project 1-1s grading I have found the formula for the final grade really confusing. 0.9 x( project grade or Individual grade) + skill class grade. I wanted to ask whether both the project grade and individual grades are used or is it chose individually for a group.',\n  'output': 'The default computation is 0.9*ProjectGrade + SkillClassGrade. The examiners can however motivate an individual grade. In that case the computation becomes: 0.9*IndividualGrade + SkillClassGrade. The motivation can be that a student has had an exceptionally positive or negative contribution to the project.'},\n {'input': \"Since this morning 3:30AM, I had a terrible pain in my stomach and after a while I started to vomit repeatedly. I went to my GP and they said they they can not do anything about it and they can not give report for universities in Netherlands(They can just give it for Belgium Schools). So, since this morning I am resting in the home and taking some painkillers. That's why I couldn't attend to the report meeting today. I attended all the skill classes and all the meetings except one so I take the Project so seriously. I wish you will understand my situation and I won't loose anything because of the illness I have\",\n  'output': ' The rules and regulations are quite clear on this matter. Article 5.6.3 states that “If a student does not participate in the product and report examination (if applicable), or misses in total two or more of the aforementioned assessment moments, there is insufficient bases for assessing the individual contribution of the student, with the consequence that an NG is awarded for the overall project of the student involved.” This means that if you were not present during the P&R, then you will receive an NG.'},\n {'input': 'Tragically, I missed the final product and report examination this morning due to believing it was at 1pm instead of 11am. I do not have a good explanation for this as I remember checking the schedule several times and was confident that it would be at 1pm and by the time I realised, it was already 10:55. After rereading the rules and regulations I can not find what would happen in this case',\n  'output': 'The rules and regulations are quite clear on this matter. Article 5.6.3 states that “If a student does not participate in the product and report examination (if applicable), or misses in total two or more of the aforementioned assessment moments, there is insufficient bases for assessing the individual contribution of the student, with the consequence that an NG is awarded for the overall project of the student involved.” So you will be awarded an NG for the project.'},\n {'input': 'I have missed the first and second project meetings due to the delay caused by the storm. I informed my group mates of this issue when I got word my flight was cancelled and made sure to contact them first. As a result of the storm, I missed meetings on the 9th and the 11th. I was given an update on the code from my group members, as well as told what tasks I am able to complete while I was away. If need be, I can provide proof of correspondence. Attached are the letters from the airline detailing the cancellation of my flight. I was supposed to have arrived on the 9th before class, and due to the tropical storm, ended up having a cancelled flight and missing the meeting. I ended up arriving early morning Thursday, due to having to take a longer route.',\n  'output': 'The Board of Examiners has reviewed your situation and I can inform you with their decision: Not being present at the concerned meetings does not qualify for force majeure as the first meeting was scheduled before the flight originally was supposed to leave.'},\n {'input': \"I have a question regarding the skill class grade. The skill class grade only affects the final grade for the project correct? Also, from what I understand from the grading and assessment, it's worth a total of 10% of the final grade so if you missed one skill class, you would only miss out on 5% of the final grade, correct?\",\n  'output': 'Your final grade is equal to your 0.9*(ProjectGrade or IndividualGrade) + SkillClass Grade. So the skill class grade effects the final grade for 1 point. If you miss zero skill classes you have 1 point, if you miss one skill class, you have 0.5 point, if you miss two skill classes you have 0 points on the skill class grade. If you miss three or more skill classes, then you receive an NG for the whole project (i.e., final grade = NG).'},\n {'input': 'Is my thought process correct with how the grade works? It is in the end only worth 10% of the grade?',\n  'output': 'It is worth 10% of the final grade, yes. Say, for example, that you’ve missed one skill class, then the highest grade you can achieve for the project is a 9.5/10.'},\n {'input': 'Yesterday, I wasn’t able to complete the skill class because I was very sick unfortunately. I went to the doctor today and he gave me a paper that says that I’m unable to be present for the presentation of tomorrow and Friday. I have already spoke to my group so everything is fine. I just hope you understand that I really couldn’t even open my laptop yesterday so making the skill class was very difficult for me to do.',\n  'output': ' As coordinator and skill class teacher, I can only take note of attendance/submission. If you did not submit your skill class assignment, you receive a fail on the skill class. What you can do, is email the BoE to ask claim a force majeure (and then they might give you a repair assignment to fix the failed skill class). Regarding your presence in the assessment moments, the rules and regulations state the following: “Failure to participate in the final project presentation means that the student cannot be graded for the presentation and the grade for the rubrics concerning the presentation will count as 0. If a student does not participate in the product and report examination (if applicable), or misses in total two or more of the aforementioned assessment moments, there is insufficient bases for assessing the individual contribution of the student, with the consequence that an NG is awarded for the overall project of the student involved.” This means that if you would miss both examinations, you would receive an NG. However, I think that because you are sick you have a claim. Make sure to also mention this in your email to the BoE. Please be precise and make a clear distinction between both cases (the skill class versus the examination moments).'},\n {'input': 'I am informing you that we are going to leave 2 people out of the Overview of Who Did What, since they did not help the group at all this Phase. Can you please tell me what repercussions this can have on the 2 individuals and on the group grade?',\n  'output': ' Group grade: maybe the project management grade, but the effect will be very limited. Individual: they will be thoroughly questioned during the P&R, but you as well because it’s a strong move. Expect an intense discussion. I would take a less aggressive approach and add them but indicate honestly what they did. And if that’s zero that’s zero. But don’t catch them off guard. Bring it in the open.'},\n {'input': 'We will add them and mark the contribution with a 0, but can you tell us what proof we need to have with us to back our claim? Or we will just be questioned about it, no proof needed, and we can back your arguments verbally?',\n  'output': 'Proof could be communication (whatsapp/discord/etc.), gitlab (upload) records, prior who did whats.'},\n {'input': \"I had to be about 35 minutes late for today's project meeting due to religious reasons. I'm a Muslim, and so I had to attend the mandatory Friday prayers at the mosque, which is on the other side of Maastricht from our campus, which made me late for the project meeting. I've been noted down as absent from the meeting and told to email you. I also emailed you about the same problem last week (since the last project meeting was also on Friday), and I had received no response, so please let me know if I won't be penalized for both project meetings. Thank you for your time.\",\n  'output': 'Project Meetings are mandatory on site sessions. If you’re not present when the tutors checks the attendance, then you do not get the attendance. You now have 2 missed project meetings in Phase 3, which means that you receive an automatically lowered individual grade, which will be determined by the examiners.'},\n {'input': \"Is there no exception for religious obligations? I had mandatory prayers I had to attend, and I was only late by 35 minutes. Other than those two meetings I've been extremely diligent with attending project meetings and submitting assignments. I don't have any missed skill classes or project meetings from the first or second phases, and so I don't think I deserve a lowered individual grade for something outside of my control.\",\n  'output': 'Project Meetings have mandatory on site attendance, see rules and regulations. This has been addressed during the Introduction to Project Work Skill Class and consistently communicated by all tutors. Note that we can only take note of attendance/absence. You can attempt to argue a force majeure with the BoE, but, as far as I know, there are no exceptions for religious obligations, so I think you chances are slim.'},\n {'input': 'Could I know how much of the individual grade exactly is lowered?',\n  'output': 'This is determined by the examiners after the product and report examination.'},\n {'input': 'Sorry to bother you today with this, but I am not feeling well since yesterday night, I do have a meeting tomorrow for the project but in case i cannot attend, do I need to give a doctors note? I will be on a call with my team anyway and I will do the work assigned.',\n  'output': 'Project Meetings are mandatory on site sessions. Online attendance does not count. In phase 3, you get a lowered individual grade if you miss 2 project meetings. If you miss 3 or more project meetings, you receive a zero on the phase. I see that you currently have zero missed project meetings so if you would miss one, there’s no issue per se.'},\n {'input': \"I was unable to attend the meeting right now, as when I was waiting at the bus stop, the bus didn't stop for me. There are buses that run one of which is Belgian, which comes first. Since I'm Dutch and have the student Ov, I didn't take that bus. Instead, I was going to take the number 4, where my ov works. As the bus approached, I stand up so it sees me and stops, but the bus drove right past me, At this point, I panicked a little bit because the next bus would not let me reach on time as the commute to the faculty is a little over an hour long. I immediately booked an Uber to try and reach on time and waited almost 35 minutes for an Uber, but uber could not find a driver. I have a screenshot of this, I understand I have already used my force majeure and missed one meeting, but I genuinely tried to make the meeting, but nothing was working in my favor. Please tell me what I can do now.\",\n  'output': 'Let’s make the following clear first: The pre-examination counts as a project meeting. If you miss 2 project meetings in Phase 3, you receive an automatically lowered individual grade. If you miss 3 or more project meetings in Phase 3, then you receive a zero on Phase 3. You now have 2 missed project meetings. If you believe you could not be present during both instances (the project meeting and the pre-examination) due to force majeure, then you can argue that to the BoE. If they decide in your favor, then you will be exempted from both meetings, but the examiners will still investigate whether a lowered individual grade is appropriate (but it’s no longer automatic).'},\n {'input': 'I was on the phone with emergency and ER GPs and they informed me of a week of recovery due to nerve issues prescribing many painkillers and bedridden. I have discussed with my group and will continue work from home. However I worry about the pre-examination also affecting my skill point. Would you inform me on what i should do if i miss the preexam and 1 meeting?',\n  'output': 'The pre-examination counts as a project meeting. If you miss the pre-examination and a project meeting, you will receive an automatically lowered individual grade (determined by the examiners). You can argue a force majeure with the BoE if you think your case is valid. Note that, if they choose to exempt you, you could still receive a lowered individual grade if the examiners feels that you have not contributed sufficiently to the project.'},\n {'input': 'Is the pre-examination meeting mandatory for all team members or not?',\n  'output': 'Yes, the pre-examination is mandatory for all team members.'},\n {'input': 'From the beginning of the project the actual workload distribution did not correspond at all compared to the percentages my team presented, but lately my teammates and I have been struggling to deal with one of our group members in particular. This person hasn\\'t participated in any part of the project at all and only shows up for the project meetings and when we do the \"\"who did what\"\". He doesn\\'t work on any task, because he says that he is \"\"researching\"\". We have given him time to choose a task or help someone else, we also tried to text him directly to ask for help, but he didn\\'t answer any of the messages. What should we do?',\n  'output': ' Can you clarify what you mean with “hasn’t participated in any part of the project at all”? Especially in combination with the who did what. The who did what forms are considered the “ground truth” for the examiners as this a document agreed upon by the group. This means that we cannot change the distribution as reported in the who did what’s of Phase 1 and 2. I advise you strongly to be as honest as possible in the Phase 3 version of the who did what. The examiners will pick this up during the product and report examination. Usually this results in an individual grade for the person in question (this could be a failing grade). The rules and regulations state that the project is team work and therefore everyone should contribute actively. If not, the coordinator (that’s me) can issue a formal warning to the person in question. If the person does not change their behavior after the formal warning they are kicked out of the project and receive an NG. What you can therefore do, is make a work distribution for the coming days that you all agree upon. The work distribution is a table with your names in the rows and as columns “who”, “what”, “by when”, and “acceptable outcome”. You email this table to all your team mates and me and the counsellors. I can than issue a formal warning.'},\n {'input': \"I'm sorry I need to know if a retake is possible for phase 3, as I need to book flights. It would be very helpful if I am able to work from Egypt as I need to use crutches for 1 month. Therefore, the commute to the faculty will be quite difficult, as I can't use my bicycle, and there is no direct bus route to the faculty. I am preforming the tasks assigned to me by the group and can continue to do so. Sorry for the late notice, but I feel really sick right now and I slept through my alarm so I won't be able to attend todays project meeting for group KEN X.\",\n  'output': ' Article 5.8 in the rules and regulations provides all the information you seek: \"The resit is a repair opportunity, and the method shall be determined by the examiners. Repair opportunities can be individual or on a group level, where changes will be permitted to the composition of the original project group. Students who were expelled from the project or did not receive a grade in the current academic year are not allowed to take the project resit. A repair opportunity will only be offered if the grade is 4.0 or more (hence an NG is ineligible for a resit) to ensure that a student has obtained sufficient practical training. The student(s) will receive the resit assignment from the examiners within 2 working days after failing the project. This additional assignment must be handed in within 10 working days. If completed successfully, the student will receive a 6.0 for the project.\"'},\n {'input': 'My dad is getting married on Friday 12/01/2024. So I was wondering if I could miss the project meeting on this day.',\n  'output': 'Project meetings are mandatory on site sessions. Rules and regulations state that: “If two meetings are missed in the third block of the semester, the student will automatically receive a lowered individual grade. If three or more meetings are missed in the third block of the semester, the student will not have access to the exam of that project phase and that phase will count as grade zero.” You can miss one project meeting in Phase 3 to cover force majeure, and may only be used as such, which is determined by the BoE.'},\n {'input': 'Thank you for the clarification so how do I know if I can miss the meeting  without being sanctioned is it a good reason to miss it? Or it will count as I was absent?',\n  'output': 'You can put your case before the BoE to figure out if force majeure counts. Usually it helps to ask my advice first and I think they won’t count it as a force majeure. My point is that if you’re going to miss only one Project Meeting, there’s in principle no direct consequence. As we only have consequences in place from 2 missed project meetings. However, say you miss a second project meeting for whatever reason, then you have to prove force majeure for all missed project meetings and that might be tricky.'},\n {'input': \"I missed yesterday's project meeting, the reason for this was because I woke up in the morning extremely sick with a big coff and a headache, I am really sorry for this. It is acceptable to miss a project meeting in case of disease, isn't it?\",\n  'output': 'Project Meetings are mandatory on site sessions. If you miss 2 (two) project meetings in Phase 3, you receive an automatically lowered individual grade. If you miss 3 (three) or more project meetings in Phase 3, you receive a zero for the phase. So, in principle, as long as you miss only project meeting, there’s no issue. However, it is smart to keep proof of your illness in case you need to prove force majeure with the BoE. (Just your statement does not count, but a doctor’s note or something like that would.)'},\n {'input': \"Due to unforeseen weather conditions in Romania, my scheduled flight on Sunday was canceled. As a result, I had to make alternative arrangements and took another flight today in order to fulfill my commitments. Regrettably, this unexpected change in travel plans resulted in my inability to attend today's group meeting as planned. I understand the importance of my presence and contribution to these meetings, and I sincerely apologize for any inconvenience my absence may have caused. Given the circumstances, I would like to request your understanding and support in providing a brief explanation or documentation to motivate my absence from today's meeting. I am committed to ensuring that my responsibilities are fulfilled promptly despite these unforeseen challenges. Please let me know if there is any additional information required from my end to support this request. I appreciate your assistance and understanding in this matter. I look forward to catching up and contributing to the team's endeavors in our next meeting.\",\n  'output': 'Project Meetings are mandatory on site sessions. You have to be physically present to obtain the attendance check. Hence, you do not have the attendance for the first project meetings. Note that in Phase 2 you receive an automatically lowered individual grade if you miss two project meetings. (The reduction is determined by the examiners.) If you miss 3 or more project meetings, then you receive a zero for the Phase 3 grade (which counts for 70% in the project grade). You currently have 1 missed project meeting. Make sure you don’t miss any other meetings. (Note that the pre-examination also counts as a project meeting.) Say you would miss another project meeting, it’s important to document everything. Make sure you have proof of the unforeseen weather conditions and the canceled flight and the dates of the new flight. This is important in case you have to proof force majeure to the BoE in case of a second missed project meeting.'},\n {'input': 'I am contacting you because I saw on Canvas that I have 2 missed classes. It appears that one of them is the citing and referencing class, which I joined but did not submit the assignment on time due to not realising there was a problem with the textbox. The other one is the peer review class, which I do not know why I failed, because on Canvas it shows that I have submitted it.',\n  'output': 'You have 2 failed skill classes: the first one is \"Elementary Writing\" because you did not fill out the peer feedback. The other one is \"Citing & Referencing\" because you did not submit the pre-task. This means your skill class grade is 0. Be careful not to miss another skill class because three failed skill classes will result into an NG.'},\n {'input': 'I know that it shows I have missed skills classes, but my question is why and how that can be fixed. Since, as shown in the screenshots in the previous email and this one, I have submitted both assignments. But especially, I’m writing about the Citing & References skills class. I submitted the pre-task on time at first, but I put the citation in a text entry box along uploading the rest as PDF files. So that citation line didn’t upload, and I wasn’t made aware of this until the grades were up and other people started having the same problem. As soon as I was made aware of the issue, I reuploaded everything as a PDF. Unfortunately, due to this, the assignment status says I was “late”. Therefore, I kindly ask you whether it would be possible to not put that skills class as missing, since it clearly was a glitch on canvas that the students weren’t made aware of.',\n  'output': 'Response \"Elementary Writing\": you submitted a report, but you did not do the peer feedback part of the assignment, which means you fail the skill class. There’s no discussion here. The decision is final. Response \"Citing & Referencing\": you can contact the skill class teacher in CC. If he agrees, I can change your skill class grade. Otherwise, again, final decision.'},\n {'input': 'I would like to ask regarding the grading of the project because I missed 3 skill classes and I missed the presentation for phase 2, so I am confused whether I passed onto phase 3 or not. Therefore can you please clarify this?',\n  'output': 'You have 4 failed skill classes, which means you receive an NG for the project.'},\n {'input': \"I was unable to physically attend the project meeting today, but I did join via Google Meet. I told my group in advance, and they were okay with it. I arrive in Maastricht tomorrow, and the reason I wasn't really able to come earlier was because of a lack of housing. I was one of 500 students who were meant to move into Nido Living, but due to construction issues, they were unable to provide us with housing. Please let me know what I can do about missed attendance and whether or not joining online counts. I am currently still in the meeting and am going to be here for the full 2 hours. If i do not get attendance does my scenario fall under force majeur?\",\n  'output': 'Project Meetings are mandatory on site sessions. If you’re not physically present, you cannot receive the attendance check. In your case, it seems reasonable to attempt to argue for a force majeure with the BoE.'},\n {'input': 'Im terribly sorry about the missing skill classes, i was not properly informed that skill classes were important and this is entirely my fault. My question is, i dont wanna drop out from the project and want to continue, even though i dont have much knowledge in coding im trying my best to help my teammates as much as i can and i dont want them to be in a harsh place because of my mistake. Is there ANYTHING i can do to get back on the project?',\n  'output': 'You have 4 missed skill classes. The \"Elementary Writing\" skill class: did not submit elementary writing quiz and did not participate in the peer feedback. For \"Citing & Referencing\" you did not submit pre-task. For \"Presenting 2\" you did not submit any of the tasks. Lastly, for fourth skill class about \"Team Dynamics 1\" you did not submit pre-task. Unfortunately, there’s nothing we can do. You will receive an NG for the project and you are removed from the project. If you believe you have a good reason for missing these skill classes, you can email the BoE, but as you indicate yourself you were simply not aware of its importance, which is weird as you did complete the onboarding quiz so I assume you knew.'},\n {'input': \"Due to a conflict between the University's schedule and the Airport's flight plan I won't be able to attend tomorrow's project meeting as a member of Group 24. My tickets were booked before the publishing of the meetings' dates and by that time it had become financially infeasible for my family to rebook them. I have read the past announcements that reference this sort of situation and I hope you can understand since the alternative would entail two days of constant travel (due to no immediate flight existing) and a monetary investment of my family that they can't afford due to the difference in salaries between the two countries. I have already discussed the matter with my groupmates and I will back in time for the next meeting on the 11th.\",\n  'output': 'Project Meetings are mandatory on site sessions. Rules and regulations state the following “If two meetings are missed in the third block of the semester, the student will automatically receive a lowered individual grade. If three or more meetings are missed in the third block of the semester, the student will not have access to the exam of that project phase and that phase will count as grade zero.” You can miss one Project Meeting in Phase 3 but it can only be used for force majeure, which is determined by the BoE.'},\n {'input': 'I have unfortunately fallen ill and I am unsure about my capability to participate in the project meeting that we have tomorrow. How do I go about this situation? I am doing the most I can do in order to get better as soon as possible and in the scenario I feel better tomorrow I will attend the project meeting.',\n  'output': 'The rules and regulations state the following regarding the project meetings in Phase 3: If two meetings are missed in the third block of the semester, the student will automatically receive a lowered individual grade. If three or more meetings are missed in the third block of the semester, the student will not have access to the exam of that project phase and that phase will count as grade zero.\" You can miss one project meeting per semester to cover force majeure. In case you have to proof force majeure to the BoE, it is wise to keep a doctor’s note so that you can prove your illness.'},\n {'input': 'I am planning to drop out of the Data Science course later this year but still plan to follow several Math courses for an accelerated program at a different university. Therefore, continuing with the group project has little value since I will not be needing the credits. Is there any way to deregister myself from the group project?',\n  'output': 'It is wise to contact the student counsellors about this. You can put me in CC if you want. Their email address is dacs-counsellors@maastrichtuniversity.nl.'},\n {'input': \"I hope this message finds you well. I am writing to inform you that, regrettably, I will be unable to attend the mandatory project meeting scheduled for this coming Tuesday. Due to health-related reasons, I have been advised by my healthcare provider not to travel until the completion of my ongoing treatment. I'd like to know if this absence, due to unexpected circumstances, will be considered as a missed meeting or if there's an option for alternative arrangements. I assure you of my commitment to the project and am prepared to take necessary steps to ensure I am up-to-date with any information discussed or tasks assigned during the meeting. Please let me know if there's any additional information required from my end.\",\n  'output': 'Project meetings are mandatory on site sessions. If you’re not present physically, then you do not get the attendance check. It is wise to support your team via video conferencing, but you will not get the attendance. In Phase 3, you receive an automatically lowered individual grade if you miss 2 project meetings. The lowering is determined by the examiners so I can’t say anything about that. If you miss 3 project meetings, you get a zero for Phase 3 which usually means you fail the phase because Phase 3 counts for 70% in the project grade. If you only miss one project meeting, then in principle there’s no issue. You can attempt to request an exemption from the board of examiners, but I don’t think it’s necessary for now if you only miss one project meeting.'},\n {'input': 'I wanted to ask you a question related to the project meetings and the pre-examination. Two days ago, I had a surgery on my toe in my home country and even though I got discharged, it is recommended to me to visit the hospital every day for monitoring and dressings for the next one or two weeks(depending on my physical condition). My question is, if I show proof about the surgery and the recovery, can I participate in the project meetings and in the pre-examination online instead of on site?',\n  'output': 'Project Meetings are mandatory on site sessions, as per rules and regulations. If you’re not physically present, you do not get the attendance check. If there’s no way for you to be here, you can join via video conferencing, but you will not get the attendance.'},\n {'input': \"So to clarify even with my undergoing medical issue, I can't be exempted from attending project meetings on site? Also doesn't my case count as force majeure? Additionally, I want to ask if I don't have attendance for two projects meetings, by how much is my grade lowered?\",\n  'output': ' You can attempt to argue a force majeure to the BoE in order to get an exemption for the affected project meetings. (I do not decide whether or not something is force majeure, that’s the BoE’s responsibility.) I’m not 100% sure if the BoE will exempt your case because it’s unclear if this was planned or unplanned surgery. If it was the former, you could have foreseen this issue and don’t think they will count it as a force majeure then, but you can try. If you do not get an exemption and you would miss 2 project meetings, your grade is automatically lowered. This is decided by the examiners, hence, I cannot say anything about how much it would be lowered.'},\n {'input': 'I wanted to ask a question regarding the Project Opening scheduled for Friday 7 October. It says on the schedule that the PO will be online. Is this definite? I have been planning on going to Luxembourg by bus to see my family that weekend and it would be great if I could join the PO from there.',\n  'output': ' Online. Definite.'},\n {'input': 'I wanted to ask a question regarding the Project Opening scheduled for Friday 7 October. What exactly will happen during the PO? Is this just a meeting where you will talk about the project or will we be taking part in activities with our groups? The reason I am asking this is because there are two different Maastricht – Luxembourg bus times on that day, one from 9.25-12.20 and the other 17:25-20:20. If I were to take the morning bus, I would have to miss my CS1 lecture which I don’t really want to do. Luckily we won’t be learning any new content on that day but we will be working individually on previous assignments. If I were to take the afternoon bus I would be able to listen to the online meeting or maybe even listen to a recording afterwards if worse comes to worst. However, if we will need to interact with our group members then it would be a better option for me to attend the PO in a more suitable environment.',\n  'output': ' During PO, we clarify organizational aspects, mention version control software, and introduce the topic. You will discuss several related matters with your group in breakout sessions.'},\n {'input': 'I wanted to ask a question regarding the Project Opening scheduled for Friday 7 October. Is attendance to the PO one of the mandatory requirements of the Project similar to the project meetings (PMs) and TB classes? I am only asking this as a general question for a worst case scenario such as something going wrong with my internet.',\n  'output': ' PO counts as a PM. Details can be found in the R&R#5.4, see excerpt: “All project meetings are mandatory. One project meeting may be missed each block of the three blocks of a semester, without consequences, as an arrangement to cover force majeure and may only be used as such. If two or more meetings are missed in the first or second block of the semester, the student will not have access to the exam of that project phase and that phase will count as grade zero. If two meetings are missed in the third block of the semester, the student will automatically receive a lowered individual grade. If three or more meetings are missed in the third block of the semester, the student will not have access to the exam of that project phase and that phase will count as grade zero.”'},\n {'input': \"I am writing to you to ask about next Friday's Project opening. What will it be about?\",\n  'output': ' The project opening will be about course organization, the topic of the project, and other practicalities.'},\n {'input': \"I am writing to you to ask about next Friday's Project opening. I plan on travelling back home for the weekend and since it is supposed to be online. Could I just watch it remotely? At the time of the meeting, I will have access to a quiet room with a computer, so that should not be a problem\",\n  'output': ' The whole session is online, but you will have to work with your group members in breakout rooms. So yes a quiet room is advised.'},\n {'input': \"I am writing to you to ask about next Friday's Project opening. Is the attendance tracked for that as well and will we be required to speak or do anything?\",\n  'output': ' You will have to work with your team in breakout rooms so yes you will have to speak and do. It’s a very important session. Attendance is mandatory.'},\n {'input': 'I’m writing to inquire about where I can find an information regarding the libraries that can be used in the 3rd phase?',\n  'output': ' See the section on software in the project manual and/or the FAQ.'},\n {'input': \"Because of personal family problems, there is a possibilty to arrive on 14th of January in Maastricht, that means i'm unable to participate first meetings (8 and 11 Janurary). I'm trying seriously to be involved and i don't usually miss meetings. If i'm trying to join trough an online platform to get in touch with my colleagues this could mean my presence is accepted? How does affect me the absence during these 2 meetings next week?\",\n  'output': ' Project meetings are mandatory on site sessions. This means that you can only achieve the attendance if you’re physically present. Of course, if there’s no way for you to be here, then you can join online to support your team, but this will not result in a completed attendance. The rules and regulations state that in Phase 3 a student will receive an automatically lowered individual grade if they miss 2 project meetings (and will be determined by the examiners so I can’t say how much that lowering would be). If you miss 3 or more project meetings in Phase 3, you receive a zero for Phase 3 (which usually means you fail the project because Phase 3 accounts for 70% in your project grade).'},\n {'input': 'During Phase three, are we allowed to miss one project meeting? There is a small chance I will not make it to the meeting on January 8th, and I was wondering if an absence will have me fail phase three. I am aware this is the first day back and this meeting is very important, so I am asking to confirm with you.',\n  'output': ' All project meetings are mandatory on campus sessions. The first meeting is exceptionally important. Note that Phase 3 is very short and you will have to work hard to get everything done. For Phase 3, you will automatically receive a lowered individual grade (determined by examiners) if you miss 2 project meetings. You receive a zero (on Phase 3) if you miss 3 project meetings.'},\n {'input': \"I am reaching out to discuss my upcoming return to campus and participation in our project meetings. Due to a combination of financial limitations and the toll on my mental health from being far from home, I have decided to extend my stay with my family and will be returning to campus on January 14th. This period away is not just a matter of convenience but a necessity under the current circumstances. I am fully committed to the project and keenly aware of the importance of active participation in our meetings. Therefore, I would like to request permission to attend the project meetings via Zoom during this period. My intention is to maintain my involvement and contribution to the project, ensuring that my temporary absence does not hinder our progress. I have discussed this arrangement with my teammates, and they have kindly expressed their support. We all agree that this temporary measure is in the best interest of my personal well-being and the overall success of the project. Please understand that this is not an attempt to evade my responsibilities. On the contrary, I am eager to contribute to the project, which has been a highlight of my university experience. I believe that by attending the meetings remotely, I can continue to contribute effectively and stay aligned with the project's goals. I greatly appreciate your understanding and support in this matter and am willing to comply with any additional requirements that this arrangement may necessitate. Thank you for considering my request. I look forward to your response and guidance.\",\n  'output': ' Thank you for reaching out and explaining the situation. As you know, project meetings are mandatory on-campus sessions, see rules & regulations and SC: Intro to Project Work. If you return 14/01/2024, you will miss two project meetings, which will automatically result in a lowered individual grade for the project determined by the examiners.'},\n {'input': 'Good morning, I have just found out that there were some quizzes due the 1st of December, I happened to miss them, even if I completed all the other assignments about presentations, the message and subpoints tree, etc. I am now quite worried because I think it is the second time I forget about quizzes, it happened with the first skill class too. I also received a 0.75 out of 1 in the Draft Report Feedback, even inside the interface it says my mark is 100%. Who can I ask to check what my state is: I have never missed a meeting or anything else, but I am afraid of having missed too many skill classes, which would be very frustrating because of all the effort put in this project.',\n  'output': ' You passed SC: Presenting 2. Completing the assignments was sufficient. The quizzes/surveys were tools to help you structure your answers. You passed SC: Elementary Writing. I have explained the reason for the 0.75 already via announcements. Please read your announcements.'},\n {'input': 'This email is regarding the project meetings that were scheduled today, the 4th of December. I was present for most of the meeting and my attendance was checked by one of my tutors (Spriha Joshi). I left 30 minutes earlier than the end of the meeting because I had to call in order to know about the health and well-being of a very close relative who has been suffering from a condition (condition I can prove the existence of, if necessary), thinking it would be allowed since it was asked to the tutors in other instances. I was informed by my group members that shortly after I left, the project coordinator (Martijn Bousse) came into the room and removed my presence as if I hadn’t participated in the meeting at all. This email is regarding the project meetings that were scheduled today, the 4th of December. I was present for most of the meeting and my attendance was checked by one of my tutors (Spriha Joshi). I left 30 minutes earlier than the end of the meeting because I had to call in order to know about the health and well-being of a very close relative who has been suffering from a condition (condition I can prove the existence of, if necessary), thinking it would be allowed since it was asked to the tutors in other instances. I was informed by my group members that shortly after I left, the project coordinator (Martijn Bousse) came into the room and removed my presence as if I hadn’t participated in the meeting at all.',\n  'output': ' As explained in the rules and regulations, and in the SC: Introduction to Project Work, and in the project opening, and in various announcements, … project meetings are mandatory on campus sessions and you have to participate for the whole duration. There’s no discussion about that. As explained in the rules and regulations, and in the SC: Introduction to Project Work, and in the project opening, and in various announcements, … project meetings are mandatory on campus sessions and you have to participate for the whole duration. There’s no discussion about that. Next time, stay the whole duration of the project meeting, as intended.'},\n {'input': \"I would like to ask something about Due tonight's Slide presentations(First Draft, Rehearsing Slides, and Second Draft). Is it a group thing or does everyone need to do it individually?\",\n  'output': ' The deliverables should be submitted as a group.'},\n {'input': 'I have a question regarding the project, I know we can only use Swing, AWT and JavaFX 3 libraries. But can I use JFreeChart inside the JavaFX, Because if I want to create a box plot, JavaFX has no built-in components to create box plots, I need to draw the box plot manually.',\n  'output': ' That’s exactly the point: you need to implement this yourself.'},\n {'input': 'Me and my group struggled to understand which assignments are individual which are group assignments. Besides the obvious ones like second draft and first draft. Can you clarify the individual tasks?',\n  'output': 'For this skill class: All of them are individual tasks.'},\n {'input': '“Dear student, you now have 3 failed skill classes. This means that you will receive an NG for the project.”. So this means I got kicked from the projects?',\n  'output': 'Rules & Regulations state that if you fail 3 or more skill classes, you receive an NG. This effectively means that you’re kicked from the project.'},\n {'input': 'My tutor for this project normally is Tim, however I was unable to find their email anywhere which is why I am contacting you.My tutor for this project normally is Tim, however I was unable to find their email anywhere which is why I am contacting you. Will this be marked as a missed skill class?',\n  'output': 'Yes, this will be marked as a missed skill class.'},\n {'input': 'I have been sick for 2 days. I could not attend the \"Project Skills - Information Search: Citing and Referencing\" course. I will not be able to attend today\\'s project meeting too. I already talked with my group members and I wanted to inform you too.',\n  'output': 'The skill class will be marked as incomplete. Remember that project meetings have mandatory attendance.'}]"
     },
     "execution_count": 9,
     "metadata": {},
     "output_type": "execute_result"
    }
   ],
   "source": [
    "with open(\"data/ShotDB/examplesQA.pkl\", \"rb\") as f:\n",
    "    examples = pickle.load(f)\n",
    "examples"
   ],
   "metadata": {
    "collapsed": false,
    "ExecuteTime": {
     "end_time": "2024-05-23T16:03:22.995849600Z",
     "start_time": "2024-05-23T16:03:22.901124400Z"
    }
   },
   "id": "5ab870ed925016a0"
  },
  {
   "cell_type": "code",
   "execution_count": 11,
   "outputs": [],
   "source": [
    "docs = [example[\"input\"] for example in examples]"
   ],
   "metadata": {
    "collapsed": false,
    "ExecuteTime": {
     "end_time": "2024-05-23T16:03:44.871524100Z",
     "start_time": "2024-05-23T16:03:44.772683Z"
    }
   },
   "id": "66b47cf0a71e579"
  },
  {
   "cell_type": "code",
   "execution_count": 12,
   "outputs": [
    {
     "name": "stderr",
     "output_type": "stream",
     "text": [
      "[nltk_data] Downloading package stopwords to\n",
      "[nltk_data]     C:\\Users\\dika1\\AppData\\Roaming\\nltk_data...\n",
      "[nltk_data]   Package stopwords is already up-to-date!\n"
     ]
    }
   ],
   "source": [
    "nltk.download('stopwords')\n",
    "stop_words = stopwords.words('english')"
   ],
   "metadata": {
    "collapsed": false,
    "ExecuteTime": {
     "end_time": "2024-05-23T16:03:47.432122300Z",
     "start_time": "2024-05-23T16:03:47.247958300Z"
    }
   },
   "id": "d7dffe6a7269b527"
  },
  {
   "cell_type": "code",
   "execution_count": 13,
   "outputs": [],
   "source": [
    "sentence_model = SentenceTransformer(\"BAAI/bge-large-en-v1.5\", device='cuda')"
   ],
   "metadata": {
    "collapsed": false,
    "ExecuteTime": {
     "end_time": "2024-05-23T16:04:00.898823200Z",
     "start_time": "2024-05-23T16:03:55.426794600Z"
    }
   },
   "id": "5865c3e80698d133"
  },
  {
   "cell_type": "code",
   "execution_count": 35,
   "outputs": [],
   "source": [
    "umap_model = UMAP(n_neighbors=15, n_components=20, min_dist=0.1, spread=1, metric='cosine')"
   ],
   "metadata": {
    "collapsed": false,
    "ExecuteTime": {
     "end_time": "2024-05-23T16:15:13.619828900Z",
     "start_time": "2024-05-23T16:15:13.407863Z"
    }
   },
   "id": "8285049254eaa6bf"
  },
  {
   "cell_type": "code",
   "execution_count": 36,
   "outputs": [],
   "source": [
    "hdbscan_model = HDBSCAN(min_cluster_size=2, metric='euclidean', cluster_selection_method='eom', prediction_data=True)\n",
    "# cluster_model = KMeans(n_clusters=20, random_state=42)\n",
    "# cluster_model = AgglomerativeClustering(n_clusters=30, linkage='ward')"
   ],
   "metadata": {
    "collapsed": false,
    "ExecuteTime": {
     "end_time": "2024-05-23T16:15:13.969627900Z",
     "start_time": "2024-05-23T16:15:13.853179500Z"
    }
   },
   "id": "45fbf944530445fb"
  },
  {
   "cell_type": "code",
   "execution_count": 18,
   "outputs": [],
   "source": [
    "vectorizer_model = KeyphraseCountVectorizer(stop_words=stop_words)"
   ],
   "metadata": {
    "collapsed": false,
    "ExecuteTime": {
     "end_time": "2024-05-23T16:04:46.158034200Z",
     "start_time": "2024-05-23T16:04:46.053864Z"
    }
   },
   "id": "d752f657277afa08"
  },
  {
   "cell_type": "code",
   "execution_count": 19,
   "outputs": [],
   "source": [
    "ctfidf_model = ClassTfidfTransformer()"
   ],
   "metadata": {
    "collapsed": false,
    "ExecuteTime": {
     "end_time": "2024-05-23T16:04:49.248929300Z",
     "start_time": "2024-05-23T16:04:49.145600600Z"
    }
   },
   "id": "51fa18e289c83a60"
  },
  {
   "cell_type": "code",
   "execution_count": 47,
   "outputs": [
    {
     "name": "stdout",
     "output_type": "stream",
     "text": [
      "Environment variables are loaded =  True\n"
     ]
    }
   ],
   "source": [
    "import openai\n",
    "import tiktoken\n",
    "from bertopic.representation import OpenAI\n",
    "# Load local environment variables\n",
    "from dotenv import load_dotenv\n",
    "print(\"Environment variables are loaded = \", load_dotenv())"
   ],
   "metadata": {
    "collapsed": false,
    "ExecuteTime": {
     "end_time": "2024-05-23T16:21:31.689672Z",
     "start_time": "2024-05-23T16:21:31.552190900Z"
    }
   },
   "id": "5e5cad2a19285277"
  },
  {
   "cell_type": "code",
   "execution_count": 48,
   "outputs": [],
   "source": [
    "tokenizer= tiktoken.encoding_for_model(\"gpt-3.5-turbo-0125\")\n",
    "\n",
    "# Create your representation model\n",
    "client = openai.OpenAI(api_key=os.getenv(\"OPENAI_API_KEY\"))\n",
    "representation_model = OpenAI(\n",
    "    client,\n",
    "    model=\"gpt-3.5-turbo-0125\",\n",
    "    delay_in_seconds=2,\n",
    "    chat=True,\n",
    "    nr_docs=4,\n",
    "    doc_length=100,\n",
    "    tokenizer=tokenizer\n",
    ")\n"
   ],
   "metadata": {
    "collapsed": false,
    "ExecuteTime": {
     "end_time": "2024-05-23T16:22:07.373005600Z",
     "start_time": "2024-05-23T16:22:06.684614900Z"
    }
   },
   "id": "54c2c62a0bc28eff"
  },
  {
   "cell_type": "code",
   "execution_count": 55,
   "outputs": [],
   "source": [
    "topic_model = BERTopic(\n",
    "\n",
    "    # Pipeline models\n",
    "    embedding_model=sentence_model,\n",
    "    umap_model=umap_model,\n",
    "    hdbscan_model=hdbscan_model,\n",
    "    vectorizer_model=vectorizer_model,\n",
    "    representation_model=representation_model,\n",
    "    # Hyperparameters\n",
    "    top_n_words=5,\n",
    "    verbose=True\n",
    ")"
   ],
   "metadata": {
    "collapsed": false,
    "ExecuteTime": {
     "end_time": "2024-05-23T16:23:58.224349500Z",
     "start_time": "2024-05-23T16:23:58.109014900Z"
    }
   },
   "id": "171e4992a513b3e9"
  },
  {
   "cell_type": "code",
   "execution_count": 56,
   "outputs": [
    {
     "name": "stderr",
     "output_type": "stream",
     "text": [
      "2024-05-23 18:23:58,813 - BERTopic - Embedding - Transforming documents to embeddings.\n"
     ]
    },
    {
     "data": {
      "text/plain": "Batches:   0%|          | 0/2 [00:00<?, ?it/s]",
      "application/vnd.jupyter.widget-view+json": {
       "version_major": 2,
       "version_minor": 0,
       "model_id": "74ea1a80224d41eaa724afcced105817"
      }
     },
     "metadata": {},
     "output_type": "display_data"
    },
    {
     "name": "stderr",
     "output_type": "stream",
     "text": [
      "2024-05-23 18:23:59,894 - BERTopic - Embedding - Completed ✓\n",
      "2024-05-23 18:23:59,895 - BERTopic - Dimensionality - Fitting the dimensionality reduction algorithm\n",
      "2024-05-23 18:24:01,696 - BERTopic - Dimensionality - Completed ✓\n",
      "2024-05-23 18:24:01,696 - BERTopic - Cluster - Start clustering the reduced embeddings\n",
      "D:\\Code\\uni_llm\\venv\\lib\\site-packages\\hdbscan\\hdbscan_.py:1170: DeprecationWarning:\n",
      "\n",
      "`alltrue` is deprecated as of NumPy 1.25.0, and will be removed in NumPy 2.0. Please use `all` instead.\n",
      "\n",
      "2024-05-23 18:24:01,699 - BERTopic - Cluster - Completed ✓\n",
      "2024-05-23 18:24:01,700 - BERTopic - Representation - Extracting topics from clusters using representation models.\n",
      "100%|██████████| 6/6 [00:16<00:00,  2.78s/it]\n",
      "2024-05-23 18:24:19,094 - BERTopic - Representation - Completed ✓\n"
     ]
    }
   ],
   "source": [
    "# Train model\n",
    "topics, probs = topic_model.fit_transform(docs)"
   ],
   "metadata": {
    "collapsed": false,
    "ExecuteTime": {
     "end_time": "2024-05-23T16:24:19.527783800Z",
     "start_time": "2024-05-23T16:23:58.704483500Z"
    }
   },
   "id": "cbde2b775b5e01f7"
  },
  {
   "cell_type": "code",
   "execution_count": 51,
   "outputs": [],
   "source": [
    "# Fine-tune topic representations after training BERTopic\n",
    "# vectorizer_model = KeyphraseCountVectorizer(stop_words=stop_words)\n",
    "# topic_model.update_topics(docs, vectorizer_model=vectorizer_model)"
   ],
   "metadata": {
    "collapsed": false,
    "ExecuteTime": {
     "end_time": "2024-05-23T16:23:03.779984300Z",
     "start_time": "2024-05-23T16:23:02.992082200Z"
    }
   },
   "id": "9b5e2b051520aacb"
  },
  {
   "cell_type": "code",
   "execution_count": 57,
   "outputs": [
    {
     "data": {
      "text/plain": "   Topic  Count                                               Name  \\\n0     -1      1  -1_Medical Issue Impact on Project Meeting Att...   \n1      0     20                0_Grading and Skill Classes Queries   \n2      1     10  1_Health-related challenges affecting particip...   \n3      2     10  2_Meeting Attendance Difficulties Due to Unfor...   \n4      3      9  3_Attendance and Participation Issues in Phase...   \n5      4      7  4_Project Opening Attendance and Participation...   \n\n                                      Representation  \\\n0  [Medical Issue Impact on Project Meeting Atten...   \n1                [Grading and Skill Classes Queries]   \n2  [Health-related challenges affecting participa...   \n3  [Meeting Attendance Difficulties Due to Unfore...   \n4  [Attendance and Participation Issues in Phase ...   \n5  [Project Opening Attendance and Participation ...   \n\n                                 Representative_Docs  \n0  [So to clarify even with my undergoing medical...  \n1  [I know that it shows I have missed skills cla...  \n2  [I was on the phone with emergency and ER GPs ...  \n3  [I am reaching out to discuss my upcoming retu...  \n4  [From the beginning of the project the actual ...  \n5  [I wanted to ask a question regarding the Proj...  ",
      "text/html": "<div>\n<style scoped>\n    .dataframe tbody tr th:only-of-type {\n        vertical-align: middle;\n    }\n\n    .dataframe tbody tr th {\n        vertical-align: top;\n    }\n\n    .dataframe thead th {\n        text-align: right;\n    }\n</style>\n<table border=\"1\" class=\"dataframe\">\n  <thead>\n    <tr style=\"text-align: right;\">\n      <th></th>\n      <th>Topic</th>\n      <th>Count</th>\n      <th>Name</th>\n      <th>Representation</th>\n      <th>Representative_Docs</th>\n    </tr>\n  </thead>\n  <tbody>\n    <tr>\n      <th>0</th>\n      <td>-1</td>\n      <td>1</td>\n      <td>-1_Medical Issue Impact on Project Meeting Att...</td>\n      <td>[Medical Issue Impact on Project Meeting Atten...</td>\n      <td>[So to clarify even with my undergoing medical...</td>\n    </tr>\n    <tr>\n      <th>1</th>\n      <td>0</td>\n      <td>20</td>\n      <td>0_Grading and Skill Classes Queries</td>\n      <td>[Grading and Skill Classes Queries]</td>\n      <td>[I know that it shows I have missed skills cla...</td>\n    </tr>\n    <tr>\n      <th>2</th>\n      <td>1</td>\n      <td>10</td>\n      <td>1_Health-related challenges affecting particip...</td>\n      <td>[Health-related challenges affecting participa...</td>\n      <td>[I was on the phone with emergency and ER GPs ...</td>\n    </tr>\n    <tr>\n      <th>3</th>\n      <td>2</td>\n      <td>10</td>\n      <td>2_Meeting Attendance Difficulties Due to Unfor...</td>\n      <td>[Meeting Attendance Difficulties Due to Unfore...</td>\n      <td>[I am reaching out to discuss my upcoming retu...</td>\n    </tr>\n    <tr>\n      <th>4</th>\n      <td>3</td>\n      <td>9</td>\n      <td>3_Attendance and Participation Issues in Phase...</td>\n      <td>[Attendance and Participation Issues in Phase ...</td>\n      <td>[From the beginning of the project the actual ...</td>\n    </tr>\n    <tr>\n      <th>5</th>\n      <td>4</td>\n      <td>7</td>\n      <td>4_Project Opening Attendance and Participation...</td>\n      <td>[Project Opening Attendance and Participation ...</td>\n      <td>[I wanted to ask a question regarding the Proj...</td>\n    </tr>\n  </tbody>\n</table>\n</div>"
     },
     "execution_count": 57,
     "metadata": {},
     "output_type": "execute_result"
    }
   ],
   "source": [
    "topic_model.get_topic_info()"
   ],
   "metadata": {
    "collapsed": false,
    "ExecuteTime": {
     "end_time": "2024-05-23T16:24:36.285866700Z",
     "start_time": "2024-05-23T16:24:36.153917500Z"
    }
   },
   "id": "925446b93b6769d3"
  },
  {
   "cell_type": "code",
   "execution_count": 58,
   "outputs": [
    {
     "data": {
      "application/vnd.plotly.v1+json": {
       "data": [
        {
         "coloraxis": "coloraxis",
         "name": "0",
         "x": [
          "0_Grading and Skill Classes...",
          "1_Health-related challenges...",
          "2_Meeting Attendance Diffic...",
          "3_Attendance and Participat...",
          "4_Project Opening Attendanc..."
         ],
         "y": [
          "0_Grading and Skill Classes...",
          "1_Health-related challenges...",
          "2_Meeting Attendance Diffic...",
          "3_Attendance and Participat...",
          "4_Project Opening Attendanc..."
         ],
         "z": [
          [
           1.0,
           0.85102737,
           0.8377087,
           0.9196751,
           0.813651
          ],
          [
           0.85102737,
           1.0,
           0.9211811,
           0.90539515,
           0.83665043
          ],
          [
           0.8377087,
           0.9211811,
           1.0,
           0.9203613,
           0.86991125
          ],
          [
           0.9196751,
           0.90539515,
           0.9203613,
           1.0000001,
           0.86753726
          ],
          [
           0.813651,
           0.83665043,
           0.86991125,
           0.86753726,
           1.0
          ]
         ],
         "type": "heatmap",
         "xaxis": "x",
         "yaxis": "y",
         "hovertemplate": "x: %{x}<br>y: %{y}<br>Similarity Score: %{z}<extra></extra>"
        }
       ],
       "layout": {
        "template": {
         "data": {
          "histogram2dcontour": [
           {
            "type": "histogram2dcontour",
            "colorbar": {
             "outlinewidth": 0,
             "ticks": ""
            },
            "colorscale": [
             [
              0.0,
              "#0d0887"
             ],
             [
              0.1111111111111111,
              "#46039f"
             ],
             [
              0.2222222222222222,
              "#7201a8"
             ],
             [
              0.3333333333333333,
              "#9c179e"
             ],
             [
              0.4444444444444444,
              "#bd3786"
             ],
             [
              0.5555555555555556,
              "#d8576b"
             ],
             [
              0.6666666666666666,
              "#ed7953"
             ],
             [
              0.7777777777777778,
              "#fb9f3a"
             ],
             [
              0.8888888888888888,
              "#fdca26"
             ],
             [
              1.0,
              "#f0f921"
             ]
            ]
           }
          ],
          "choropleth": [
           {
            "type": "choropleth",
            "colorbar": {
             "outlinewidth": 0,
             "ticks": ""
            }
           }
          ],
          "histogram2d": [
           {
            "type": "histogram2d",
            "colorbar": {
             "outlinewidth": 0,
             "ticks": ""
            },
            "colorscale": [
             [
              0.0,
              "#0d0887"
             ],
             [
              0.1111111111111111,
              "#46039f"
             ],
             [
              0.2222222222222222,
              "#7201a8"
             ],
             [
              0.3333333333333333,
              "#9c179e"
             ],
             [
              0.4444444444444444,
              "#bd3786"
             ],
             [
              0.5555555555555556,
              "#d8576b"
             ],
             [
              0.6666666666666666,
              "#ed7953"
             ],
             [
              0.7777777777777778,
              "#fb9f3a"
             ],
             [
              0.8888888888888888,
              "#fdca26"
             ],
             [
              1.0,
              "#f0f921"
             ]
            ]
           }
          ],
          "heatmap": [
           {
            "type": "heatmap",
            "colorbar": {
             "outlinewidth": 0,
             "ticks": ""
            },
            "colorscale": [
             [
              0.0,
              "#0d0887"
             ],
             [
              0.1111111111111111,
              "#46039f"
             ],
             [
              0.2222222222222222,
              "#7201a8"
             ],
             [
              0.3333333333333333,
              "#9c179e"
             ],
             [
              0.4444444444444444,
              "#bd3786"
             ],
             [
              0.5555555555555556,
              "#d8576b"
             ],
             [
              0.6666666666666666,
              "#ed7953"
             ],
             [
              0.7777777777777778,
              "#fb9f3a"
             ],
             [
              0.8888888888888888,
              "#fdca26"
             ],
             [
              1.0,
              "#f0f921"
             ]
            ]
           }
          ],
          "heatmapgl": [
           {
            "type": "heatmapgl",
            "colorbar": {
             "outlinewidth": 0,
             "ticks": ""
            },
            "colorscale": [
             [
              0.0,
              "#0d0887"
             ],
             [
              0.1111111111111111,
              "#46039f"
             ],
             [
              0.2222222222222222,
              "#7201a8"
             ],
             [
              0.3333333333333333,
              "#9c179e"
             ],
             [
              0.4444444444444444,
              "#bd3786"
             ],
             [
              0.5555555555555556,
              "#d8576b"
             ],
             [
              0.6666666666666666,
              "#ed7953"
             ],
             [
              0.7777777777777778,
              "#fb9f3a"
             ],
             [
              0.8888888888888888,
              "#fdca26"
             ],
             [
              1.0,
              "#f0f921"
             ]
            ]
           }
          ],
          "contourcarpet": [
           {
            "type": "contourcarpet",
            "colorbar": {
             "outlinewidth": 0,
             "ticks": ""
            }
           }
          ],
          "contour": [
           {
            "type": "contour",
            "colorbar": {
             "outlinewidth": 0,
             "ticks": ""
            },
            "colorscale": [
             [
              0.0,
              "#0d0887"
             ],
             [
              0.1111111111111111,
              "#46039f"
             ],
             [
              0.2222222222222222,
              "#7201a8"
             ],
             [
              0.3333333333333333,
              "#9c179e"
             ],
             [
              0.4444444444444444,
              "#bd3786"
             ],
             [
              0.5555555555555556,
              "#d8576b"
             ],
             [
              0.6666666666666666,
              "#ed7953"
             ],
             [
              0.7777777777777778,
              "#fb9f3a"
             ],
             [
              0.8888888888888888,
              "#fdca26"
             ],
             [
              1.0,
              "#f0f921"
             ]
            ]
           }
          ],
          "surface": [
           {
            "type": "surface",
            "colorbar": {
             "outlinewidth": 0,
             "ticks": ""
            },
            "colorscale": [
             [
              0.0,
              "#0d0887"
             ],
             [
              0.1111111111111111,
              "#46039f"
             ],
             [
              0.2222222222222222,
              "#7201a8"
             ],
             [
              0.3333333333333333,
              "#9c179e"
             ],
             [
              0.4444444444444444,
              "#bd3786"
             ],
             [
              0.5555555555555556,
              "#d8576b"
             ],
             [
              0.6666666666666666,
              "#ed7953"
             ],
             [
              0.7777777777777778,
              "#fb9f3a"
             ],
             [
              0.8888888888888888,
              "#fdca26"
             ],
             [
              1.0,
              "#f0f921"
             ]
            ]
           }
          ],
          "mesh3d": [
           {
            "type": "mesh3d",
            "colorbar": {
             "outlinewidth": 0,
             "ticks": ""
            }
           }
          ],
          "scatter": [
           {
            "fillpattern": {
             "fillmode": "overlay",
             "size": 10,
             "solidity": 0.2
            },
            "type": "scatter"
           }
          ],
          "parcoords": [
           {
            "type": "parcoords",
            "line": {
             "colorbar": {
              "outlinewidth": 0,
              "ticks": ""
             }
            }
           }
          ],
          "scatterpolargl": [
           {
            "type": "scatterpolargl",
            "marker": {
             "colorbar": {
              "outlinewidth": 0,
              "ticks": ""
             }
            }
           }
          ],
          "bar": [
           {
            "error_x": {
             "color": "#2a3f5f"
            },
            "error_y": {
             "color": "#2a3f5f"
            },
            "marker": {
             "line": {
              "color": "#E5ECF6",
              "width": 0.5
             },
             "pattern": {
              "fillmode": "overlay",
              "size": 10,
              "solidity": 0.2
             }
            },
            "type": "bar"
           }
          ],
          "scattergeo": [
           {
            "type": "scattergeo",
            "marker": {
             "colorbar": {
              "outlinewidth": 0,
              "ticks": ""
             }
            }
           }
          ],
          "scatterpolar": [
           {
            "type": "scatterpolar",
            "marker": {
             "colorbar": {
              "outlinewidth": 0,
              "ticks": ""
             }
            }
           }
          ],
          "histogram": [
           {
            "marker": {
             "pattern": {
              "fillmode": "overlay",
              "size": 10,
              "solidity": 0.2
             }
            },
            "type": "histogram"
           }
          ],
          "scattergl": [
           {
            "type": "scattergl",
            "marker": {
             "colorbar": {
              "outlinewidth": 0,
              "ticks": ""
             }
            }
           }
          ],
          "scatter3d": [
           {
            "type": "scatter3d",
            "line": {
             "colorbar": {
              "outlinewidth": 0,
              "ticks": ""
             }
            },
            "marker": {
             "colorbar": {
              "outlinewidth": 0,
              "ticks": ""
             }
            }
           }
          ],
          "scattermapbox": [
           {
            "type": "scattermapbox",
            "marker": {
             "colorbar": {
              "outlinewidth": 0,
              "ticks": ""
             }
            }
           }
          ],
          "scatterternary": [
           {
            "type": "scatterternary",
            "marker": {
             "colorbar": {
              "outlinewidth": 0,
              "ticks": ""
             }
            }
           }
          ],
          "scattercarpet": [
           {
            "type": "scattercarpet",
            "marker": {
             "colorbar": {
              "outlinewidth": 0,
              "ticks": ""
             }
            }
           }
          ],
          "carpet": [
           {
            "aaxis": {
             "endlinecolor": "#2a3f5f",
             "gridcolor": "white",
             "linecolor": "white",
             "minorgridcolor": "white",
             "startlinecolor": "#2a3f5f"
            },
            "baxis": {
             "endlinecolor": "#2a3f5f",
             "gridcolor": "white",
             "linecolor": "white",
             "minorgridcolor": "white",
             "startlinecolor": "#2a3f5f"
            },
            "type": "carpet"
           }
          ],
          "table": [
           {
            "cells": {
             "fill": {
              "color": "#EBF0F8"
             },
             "line": {
              "color": "white"
             }
            },
            "header": {
             "fill": {
              "color": "#C8D4E3"
             },
             "line": {
              "color": "white"
             }
            },
            "type": "table"
           }
          ],
          "barpolar": [
           {
            "marker": {
             "line": {
              "color": "#E5ECF6",
              "width": 0.5
             },
             "pattern": {
              "fillmode": "overlay",
              "size": 10,
              "solidity": 0.2
             }
            },
            "type": "barpolar"
           }
          ],
          "pie": [
           {
            "automargin": true,
            "type": "pie"
           }
          ]
         },
         "layout": {
          "autotypenumbers": "strict",
          "colorway": [
           "#636efa",
           "#EF553B",
           "#00cc96",
           "#ab63fa",
           "#FFA15A",
           "#19d3f3",
           "#FF6692",
           "#B6E880",
           "#FF97FF",
           "#FECB52"
          ],
          "font": {
           "color": "#2a3f5f"
          },
          "hovermode": "closest",
          "hoverlabel": {
           "align": "left"
          },
          "paper_bgcolor": "white",
          "plot_bgcolor": "#E5ECF6",
          "polar": {
           "bgcolor": "#E5ECF6",
           "angularaxis": {
            "gridcolor": "white",
            "linecolor": "white",
            "ticks": ""
           },
           "radialaxis": {
            "gridcolor": "white",
            "linecolor": "white",
            "ticks": ""
           }
          },
          "ternary": {
           "bgcolor": "#E5ECF6",
           "aaxis": {
            "gridcolor": "white",
            "linecolor": "white",
            "ticks": ""
           },
           "baxis": {
            "gridcolor": "white",
            "linecolor": "white",
            "ticks": ""
           },
           "caxis": {
            "gridcolor": "white",
            "linecolor": "white",
            "ticks": ""
           }
          },
          "coloraxis": {
           "colorbar": {
            "outlinewidth": 0,
            "ticks": ""
           }
          },
          "colorscale": {
           "sequential": [
            [
             0.0,
             "#0d0887"
            ],
            [
             0.1111111111111111,
             "#46039f"
            ],
            [
             0.2222222222222222,
             "#7201a8"
            ],
            [
             0.3333333333333333,
             "#9c179e"
            ],
            [
             0.4444444444444444,
             "#bd3786"
            ],
            [
             0.5555555555555556,
             "#d8576b"
            ],
            [
             0.6666666666666666,
             "#ed7953"
            ],
            [
             0.7777777777777778,
             "#fb9f3a"
            ],
            [
             0.8888888888888888,
             "#fdca26"
            ],
            [
             1.0,
             "#f0f921"
            ]
           ],
           "sequentialminus": [
            [
             0.0,
             "#0d0887"
            ],
            [
             0.1111111111111111,
             "#46039f"
            ],
            [
             0.2222222222222222,
             "#7201a8"
            ],
            [
             0.3333333333333333,
             "#9c179e"
            ],
            [
             0.4444444444444444,
             "#bd3786"
            ],
            [
             0.5555555555555556,
             "#d8576b"
            ],
            [
             0.6666666666666666,
             "#ed7953"
            ],
            [
             0.7777777777777778,
             "#fb9f3a"
            ],
            [
             0.8888888888888888,
             "#fdca26"
            ],
            [
             1.0,
             "#f0f921"
            ]
           ],
           "diverging": [
            [
             0,
             "#8e0152"
            ],
            [
             0.1,
             "#c51b7d"
            ],
            [
             0.2,
             "#de77ae"
            ],
            [
             0.3,
             "#f1b6da"
            ],
            [
             0.4,
             "#fde0ef"
            ],
            [
             0.5,
             "#f7f7f7"
            ],
            [
             0.6,
             "#e6f5d0"
            ],
            [
             0.7,
             "#b8e186"
            ],
            [
             0.8,
             "#7fbc41"
            ],
            [
             0.9,
             "#4d9221"
            ],
            [
             1,
             "#276419"
            ]
           ]
          },
          "xaxis": {
           "gridcolor": "white",
           "linecolor": "white",
           "ticks": "",
           "title": {
            "standoff": 15
           },
           "zerolinecolor": "white",
           "automargin": true,
           "zerolinewidth": 2
          },
          "yaxis": {
           "gridcolor": "white",
           "linecolor": "white",
           "ticks": "",
           "title": {
            "standoff": 15
           },
           "zerolinecolor": "white",
           "automargin": true,
           "zerolinewidth": 2
          },
          "scene": {
           "xaxis": {
            "backgroundcolor": "#E5ECF6",
            "gridcolor": "white",
            "linecolor": "white",
            "showbackground": true,
            "ticks": "",
            "zerolinecolor": "white",
            "gridwidth": 2
           },
           "yaxis": {
            "backgroundcolor": "#E5ECF6",
            "gridcolor": "white",
            "linecolor": "white",
            "showbackground": true,
            "ticks": "",
            "zerolinecolor": "white",
            "gridwidth": 2
           },
           "zaxis": {
            "backgroundcolor": "#E5ECF6",
            "gridcolor": "white",
            "linecolor": "white",
            "showbackground": true,
            "ticks": "",
            "zerolinecolor": "white",
            "gridwidth": 2
           }
          },
          "shapedefaults": {
           "line": {
            "color": "#2a3f5f"
           }
          },
          "annotationdefaults": {
           "arrowcolor": "#2a3f5f",
           "arrowhead": 0,
           "arrowwidth": 1
          },
          "geo": {
           "bgcolor": "white",
           "landcolor": "#E5ECF6",
           "subunitcolor": "white",
           "showland": true,
           "showlakes": true,
           "lakecolor": "white"
          },
          "title": {
           "x": 0.05
          },
          "mapbox": {
           "style": "light"
          }
         }
        },
        "xaxis": {
         "anchor": "y",
         "domain": [
          0.0,
          1.0
         ],
         "scaleanchor": "y",
         "constrain": "domain"
        },
        "yaxis": {
         "anchor": "x",
         "domain": [
          0.0,
          1.0
         ],
         "autorange": "reversed",
         "constrain": "domain"
        },
        "coloraxis": {
         "colorbar": {
          "title": {
           "text": "Similarity Score"
          }
         },
         "colorscale": [
          [
           0.0,
           "rgb(247,252,240)"
          ],
          [
           0.125,
           "rgb(224,243,219)"
          ],
          [
           0.25,
           "rgb(204,235,197)"
          ],
          [
           0.375,
           "rgb(168,221,181)"
          ],
          [
           0.5,
           "rgb(123,204,196)"
          ],
          [
           0.625,
           "rgb(78,179,211)"
          ],
          [
           0.75,
           "rgb(43,140,190)"
          ],
          [
           0.875,
           "rgb(8,104,172)"
          ],
          [
           1.0,
           "rgb(8,64,129)"
          ]
         ]
        },
        "margin": {
         "t": 60
        },
        "title": {
         "font": {
          "size": 22,
          "color": "Black"
         },
         "text": "<b>Similarity Matrix</b>",
         "y": 0.95,
         "x": 0.55,
         "xanchor": "center",
         "yanchor": "top"
        },
        "hoverlabel": {
         "font": {
          "size": 16,
          "family": "Rockwell"
         },
         "bgcolor": "white"
        },
        "width": 800,
        "height": 800,
        "showlegend": true,
        "legend": {
         "title": {
          "text": "Trend"
         }
        }
       },
       "config": {
        "plotlyServerURL": "https://plot.ly"
       }
      },
      "text/html": "<div>                            <div id=\"38a3e95c-39c2-4713-83ce-cf1a00dd28d4\" class=\"plotly-graph-div\" style=\"height:800px; width:800px;\"></div>            <script type=\"text/javascript\">                require([\"plotly\"], function(Plotly) {                    window.PLOTLYENV=window.PLOTLYENV || {};                                    if (document.getElementById(\"38a3e95c-39c2-4713-83ce-cf1a00dd28d4\")) {                    Plotly.newPlot(                        \"38a3e95c-39c2-4713-83ce-cf1a00dd28d4\",                        [{\"coloraxis\":\"coloraxis\",\"name\":\"0\",\"x\":[\"0_Grading and Skill Classes...\",\"1_Health-related challenges...\",\"2_Meeting Attendance Diffic...\",\"3_Attendance and Participat...\",\"4_Project Opening Attendanc...\"],\"y\":[\"0_Grading and Skill Classes...\",\"1_Health-related challenges...\",\"2_Meeting Attendance Diffic...\",\"3_Attendance and Participat...\",\"4_Project Opening Attendanc...\"],\"z\":[[1.0,0.85102737,0.8377087,0.9196751,0.813651],[0.85102737,1.0,0.9211811,0.90539515,0.83665043],[0.8377087,0.9211811,1.0,0.9203613,0.86991125],[0.9196751,0.90539515,0.9203613,1.0000001,0.86753726],[0.813651,0.83665043,0.86991125,0.86753726,1.0]],\"type\":\"heatmap\",\"xaxis\":\"x\",\"yaxis\":\"y\",\"hovertemplate\":\"x: %{x}\\u003cbr\\u003ey: %{y}\\u003cbr\\u003eSimilarity Score: %{z}\\u003cextra\\u003e\\u003c\\u002fextra\\u003e\"}],                        {\"template\":{\"data\":{\"histogram2dcontour\":[{\"type\":\"histogram2dcontour\",\"colorbar\":{\"outlinewidth\":0,\"ticks\":\"\"},\"colorscale\":[[0.0,\"#0d0887\"],[0.1111111111111111,\"#46039f\"],[0.2222222222222222,\"#7201a8\"],[0.3333333333333333,\"#9c179e\"],[0.4444444444444444,\"#bd3786\"],[0.5555555555555556,\"#d8576b\"],[0.6666666666666666,\"#ed7953\"],[0.7777777777777778,\"#fb9f3a\"],[0.8888888888888888,\"#fdca26\"],[1.0,\"#f0f921\"]]}],\"choropleth\":[{\"type\":\"choropleth\",\"colorbar\":{\"outlinewidth\":0,\"ticks\":\"\"}}],\"histogram2d\":[{\"type\":\"histogram2d\",\"colorbar\":{\"outlinewidth\":0,\"ticks\":\"\"},\"colorscale\":[[0.0,\"#0d0887\"],[0.1111111111111111,\"#46039f\"],[0.2222222222222222,\"#7201a8\"],[0.3333333333333333,\"#9c179e\"],[0.4444444444444444,\"#bd3786\"],[0.5555555555555556,\"#d8576b\"],[0.6666666666666666,\"#ed7953\"],[0.7777777777777778,\"#fb9f3a\"],[0.8888888888888888,\"#fdca26\"],[1.0,\"#f0f921\"]]}],\"heatmap\":[{\"type\":\"heatmap\",\"colorbar\":{\"outlinewidth\":0,\"ticks\":\"\"},\"colorscale\":[[0.0,\"#0d0887\"],[0.1111111111111111,\"#46039f\"],[0.2222222222222222,\"#7201a8\"],[0.3333333333333333,\"#9c179e\"],[0.4444444444444444,\"#bd3786\"],[0.5555555555555556,\"#d8576b\"],[0.6666666666666666,\"#ed7953\"],[0.7777777777777778,\"#fb9f3a\"],[0.8888888888888888,\"#fdca26\"],[1.0,\"#f0f921\"]]}],\"heatmapgl\":[{\"type\":\"heatmapgl\",\"colorbar\":{\"outlinewidth\":0,\"ticks\":\"\"},\"colorscale\":[[0.0,\"#0d0887\"],[0.1111111111111111,\"#46039f\"],[0.2222222222222222,\"#7201a8\"],[0.3333333333333333,\"#9c179e\"],[0.4444444444444444,\"#bd3786\"],[0.5555555555555556,\"#d8576b\"],[0.6666666666666666,\"#ed7953\"],[0.7777777777777778,\"#fb9f3a\"],[0.8888888888888888,\"#fdca26\"],[1.0,\"#f0f921\"]]}],\"contourcarpet\":[{\"type\":\"contourcarpet\",\"colorbar\":{\"outlinewidth\":0,\"ticks\":\"\"}}],\"contour\":[{\"type\":\"contour\",\"colorbar\":{\"outlinewidth\":0,\"ticks\":\"\"},\"colorscale\":[[0.0,\"#0d0887\"],[0.1111111111111111,\"#46039f\"],[0.2222222222222222,\"#7201a8\"],[0.3333333333333333,\"#9c179e\"],[0.4444444444444444,\"#bd3786\"],[0.5555555555555556,\"#d8576b\"],[0.6666666666666666,\"#ed7953\"],[0.7777777777777778,\"#fb9f3a\"],[0.8888888888888888,\"#fdca26\"],[1.0,\"#f0f921\"]]}],\"surface\":[{\"type\":\"surface\",\"colorbar\":{\"outlinewidth\":0,\"ticks\":\"\"},\"colorscale\":[[0.0,\"#0d0887\"],[0.1111111111111111,\"#46039f\"],[0.2222222222222222,\"#7201a8\"],[0.3333333333333333,\"#9c179e\"],[0.4444444444444444,\"#bd3786\"],[0.5555555555555556,\"#d8576b\"],[0.6666666666666666,\"#ed7953\"],[0.7777777777777778,\"#fb9f3a\"],[0.8888888888888888,\"#fdca26\"],[1.0,\"#f0f921\"]]}],\"mesh3d\":[{\"type\":\"mesh3d\",\"colorbar\":{\"outlinewidth\":0,\"ticks\":\"\"}}],\"scatter\":[{\"fillpattern\":{\"fillmode\":\"overlay\",\"size\":10,\"solidity\":0.2},\"type\":\"scatter\"}],\"parcoords\":[{\"type\":\"parcoords\",\"line\":{\"colorbar\":{\"outlinewidth\":0,\"ticks\":\"\"}}}],\"scatterpolargl\":[{\"type\":\"scatterpolargl\",\"marker\":{\"colorbar\":{\"outlinewidth\":0,\"ticks\":\"\"}}}],\"bar\":[{\"error_x\":{\"color\":\"#2a3f5f\"},\"error_y\":{\"color\":\"#2a3f5f\"},\"marker\":{\"line\":{\"color\":\"#E5ECF6\",\"width\":0.5},\"pattern\":{\"fillmode\":\"overlay\",\"size\":10,\"solidity\":0.2}},\"type\":\"bar\"}],\"scattergeo\":[{\"type\":\"scattergeo\",\"marker\":{\"colorbar\":{\"outlinewidth\":0,\"ticks\":\"\"}}}],\"scatterpolar\":[{\"type\":\"scatterpolar\",\"marker\":{\"colorbar\":{\"outlinewidth\":0,\"ticks\":\"\"}}}],\"histogram\":[{\"marker\":{\"pattern\":{\"fillmode\":\"overlay\",\"size\":10,\"solidity\":0.2}},\"type\":\"histogram\"}],\"scattergl\":[{\"type\":\"scattergl\",\"marker\":{\"colorbar\":{\"outlinewidth\":0,\"ticks\":\"\"}}}],\"scatter3d\":[{\"type\":\"scatter3d\",\"line\":{\"colorbar\":{\"outlinewidth\":0,\"ticks\":\"\"}},\"marker\":{\"colorbar\":{\"outlinewidth\":0,\"ticks\":\"\"}}}],\"scattermapbox\":[{\"type\":\"scattermapbox\",\"marker\":{\"colorbar\":{\"outlinewidth\":0,\"ticks\":\"\"}}}],\"scatterternary\":[{\"type\":\"scatterternary\",\"marker\":{\"colorbar\":{\"outlinewidth\":0,\"ticks\":\"\"}}}],\"scattercarpet\":[{\"type\":\"scattercarpet\",\"marker\":{\"colorbar\":{\"outlinewidth\":0,\"ticks\":\"\"}}}],\"carpet\":[{\"aaxis\":{\"endlinecolor\":\"#2a3f5f\",\"gridcolor\":\"white\",\"linecolor\":\"white\",\"minorgridcolor\":\"white\",\"startlinecolor\":\"#2a3f5f\"},\"baxis\":{\"endlinecolor\":\"#2a3f5f\",\"gridcolor\":\"white\",\"linecolor\":\"white\",\"minorgridcolor\":\"white\",\"startlinecolor\":\"#2a3f5f\"},\"type\":\"carpet\"}],\"table\":[{\"cells\":{\"fill\":{\"color\":\"#EBF0F8\"},\"line\":{\"color\":\"white\"}},\"header\":{\"fill\":{\"color\":\"#C8D4E3\"},\"line\":{\"color\":\"white\"}},\"type\":\"table\"}],\"barpolar\":[{\"marker\":{\"line\":{\"color\":\"#E5ECF6\",\"width\":0.5},\"pattern\":{\"fillmode\":\"overlay\",\"size\":10,\"solidity\":0.2}},\"type\":\"barpolar\"}],\"pie\":[{\"automargin\":true,\"type\":\"pie\"}]},\"layout\":{\"autotypenumbers\":\"strict\",\"colorway\":[\"#636efa\",\"#EF553B\",\"#00cc96\",\"#ab63fa\",\"#FFA15A\",\"#19d3f3\",\"#FF6692\",\"#B6E880\",\"#FF97FF\",\"#FECB52\"],\"font\":{\"color\":\"#2a3f5f\"},\"hovermode\":\"closest\",\"hoverlabel\":{\"align\":\"left\"},\"paper_bgcolor\":\"white\",\"plot_bgcolor\":\"#E5ECF6\",\"polar\":{\"bgcolor\":\"#E5ECF6\",\"angularaxis\":{\"gridcolor\":\"white\",\"linecolor\":\"white\",\"ticks\":\"\"},\"radialaxis\":{\"gridcolor\":\"white\",\"linecolor\":\"white\",\"ticks\":\"\"}},\"ternary\":{\"bgcolor\":\"#E5ECF6\",\"aaxis\":{\"gridcolor\":\"white\",\"linecolor\":\"white\",\"ticks\":\"\"},\"baxis\":{\"gridcolor\":\"white\",\"linecolor\":\"white\",\"ticks\":\"\"},\"caxis\":{\"gridcolor\":\"white\",\"linecolor\":\"white\",\"ticks\":\"\"}},\"coloraxis\":{\"colorbar\":{\"outlinewidth\":0,\"ticks\":\"\"}},\"colorscale\":{\"sequential\":[[0.0,\"#0d0887\"],[0.1111111111111111,\"#46039f\"],[0.2222222222222222,\"#7201a8\"],[0.3333333333333333,\"#9c179e\"],[0.4444444444444444,\"#bd3786\"],[0.5555555555555556,\"#d8576b\"],[0.6666666666666666,\"#ed7953\"],[0.7777777777777778,\"#fb9f3a\"],[0.8888888888888888,\"#fdca26\"],[1.0,\"#f0f921\"]],\"sequentialminus\":[[0.0,\"#0d0887\"],[0.1111111111111111,\"#46039f\"],[0.2222222222222222,\"#7201a8\"],[0.3333333333333333,\"#9c179e\"],[0.4444444444444444,\"#bd3786\"],[0.5555555555555556,\"#d8576b\"],[0.6666666666666666,\"#ed7953\"],[0.7777777777777778,\"#fb9f3a\"],[0.8888888888888888,\"#fdca26\"],[1.0,\"#f0f921\"]],\"diverging\":[[0,\"#8e0152\"],[0.1,\"#c51b7d\"],[0.2,\"#de77ae\"],[0.3,\"#f1b6da\"],[0.4,\"#fde0ef\"],[0.5,\"#f7f7f7\"],[0.6,\"#e6f5d0\"],[0.7,\"#b8e186\"],[0.8,\"#7fbc41\"],[0.9,\"#4d9221\"],[1,\"#276419\"]]},\"xaxis\":{\"gridcolor\":\"white\",\"linecolor\":\"white\",\"ticks\":\"\",\"title\":{\"standoff\":15},\"zerolinecolor\":\"white\",\"automargin\":true,\"zerolinewidth\":2},\"yaxis\":{\"gridcolor\":\"white\",\"linecolor\":\"white\",\"ticks\":\"\",\"title\":{\"standoff\":15},\"zerolinecolor\":\"white\",\"automargin\":true,\"zerolinewidth\":2},\"scene\":{\"xaxis\":{\"backgroundcolor\":\"#E5ECF6\",\"gridcolor\":\"white\",\"linecolor\":\"white\",\"showbackground\":true,\"ticks\":\"\",\"zerolinecolor\":\"white\",\"gridwidth\":2},\"yaxis\":{\"backgroundcolor\":\"#E5ECF6\",\"gridcolor\":\"white\",\"linecolor\":\"white\",\"showbackground\":true,\"ticks\":\"\",\"zerolinecolor\":\"white\",\"gridwidth\":2},\"zaxis\":{\"backgroundcolor\":\"#E5ECF6\",\"gridcolor\":\"white\",\"linecolor\":\"white\",\"showbackground\":true,\"ticks\":\"\",\"zerolinecolor\":\"white\",\"gridwidth\":2}},\"shapedefaults\":{\"line\":{\"color\":\"#2a3f5f\"}},\"annotationdefaults\":{\"arrowcolor\":\"#2a3f5f\",\"arrowhead\":0,\"arrowwidth\":1},\"geo\":{\"bgcolor\":\"white\",\"landcolor\":\"#E5ECF6\",\"subunitcolor\":\"white\",\"showland\":true,\"showlakes\":true,\"lakecolor\":\"white\"},\"title\":{\"x\":0.05},\"mapbox\":{\"style\":\"light\"}}},\"xaxis\":{\"anchor\":\"y\",\"domain\":[0.0,1.0],\"scaleanchor\":\"y\",\"constrain\":\"domain\"},\"yaxis\":{\"anchor\":\"x\",\"domain\":[0.0,1.0],\"autorange\":\"reversed\",\"constrain\":\"domain\"},\"coloraxis\":{\"colorbar\":{\"title\":{\"text\":\"Similarity Score\"}},\"colorscale\":[[0.0,\"rgb(247,252,240)\"],[0.125,\"rgb(224,243,219)\"],[0.25,\"rgb(204,235,197)\"],[0.375,\"rgb(168,221,181)\"],[0.5,\"rgb(123,204,196)\"],[0.625,\"rgb(78,179,211)\"],[0.75,\"rgb(43,140,190)\"],[0.875,\"rgb(8,104,172)\"],[1.0,\"rgb(8,64,129)\"]]},\"margin\":{\"t\":60},\"title\":{\"font\":{\"size\":22,\"color\":\"Black\"},\"text\":\"\\u003cb\\u003eSimilarity Matrix\\u003c\\u002fb\\u003e\",\"y\":0.95,\"x\":0.55,\"xanchor\":\"center\",\"yanchor\":\"top\"},\"hoverlabel\":{\"font\":{\"size\":16,\"family\":\"Rockwell\"},\"bgcolor\":\"white\"},\"width\":800,\"height\":800,\"showlegend\":true,\"legend\":{\"title\":{\"text\":\"Trend\"}}},                        {\"responsive\": true}                    ).then(function(){\n                            \nvar gd = document.getElementById('38a3e95c-39c2-4713-83ce-cf1a00dd28d4');\nvar x = new MutationObserver(function (mutations, observer) {{\n        var display = window.getComputedStyle(gd).display;\n        if (!display || display === 'none') {{\n            console.log([gd, 'removed!']);\n            Plotly.purge(gd);\n            observer.disconnect();\n        }}\n}});\n\n// Listen for the removal of the full notebook cells\nvar notebookContainer = gd.closest('#notebook-container');\nif (notebookContainer) {{\n    x.observe(notebookContainer, {childList: true});\n}}\n\n// Listen for the clearing of the current output cell\nvar outputEl = gd.closest('.output');\nif (outputEl) {{\n    x.observe(outputEl, {childList: true});\n}}\n\n                        })                };                });            </script>        </div>"
     },
     "metadata": {},
     "output_type": "display_data"
    }
   ],
   "source": [
    "fig = topic_model.visualize_heatmap()\n",
    "# fig.write_html(\"matrix.html\")\n",
    "fig"
   ],
   "metadata": {
    "collapsed": false,
    "ExecuteTime": {
     "end_time": "2024-05-23T16:24:55.386921100Z",
     "start_time": "2024-05-23T16:24:55.232558400Z"
    }
   },
   "id": "1bf25d1db529d6db"
  },
  {
   "cell_type": "code",
   "execution_count": 59,
   "outputs": [
    {
     "data": {
      "application/vnd.plotly.v1+json": {
       "data": [
        {
         "customdata": [
          [
           0,
           "Grading and Skill Classes Queries",
           20
          ],
          [
           1,
           "Health-related challenges affecting participation in project meetings and pre-examination",
           10
          ],
          [
           2,
           "Meeting Attendance Difficulties Due to Unforeseen Circumstances",
           10
          ],
          [
           3,
           "Attendance and Participation Issues in Phase Three Project Meetings",
           9
          ],
          [
           4,
           "Project Opening Attendance and Participation Concerns",
           7
          ]
         ],
         "hovertemplate": "<b>Topic %{customdata[0]}</b><br>%{customdata[1]}<br>Size: %{customdata[2]}",
         "legendgroup": "",
         "marker": {
          "color": "#B0BEC5",
          "size": [
           20,
           10,
           10,
           9,
           7
          ],
          "sizemode": "area",
          "sizeref": 0.0125,
          "symbol": "circle",
          "line": {
           "color": "DarkSlateGrey",
           "width": 2
          }
         },
         "mode": "markers",
         "name": "",
         "orientation": "v",
         "showlegend": false,
         "x": [
          -8.367654,
          -6.911068,
          -6.2933364,
          -8.015416,
          -5.920317
         ],
         "xaxis": "x",
         "y": [
          3.4615643,
          -0.20081806,
          -0.69039726,
          2.8464406,
          -0.013504678
         ],
         "yaxis": "y",
         "type": "scatter"
        }
       ],
       "layout": {
        "template": {
         "data": {
          "barpolar": [
           {
            "marker": {
             "line": {
              "color": "white",
              "width": 0.5
             },
             "pattern": {
              "fillmode": "overlay",
              "size": 10,
              "solidity": 0.2
             }
            },
            "type": "barpolar"
           }
          ],
          "bar": [
           {
            "error_x": {
             "color": "rgb(36,36,36)"
            },
            "error_y": {
             "color": "rgb(36,36,36)"
            },
            "marker": {
             "line": {
              "color": "white",
              "width": 0.5
             },
             "pattern": {
              "fillmode": "overlay",
              "size": 10,
              "solidity": 0.2
             }
            },
            "type": "bar"
           }
          ],
          "carpet": [
           {
            "aaxis": {
             "endlinecolor": "rgb(36,36,36)",
             "gridcolor": "white",
             "linecolor": "white",
             "minorgridcolor": "white",
             "startlinecolor": "rgb(36,36,36)"
            },
            "baxis": {
             "endlinecolor": "rgb(36,36,36)",
             "gridcolor": "white",
             "linecolor": "white",
             "minorgridcolor": "white",
             "startlinecolor": "rgb(36,36,36)"
            },
            "type": "carpet"
           }
          ],
          "choropleth": [
           {
            "colorbar": {
             "outlinewidth": 1,
             "tickcolor": "rgb(36,36,36)",
             "ticks": "outside"
            },
            "type": "choropleth"
           }
          ],
          "contourcarpet": [
           {
            "colorbar": {
             "outlinewidth": 1,
             "tickcolor": "rgb(36,36,36)",
             "ticks": "outside"
            },
            "type": "contourcarpet"
           }
          ],
          "contour": [
           {
            "colorbar": {
             "outlinewidth": 1,
             "tickcolor": "rgb(36,36,36)",
             "ticks": "outside"
            },
            "colorscale": [
             [
              0.0,
              "#440154"
             ],
             [
              0.1111111111111111,
              "#482878"
             ],
             [
              0.2222222222222222,
              "#3e4989"
             ],
             [
              0.3333333333333333,
              "#31688e"
             ],
             [
              0.4444444444444444,
              "#26828e"
             ],
             [
              0.5555555555555556,
              "#1f9e89"
             ],
             [
              0.6666666666666666,
              "#35b779"
             ],
             [
              0.7777777777777778,
              "#6ece58"
             ],
             [
              0.8888888888888888,
              "#b5de2b"
             ],
             [
              1.0,
              "#fde725"
             ]
            ],
            "type": "contour"
           }
          ],
          "heatmapgl": [
           {
            "colorbar": {
             "outlinewidth": 1,
             "tickcolor": "rgb(36,36,36)",
             "ticks": "outside"
            },
            "colorscale": [
             [
              0.0,
              "#440154"
             ],
             [
              0.1111111111111111,
              "#482878"
             ],
             [
              0.2222222222222222,
              "#3e4989"
             ],
             [
              0.3333333333333333,
              "#31688e"
             ],
             [
              0.4444444444444444,
              "#26828e"
             ],
             [
              0.5555555555555556,
              "#1f9e89"
             ],
             [
              0.6666666666666666,
              "#35b779"
             ],
             [
              0.7777777777777778,
              "#6ece58"
             ],
             [
              0.8888888888888888,
              "#b5de2b"
             ],
             [
              1.0,
              "#fde725"
             ]
            ],
            "type": "heatmapgl"
           }
          ],
          "heatmap": [
           {
            "colorbar": {
             "outlinewidth": 1,
             "tickcolor": "rgb(36,36,36)",
             "ticks": "outside"
            },
            "colorscale": [
             [
              0.0,
              "#440154"
             ],
             [
              0.1111111111111111,
              "#482878"
             ],
             [
              0.2222222222222222,
              "#3e4989"
             ],
             [
              0.3333333333333333,
              "#31688e"
             ],
             [
              0.4444444444444444,
              "#26828e"
             ],
             [
              0.5555555555555556,
              "#1f9e89"
             ],
             [
              0.6666666666666666,
              "#35b779"
             ],
             [
              0.7777777777777778,
              "#6ece58"
             ],
             [
              0.8888888888888888,
              "#b5de2b"
             ],
             [
              1.0,
              "#fde725"
             ]
            ],
            "type": "heatmap"
           }
          ],
          "histogram2dcontour": [
           {
            "colorbar": {
             "outlinewidth": 1,
             "tickcolor": "rgb(36,36,36)",
             "ticks": "outside"
            },
            "colorscale": [
             [
              0.0,
              "#440154"
             ],
             [
              0.1111111111111111,
              "#482878"
             ],
             [
              0.2222222222222222,
              "#3e4989"
             ],
             [
              0.3333333333333333,
              "#31688e"
             ],
             [
              0.4444444444444444,
              "#26828e"
             ],
             [
              0.5555555555555556,
              "#1f9e89"
             ],
             [
              0.6666666666666666,
              "#35b779"
             ],
             [
              0.7777777777777778,
              "#6ece58"
             ],
             [
              0.8888888888888888,
              "#b5de2b"
             ],
             [
              1.0,
              "#fde725"
             ]
            ],
            "type": "histogram2dcontour"
           }
          ],
          "histogram2d": [
           {
            "colorbar": {
             "outlinewidth": 1,
             "tickcolor": "rgb(36,36,36)",
             "ticks": "outside"
            },
            "colorscale": [
             [
              0.0,
              "#440154"
             ],
             [
              0.1111111111111111,
              "#482878"
             ],
             [
              0.2222222222222222,
              "#3e4989"
             ],
             [
              0.3333333333333333,
              "#31688e"
             ],
             [
              0.4444444444444444,
              "#26828e"
             ],
             [
              0.5555555555555556,
              "#1f9e89"
             ],
             [
              0.6666666666666666,
              "#35b779"
             ],
             [
              0.7777777777777778,
              "#6ece58"
             ],
             [
              0.8888888888888888,
              "#b5de2b"
             ],
             [
              1.0,
              "#fde725"
             ]
            ],
            "type": "histogram2d"
           }
          ],
          "histogram": [
           {
            "marker": {
             "line": {
              "color": "white",
              "width": 0.6
             }
            },
            "type": "histogram"
           }
          ],
          "mesh3d": [
           {
            "colorbar": {
             "outlinewidth": 1,
             "tickcolor": "rgb(36,36,36)",
             "ticks": "outside"
            },
            "type": "mesh3d"
           }
          ],
          "parcoords": [
           {
            "line": {
             "colorbar": {
              "outlinewidth": 1,
              "tickcolor": "rgb(36,36,36)",
              "ticks": "outside"
             }
            },
            "type": "parcoords"
           }
          ],
          "pie": [
           {
            "automargin": true,
            "type": "pie"
           }
          ],
          "scatter3d": [
           {
            "line": {
             "colorbar": {
              "outlinewidth": 1,
              "tickcolor": "rgb(36,36,36)",
              "ticks": "outside"
             }
            },
            "marker": {
             "colorbar": {
              "outlinewidth": 1,
              "tickcolor": "rgb(36,36,36)",
              "ticks": "outside"
             }
            },
            "type": "scatter3d"
           }
          ],
          "scattercarpet": [
           {
            "marker": {
             "colorbar": {
              "outlinewidth": 1,
              "tickcolor": "rgb(36,36,36)",
              "ticks": "outside"
             }
            },
            "type": "scattercarpet"
           }
          ],
          "scattergeo": [
           {
            "marker": {
             "colorbar": {
              "outlinewidth": 1,
              "tickcolor": "rgb(36,36,36)",
              "ticks": "outside"
             }
            },
            "type": "scattergeo"
           }
          ],
          "scattergl": [
           {
            "marker": {
             "colorbar": {
              "outlinewidth": 1,
              "tickcolor": "rgb(36,36,36)",
              "ticks": "outside"
             }
            },
            "type": "scattergl"
           }
          ],
          "scattermapbox": [
           {
            "marker": {
             "colorbar": {
              "outlinewidth": 1,
              "tickcolor": "rgb(36,36,36)",
              "ticks": "outside"
             }
            },
            "type": "scattermapbox"
           }
          ],
          "scatterpolargl": [
           {
            "marker": {
             "colorbar": {
              "outlinewidth": 1,
              "tickcolor": "rgb(36,36,36)",
              "ticks": "outside"
             }
            },
            "type": "scatterpolargl"
           }
          ],
          "scatterpolar": [
           {
            "marker": {
             "colorbar": {
              "outlinewidth": 1,
              "tickcolor": "rgb(36,36,36)",
              "ticks": "outside"
             }
            },
            "type": "scatterpolar"
           }
          ],
          "scatter": [
           {
            "fillpattern": {
             "fillmode": "overlay",
             "size": 10,
             "solidity": 0.2
            },
            "type": "scatter"
           }
          ],
          "scatterternary": [
           {
            "marker": {
             "colorbar": {
              "outlinewidth": 1,
              "tickcolor": "rgb(36,36,36)",
              "ticks": "outside"
             }
            },
            "type": "scatterternary"
           }
          ],
          "surface": [
           {
            "colorbar": {
             "outlinewidth": 1,
             "tickcolor": "rgb(36,36,36)",
             "ticks": "outside"
            },
            "colorscale": [
             [
              0.0,
              "#440154"
             ],
             [
              0.1111111111111111,
              "#482878"
             ],
             [
              0.2222222222222222,
              "#3e4989"
             ],
             [
              0.3333333333333333,
              "#31688e"
             ],
             [
              0.4444444444444444,
              "#26828e"
             ],
             [
              0.5555555555555556,
              "#1f9e89"
             ],
             [
              0.6666666666666666,
              "#35b779"
             ],
             [
              0.7777777777777778,
              "#6ece58"
             ],
             [
              0.8888888888888888,
              "#b5de2b"
             ],
             [
              1.0,
              "#fde725"
             ]
            ],
            "type": "surface"
           }
          ],
          "table": [
           {
            "cells": {
             "fill": {
              "color": "rgb(237,237,237)"
             },
             "line": {
              "color": "white"
             }
            },
            "header": {
             "fill": {
              "color": "rgb(217,217,217)"
             },
             "line": {
              "color": "white"
             }
            },
            "type": "table"
           }
          ]
         },
         "layout": {
          "annotationdefaults": {
           "arrowhead": 0,
           "arrowwidth": 1
          },
          "autotypenumbers": "strict",
          "coloraxis": {
           "colorbar": {
            "outlinewidth": 1,
            "tickcolor": "rgb(36,36,36)",
            "ticks": "outside"
           }
          },
          "colorscale": {
           "diverging": [
            [
             0.0,
             "rgb(103,0,31)"
            ],
            [
             0.1,
             "rgb(178,24,43)"
            ],
            [
             0.2,
             "rgb(214,96,77)"
            ],
            [
             0.3,
             "rgb(244,165,130)"
            ],
            [
             0.4,
             "rgb(253,219,199)"
            ],
            [
             0.5,
             "rgb(247,247,247)"
            ],
            [
             0.6,
             "rgb(209,229,240)"
            ],
            [
             0.7,
             "rgb(146,197,222)"
            ],
            [
             0.8,
             "rgb(67,147,195)"
            ],
            [
             0.9,
             "rgb(33,102,172)"
            ],
            [
             1.0,
             "rgb(5,48,97)"
            ]
           ],
           "sequential": [
            [
             0.0,
             "#440154"
            ],
            [
             0.1111111111111111,
             "#482878"
            ],
            [
             0.2222222222222222,
             "#3e4989"
            ],
            [
             0.3333333333333333,
             "#31688e"
            ],
            [
             0.4444444444444444,
             "#26828e"
            ],
            [
             0.5555555555555556,
             "#1f9e89"
            ],
            [
             0.6666666666666666,
             "#35b779"
            ],
            [
             0.7777777777777778,
             "#6ece58"
            ],
            [
             0.8888888888888888,
             "#b5de2b"
            ],
            [
             1.0,
             "#fde725"
            ]
           ],
           "sequentialminus": [
            [
             0.0,
             "#440154"
            ],
            [
             0.1111111111111111,
             "#482878"
            ],
            [
             0.2222222222222222,
             "#3e4989"
            ],
            [
             0.3333333333333333,
             "#31688e"
            ],
            [
             0.4444444444444444,
             "#26828e"
            ],
            [
             0.5555555555555556,
             "#1f9e89"
            ],
            [
             0.6666666666666666,
             "#35b779"
            ],
            [
             0.7777777777777778,
             "#6ece58"
            ],
            [
             0.8888888888888888,
             "#b5de2b"
            ],
            [
             1.0,
             "#fde725"
            ]
           ]
          },
          "colorway": [
           "#1F77B4",
           "#FF7F0E",
           "#2CA02C",
           "#D62728",
           "#9467BD",
           "#8C564B",
           "#E377C2",
           "#7F7F7F",
           "#BCBD22",
           "#17BECF"
          ],
          "font": {
           "color": "rgb(36,36,36)"
          },
          "geo": {
           "bgcolor": "white",
           "lakecolor": "white",
           "landcolor": "white",
           "showlakes": true,
           "showland": true,
           "subunitcolor": "white"
          },
          "hoverlabel": {
           "align": "left"
          },
          "hovermode": "closest",
          "mapbox": {
           "style": "light"
          },
          "paper_bgcolor": "white",
          "plot_bgcolor": "white",
          "polar": {
           "angularaxis": {
            "gridcolor": "rgb(232,232,232)",
            "linecolor": "rgb(36,36,36)",
            "showgrid": false,
            "showline": true,
            "ticks": "outside"
           },
           "bgcolor": "white",
           "radialaxis": {
            "gridcolor": "rgb(232,232,232)",
            "linecolor": "rgb(36,36,36)",
            "showgrid": false,
            "showline": true,
            "ticks": "outside"
           }
          },
          "scene": {
           "xaxis": {
            "backgroundcolor": "white",
            "gridcolor": "rgb(232,232,232)",
            "gridwidth": 2,
            "linecolor": "rgb(36,36,36)",
            "showbackground": true,
            "showgrid": false,
            "showline": true,
            "ticks": "outside",
            "zeroline": false,
            "zerolinecolor": "rgb(36,36,36)"
           },
           "yaxis": {
            "backgroundcolor": "white",
            "gridcolor": "rgb(232,232,232)",
            "gridwidth": 2,
            "linecolor": "rgb(36,36,36)",
            "showbackground": true,
            "showgrid": false,
            "showline": true,
            "ticks": "outside",
            "zeroline": false,
            "zerolinecolor": "rgb(36,36,36)"
           },
           "zaxis": {
            "backgroundcolor": "white",
            "gridcolor": "rgb(232,232,232)",
            "gridwidth": 2,
            "linecolor": "rgb(36,36,36)",
            "showbackground": true,
            "showgrid": false,
            "showline": true,
            "ticks": "outside",
            "zeroline": false,
            "zerolinecolor": "rgb(36,36,36)"
           }
          },
          "shapedefaults": {
           "fillcolor": "black",
           "line": {
            "width": 0
           },
           "opacity": 0.3
          },
          "ternary": {
           "aaxis": {
            "gridcolor": "rgb(232,232,232)",
            "linecolor": "rgb(36,36,36)",
            "showgrid": false,
            "showline": true,
            "ticks": "outside"
           },
           "baxis": {
            "gridcolor": "rgb(232,232,232)",
            "linecolor": "rgb(36,36,36)",
            "showgrid": false,
            "showline": true,
            "ticks": "outside"
           },
           "bgcolor": "white",
           "caxis": {
            "gridcolor": "rgb(232,232,232)",
            "linecolor": "rgb(36,36,36)",
            "showgrid": false,
            "showline": true,
            "ticks": "outside"
           }
          },
          "title": {
           "x": 0.05
          },
          "xaxis": {
           "automargin": true,
           "gridcolor": "rgb(232,232,232)",
           "linecolor": "rgb(36,36,36)",
           "showgrid": false,
           "showline": true,
           "ticks": "outside",
           "title": {
            "standoff": 15
           },
           "zeroline": false,
           "zerolinecolor": "rgb(36,36,36)"
          },
          "yaxis": {
           "automargin": true,
           "gridcolor": "rgb(232,232,232)",
           "linecolor": "rgb(36,36,36)",
           "showgrid": false,
           "showline": true,
           "ticks": "outside",
           "title": {
            "standoff": 15
           },
           "zeroline": false,
           "zerolinecolor": "rgb(36,36,36)"
          }
         }
        },
        "xaxis": {
         "anchor": "y",
         "domain": [
          0.0,
          1.0
         ],
         "title": {
          "text": ""
         },
         "visible": false,
         "range": [
          -9.622801923751831,
          -5.032269597053528
         ]
        },
        "yaxis": {
         "anchor": "x",
         "domain": [
          0.0,
          1.0
         ],
         "title": {
          "text": ""
         },
         "visible": false,
         "range": [
          -0.7939568519592285,
          3.9807989478111265
         ]
        },
        "legend": {
         "tracegroupgap": 0,
         "itemsizing": "constant"
        },
        "margin": {
         "t": 60
        },
        "title": {
         "font": {
          "size": 22,
          "color": "Black"
         },
         "text": "<b>Intertopic Distance Map</b>",
         "y": 0.95,
         "x": 0.5,
         "xanchor": "center",
         "yanchor": "top"
        },
        "hoverlabel": {
         "font": {
          "size": 16,
          "family": "Rockwell"
         },
         "bgcolor": "white"
        },
        "width": 650,
        "height": 650,
        "sliders": [
         {
          "active": 0,
          "pad": {
           "t": 50
          },
          "steps": [
           {
            "args": [
             {
              "marker.color": [
               [
                "red",
                "#B0BEC5",
                "#B0BEC5",
                "#B0BEC5",
                "#B0BEC5"
               ]
              ]
             }
            ],
            "label": "Topic 0",
            "method": "update"
           },
           {
            "args": [
             {
              "marker.color": [
               [
                "#B0BEC5",
                "red",
                "#B0BEC5",
                "#B0BEC5",
                "#B0BEC5"
               ]
              ]
             }
            ],
            "label": "Topic 1",
            "method": "update"
           },
           {
            "args": [
             {
              "marker.color": [
               [
                "#B0BEC5",
                "#B0BEC5",
                "red",
                "#B0BEC5",
                "#B0BEC5"
               ]
              ]
             }
            ],
            "label": "Topic 2",
            "method": "update"
           },
           {
            "args": [
             {
              "marker.color": [
               [
                "#B0BEC5",
                "#B0BEC5",
                "#B0BEC5",
                "red",
                "#B0BEC5"
               ]
              ]
             }
            ],
            "label": "Topic 3",
            "method": "update"
           },
           {
            "args": [
             {
              "marker.color": [
               [
                "#B0BEC5",
                "#B0BEC5",
                "#B0BEC5",
                "#B0BEC5",
                "red"
               ]
              ]
             }
            ],
            "label": "Topic 4",
            "method": "update"
           }
          ]
         }
        ],
        "shapes": [
         {
          "line": {
           "color": "#CFD8DC",
           "width": 2
          },
          "type": "line",
          "x0": -7.32753576040268,
          "x1": -7.32753576040268,
          "y0": -0.7939568519592285,
          "y1": 3.9807989478111265
         },
         {
          "line": {
           "color": "#9E9E9E",
           "width": 2
          },
          "type": "line",
          "x0": -9.622801923751831,
          "x1": -5.032269597053528,
          "y0": 1.593421047925949,
          "y1": 1.593421047925949
         }
        ],
        "annotations": [
         {
          "showarrow": false,
          "text": "D1",
          "x": -9.622801923751831,
          "y": 1.593421047925949,
          "yshift": 10
         },
         {
          "showarrow": false,
          "text": "D2",
          "x": -7.32753576040268,
          "xshift": 10,
          "y": 3.9807989478111265
         }
        ]
       },
       "config": {
        "plotlyServerURL": "https://plot.ly"
       }
      },
      "text/html": "<div>                            <div id=\"14c3e8a9-924a-4272-a31c-bf1c81077ace\" class=\"plotly-graph-div\" style=\"height:650px; width:650px;\"></div>            <script type=\"text/javascript\">                require([\"plotly\"], function(Plotly) {                    window.PLOTLYENV=window.PLOTLYENV || {};                                    if (document.getElementById(\"14c3e8a9-924a-4272-a31c-bf1c81077ace\")) {                    Plotly.newPlot(                        \"14c3e8a9-924a-4272-a31c-bf1c81077ace\",                        [{\"customdata\":[[0,\"Grading and Skill Classes Queries\",20],[1,\"Health-related challenges affecting participation in project meetings and pre-examination\",10],[2,\"Meeting Attendance Difficulties Due to Unforeseen Circumstances\",10],[3,\"Attendance and Participation Issues in Phase Three Project Meetings\",9],[4,\"Project Opening Attendance and Participation Concerns\",7]],\"hovertemplate\":\"\\u003cb\\u003eTopic %{customdata[0]}\\u003c\\u002fb\\u003e\\u003cbr\\u003e%{customdata[1]}\\u003cbr\\u003eSize: %{customdata[2]}\",\"legendgroup\":\"\",\"marker\":{\"color\":\"#B0BEC5\",\"size\":[20,10,10,9,7],\"sizemode\":\"area\",\"sizeref\":0.0125,\"symbol\":\"circle\",\"line\":{\"color\":\"DarkSlateGrey\",\"width\":2}},\"mode\":\"markers\",\"name\":\"\",\"orientation\":\"v\",\"showlegend\":false,\"x\":[-8.367654,-6.911068,-6.2933364,-8.015416,-5.920317],\"xaxis\":\"x\",\"y\":[3.4615643,-0.20081806,-0.69039726,2.8464406,-0.013504678],\"yaxis\":\"y\",\"type\":\"scatter\"}],                        {\"template\":{\"data\":{\"barpolar\":[{\"marker\":{\"line\":{\"color\":\"white\",\"width\":0.5},\"pattern\":{\"fillmode\":\"overlay\",\"size\":10,\"solidity\":0.2}},\"type\":\"barpolar\"}],\"bar\":[{\"error_x\":{\"color\":\"rgb(36,36,36)\"},\"error_y\":{\"color\":\"rgb(36,36,36)\"},\"marker\":{\"line\":{\"color\":\"white\",\"width\":0.5},\"pattern\":{\"fillmode\":\"overlay\",\"size\":10,\"solidity\":0.2}},\"type\":\"bar\"}],\"carpet\":[{\"aaxis\":{\"endlinecolor\":\"rgb(36,36,36)\",\"gridcolor\":\"white\",\"linecolor\":\"white\",\"minorgridcolor\":\"white\",\"startlinecolor\":\"rgb(36,36,36)\"},\"baxis\":{\"endlinecolor\":\"rgb(36,36,36)\",\"gridcolor\":\"white\",\"linecolor\":\"white\",\"minorgridcolor\":\"white\",\"startlinecolor\":\"rgb(36,36,36)\"},\"type\":\"carpet\"}],\"choropleth\":[{\"colorbar\":{\"outlinewidth\":1,\"tickcolor\":\"rgb(36,36,36)\",\"ticks\":\"outside\"},\"type\":\"choropleth\"}],\"contourcarpet\":[{\"colorbar\":{\"outlinewidth\":1,\"tickcolor\":\"rgb(36,36,36)\",\"ticks\":\"outside\"},\"type\":\"contourcarpet\"}],\"contour\":[{\"colorbar\":{\"outlinewidth\":1,\"tickcolor\":\"rgb(36,36,36)\",\"ticks\":\"outside\"},\"colorscale\":[[0.0,\"#440154\"],[0.1111111111111111,\"#482878\"],[0.2222222222222222,\"#3e4989\"],[0.3333333333333333,\"#31688e\"],[0.4444444444444444,\"#26828e\"],[0.5555555555555556,\"#1f9e89\"],[0.6666666666666666,\"#35b779\"],[0.7777777777777778,\"#6ece58\"],[0.8888888888888888,\"#b5de2b\"],[1.0,\"#fde725\"]],\"type\":\"contour\"}],\"heatmapgl\":[{\"colorbar\":{\"outlinewidth\":1,\"tickcolor\":\"rgb(36,36,36)\",\"ticks\":\"outside\"},\"colorscale\":[[0.0,\"#440154\"],[0.1111111111111111,\"#482878\"],[0.2222222222222222,\"#3e4989\"],[0.3333333333333333,\"#31688e\"],[0.4444444444444444,\"#26828e\"],[0.5555555555555556,\"#1f9e89\"],[0.6666666666666666,\"#35b779\"],[0.7777777777777778,\"#6ece58\"],[0.8888888888888888,\"#b5de2b\"],[1.0,\"#fde725\"]],\"type\":\"heatmapgl\"}],\"heatmap\":[{\"colorbar\":{\"outlinewidth\":1,\"tickcolor\":\"rgb(36,36,36)\",\"ticks\":\"outside\"},\"colorscale\":[[0.0,\"#440154\"],[0.1111111111111111,\"#482878\"],[0.2222222222222222,\"#3e4989\"],[0.3333333333333333,\"#31688e\"],[0.4444444444444444,\"#26828e\"],[0.5555555555555556,\"#1f9e89\"],[0.6666666666666666,\"#35b779\"],[0.7777777777777778,\"#6ece58\"],[0.8888888888888888,\"#b5de2b\"],[1.0,\"#fde725\"]],\"type\":\"heatmap\"}],\"histogram2dcontour\":[{\"colorbar\":{\"outlinewidth\":1,\"tickcolor\":\"rgb(36,36,36)\",\"ticks\":\"outside\"},\"colorscale\":[[0.0,\"#440154\"],[0.1111111111111111,\"#482878\"],[0.2222222222222222,\"#3e4989\"],[0.3333333333333333,\"#31688e\"],[0.4444444444444444,\"#26828e\"],[0.5555555555555556,\"#1f9e89\"],[0.6666666666666666,\"#35b779\"],[0.7777777777777778,\"#6ece58\"],[0.8888888888888888,\"#b5de2b\"],[1.0,\"#fde725\"]],\"type\":\"histogram2dcontour\"}],\"histogram2d\":[{\"colorbar\":{\"outlinewidth\":1,\"tickcolor\":\"rgb(36,36,36)\",\"ticks\":\"outside\"},\"colorscale\":[[0.0,\"#440154\"],[0.1111111111111111,\"#482878\"],[0.2222222222222222,\"#3e4989\"],[0.3333333333333333,\"#31688e\"],[0.4444444444444444,\"#26828e\"],[0.5555555555555556,\"#1f9e89\"],[0.6666666666666666,\"#35b779\"],[0.7777777777777778,\"#6ece58\"],[0.8888888888888888,\"#b5de2b\"],[1.0,\"#fde725\"]],\"type\":\"histogram2d\"}],\"histogram\":[{\"marker\":{\"line\":{\"color\":\"white\",\"width\":0.6}},\"type\":\"histogram\"}],\"mesh3d\":[{\"colorbar\":{\"outlinewidth\":1,\"tickcolor\":\"rgb(36,36,36)\",\"ticks\":\"outside\"},\"type\":\"mesh3d\"}],\"parcoords\":[{\"line\":{\"colorbar\":{\"outlinewidth\":1,\"tickcolor\":\"rgb(36,36,36)\",\"ticks\":\"outside\"}},\"type\":\"parcoords\"}],\"pie\":[{\"automargin\":true,\"type\":\"pie\"}],\"scatter3d\":[{\"line\":{\"colorbar\":{\"outlinewidth\":1,\"tickcolor\":\"rgb(36,36,36)\",\"ticks\":\"outside\"}},\"marker\":{\"colorbar\":{\"outlinewidth\":1,\"tickcolor\":\"rgb(36,36,36)\",\"ticks\":\"outside\"}},\"type\":\"scatter3d\"}],\"scattercarpet\":[{\"marker\":{\"colorbar\":{\"outlinewidth\":1,\"tickcolor\":\"rgb(36,36,36)\",\"ticks\":\"outside\"}},\"type\":\"scattercarpet\"}],\"scattergeo\":[{\"marker\":{\"colorbar\":{\"outlinewidth\":1,\"tickcolor\":\"rgb(36,36,36)\",\"ticks\":\"outside\"}},\"type\":\"scattergeo\"}],\"scattergl\":[{\"marker\":{\"colorbar\":{\"outlinewidth\":1,\"tickcolor\":\"rgb(36,36,36)\",\"ticks\":\"outside\"}},\"type\":\"scattergl\"}],\"scattermapbox\":[{\"marker\":{\"colorbar\":{\"outlinewidth\":1,\"tickcolor\":\"rgb(36,36,36)\",\"ticks\":\"outside\"}},\"type\":\"scattermapbox\"}],\"scatterpolargl\":[{\"marker\":{\"colorbar\":{\"outlinewidth\":1,\"tickcolor\":\"rgb(36,36,36)\",\"ticks\":\"outside\"}},\"type\":\"scatterpolargl\"}],\"scatterpolar\":[{\"marker\":{\"colorbar\":{\"outlinewidth\":1,\"tickcolor\":\"rgb(36,36,36)\",\"ticks\":\"outside\"}},\"type\":\"scatterpolar\"}],\"scatter\":[{\"fillpattern\":{\"fillmode\":\"overlay\",\"size\":10,\"solidity\":0.2},\"type\":\"scatter\"}],\"scatterternary\":[{\"marker\":{\"colorbar\":{\"outlinewidth\":1,\"tickcolor\":\"rgb(36,36,36)\",\"ticks\":\"outside\"}},\"type\":\"scatterternary\"}],\"surface\":[{\"colorbar\":{\"outlinewidth\":1,\"tickcolor\":\"rgb(36,36,36)\",\"ticks\":\"outside\"},\"colorscale\":[[0.0,\"#440154\"],[0.1111111111111111,\"#482878\"],[0.2222222222222222,\"#3e4989\"],[0.3333333333333333,\"#31688e\"],[0.4444444444444444,\"#26828e\"],[0.5555555555555556,\"#1f9e89\"],[0.6666666666666666,\"#35b779\"],[0.7777777777777778,\"#6ece58\"],[0.8888888888888888,\"#b5de2b\"],[1.0,\"#fde725\"]],\"type\":\"surface\"}],\"table\":[{\"cells\":{\"fill\":{\"color\":\"rgb(237,237,237)\"},\"line\":{\"color\":\"white\"}},\"header\":{\"fill\":{\"color\":\"rgb(217,217,217)\"},\"line\":{\"color\":\"white\"}},\"type\":\"table\"}]},\"layout\":{\"annotationdefaults\":{\"arrowhead\":0,\"arrowwidth\":1},\"autotypenumbers\":\"strict\",\"coloraxis\":{\"colorbar\":{\"outlinewidth\":1,\"tickcolor\":\"rgb(36,36,36)\",\"ticks\":\"outside\"}},\"colorscale\":{\"diverging\":[[0.0,\"rgb(103,0,31)\"],[0.1,\"rgb(178,24,43)\"],[0.2,\"rgb(214,96,77)\"],[0.3,\"rgb(244,165,130)\"],[0.4,\"rgb(253,219,199)\"],[0.5,\"rgb(247,247,247)\"],[0.6,\"rgb(209,229,240)\"],[0.7,\"rgb(146,197,222)\"],[0.8,\"rgb(67,147,195)\"],[0.9,\"rgb(33,102,172)\"],[1.0,\"rgb(5,48,97)\"]],\"sequential\":[[0.0,\"#440154\"],[0.1111111111111111,\"#482878\"],[0.2222222222222222,\"#3e4989\"],[0.3333333333333333,\"#31688e\"],[0.4444444444444444,\"#26828e\"],[0.5555555555555556,\"#1f9e89\"],[0.6666666666666666,\"#35b779\"],[0.7777777777777778,\"#6ece58\"],[0.8888888888888888,\"#b5de2b\"],[1.0,\"#fde725\"]],\"sequentialminus\":[[0.0,\"#440154\"],[0.1111111111111111,\"#482878\"],[0.2222222222222222,\"#3e4989\"],[0.3333333333333333,\"#31688e\"],[0.4444444444444444,\"#26828e\"],[0.5555555555555556,\"#1f9e89\"],[0.6666666666666666,\"#35b779\"],[0.7777777777777778,\"#6ece58\"],[0.8888888888888888,\"#b5de2b\"],[1.0,\"#fde725\"]]},\"colorway\":[\"#1F77B4\",\"#FF7F0E\",\"#2CA02C\",\"#D62728\",\"#9467BD\",\"#8C564B\",\"#E377C2\",\"#7F7F7F\",\"#BCBD22\",\"#17BECF\"],\"font\":{\"color\":\"rgb(36,36,36)\"},\"geo\":{\"bgcolor\":\"white\",\"lakecolor\":\"white\",\"landcolor\":\"white\",\"showlakes\":true,\"showland\":true,\"subunitcolor\":\"white\"},\"hoverlabel\":{\"align\":\"left\"},\"hovermode\":\"closest\",\"mapbox\":{\"style\":\"light\"},\"paper_bgcolor\":\"white\",\"plot_bgcolor\":\"white\",\"polar\":{\"angularaxis\":{\"gridcolor\":\"rgb(232,232,232)\",\"linecolor\":\"rgb(36,36,36)\",\"showgrid\":false,\"showline\":true,\"ticks\":\"outside\"},\"bgcolor\":\"white\",\"radialaxis\":{\"gridcolor\":\"rgb(232,232,232)\",\"linecolor\":\"rgb(36,36,36)\",\"showgrid\":false,\"showline\":true,\"ticks\":\"outside\"}},\"scene\":{\"xaxis\":{\"backgroundcolor\":\"white\",\"gridcolor\":\"rgb(232,232,232)\",\"gridwidth\":2,\"linecolor\":\"rgb(36,36,36)\",\"showbackground\":true,\"showgrid\":false,\"showline\":true,\"ticks\":\"outside\",\"zeroline\":false,\"zerolinecolor\":\"rgb(36,36,36)\"},\"yaxis\":{\"backgroundcolor\":\"white\",\"gridcolor\":\"rgb(232,232,232)\",\"gridwidth\":2,\"linecolor\":\"rgb(36,36,36)\",\"showbackground\":true,\"showgrid\":false,\"showline\":true,\"ticks\":\"outside\",\"zeroline\":false,\"zerolinecolor\":\"rgb(36,36,36)\"},\"zaxis\":{\"backgroundcolor\":\"white\",\"gridcolor\":\"rgb(232,232,232)\",\"gridwidth\":2,\"linecolor\":\"rgb(36,36,36)\",\"showbackground\":true,\"showgrid\":false,\"showline\":true,\"ticks\":\"outside\",\"zeroline\":false,\"zerolinecolor\":\"rgb(36,36,36)\"}},\"shapedefaults\":{\"fillcolor\":\"black\",\"line\":{\"width\":0},\"opacity\":0.3},\"ternary\":{\"aaxis\":{\"gridcolor\":\"rgb(232,232,232)\",\"linecolor\":\"rgb(36,36,36)\",\"showgrid\":false,\"showline\":true,\"ticks\":\"outside\"},\"baxis\":{\"gridcolor\":\"rgb(232,232,232)\",\"linecolor\":\"rgb(36,36,36)\",\"showgrid\":false,\"showline\":true,\"ticks\":\"outside\"},\"bgcolor\":\"white\",\"caxis\":{\"gridcolor\":\"rgb(232,232,232)\",\"linecolor\":\"rgb(36,36,36)\",\"showgrid\":false,\"showline\":true,\"ticks\":\"outside\"}},\"title\":{\"x\":0.05},\"xaxis\":{\"automargin\":true,\"gridcolor\":\"rgb(232,232,232)\",\"linecolor\":\"rgb(36,36,36)\",\"showgrid\":false,\"showline\":true,\"ticks\":\"outside\",\"title\":{\"standoff\":15},\"zeroline\":false,\"zerolinecolor\":\"rgb(36,36,36)\"},\"yaxis\":{\"automargin\":true,\"gridcolor\":\"rgb(232,232,232)\",\"linecolor\":\"rgb(36,36,36)\",\"showgrid\":false,\"showline\":true,\"ticks\":\"outside\",\"title\":{\"standoff\":15},\"zeroline\":false,\"zerolinecolor\":\"rgb(36,36,36)\"}}},\"xaxis\":{\"anchor\":\"y\",\"domain\":[0.0,1.0],\"title\":{\"text\":\"\"},\"visible\":false,\"range\":[-9.622801923751831,-5.032269597053528]},\"yaxis\":{\"anchor\":\"x\",\"domain\":[0.0,1.0],\"title\":{\"text\":\"\"},\"visible\":false,\"range\":[-0.7939568519592285,3.9807989478111265]},\"legend\":{\"tracegroupgap\":0,\"itemsizing\":\"constant\"},\"margin\":{\"t\":60},\"title\":{\"font\":{\"size\":22,\"color\":\"Black\"},\"text\":\"\\u003cb\\u003eIntertopic Distance Map\\u003c\\u002fb\\u003e\",\"y\":0.95,\"x\":0.5,\"xanchor\":\"center\",\"yanchor\":\"top\"},\"hoverlabel\":{\"font\":{\"size\":16,\"family\":\"Rockwell\"},\"bgcolor\":\"white\"},\"width\":650,\"height\":650,\"sliders\":[{\"active\":0,\"pad\":{\"t\":50},\"steps\":[{\"args\":[{\"marker.color\":[[\"red\",\"#B0BEC5\",\"#B0BEC5\",\"#B0BEC5\",\"#B0BEC5\"]]}],\"label\":\"Topic 0\",\"method\":\"update\"},{\"args\":[{\"marker.color\":[[\"#B0BEC5\",\"red\",\"#B0BEC5\",\"#B0BEC5\",\"#B0BEC5\"]]}],\"label\":\"Topic 1\",\"method\":\"update\"},{\"args\":[{\"marker.color\":[[\"#B0BEC5\",\"#B0BEC5\",\"red\",\"#B0BEC5\",\"#B0BEC5\"]]}],\"label\":\"Topic 2\",\"method\":\"update\"},{\"args\":[{\"marker.color\":[[\"#B0BEC5\",\"#B0BEC5\",\"#B0BEC5\",\"red\",\"#B0BEC5\"]]}],\"label\":\"Topic 3\",\"method\":\"update\"},{\"args\":[{\"marker.color\":[[\"#B0BEC5\",\"#B0BEC5\",\"#B0BEC5\",\"#B0BEC5\",\"red\"]]}],\"label\":\"Topic 4\",\"method\":\"update\"}]}],\"shapes\":[{\"line\":{\"color\":\"#CFD8DC\",\"width\":2},\"type\":\"line\",\"x0\":-7.32753576040268,\"x1\":-7.32753576040268,\"y0\":-0.7939568519592285,\"y1\":3.9807989478111265},{\"line\":{\"color\":\"#9E9E9E\",\"width\":2},\"type\":\"line\",\"x0\":-9.622801923751831,\"x1\":-5.032269597053528,\"y0\":1.593421047925949,\"y1\":1.593421047925949}],\"annotations\":[{\"showarrow\":false,\"text\":\"D1\",\"x\":-9.622801923751831,\"y\":1.593421047925949,\"yshift\":10},{\"showarrow\":false,\"text\":\"D2\",\"x\":-7.32753576040268,\"xshift\":10,\"y\":3.9807989478111265}]},                        {\"responsive\": true}                    ).then(function(){\n                            \nvar gd = document.getElementById('14c3e8a9-924a-4272-a31c-bf1c81077ace');\nvar x = new MutationObserver(function (mutations, observer) {{\n        var display = window.getComputedStyle(gd).display;\n        if (!display || display === 'none') {{\n            console.log([gd, 'removed!']);\n            Plotly.purge(gd);\n            observer.disconnect();\n        }}\n}});\n\n// Listen for the removal of the full notebook cells\nvar notebookContainer = gd.closest('#notebook-container');\nif (notebookContainer) {{\n    x.observe(notebookContainer, {childList: true});\n}}\n\n// Listen for the clearing of the current output cell\nvar outputEl = gd.closest('.output');\nif (outputEl) {{\n    x.observe(outputEl, {childList: true});\n}}\n\n                        })                };                });            </script>        </div>"
     },
     "metadata": {},
     "output_type": "display_data"
    }
   ],
   "source": [
    "fig = topic_model.visualize_topics()\n",
    "# fig.write_html(\"map.html\")\n",
    "fig"
   ],
   "metadata": {
    "collapsed": false,
    "ExecuteTime": {
     "end_time": "2024-05-23T16:25:00.827899900Z",
     "start_time": "2024-05-23T16:24:59.937867300Z"
    }
   },
   "id": "3d39d58c46369931"
  },
  {
   "cell_type": "code",
   "execution_count": 60,
   "outputs": [
    {
     "data": {
      "application/vnd.plotly.v1+json": {
       "data": [
        {
         "hoverinfo": "text",
         "hovertext": [
          "So to clarify even with my undergoing medical issue, I can't be exempted from attending project meetings on site? Also doesn't my case count as force majeure? Additionally, I want to ask if I don't have attendance for two projects meetings, by how much is my grade lowered?",
          null
         ],
         "marker": {
          "color": "#CFD8DC",
          "opacity": 0.5,
          "size": 5
         },
         "mode": "markers+text",
         "name": "other",
         "showlegend": false,
         "x": [
          4.990036,
          4.990036
         ],
         "y": [
          8.865238,
          8.865238
         ],
         "type": "scattergl"
        },
        {
         "hoverinfo": "text",
         "hovertext": [
          "I know that it shows I have missed skills classes, but my question is why and how that can be fixed. Since, as shown in the screenshots in the previous email and this one, I have submitted both assignments. But especially, I’m writing about the Citing & References skills class. I submitted the pre-task on time at first, but I put the citation in a text entry box along uploading the rest as PDF files. So that citation line didn’t upload, and I wasn’t made aware of this until the grades were up and other people started having the same problem. As soon as I was made aware of the issue, I reuploaded everything as a PDF. Unfortunately, due to this, the assignment status says I was “late”. Therefore, I kindly ask you whether it would be possible to not put that skills class as missing, since it clearly was a glitch on canvas that the students weren’t made aware of.",
          "My tutor for this project normally is Tim, however I was unable to find their email anywhere which is why I am contacting you.My tutor for this project normally is Tim, however I was unable to find their email anywhere which is why I am contacting you. Will this be marked as a missed skill class?",
          "In the documentation about project 1-1s grading I have found the formula for the final grade really confusing. 0.9 x( project grade or Individual grade) + skill class grade. I wanted to ask whether both the project grade and individual grades are used or is it chose individually for a group.",
          "when do I get the results for Project1-1 makeup assignment? , if u know any estimation date",
          "I think there was a misunderstanding. I mailed you to get information about when you will be able to update my Project 1.1 grade? We talked about this previously and you mentioned that since I wasn’t be able to attend the project report examination, you gave me that point but after, I attended the repair assignment of it. Can you inform me about the progress please?",
          "The project 1-1 grades have been given and I got an NG and I have honestly no idea why. Could you help me knowing what happened?",
          "I have a question regarding the project, I know we can only use Swing, AWT and JavaFX 3 libraries. But can I use JFreeChart inside the JavaFX, Because if I want to create a box plot, JavaFX has no built-in components to create box plots, I need to draw the box plot manually.",
          "“Dear student, you now have 3 failed skill classes. This means that you will receive an NG for the project.”. So this means I got kicked from the projects?",
          "I would like to ask regarding the grading of the project because I missed 3 skill classes and I missed the presentation for phase 2, so I am confused whether I passed onto phase 3 or not. Therefore can you please clarify this?",
          "I have a question regarding the skill class grade. The skill class grade only affects the final grade for the project correct? Also, from what I understand from the grading and assessment, it's worth a total of 10% of the final grade so if you missed one skill class, you would only miss out on 5% of the final grade, correct?",
          "Im terribly sorry about the missing skill classes, i was not properly informed that skill classes were important and this is entirely my fault. My question is, i dont wanna drop out from the project and want to continue, even though i dont have much knowledge in coding im trying my best to help my teammates as much as i can and i dont want them to be in a harsh place because of my mistake. Is there ANYTHING i can do to get back on the project?",
          "I am reaching out to inquire about the process concerning my academic credits, as I received a notification from the school indicating that my credit is lower than expected for the first semester. I have already contacted the school via email to explain my situation, and their response mentioned that I should consider any changes in credits on the student portal as an indication that the email has not been sent. Could you please provide me with an update on the current status of the process?",
          "Could I know how much of the individual grade exactly is lowered?",
          "Is my thought process correct with how the grade works? It is in the end only worth 10% of the grade?",
          "Good morning, I have just found out that there were some quizzes due the 1st of December, I happened to miss them, even if I completed all the other assignments about presentations, the message and subpoints tree, etc. I am now quite worried because I think it is the second time I forget about quizzes, it happened with the first skill class too. I also received a 0.75 out of 1 in the Draft Report Feedback, even inside the interface it says my mark is 100%. Who can I ask to check what my state is: I have never missed a meeting or anything else, but I am afraid of having missed too many skill classes, which would be very frustrating because of all the effort put in this project.",
          "Me and my group struggled to understand which assignments are individual which are group assignments. Besides the obvious ones like second draft and first draft. Can you clarify the individual tasks?",
          "I am contacting you because I saw on Canvas that I have 2 missed classes. It appears that one of them is the citing and referencing class, which I joined but did not submit the assignment on time due to not realising there was a problem with the textbox. The other one is the peer review class, which I do not know why I failed, because on Canvas it shows that I have submitted it.",
          "I would like to ask something about Due tonight's Slide presentations(First Draft, Rehearsing Slides, and Second Draft). Is it a group thing or does everyone need to do it individually?",
          "I am planning to drop out of the Data Science course later this year but still plan to follow several Math courses for an accelerated program at a different university. Therefore, continuing with the group project has little value since I will not be needing the credits. Is there any way to deregister myself from the group project?",
          "I retook the project report, and I noticed that you assigned a grade for it. However, on the student portal, Project 1.1 is still listed as a failed course. Could you please verify if everything is in order?",
          null
         ],
         "marker": {
          "opacity": 0.5,
          "size": 5
         },
         "mode": "markers+text",
         "name": "0_Grading and Skill Classes Queries",
         "text": [
          "",
          "",
          "",
          "",
          "",
          "",
          "",
          "",
          "",
          "",
          "",
          "",
          "",
          "",
          "",
          "",
          "",
          "",
          "",
          "",
          "0_Grading and Skill Classes Queries"
         ],
         "textfont": {
          "size": 12
         },
         "x": [
          3.5233622,
          3.7301736,
          2.8464513,
          3.195125,
          3.3552115,
          2.4656081,
          3.0115933,
          2.6610916,
          3.9358742,
          2.71056,
          2.8643117,
          3.531153,
          2.724055,
          2.6858585,
          3.4855974,
          3.9237914,
          3.4105885,
          3.8022575,
          2.7353897,
          2.5815842,
          3.1589818
         ],
         "y": [
          6.410262,
          6.577213,
          5.560975,
          6.363871,
          5.976252,
          6.201908,
          5.8906083,
          6.4019127,
          6.668615,
          5.902653,
          6.4622993,
          5.8699265,
          5.424648,
          5.393115,
          6.697114,
          7.195283,
          6.3646507,
          7.3840284,
          6.75117,
          5.953464,
          6.272498
         ],
         "type": "scattergl"
        },
        {
         "hoverinfo": "text",
         "hovertext": [
          "I missed yesterday's project meeting, the reason for this was because I woke up in the morning extremely sick with a big coff and a headache, I am really sorry for this. It is acceptable to miss a project meeting in case of disease, isn't it?",
          "I have unfortunately fallen ill and I am unsure about my capability to participate in the project meeting that we have tomorrow. How do I go about this situation? I am doing the most I can do in order to get better as soon as possible and in the scenario I feel better tomorrow I will attend the project meeting.",
          "Sorry to bother you today with this, but I am not feeling well since yesterday night, I do have a meeting tomorrow for the project but in case i cannot attend, do I need to give a doctors note? I will be on a call with my team anyway and I will do the work assigned.",
          "Is the pre-examination meeting mandatory for all team members or not?",
          "I understand but I had a verry good reason for not coming to the presentation, I was unable to leave Belgium because of sickness and my doctor provided me a paper. I had been said, after scanning and sending the paper to the boe, that I could do my best to be present for at least one of the two presentations but if it was impossible then it was ok since I had a justification.",
          "I was on the phone with emergency and ER GPs and they informed me of a week of recovery due to nerve issues prescribing many painkillers and bedridden. I have discussed with my group and will continue work from home. However I worry about the pre-examination also affecting my skill point. Would you inform me on what i should do if i miss the preexam and 1 meeting?",
          "Yesterday, I wasn’t able to complete the skill class because I was very sick unfortunately. I went to the doctor today and he gave me a paper that says that I’m unable to be present for the presentation of tomorrow and Friday. I have already spoke to my group so everything is fine. I just hope you understand that I really couldn’t even open my laptop yesterday so making the skill class was very difficult for me to do.",
          "I have been sick for 2 days. I could not attend the \"Project Skills - Information Search: Citing and Referencing\" course. I will not be able to attend today's project meeting too. I already talked with my group members and I wanted to inform you too.",
          "I wanted to ask you a question related to the project meetings and the pre-examination. Two days ago, I had a surgery on my toe in my home country and even though I got discharged, it is recommended to me to visit the hospital every day for monitoring and dressings for the next one or two weeks(depending on my physical condition). My question is, if I show proof about the surgery and the recovery, can I participate in the project meetings and in the pre-examination online instead of on site?",
          "Since this morning 3:30AM, I had a terrible pain in my stomach and after a while I started to vomit repeatedly. I went to my GP and they said they they can not do anything about it and they can not give report for universities in Netherlands(They can just give it for Belgium Schools). So, since this morning I am resting in the home and taking some painkillers. That's why I couldn't attend to the report meeting today. I attended all the skill classes and all the meetings except one so I take the Project so seriously. I wish you will understand my situation and I won't loose anything because of the illness I have",
          null
         ],
         "marker": {
          "opacity": 0.5,
          "size": 5
         },
         "mode": "markers+text",
         "name": "1_Health-related challenges affecting participation in project meetings and pre-examination",
         "text": [
          "",
          "",
          "",
          "",
          "",
          "",
          "",
          "",
          "",
          "",
          "1_Health-related challenges affecting participation in project meetings and pre-examination"
         ],
         "textfont": {
          "size": 12
         },
         "x": [
          4.120039,
          4.057776,
          3.9413557,
          4.683572,
          3.6989245,
          4.1566405,
          3.7706792,
          3.71232,
          4.50319,
          3.524042,
          4.0168533
         ],
         "y": [
          8.849173,
          9.14051,
          9.005066,
          9.614945,
          9.576341,
          9.556166,
          9.356579,
          8.726149,
          9.469501,
          9.121335,
          9.241575
         ],
         "type": "scattergl"
        },
        {
         "hoverinfo": "text",
         "hovertext": [
          "Thank you for the clarification so how do I know if I can miss the meeting  without being sanctioned is it a good reason to miss it? Or it will count as I was absent?",
          "I am reaching out to discuss my upcoming return to campus and participation in our project meetings. Due to a combination of financial limitations and the toll on my mental health from being far from home, I have decided to extend my stay with my family and will be returning to campus on January 14th. This period away is not just a matter of convenience but a necessity under the current circumstances. I am fully committed to the project and keenly aware of the importance of active participation in our meetings. Therefore, I would like to request permission to attend the project meetings via Zoom during this period. My intention is to maintain my involvement and contribution to the project, ensuring that my temporary absence does not hinder our progress. I have discussed this arrangement with my teammates, and they have kindly expressed their support. We all agree that this temporary measure is in the best interest of my personal well-being and the overall success of the project. Please understand that this is not an attempt to evade my responsibilities. On the contrary, I am eager to contribute to the project, which has been a highlight of my university experience. I believe that by attending the meetings remotely, I can continue to contribute effectively and stay aligned with the project's goals. I greatly appreciate your understanding and support in this matter and am willing to comply with any additional requirements that this arrangement may necessitate. Thank you for considering my request. I look forward to your response and guidance.",
          "I have missed the first and second project meetings due to the delay caused by the storm. I informed my group mates of this issue when I got word my flight was cancelled and made sure to contact them first. As a result of the storm, I missed meetings on the 9th and the 11th. I was given an update on the code from my group members, as well as told what tasks I am able to complete while I was away. If need be, I can provide proof of correspondence. Attached are the letters from the airline detailing the cancellation of my flight. I was supposed to have arrived on the 9th before class, and due to the tropical storm, ended up having a cancelled flight and missing the meeting. I ended up arriving early morning Thursday, due to having to take a longer route.",
          "Due to a conflict between the University's schedule and the Airport's flight plan I won't be able to attend tomorrow's project meeting as a member of Group 24. My tickets were booked before the publishing of the meetings' dates and by that time it had become financially infeasible for my family to rebook them. I have read the past announcements that reference this sort of situation and I hope you can understand since the alternative would entail two days of constant travel (due to no immediate flight existing) and a monetary investment of my family that they can't afford due to the difference in salaries between the two countries. I have already discussed the matter with my groupmates and I will back in time for the next meeting on the 11th.",
          "Because of personal family problems, there is a possibilty to arrive on 14th of January in Maastricht, that means i'm unable to participate first meetings (8 and 11 Janurary). I'm trying seriously to be involved and i don't usually miss meetings. If i'm trying to join trough an online platform to get in touch with my colleagues this could mean my presence is accepted? How does affect me the absence during these 2 meetings next week?",
          "This email is regarding the project meetings that were scheduled today, the 4th of December. I was present for most of the meeting and my attendance was checked by one of my tutors (Spriha Joshi). I left 30 minutes earlier than the end of the meeting because I had to call in order to know about the health and well-being of a very close relative who has been suffering from a condition (condition I can prove the existence of, if necessary), thinking it would be allowed since it was asked to the tutors in other instances. I was informed by my group members that shortly after I left, the project coordinator (Martijn Bousse) came into the room and removed my presence as if I hadn’t participated in the meeting at all. This email is regarding the project meetings that were scheduled today, the 4th of December. I was present for most of the meeting and my attendance was checked by one of my tutors (Spriha Joshi). I left 30 minutes earlier than the end of the meeting because I had to call in order to know about the health and well-being of a very close relative who has been suffering from a condition (condition I can prove the existence of, if necessary), thinking it would be allowed since it was asked to the tutors in other instances. I was informed by my group members that shortly after I left, the project coordinator (Martijn Bousse) came into the room and removed my presence as if I hadn’t participated in the meeting at all.",
          "I hope this message finds you well. I am writing to inform you that, regrettably, I will be unable to attend the mandatory project meeting scheduled for this coming Tuesday. Due to health-related reasons, I have been advised by my healthcare provider not to travel until the completion of my ongoing treatment. I'd like to know if this absence, due to unexpected circumstances, will be considered as a missed meeting or if there's an option for alternative arrangements. I assure you of my commitment to the project and am prepared to take necessary steps to ensure I am up-to-date with any information discussed or tasks assigned during the meeting. Please let me know if there's any additional information required from my end.",
          "I was unable to physically attend the project meeting today, but I did join via Google Meet. I told my group in advance, and they were okay with it. I arrive in Maastricht tomorrow, and the reason I wasn't really able to come earlier was because of a lack of housing. I was one of 500 students who were meant to move into Nido Living, but due to construction issues, they were unable to provide us with housing. Please let me know what I can do about missed attendance and whether or not joining online counts. I am currently still in the meeting and am going to be here for the full 2 hours. If i do not get attendance does my scenario fall under force majeur?",
          "I was unable to attend the meeting right now, as when I was waiting at the bus stop, the bus didn't stop for me. There are buses that run one of which is Belgian, which comes first. Since I'm Dutch and have the student Ov, I didn't take that bus. Instead, I was going to take the number 4, where my ov works. As the bus approached, I stand up so it sees me and stops, but the bus drove right past me, At this point, I panicked a little bit because the next bus would not let me reach on time as the commute to the faculty is a little over an hour long. I immediately booked an Uber to try and reach on time and waited almost 35 minutes for an Uber, but uber could not find a driver. I have a screenshot of this, I understand I have already used my force majeure and missed one meeting, but I genuinely tried to make the meeting, but nothing was working in my favor. Please tell me what I can do now.",
          "Due to unforeseen weather conditions in Romania, my scheduled flight on Sunday was canceled. As a result, I had to make alternative arrangements and took another flight today in order to fulfill my commitments. Regrettably, this unexpected change in travel plans resulted in my inability to attend today's group meeting as planned. I understand the importance of my presence and contribution to these meetings, and I sincerely apologize for any inconvenience my absence may have caused. Given the circumstances, I would like to request your understanding and support in providing a brief explanation or documentation to motivate my absence from today's meeting. I am committed to ensuring that my responsibilities are fulfilled promptly despite these unforeseen challenges. Please let me know if there is any additional information required from my end to support this request. I appreciate your assistance and understanding in this matter. I look forward to catching up and contributing to the team's endeavors in our next meeting.",
          null
         ],
         "marker": {
          "opacity": 0.5,
          "size": 5
         },
         "mode": "markers+text",
         "name": "2_Meeting Attendance Difficulties Due to Unforeseen Circumstances",
         "text": [
          "",
          "",
          "",
          "",
          "",
          "",
          "",
          "",
          "",
          "",
          "2_Meeting Attendance Difficulties Due to Unforeseen Circumstances"
         ],
         "textfont": {
          "size": 12
         },
         "x": [
          5.515315,
          5.54135,
          5.3528986,
          5.297552,
          5.866024,
          4.829293,
          5.110114,
          5.600048,
          5.7149916,
          5.516324,
          5.434391
         ],
         "y": [
          9.520697,
          8.829731,
          9.843702,
          9.841306,
          9.665039,
          8.994032,
          9.33069,
          9.044153,
          9.401677,
          9.99178,
          9.446281
         ],
         "type": "scattergl"
        },
        {
         "hoverinfo": "text",
         "hovertext": [
          "I’m writing to inquire about where I can find an information regarding the libraries that can be used in the 3rd phase?",
          "Is there no exception for religious obligations? I had mandatory prayers I had to attend, and I was only late by 35 minutes. Other than those two meetings I've been extremely diligent with attending project meetings and submitting assignments. I don't have any missed skill classes or project meetings from the first or second phases, and so I don't think I deserve a lowered individual grade for something outside of my control.",
          "I'm sorry I need to know if a retake is possible for phase 3, as I need to book flights. It would be very helpful if I am able to work from Egypt as I need to use crutches for 1 month. Therefore, the commute to the faculty will be quite difficult, as I can't use my bicycle, and there is no direct bus route to the faculty. I am preforming the tasks assigned to me by the group and can continue to do so. Sorry for the late notice, but I feel really sick right now and I slept through my alarm so I won't be able to attend todays project meeting for group KEN X.",
          "We will add them and mark the contribution with a 0, but can you tell us what proof we need to have with us to back our claim? Or we will just be questioned about it, no proof needed, and we can back your arguments verbally?",
          "From the beginning of the project the actual workload distribution did not correspond at all compared to the percentages my team presented, but lately my teammates and I have been struggling to deal with one of our group members in particular. This person hasn't participated in any part of the project at all and only shows up for the project meetings and when we do the \"\"who did what\"\". He doesn't work on any task, because he says that he is \"\"researching\"\". We have given him time to choose a task or help someone else, we also tried to text him directly to ask for help, but he didn't answer any of the messages. What should we do?",
          "Tragically, I missed the final product and report examination this morning due to believing it was at 1pm instead of 11am. I do not have a good explanation for this as I remember checking the schedule several times and was confident that it would be at 1pm and by the time I realised, it was already 10:55. After rereading the rules and regulations I can not find what would happen in this case",
          "During Phase three, are we allowed to miss one project meeting? There is a small chance I will not make it to the meeting on January 8th, and I was wondering if an absence will have me fail phase three. I am aware this is the first day back and this meeting is very important, so I am asking to confirm with you.",
          "I am informing you that we are going to leave 2 people out of the Overview of Who Did What, since they did not help the group at all this Phase. Can you please tell me what repercussions this can have on the 2 individuals and on the group grade?",
          "I had to be about 35 minutes late for today's project meeting due to religious reasons. I'm a Muslim, and so I had to attend the mandatory Friday prayers at the mosque, which is on the other side of Maastricht from our campus, which made me late for the project meeting. I've been noted down as absent from the meeting and told to email you. I also emailed you about the same problem last week (since the last project meeting was also on Friday), and I had received no response, so please let me know if I won't be penalized for both project meetings. Thank you for your time.",
          null
         ],
         "marker": {
          "opacity": 0.5,
          "size": 5
         },
         "mode": "markers+text",
         "name": "3_Attendance and Participation Issues in Phase Three Project Meetings",
         "text": [
          "",
          "",
          "",
          "",
          "",
          "",
          "",
          "",
          "",
          "3_Attendance and Participation Issues in Phase Three Project Meetings"
         ],
         "textfont": {
          "size": 12
         },
         "x": [
          5.409629,
          4.8001485,
          5.351249,
          5.0105157,
          4.50841,
          4.35229,
          5.2720585,
          4.517497,
          5.2810693,
          4.9447637
         ],
         "y": [
          7.4266567,
          8.63505,
          8.086153,
          8.270069,
          7.6479383,
          8.487079,
          7.597737,
          7.657587,
          8.421545,
          8.025536
         ],
         "type": "scattergl"
        },
        {
         "hoverinfo": "text",
         "hovertext": [
          "I wanted to ask a question regarding the Project Opening scheduled for Friday 7 October. It says on the schedule that the PO will be online. Is this definite? I have been planning on going to Luxembourg by bus to see my family that weekend and it would be great if I could join the PO from there.",
          "I am writing to you to ask about next Friday's Project opening. I plan on travelling back home for the weekend and since it is supposed to be online. Could I just watch it remotely? At the time of the meeting, I will have access to a quiet room with a computer, so that should not be a problem",
          "I wanted to ask a question regarding the Project Opening scheduled for Friday 7 October. Is attendance to the PO one of the mandatory requirements of the Project similar to the project meetings (PMs) and TB classes? I am only asking this as a general question for a worst case scenario such as something going wrong with my internet.",
          "I wanted to ask a question regarding the Project Opening scheduled for Friday 7 October. What exactly will happen during the PO? Is this just a meeting where you will talk about the project or will we be taking part in activities with our groups? The reason I am asking this is because there are two different Maastricht – Luxembourg bus times on that day, one from 9.25-12.20 and the other 17:25-20:20. If I were to take the morning bus, I would have to miss my CS1 lecture which I don’t really want to do. Luckily we won’t be learning any new content on that day but we will be working individually on previous assignments. If I were to take the afternoon bus I would be able to listen to the online meeting or maybe even listen to a recording afterwards if worse comes to worst. However, if we will need to interact with our group members then it would be a better option for me to attend the PO in a more suitable environment.",
          "My dad is getting married on Friday 12/01/2024. So I was wondering if I could miss the project meeting on this day.",
          "I am writing to you to ask about next Friday's Project opening. Is the attendance tracked for that as well and will we be required to speak or do anything?",
          "I am writing to you to ask about next Friday's Project opening. What will it be about?",
          null
         ],
         "marker": {
          "opacity": 0.5,
          "size": 5
         },
         "mode": "markers+text",
         "name": "4_Project Opening Attendance and Participation Concerns",
         "text": [
          "",
          "",
          "",
          "",
          "",
          "",
          "",
          "4_Project Opening Attendance and Participation Concerns"
         ],
         "textfont": {
          "size": 12
         },
         "x": [
          6.800384,
          6.8779817,
          6.655702,
          6.659408,
          6.1379952,
          6.550113,
          6.605318,
          6.612415
         ],
         "y": [
          8.810381,
          8.4366865,
          8.46216,
          8.736268,
          8.450602,
          8.255921,
          8.330401,
          8.497488
         ],
         "type": "scattergl"
        }
       ],
       "layout": {
        "template": {
         "data": {
          "barpolar": [
           {
            "marker": {
             "line": {
              "color": "white",
              "width": 0.5
             },
             "pattern": {
              "fillmode": "overlay",
              "size": 10,
              "solidity": 0.2
             }
            },
            "type": "barpolar"
           }
          ],
          "bar": [
           {
            "error_x": {
             "color": "rgb(36,36,36)"
            },
            "error_y": {
             "color": "rgb(36,36,36)"
            },
            "marker": {
             "line": {
              "color": "white",
              "width": 0.5
             },
             "pattern": {
              "fillmode": "overlay",
              "size": 10,
              "solidity": 0.2
             }
            },
            "type": "bar"
           }
          ],
          "carpet": [
           {
            "aaxis": {
             "endlinecolor": "rgb(36,36,36)",
             "gridcolor": "white",
             "linecolor": "white",
             "minorgridcolor": "white",
             "startlinecolor": "rgb(36,36,36)"
            },
            "baxis": {
             "endlinecolor": "rgb(36,36,36)",
             "gridcolor": "white",
             "linecolor": "white",
             "minorgridcolor": "white",
             "startlinecolor": "rgb(36,36,36)"
            },
            "type": "carpet"
           }
          ],
          "choropleth": [
           {
            "colorbar": {
             "outlinewidth": 1,
             "tickcolor": "rgb(36,36,36)",
             "ticks": "outside"
            },
            "type": "choropleth"
           }
          ],
          "contourcarpet": [
           {
            "colorbar": {
             "outlinewidth": 1,
             "tickcolor": "rgb(36,36,36)",
             "ticks": "outside"
            },
            "type": "contourcarpet"
           }
          ],
          "contour": [
           {
            "colorbar": {
             "outlinewidth": 1,
             "tickcolor": "rgb(36,36,36)",
             "ticks": "outside"
            },
            "colorscale": [
             [
              0.0,
              "#440154"
             ],
             [
              0.1111111111111111,
              "#482878"
             ],
             [
              0.2222222222222222,
              "#3e4989"
             ],
             [
              0.3333333333333333,
              "#31688e"
             ],
             [
              0.4444444444444444,
              "#26828e"
             ],
             [
              0.5555555555555556,
              "#1f9e89"
             ],
             [
              0.6666666666666666,
              "#35b779"
             ],
             [
              0.7777777777777778,
              "#6ece58"
             ],
             [
              0.8888888888888888,
              "#b5de2b"
             ],
             [
              1.0,
              "#fde725"
             ]
            ],
            "type": "contour"
           }
          ],
          "heatmapgl": [
           {
            "colorbar": {
             "outlinewidth": 1,
             "tickcolor": "rgb(36,36,36)",
             "ticks": "outside"
            },
            "colorscale": [
             [
              0.0,
              "#440154"
             ],
             [
              0.1111111111111111,
              "#482878"
             ],
             [
              0.2222222222222222,
              "#3e4989"
             ],
             [
              0.3333333333333333,
              "#31688e"
             ],
             [
              0.4444444444444444,
              "#26828e"
             ],
             [
              0.5555555555555556,
              "#1f9e89"
             ],
             [
              0.6666666666666666,
              "#35b779"
             ],
             [
              0.7777777777777778,
              "#6ece58"
             ],
             [
              0.8888888888888888,
              "#b5de2b"
             ],
             [
              1.0,
              "#fde725"
             ]
            ],
            "type": "heatmapgl"
           }
          ],
          "heatmap": [
           {
            "colorbar": {
             "outlinewidth": 1,
             "tickcolor": "rgb(36,36,36)",
             "ticks": "outside"
            },
            "colorscale": [
             [
              0.0,
              "#440154"
             ],
             [
              0.1111111111111111,
              "#482878"
             ],
             [
              0.2222222222222222,
              "#3e4989"
             ],
             [
              0.3333333333333333,
              "#31688e"
             ],
             [
              0.4444444444444444,
              "#26828e"
             ],
             [
              0.5555555555555556,
              "#1f9e89"
             ],
             [
              0.6666666666666666,
              "#35b779"
             ],
             [
              0.7777777777777778,
              "#6ece58"
             ],
             [
              0.8888888888888888,
              "#b5de2b"
             ],
             [
              1.0,
              "#fde725"
             ]
            ],
            "type": "heatmap"
           }
          ],
          "histogram2dcontour": [
           {
            "colorbar": {
             "outlinewidth": 1,
             "tickcolor": "rgb(36,36,36)",
             "ticks": "outside"
            },
            "colorscale": [
             [
              0.0,
              "#440154"
             ],
             [
              0.1111111111111111,
              "#482878"
             ],
             [
              0.2222222222222222,
              "#3e4989"
             ],
             [
              0.3333333333333333,
              "#31688e"
             ],
             [
              0.4444444444444444,
              "#26828e"
             ],
             [
              0.5555555555555556,
              "#1f9e89"
             ],
             [
              0.6666666666666666,
              "#35b779"
             ],
             [
              0.7777777777777778,
              "#6ece58"
             ],
             [
              0.8888888888888888,
              "#b5de2b"
             ],
             [
              1.0,
              "#fde725"
             ]
            ],
            "type": "histogram2dcontour"
           }
          ],
          "histogram2d": [
           {
            "colorbar": {
             "outlinewidth": 1,
             "tickcolor": "rgb(36,36,36)",
             "ticks": "outside"
            },
            "colorscale": [
             [
              0.0,
              "#440154"
             ],
             [
              0.1111111111111111,
              "#482878"
             ],
             [
              0.2222222222222222,
              "#3e4989"
             ],
             [
              0.3333333333333333,
              "#31688e"
             ],
             [
              0.4444444444444444,
              "#26828e"
             ],
             [
              0.5555555555555556,
              "#1f9e89"
             ],
             [
              0.6666666666666666,
              "#35b779"
             ],
             [
              0.7777777777777778,
              "#6ece58"
             ],
             [
              0.8888888888888888,
              "#b5de2b"
             ],
             [
              1.0,
              "#fde725"
             ]
            ],
            "type": "histogram2d"
           }
          ],
          "histogram": [
           {
            "marker": {
             "line": {
              "color": "white",
              "width": 0.6
             }
            },
            "type": "histogram"
           }
          ],
          "mesh3d": [
           {
            "colorbar": {
             "outlinewidth": 1,
             "tickcolor": "rgb(36,36,36)",
             "ticks": "outside"
            },
            "type": "mesh3d"
           }
          ],
          "parcoords": [
           {
            "line": {
             "colorbar": {
              "outlinewidth": 1,
              "tickcolor": "rgb(36,36,36)",
              "ticks": "outside"
             }
            },
            "type": "parcoords"
           }
          ],
          "pie": [
           {
            "automargin": true,
            "type": "pie"
           }
          ],
          "scatter3d": [
           {
            "line": {
             "colorbar": {
              "outlinewidth": 1,
              "tickcolor": "rgb(36,36,36)",
              "ticks": "outside"
             }
            },
            "marker": {
             "colorbar": {
              "outlinewidth": 1,
              "tickcolor": "rgb(36,36,36)",
              "ticks": "outside"
             }
            },
            "type": "scatter3d"
           }
          ],
          "scattercarpet": [
           {
            "marker": {
             "colorbar": {
              "outlinewidth": 1,
              "tickcolor": "rgb(36,36,36)",
              "ticks": "outside"
             }
            },
            "type": "scattercarpet"
           }
          ],
          "scattergeo": [
           {
            "marker": {
             "colorbar": {
              "outlinewidth": 1,
              "tickcolor": "rgb(36,36,36)",
              "ticks": "outside"
             }
            },
            "type": "scattergeo"
           }
          ],
          "scattergl": [
           {
            "marker": {
             "colorbar": {
              "outlinewidth": 1,
              "tickcolor": "rgb(36,36,36)",
              "ticks": "outside"
             }
            },
            "type": "scattergl"
           }
          ],
          "scattermapbox": [
           {
            "marker": {
             "colorbar": {
              "outlinewidth": 1,
              "tickcolor": "rgb(36,36,36)",
              "ticks": "outside"
             }
            },
            "type": "scattermapbox"
           }
          ],
          "scatterpolargl": [
           {
            "marker": {
             "colorbar": {
              "outlinewidth": 1,
              "tickcolor": "rgb(36,36,36)",
              "ticks": "outside"
             }
            },
            "type": "scatterpolargl"
           }
          ],
          "scatterpolar": [
           {
            "marker": {
             "colorbar": {
              "outlinewidth": 1,
              "tickcolor": "rgb(36,36,36)",
              "ticks": "outside"
             }
            },
            "type": "scatterpolar"
           }
          ],
          "scatter": [
           {
            "fillpattern": {
             "fillmode": "overlay",
             "size": 10,
             "solidity": 0.2
            },
            "type": "scatter"
           }
          ],
          "scatterternary": [
           {
            "marker": {
             "colorbar": {
              "outlinewidth": 1,
              "tickcolor": "rgb(36,36,36)",
              "ticks": "outside"
             }
            },
            "type": "scatterternary"
           }
          ],
          "surface": [
           {
            "colorbar": {
             "outlinewidth": 1,
             "tickcolor": "rgb(36,36,36)",
             "ticks": "outside"
            },
            "colorscale": [
             [
              0.0,
              "#440154"
             ],
             [
              0.1111111111111111,
              "#482878"
             ],
             [
              0.2222222222222222,
              "#3e4989"
             ],
             [
              0.3333333333333333,
              "#31688e"
             ],
             [
              0.4444444444444444,
              "#26828e"
             ],
             [
              0.5555555555555556,
              "#1f9e89"
             ],
             [
              0.6666666666666666,
              "#35b779"
             ],
             [
              0.7777777777777778,
              "#6ece58"
             ],
             [
              0.8888888888888888,
              "#b5de2b"
             ],
             [
              1.0,
              "#fde725"
             ]
            ],
            "type": "surface"
           }
          ],
          "table": [
           {
            "cells": {
             "fill": {
              "color": "rgb(237,237,237)"
             },
             "line": {
              "color": "white"
             }
            },
            "header": {
             "fill": {
              "color": "rgb(217,217,217)"
             },
             "line": {
              "color": "white"
             }
            },
            "type": "table"
           }
          ]
         },
         "layout": {
          "annotationdefaults": {
           "arrowhead": 0,
           "arrowwidth": 1
          },
          "autotypenumbers": "strict",
          "coloraxis": {
           "colorbar": {
            "outlinewidth": 1,
            "tickcolor": "rgb(36,36,36)",
            "ticks": "outside"
           }
          },
          "colorscale": {
           "diverging": [
            [
             0.0,
             "rgb(103,0,31)"
            ],
            [
             0.1,
             "rgb(178,24,43)"
            ],
            [
             0.2,
             "rgb(214,96,77)"
            ],
            [
             0.3,
             "rgb(244,165,130)"
            ],
            [
             0.4,
             "rgb(253,219,199)"
            ],
            [
             0.5,
             "rgb(247,247,247)"
            ],
            [
             0.6,
             "rgb(209,229,240)"
            ],
            [
             0.7,
             "rgb(146,197,222)"
            ],
            [
             0.8,
             "rgb(67,147,195)"
            ],
            [
             0.9,
             "rgb(33,102,172)"
            ],
            [
             1.0,
             "rgb(5,48,97)"
            ]
           ],
           "sequential": [
            [
             0.0,
             "#440154"
            ],
            [
             0.1111111111111111,
             "#482878"
            ],
            [
             0.2222222222222222,
             "#3e4989"
            ],
            [
             0.3333333333333333,
             "#31688e"
            ],
            [
             0.4444444444444444,
             "#26828e"
            ],
            [
             0.5555555555555556,
             "#1f9e89"
            ],
            [
             0.6666666666666666,
             "#35b779"
            ],
            [
             0.7777777777777778,
             "#6ece58"
            ],
            [
             0.8888888888888888,
             "#b5de2b"
            ],
            [
             1.0,
             "#fde725"
            ]
           ],
           "sequentialminus": [
            [
             0.0,
             "#440154"
            ],
            [
             0.1111111111111111,
             "#482878"
            ],
            [
             0.2222222222222222,
             "#3e4989"
            ],
            [
             0.3333333333333333,
             "#31688e"
            ],
            [
             0.4444444444444444,
             "#26828e"
            ],
            [
             0.5555555555555556,
             "#1f9e89"
            ],
            [
             0.6666666666666666,
             "#35b779"
            ],
            [
             0.7777777777777778,
             "#6ece58"
            ],
            [
             0.8888888888888888,
             "#b5de2b"
            ],
            [
             1.0,
             "#fde725"
            ]
           ]
          },
          "colorway": [
           "#1F77B4",
           "#FF7F0E",
           "#2CA02C",
           "#D62728",
           "#9467BD",
           "#8C564B",
           "#E377C2",
           "#7F7F7F",
           "#BCBD22",
           "#17BECF"
          ],
          "font": {
           "color": "rgb(36,36,36)"
          },
          "geo": {
           "bgcolor": "white",
           "lakecolor": "white",
           "landcolor": "white",
           "showlakes": true,
           "showland": true,
           "subunitcolor": "white"
          },
          "hoverlabel": {
           "align": "left"
          },
          "hovermode": "closest",
          "mapbox": {
           "style": "light"
          },
          "paper_bgcolor": "white",
          "plot_bgcolor": "white",
          "polar": {
           "angularaxis": {
            "gridcolor": "rgb(232,232,232)",
            "linecolor": "rgb(36,36,36)",
            "showgrid": false,
            "showline": true,
            "ticks": "outside"
           },
           "bgcolor": "white",
           "radialaxis": {
            "gridcolor": "rgb(232,232,232)",
            "linecolor": "rgb(36,36,36)",
            "showgrid": false,
            "showline": true,
            "ticks": "outside"
           }
          },
          "scene": {
           "xaxis": {
            "backgroundcolor": "white",
            "gridcolor": "rgb(232,232,232)",
            "gridwidth": 2,
            "linecolor": "rgb(36,36,36)",
            "showbackground": true,
            "showgrid": false,
            "showline": true,
            "ticks": "outside",
            "zeroline": false,
            "zerolinecolor": "rgb(36,36,36)"
           },
           "yaxis": {
            "backgroundcolor": "white",
            "gridcolor": "rgb(232,232,232)",
            "gridwidth": 2,
            "linecolor": "rgb(36,36,36)",
            "showbackground": true,
            "showgrid": false,
            "showline": true,
            "ticks": "outside",
            "zeroline": false,
            "zerolinecolor": "rgb(36,36,36)"
           },
           "zaxis": {
            "backgroundcolor": "white",
            "gridcolor": "rgb(232,232,232)",
            "gridwidth": 2,
            "linecolor": "rgb(36,36,36)",
            "showbackground": true,
            "showgrid": false,
            "showline": true,
            "ticks": "outside",
            "zeroline": false,
            "zerolinecolor": "rgb(36,36,36)"
           }
          },
          "shapedefaults": {
           "fillcolor": "black",
           "line": {
            "width": 0
           },
           "opacity": 0.3
          },
          "ternary": {
           "aaxis": {
            "gridcolor": "rgb(232,232,232)",
            "linecolor": "rgb(36,36,36)",
            "showgrid": false,
            "showline": true,
            "ticks": "outside"
           },
           "baxis": {
            "gridcolor": "rgb(232,232,232)",
            "linecolor": "rgb(36,36,36)",
            "showgrid": false,
            "showline": true,
            "ticks": "outside"
           },
           "bgcolor": "white",
           "caxis": {
            "gridcolor": "rgb(232,232,232)",
            "linecolor": "rgb(36,36,36)",
            "showgrid": false,
            "showline": true,
            "ticks": "outside"
           }
          },
          "title": {
           "x": 0.05
          },
          "xaxis": {
           "automargin": true,
           "gridcolor": "rgb(232,232,232)",
           "linecolor": "rgb(36,36,36)",
           "showgrid": false,
           "showline": true,
           "ticks": "outside",
           "title": {
            "standoff": 15
           },
           "zeroline": false,
           "zerolinecolor": "rgb(36,36,36)"
          },
          "yaxis": {
           "automargin": true,
           "gridcolor": "rgb(232,232,232)",
           "linecolor": "rgb(36,36,36)",
           "showgrid": false,
           "showline": true,
           "ticks": "outside",
           "title": {
            "standoff": 15
           },
           "zeroline": false,
           "zerolinecolor": "rgb(36,36,36)"
          }
         }
        },
        "shapes": [
         {
          "line": {
           "color": "#CFD8DC",
           "width": 2
          },
          "type": "line",
          "x0": 5.002722907066345,
          "x1": 5.002722907066345,
          "y0": 4.584147787094116,
          "y1": 11.490547323226929
         },
         {
          "line": {
           "color": "#9E9E9E",
           "width": 2
          },
          "type": "line",
          "x0": 2.0957669019699097,
          "x1": 7.90967891216278,
          "y0": 8.037347555160522,
          "y1": 8.037347555160522
         }
        ],
        "annotations": [
         {
          "showarrow": false,
          "text": "D1",
          "x": 2.0957669019699097,
          "y": 8.037347555160522,
          "yshift": 10
         },
         {
          "showarrow": false,
          "text": "D2",
          "x": 5.002722907066345,
          "xshift": 10,
          "y": 11.490547323226929
         }
        ],
        "title": {
         "font": {
          "size": 22,
          "color": "Black"
         },
         "text": "Question Clustering",
         "x": 0.5,
         "xanchor": "center",
         "yanchor": "top"
        },
        "width": 1200,
        "height": 750,
        "xaxis": {
         "visible": false
        },
        "yaxis": {
         "visible": false
        }
       },
       "config": {
        "plotlyServerURL": "https://plot.ly"
       }
      },
      "text/html": "<div>                            <div id=\"e251027e-2c98-488d-ad3d-fe8e38231add\" class=\"plotly-graph-div\" style=\"height:750px; width:1200px;\"></div>            <script type=\"text/javascript\">                require([\"plotly\"], function(Plotly) {                    window.PLOTLYENV=window.PLOTLYENV || {};                                    if (document.getElementById(\"e251027e-2c98-488d-ad3d-fe8e38231add\")) {                    Plotly.newPlot(                        \"e251027e-2c98-488d-ad3d-fe8e38231add\",                        [{\"hoverinfo\":\"text\",\"hovertext\":[\"So to clarify even with my undergoing medical issue, I can't be exempted from attending project meetings on site? Also doesn't my case count as force majeure? Additionally, I want to ask if I don't have attendance for two projects meetings, by how much is my grade lowered?\",null],\"marker\":{\"color\":\"#CFD8DC\",\"opacity\":0.5,\"size\":5},\"mode\":\"markers+text\",\"name\":\"other\",\"showlegend\":false,\"x\":[4.990036,4.990036],\"y\":[8.865238,8.865238],\"type\":\"scattergl\"},{\"hoverinfo\":\"text\",\"hovertext\":[\"I know that it shows I have missed skills classes, but my question is why and how that can be fixed. Since, as shown in the screenshots in the previous email and this one, I have submitted both assignments. But especially, I’m writing about the Citing & References skills class. I submitted the pre-task on time at first, but I put the citation in a text entry box along uploading the rest as PDF files. So that citation line didn’t upload, and I wasn’t made aware of this until the grades were up and other people started having the same problem. As soon as I was made aware of the issue, I reuploaded everything as a PDF. Unfortunately, due to this, the assignment status says I was “late”. Therefore, I kindly ask you whether it would be possible to not put that skills class as missing, since it clearly was a glitch on canvas that the students weren’t made aware of.\",\"My tutor for this project normally is Tim, however I was unable to find their email anywhere which is why I am contacting you.My tutor for this project normally is Tim, however I was unable to find their email anywhere which is why I am contacting you. Will this be marked as a missed skill class?\",\"In the documentation about project 1-1s grading I have found the formula for the final grade really confusing. 0.9 x( project grade or Individual grade) + skill class grade. I wanted to ask whether both the project grade and individual grades are used or is it chose individually for a group.\",\"when do I get the results for Project1-1 makeup assignment? , if u know any estimation date\",\"I think there was a misunderstanding. I mailed you to get information about when you will be able to update my Project 1.1 grade? We talked about this previously and you mentioned that since I wasn’t be able to attend the project report examination, you gave me that point but after, I attended the repair assignment of it. Can you inform me about the progress please?\",\"The project 1-1 grades have been given and I got an NG and I have honestly no idea why. Could you help me knowing what happened?\",\"I have a question regarding the project, I know we can only use Swing, AWT and JavaFX 3 libraries. But can I use JFreeChart inside the JavaFX, Because if I want to create a box plot, JavaFX has no built-in components to create box plots, I need to draw the box plot manually.\",\"“Dear student, you now have 3 failed skill classes. This means that you will receive an NG for the project.”. So this means I got kicked from the projects?\",\"I would like to ask regarding the grading of the project because I missed 3 skill classes and I missed the presentation for phase 2, so I am confused whether I passed onto phase 3 or not. Therefore can you please clarify this?\",\"I have a question regarding the skill class grade. The skill class grade only affects the final grade for the project correct? Also, from what I understand from the grading and assessment, it's worth a total of 10% of the final grade so if you missed one skill class, you would only miss out on 5% of the final grade, correct?\",\"Im terribly sorry about the missing skill classes, i was not properly informed that skill classes were important and this is entirely my fault. My question is, i dont wanna drop out from the project and want to continue, even though i dont have much knowledge in coding im trying my best to help my teammates as much as i can and i dont want them to be in a harsh place because of my mistake. Is there ANYTHING i can do to get back on the project?\",\"I am reaching out to inquire about the process concerning my academic credits, as I received a notification from the school indicating that my credit is lower than expected for the first semester. I have already contacted the school via email to explain my situation, and their response mentioned that I should consider any changes in credits on the student portal as an indication that the email has not been sent. Could you please provide me with an update on the current status of the process?\",\"Could I know how much of the individual grade exactly is lowered?\",\"Is my thought process correct with how the grade works? It is in the end only worth 10% of the grade?\",\"Good morning, I have just found out that there were some quizzes due the 1st of December, I happened to miss them, even if I completed all the other assignments about presentations, the message and subpoints tree, etc. I am now quite worried because I think it is the second time I forget about quizzes, it happened with the first skill class too. I also received a 0.75 out of 1 in the Draft Report Feedback, even inside the interface it says my mark is 100%. Who can I ask to check what my state is: I have never missed a meeting or anything else, but I am afraid of having missed too many skill classes, which would be very frustrating because of all the effort put in this project.\",\"Me and my group struggled to understand which assignments are individual which are group assignments. Besides the obvious ones like second draft and first draft. Can you clarify the individual tasks?\",\"I am contacting you because I saw on Canvas that I have 2 missed classes. It appears that one of them is the citing and referencing class, which I joined but did not submit the assignment on time due to not realising there was a problem with the textbox. The other one is the peer review class, which I do not know why I failed, because on Canvas it shows that I have submitted it.\",\"I would like to ask something about Due tonight's Slide presentations(First Draft, Rehearsing Slides, and Second Draft). Is it a group thing or does everyone need to do it individually?\",\"I am planning to drop out of the Data Science course later this year but still plan to follow several Math courses for an accelerated program at a different university. Therefore, continuing with the group project has little value since I will not be needing the credits. Is there any way to deregister myself from the group project?\",\"I retook the project report, and I noticed that you assigned a grade for it. However, on the student portal, Project 1.1 is still listed as a failed course. Could you please verify if everything is in order?\",null],\"marker\":{\"opacity\":0.5,\"size\":5},\"mode\":\"markers+text\",\"name\":\"0_Grading and Skill Classes Queries\",\"text\":[\"\",\"\",\"\",\"\",\"\",\"\",\"\",\"\",\"\",\"\",\"\",\"\",\"\",\"\",\"\",\"\",\"\",\"\",\"\",\"\",\"0_Grading and Skill Classes Queries\"],\"textfont\":{\"size\":12},\"x\":[3.5233622,3.7301736,2.8464513,3.195125,3.3552115,2.4656081,3.0115933,2.6610916,3.9358742,2.71056,2.8643117,3.531153,2.724055,2.6858585,3.4855974,3.9237914,3.4105885,3.8022575,2.7353897,2.5815842,3.1589818],\"y\":[6.410262,6.577213,5.560975,6.363871,5.976252,6.201908,5.8906083,6.4019127,6.668615,5.902653,6.4622993,5.8699265,5.424648,5.393115,6.697114,7.195283,6.3646507,7.3840284,6.75117,5.953464,6.272498],\"type\":\"scattergl\"},{\"hoverinfo\":\"text\",\"hovertext\":[\"I missed yesterday's project meeting, the reason for this was because I woke up in the morning extremely sick with a big coff and a headache, I am really sorry for this. It is acceptable to miss a project meeting in case of disease, isn't it?\",\"I have unfortunately fallen ill and I am unsure about my capability to participate in the project meeting that we have tomorrow. How do I go about this situation? I am doing the most I can do in order to get better as soon as possible and in the scenario I feel better tomorrow I will attend the project meeting.\",\"Sorry to bother you today with this, but I am not feeling well since yesterday night, I do have a meeting tomorrow for the project but in case i cannot attend, do I need to give a doctors note? I will be on a call with my team anyway and I will do the work assigned.\",\"Is the pre-examination meeting mandatory for all team members or not?\",\"I understand but I had a verry good reason for not coming to the presentation, I was unable to leave Belgium because of sickness and my doctor provided me a paper. I had been said, after scanning and sending the paper to the boe, that I could do my best to be present for at least one of the two presentations but if it was impossible then it was ok since I had a justification.\",\"I was on the phone with emergency and ER GPs and they informed me of a week of recovery due to nerve issues prescribing many painkillers and bedridden. I have discussed with my group and will continue work from home. However I worry about the pre-examination also affecting my skill point. Would you inform me on what i should do if i miss the preexam and 1 meeting?\",\"Yesterday, I wasn’t able to complete the skill class because I was very sick unfortunately. I went to the doctor today and he gave me a paper that says that I’m unable to be present for the presentation of tomorrow and Friday. I have already spoke to my group so everything is fine. I just hope you understand that I really couldn’t even open my laptop yesterday so making the skill class was very difficult for me to do.\",\"I have been sick for 2 days. I could not attend the \\\"Project Skills - Information Search: Citing and Referencing\\\" course. I will not be able to attend today's project meeting too. I already talked with my group members and I wanted to inform you too.\",\"I wanted to ask you a question related to the project meetings and the pre-examination. Two days ago, I had a surgery on my toe in my home country and even though I got discharged, it is recommended to me to visit the hospital every day for monitoring and dressings for the next one or two weeks(depending on my physical condition). My question is, if I show proof about the surgery and the recovery, can I participate in the project meetings and in the pre-examination online instead of on site?\",\"Since this morning 3:30AM, I had a terrible pain in my stomach and after a while I started to vomit repeatedly. I went to my GP and they said they they can not do anything about it and they can not give report for universities in Netherlands(They can just give it for Belgium Schools). So, since this morning I am resting in the home and taking some painkillers. That's why I couldn't attend to the report meeting today. I attended all the skill classes and all the meetings except one so I take the Project so seriously. I wish you will understand my situation and I won't loose anything because of the illness I have\",null],\"marker\":{\"opacity\":0.5,\"size\":5},\"mode\":\"markers+text\",\"name\":\"1_Health-related challenges affecting participation in project meetings and pre-examination\",\"text\":[\"\",\"\",\"\",\"\",\"\",\"\",\"\",\"\",\"\",\"\",\"1_Health-related challenges affecting participation in project meetings and pre-examination\"],\"textfont\":{\"size\":12},\"x\":[4.120039,4.057776,3.9413557,4.683572,3.6989245,4.1566405,3.7706792,3.71232,4.50319,3.524042,4.0168533],\"y\":[8.849173,9.14051,9.005066,9.614945,9.576341,9.556166,9.356579,8.726149,9.469501,9.121335,9.241575],\"type\":\"scattergl\"},{\"hoverinfo\":\"text\",\"hovertext\":[\"Thank you for the clarification so how do I know if I can miss the meeting  without being sanctioned is it a good reason to miss it? Or it will count as I was absent?\",\"I am reaching out to discuss my upcoming return to campus and participation in our project meetings. Due to a combination of financial limitations and the toll on my mental health from being far from home, I have decided to extend my stay with my family and will be returning to campus on January 14th. This period away is not just a matter of convenience but a necessity under the current circumstances. I am fully committed to the project and keenly aware of the importance of active participation in our meetings. Therefore, I would like to request permission to attend the project meetings via Zoom during this period. My intention is to maintain my involvement and contribution to the project, ensuring that my temporary absence does not hinder our progress. I have discussed this arrangement with my teammates, and they have kindly expressed their support. We all agree that this temporary measure is in the best interest of my personal well-being and the overall success of the project. Please understand that this is not an attempt to evade my responsibilities. On the contrary, I am eager to contribute to the project, which has been a highlight of my university experience. I believe that by attending the meetings remotely, I can continue to contribute effectively and stay aligned with the project's goals. I greatly appreciate your understanding and support in this matter and am willing to comply with any additional requirements that this arrangement may necessitate. Thank you for considering my request. I look forward to your response and guidance.\",\"I have missed the first and second project meetings due to the delay caused by the storm. I informed my group mates of this issue when I got word my flight was cancelled and made sure to contact them first. As a result of the storm, I missed meetings on the 9th and the 11th. I was given an update on the code from my group members, as well as told what tasks I am able to complete while I was away. If need be, I can provide proof of correspondence. Attached are the letters from the airline detailing the cancellation of my flight. I was supposed to have arrived on the 9th before class, and due to the tropical storm, ended up having a cancelled flight and missing the meeting. I ended up arriving early morning Thursday, due to having to take a longer route.\",\"Due to a conflict between the University's schedule and the Airport's flight plan I won't be able to attend tomorrow's project meeting as a member of Group 24. My tickets were booked before the publishing of the meetings' dates and by that time it had become financially infeasible for my family to rebook them. I have read the past announcements that reference this sort of situation and I hope you can understand since the alternative would entail two days of constant travel (due to no immediate flight existing) and a monetary investment of my family that they can't afford due to the difference in salaries between the two countries. I have already discussed the matter with my groupmates and I will back in time for the next meeting on the 11th.\",\"Because of personal family problems, there is a possibilty to arrive on 14th of January in Maastricht, that means i'm unable to participate first meetings (8 and 11 Janurary). I'm trying seriously to be involved and i don't usually miss meetings. If i'm trying to join trough an online platform to get in touch with my colleagues this could mean my presence is accepted? How does affect me the absence during these 2 meetings next week?\",\"This email is regarding the project meetings that were scheduled today, the 4th of December. I was present for most of the meeting and my attendance was checked by one of my tutors (Spriha Joshi). I left 30 minutes earlier than the end of the meeting because I had to call in order to know about the health and well-being of a very close relative who has been suffering from a condition (condition I can prove the existence of, if necessary), thinking it would be allowed since it was asked to the tutors in other instances. I was informed by my group members that shortly after I left, the project coordinator (Martijn Bousse) came into the room and removed my presence as if I hadn’t participated in the meeting at all. This email is regarding the project meetings that were scheduled today, the 4th of December. I was present for most of the meeting and my attendance was checked by one of my tutors (Spriha Joshi). I left 30 minutes earlier than the end of the meeting because I had to call in order to know about the health and well-being of a very close relative who has been suffering from a condition (condition I can prove the existence of, if necessary), thinking it would be allowed since it was asked to the tutors in other instances. I was informed by my group members that shortly after I left, the project coordinator (Martijn Bousse) came into the room and removed my presence as if I hadn’t participated in the meeting at all.\",\"I hope this message finds you well. I am writing to inform you that, regrettably, I will be unable to attend the mandatory project meeting scheduled for this coming Tuesday. Due to health-related reasons, I have been advised by my healthcare provider not to travel until the completion of my ongoing treatment. I'd like to know if this absence, due to unexpected circumstances, will be considered as a missed meeting or if there's an option for alternative arrangements. I assure you of my commitment to the project and am prepared to take necessary steps to ensure I am up-to-date with any information discussed or tasks assigned during the meeting. Please let me know if there's any additional information required from my end.\",\"I was unable to physically attend the project meeting today, but I did join via Google Meet. I told my group in advance, and they were okay with it. I arrive in Maastricht tomorrow, and the reason I wasn't really able to come earlier was because of a lack of housing. I was one of 500 students who were meant to move into Nido Living, but due to construction issues, they were unable to provide us with housing. Please let me know what I can do about missed attendance and whether or not joining online counts. I am currently still in the meeting and am going to be here for the full 2 hours. If i do not get attendance does my scenario fall under force majeur?\",\"I was unable to attend the meeting right now, as when I was waiting at the bus stop, the bus didn't stop for me. There are buses that run one of which is Belgian, which comes first. Since I'm Dutch and have the student Ov, I didn't take that bus. Instead, I was going to take the number 4, where my ov works. As the bus approached, I stand up so it sees me and stops, but the bus drove right past me, At this point, I panicked a little bit because the next bus would not let me reach on time as the commute to the faculty is a little over an hour long. I immediately booked an Uber to try and reach on time and waited almost 35 minutes for an Uber, but uber could not find a driver. I have a screenshot of this, I understand I have already used my force majeure and missed one meeting, but I genuinely tried to make the meeting, but nothing was working in my favor. Please tell me what I can do now.\",\"Due to unforeseen weather conditions in Romania, my scheduled flight on Sunday was canceled. As a result, I had to make alternative arrangements and took another flight today in order to fulfill my commitments. Regrettably, this unexpected change in travel plans resulted in my inability to attend today's group meeting as planned. I understand the importance of my presence and contribution to these meetings, and I sincerely apologize for any inconvenience my absence may have caused. Given the circumstances, I would like to request your understanding and support in providing a brief explanation or documentation to motivate my absence from today's meeting. I am committed to ensuring that my responsibilities are fulfilled promptly despite these unforeseen challenges. Please let me know if there is any additional information required from my end to support this request. I appreciate your assistance and understanding in this matter. I look forward to catching up and contributing to the team's endeavors in our next meeting.\",null],\"marker\":{\"opacity\":0.5,\"size\":5},\"mode\":\"markers+text\",\"name\":\"2_Meeting Attendance Difficulties Due to Unforeseen Circumstances\",\"text\":[\"\",\"\",\"\",\"\",\"\",\"\",\"\",\"\",\"\",\"\",\"2_Meeting Attendance Difficulties Due to Unforeseen Circumstances\"],\"textfont\":{\"size\":12},\"x\":[5.515315,5.54135,5.3528986,5.297552,5.866024,4.829293,5.110114,5.600048,5.7149916,5.516324,5.434391],\"y\":[9.520697,8.829731,9.843702,9.841306,9.665039,8.994032,9.33069,9.044153,9.401677,9.99178,9.446281],\"type\":\"scattergl\"},{\"hoverinfo\":\"text\",\"hovertext\":[\"I’m writing to inquire about where I can find an information regarding the libraries that can be used in the 3rd phase?\",\"Is there no exception for religious obligations? I had mandatory prayers I had to attend, and I was only late by 35 minutes. Other than those two meetings I've been extremely diligent with attending project meetings and submitting assignments. I don't have any missed skill classes or project meetings from the first or second phases, and so I don't think I deserve a lowered individual grade for something outside of my control.\",\"I'm sorry I need to know if a retake is possible for phase 3, as I need to book flights. It would be very helpful if I am able to work from Egypt as I need to use crutches for 1 month. Therefore, the commute to the faculty will be quite difficult, as I can't use my bicycle, and there is no direct bus route to the faculty. I am preforming the tasks assigned to me by the group and can continue to do so. Sorry for the late notice, but I feel really sick right now and I slept through my alarm so I won't be able to attend todays project meeting for group KEN X.\",\"We will add them and mark the contribution with a 0, but can you tell us what proof we need to have with us to back our claim? Or we will just be questioned about it, no proof needed, and we can back your arguments verbally?\",\"From the beginning of the project the actual workload distribution did not correspond at all compared to the percentages my team presented, but lately my teammates and I have been struggling to deal with one of our group members in particular. This person hasn't participated in any part of the project at all and only shows up for the project meetings and when we do the \\\"\\\"who did what\\\"\\\". He doesn't work on any task, because he says that he is \\\"\\\"researching\\\"\\\". We have given him time to choose a task or help someone else, we also tried to text him directly to ask for help, but he didn't answer any of the messages. What should we do?\",\"Tragically, I missed the final product and report examination this morning due to believing it was at 1pm instead of 11am. I do not have a good explanation for this as I remember checking the schedule several times and was confident that it would be at 1pm and by the time I realised, it was already 10:55. After rereading the rules and regulations I can not find what would happen in this case\",\"During Phase three, are we allowed to miss one project meeting? There is a small chance I will not make it to the meeting on January 8th, and I was wondering if an absence will have me fail phase three. I am aware this is the first day back and this meeting is very important, so I am asking to confirm with you.\",\"I am informing you that we are going to leave 2 people out of the Overview of Who Did What, since they did not help the group at all this Phase. Can you please tell me what repercussions this can have on the 2 individuals and on the group grade?\",\"I had to be about 35 minutes late for today's project meeting due to religious reasons. I'm a Muslim, and so I had to attend the mandatory Friday prayers at the mosque, which is on the other side of Maastricht from our campus, which made me late for the project meeting. I've been noted down as absent from the meeting and told to email you. I also emailed you about the same problem last week (since the last project meeting was also on Friday), and I had received no response, so please let me know if I won't be penalized for both project meetings. Thank you for your time.\",null],\"marker\":{\"opacity\":0.5,\"size\":5},\"mode\":\"markers+text\",\"name\":\"3_Attendance and Participation Issues in Phase Three Project Meetings\",\"text\":[\"\",\"\",\"\",\"\",\"\",\"\",\"\",\"\",\"\",\"3_Attendance and Participation Issues in Phase Three Project Meetings\"],\"textfont\":{\"size\":12},\"x\":[5.409629,4.8001485,5.351249,5.0105157,4.50841,4.35229,5.2720585,4.517497,5.2810693,4.9447637],\"y\":[7.4266567,8.63505,8.086153,8.270069,7.6479383,8.487079,7.597737,7.657587,8.421545,8.025536],\"type\":\"scattergl\"},{\"hoverinfo\":\"text\",\"hovertext\":[\"I wanted to ask a question regarding the Project Opening scheduled for Friday 7 October. It says on the schedule that the PO will be online. Is this definite? I have been planning on going to Luxembourg by bus to see my family that weekend and it would be great if I could join the PO from there.\",\"I am writing to you to ask about next Friday's Project opening. I plan on travelling back home for the weekend and since it is supposed to be online. Could I just watch it remotely? At the time of the meeting, I will have access to a quiet room with a computer, so that should not be a problem\",\"I wanted to ask a question regarding the Project Opening scheduled for Friday 7 October. Is attendance to the PO one of the mandatory requirements of the Project similar to the project meetings (PMs) and TB classes? I am only asking this as a general question for a worst case scenario such as something going wrong with my internet.\",\"I wanted to ask a question regarding the Project Opening scheduled for Friday 7 October. What exactly will happen during the PO? Is this just a meeting where you will talk about the project or will we be taking part in activities with our groups? The reason I am asking this is because there are two different Maastricht – Luxembourg bus times on that day, one from 9.25-12.20 and the other 17:25-20:20. If I were to take the morning bus, I would have to miss my CS1 lecture which I don’t really want to do. Luckily we won’t be learning any new content on that day but we will be working individually on previous assignments. If I were to take the afternoon bus I would be able to listen to the online meeting or maybe even listen to a recording afterwards if worse comes to worst. However, if we will need to interact with our group members then it would be a better option for me to attend the PO in a more suitable environment.\",\"My dad is getting married on Friday 12\\u002f01\\u002f2024. So I was wondering if I could miss the project meeting on this day.\",\"I am writing to you to ask about next Friday's Project opening. Is the attendance tracked for that as well and will we be required to speak or do anything?\",\"I am writing to you to ask about next Friday's Project opening. What will it be about?\",null],\"marker\":{\"opacity\":0.5,\"size\":5},\"mode\":\"markers+text\",\"name\":\"4_Project Opening Attendance and Participation Concerns\",\"text\":[\"\",\"\",\"\",\"\",\"\",\"\",\"\",\"4_Project Opening Attendance and Participation Concerns\"],\"textfont\":{\"size\":12},\"x\":[6.800384,6.8779817,6.655702,6.659408,6.1379952,6.550113,6.605318,6.612415],\"y\":[8.810381,8.4366865,8.46216,8.736268,8.450602,8.255921,8.330401,8.497488],\"type\":\"scattergl\"}],                        {\"template\":{\"data\":{\"barpolar\":[{\"marker\":{\"line\":{\"color\":\"white\",\"width\":0.5},\"pattern\":{\"fillmode\":\"overlay\",\"size\":10,\"solidity\":0.2}},\"type\":\"barpolar\"}],\"bar\":[{\"error_x\":{\"color\":\"rgb(36,36,36)\"},\"error_y\":{\"color\":\"rgb(36,36,36)\"},\"marker\":{\"line\":{\"color\":\"white\",\"width\":0.5},\"pattern\":{\"fillmode\":\"overlay\",\"size\":10,\"solidity\":0.2}},\"type\":\"bar\"}],\"carpet\":[{\"aaxis\":{\"endlinecolor\":\"rgb(36,36,36)\",\"gridcolor\":\"white\",\"linecolor\":\"white\",\"minorgridcolor\":\"white\",\"startlinecolor\":\"rgb(36,36,36)\"},\"baxis\":{\"endlinecolor\":\"rgb(36,36,36)\",\"gridcolor\":\"white\",\"linecolor\":\"white\",\"minorgridcolor\":\"white\",\"startlinecolor\":\"rgb(36,36,36)\"},\"type\":\"carpet\"}],\"choropleth\":[{\"colorbar\":{\"outlinewidth\":1,\"tickcolor\":\"rgb(36,36,36)\",\"ticks\":\"outside\"},\"type\":\"choropleth\"}],\"contourcarpet\":[{\"colorbar\":{\"outlinewidth\":1,\"tickcolor\":\"rgb(36,36,36)\",\"ticks\":\"outside\"},\"type\":\"contourcarpet\"}],\"contour\":[{\"colorbar\":{\"outlinewidth\":1,\"tickcolor\":\"rgb(36,36,36)\",\"ticks\":\"outside\"},\"colorscale\":[[0.0,\"#440154\"],[0.1111111111111111,\"#482878\"],[0.2222222222222222,\"#3e4989\"],[0.3333333333333333,\"#31688e\"],[0.4444444444444444,\"#26828e\"],[0.5555555555555556,\"#1f9e89\"],[0.6666666666666666,\"#35b779\"],[0.7777777777777778,\"#6ece58\"],[0.8888888888888888,\"#b5de2b\"],[1.0,\"#fde725\"]],\"type\":\"contour\"}],\"heatmapgl\":[{\"colorbar\":{\"outlinewidth\":1,\"tickcolor\":\"rgb(36,36,36)\",\"ticks\":\"outside\"},\"colorscale\":[[0.0,\"#440154\"],[0.1111111111111111,\"#482878\"],[0.2222222222222222,\"#3e4989\"],[0.3333333333333333,\"#31688e\"],[0.4444444444444444,\"#26828e\"],[0.5555555555555556,\"#1f9e89\"],[0.6666666666666666,\"#35b779\"],[0.7777777777777778,\"#6ece58\"],[0.8888888888888888,\"#b5de2b\"],[1.0,\"#fde725\"]],\"type\":\"heatmapgl\"}],\"heatmap\":[{\"colorbar\":{\"outlinewidth\":1,\"tickcolor\":\"rgb(36,36,36)\",\"ticks\":\"outside\"},\"colorscale\":[[0.0,\"#440154\"],[0.1111111111111111,\"#482878\"],[0.2222222222222222,\"#3e4989\"],[0.3333333333333333,\"#31688e\"],[0.4444444444444444,\"#26828e\"],[0.5555555555555556,\"#1f9e89\"],[0.6666666666666666,\"#35b779\"],[0.7777777777777778,\"#6ece58\"],[0.8888888888888888,\"#b5de2b\"],[1.0,\"#fde725\"]],\"type\":\"heatmap\"}],\"histogram2dcontour\":[{\"colorbar\":{\"outlinewidth\":1,\"tickcolor\":\"rgb(36,36,36)\",\"ticks\":\"outside\"},\"colorscale\":[[0.0,\"#440154\"],[0.1111111111111111,\"#482878\"],[0.2222222222222222,\"#3e4989\"],[0.3333333333333333,\"#31688e\"],[0.4444444444444444,\"#26828e\"],[0.5555555555555556,\"#1f9e89\"],[0.6666666666666666,\"#35b779\"],[0.7777777777777778,\"#6ece58\"],[0.8888888888888888,\"#b5de2b\"],[1.0,\"#fde725\"]],\"type\":\"histogram2dcontour\"}],\"histogram2d\":[{\"colorbar\":{\"outlinewidth\":1,\"tickcolor\":\"rgb(36,36,36)\",\"ticks\":\"outside\"},\"colorscale\":[[0.0,\"#440154\"],[0.1111111111111111,\"#482878\"],[0.2222222222222222,\"#3e4989\"],[0.3333333333333333,\"#31688e\"],[0.4444444444444444,\"#26828e\"],[0.5555555555555556,\"#1f9e89\"],[0.6666666666666666,\"#35b779\"],[0.7777777777777778,\"#6ece58\"],[0.8888888888888888,\"#b5de2b\"],[1.0,\"#fde725\"]],\"type\":\"histogram2d\"}],\"histogram\":[{\"marker\":{\"line\":{\"color\":\"white\",\"width\":0.6}},\"type\":\"histogram\"}],\"mesh3d\":[{\"colorbar\":{\"outlinewidth\":1,\"tickcolor\":\"rgb(36,36,36)\",\"ticks\":\"outside\"},\"type\":\"mesh3d\"}],\"parcoords\":[{\"line\":{\"colorbar\":{\"outlinewidth\":1,\"tickcolor\":\"rgb(36,36,36)\",\"ticks\":\"outside\"}},\"type\":\"parcoords\"}],\"pie\":[{\"automargin\":true,\"type\":\"pie\"}],\"scatter3d\":[{\"line\":{\"colorbar\":{\"outlinewidth\":1,\"tickcolor\":\"rgb(36,36,36)\",\"ticks\":\"outside\"}},\"marker\":{\"colorbar\":{\"outlinewidth\":1,\"tickcolor\":\"rgb(36,36,36)\",\"ticks\":\"outside\"}},\"type\":\"scatter3d\"}],\"scattercarpet\":[{\"marker\":{\"colorbar\":{\"outlinewidth\":1,\"tickcolor\":\"rgb(36,36,36)\",\"ticks\":\"outside\"}},\"type\":\"scattercarpet\"}],\"scattergeo\":[{\"marker\":{\"colorbar\":{\"outlinewidth\":1,\"tickcolor\":\"rgb(36,36,36)\",\"ticks\":\"outside\"}},\"type\":\"scattergeo\"}],\"scattergl\":[{\"marker\":{\"colorbar\":{\"outlinewidth\":1,\"tickcolor\":\"rgb(36,36,36)\",\"ticks\":\"outside\"}},\"type\":\"scattergl\"}],\"scattermapbox\":[{\"marker\":{\"colorbar\":{\"outlinewidth\":1,\"tickcolor\":\"rgb(36,36,36)\",\"ticks\":\"outside\"}},\"type\":\"scattermapbox\"}],\"scatterpolargl\":[{\"marker\":{\"colorbar\":{\"outlinewidth\":1,\"tickcolor\":\"rgb(36,36,36)\",\"ticks\":\"outside\"}},\"type\":\"scatterpolargl\"}],\"scatterpolar\":[{\"marker\":{\"colorbar\":{\"outlinewidth\":1,\"tickcolor\":\"rgb(36,36,36)\",\"ticks\":\"outside\"}},\"type\":\"scatterpolar\"}],\"scatter\":[{\"fillpattern\":{\"fillmode\":\"overlay\",\"size\":10,\"solidity\":0.2},\"type\":\"scatter\"}],\"scatterternary\":[{\"marker\":{\"colorbar\":{\"outlinewidth\":1,\"tickcolor\":\"rgb(36,36,36)\",\"ticks\":\"outside\"}},\"type\":\"scatterternary\"}],\"surface\":[{\"colorbar\":{\"outlinewidth\":1,\"tickcolor\":\"rgb(36,36,36)\",\"ticks\":\"outside\"},\"colorscale\":[[0.0,\"#440154\"],[0.1111111111111111,\"#482878\"],[0.2222222222222222,\"#3e4989\"],[0.3333333333333333,\"#31688e\"],[0.4444444444444444,\"#26828e\"],[0.5555555555555556,\"#1f9e89\"],[0.6666666666666666,\"#35b779\"],[0.7777777777777778,\"#6ece58\"],[0.8888888888888888,\"#b5de2b\"],[1.0,\"#fde725\"]],\"type\":\"surface\"}],\"table\":[{\"cells\":{\"fill\":{\"color\":\"rgb(237,237,237)\"},\"line\":{\"color\":\"white\"}},\"header\":{\"fill\":{\"color\":\"rgb(217,217,217)\"},\"line\":{\"color\":\"white\"}},\"type\":\"table\"}]},\"layout\":{\"annotationdefaults\":{\"arrowhead\":0,\"arrowwidth\":1},\"autotypenumbers\":\"strict\",\"coloraxis\":{\"colorbar\":{\"outlinewidth\":1,\"tickcolor\":\"rgb(36,36,36)\",\"ticks\":\"outside\"}},\"colorscale\":{\"diverging\":[[0.0,\"rgb(103,0,31)\"],[0.1,\"rgb(178,24,43)\"],[0.2,\"rgb(214,96,77)\"],[0.3,\"rgb(244,165,130)\"],[0.4,\"rgb(253,219,199)\"],[0.5,\"rgb(247,247,247)\"],[0.6,\"rgb(209,229,240)\"],[0.7,\"rgb(146,197,222)\"],[0.8,\"rgb(67,147,195)\"],[0.9,\"rgb(33,102,172)\"],[1.0,\"rgb(5,48,97)\"]],\"sequential\":[[0.0,\"#440154\"],[0.1111111111111111,\"#482878\"],[0.2222222222222222,\"#3e4989\"],[0.3333333333333333,\"#31688e\"],[0.4444444444444444,\"#26828e\"],[0.5555555555555556,\"#1f9e89\"],[0.6666666666666666,\"#35b779\"],[0.7777777777777778,\"#6ece58\"],[0.8888888888888888,\"#b5de2b\"],[1.0,\"#fde725\"]],\"sequentialminus\":[[0.0,\"#440154\"],[0.1111111111111111,\"#482878\"],[0.2222222222222222,\"#3e4989\"],[0.3333333333333333,\"#31688e\"],[0.4444444444444444,\"#26828e\"],[0.5555555555555556,\"#1f9e89\"],[0.6666666666666666,\"#35b779\"],[0.7777777777777778,\"#6ece58\"],[0.8888888888888888,\"#b5de2b\"],[1.0,\"#fde725\"]]},\"colorway\":[\"#1F77B4\",\"#FF7F0E\",\"#2CA02C\",\"#D62728\",\"#9467BD\",\"#8C564B\",\"#E377C2\",\"#7F7F7F\",\"#BCBD22\",\"#17BECF\"],\"font\":{\"color\":\"rgb(36,36,36)\"},\"geo\":{\"bgcolor\":\"white\",\"lakecolor\":\"white\",\"landcolor\":\"white\",\"showlakes\":true,\"showland\":true,\"subunitcolor\":\"white\"},\"hoverlabel\":{\"align\":\"left\"},\"hovermode\":\"closest\",\"mapbox\":{\"style\":\"light\"},\"paper_bgcolor\":\"white\",\"plot_bgcolor\":\"white\",\"polar\":{\"angularaxis\":{\"gridcolor\":\"rgb(232,232,232)\",\"linecolor\":\"rgb(36,36,36)\",\"showgrid\":false,\"showline\":true,\"ticks\":\"outside\"},\"bgcolor\":\"white\",\"radialaxis\":{\"gridcolor\":\"rgb(232,232,232)\",\"linecolor\":\"rgb(36,36,36)\",\"showgrid\":false,\"showline\":true,\"ticks\":\"outside\"}},\"scene\":{\"xaxis\":{\"backgroundcolor\":\"white\",\"gridcolor\":\"rgb(232,232,232)\",\"gridwidth\":2,\"linecolor\":\"rgb(36,36,36)\",\"showbackground\":true,\"showgrid\":false,\"showline\":true,\"ticks\":\"outside\",\"zeroline\":false,\"zerolinecolor\":\"rgb(36,36,36)\"},\"yaxis\":{\"backgroundcolor\":\"white\",\"gridcolor\":\"rgb(232,232,232)\",\"gridwidth\":2,\"linecolor\":\"rgb(36,36,36)\",\"showbackground\":true,\"showgrid\":false,\"showline\":true,\"ticks\":\"outside\",\"zeroline\":false,\"zerolinecolor\":\"rgb(36,36,36)\"},\"zaxis\":{\"backgroundcolor\":\"white\",\"gridcolor\":\"rgb(232,232,232)\",\"gridwidth\":2,\"linecolor\":\"rgb(36,36,36)\",\"showbackground\":true,\"showgrid\":false,\"showline\":true,\"ticks\":\"outside\",\"zeroline\":false,\"zerolinecolor\":\"rgb(36,36,36)\"}},\"shapedefaults\":{\"fillcolor\":\"black\",\"line\":{\"width\":0},\"opacity\":0.3},\"ternary\":{\"aaxis\":{\"gridcolor\":\"rgb(232,232,232)\",\"linecolor\":\"rgb(36,36,36)\",\"showgrid\":false,\"showline\":true,\"ticks\":\"outside\"},\"baxis\":{\"gridcolor\":\"rgb(232,232,232)\",\"linecolor\":\"rgb(36,36,36)\",\"showgrid\":false,\"showline\":true,\"ticks\":\"outside\"},\"bgcolor\":\"white\",\"caxis\":{\"gridcolor\":\"rgb(232,232,232)\",\"linecolor\":\"rgb(36,36,36)\",\"showgrid\":false,\"showline\":true,\"ticks\":\"outside\"}},\"title\":{\"x\":0.05},\"xaxis\":{\"automargin\":true,\"gridcolor\":\"rgb(232,232,232)\",\"linecolor\":\"rgb(36,36,36)\",\"showgrid\":false,\"showline\":true,\"ticks\":\"outside\",\"title\":{\"standoff\":15},\"zeroline\":false,\"zerolinecolor\":\"rgb(36,36,36)\"},\"yaxis\":{\"automargin\":true,\"gridcolor\":\"rgb(232,232,232)\",\"linecolor\":\"rgb(36,36,36)\",\"showgrid\":false,\"showline\":true,\"ticks\":\"outside\",\"title\":{\"standoff\":15},\"zeroline\":false,\"zerolinecolor\":\"rgb(36,36,36)\"}}},\"shapes\":[{\"line\":{\"color\":\"#CFD8DC\",\"width\":2},\"type\":\"line\",\"x0\":5.002722907066345,\"x1\":5.002722907066345,\"y0\":4.584147787094116,\"y1\":11.490547323226929},{\"line\":{\"color\":\"#9E9E9E\",\"width\":2},\"type\":\"line\",\"x0\":2.0957669019699097,\"x1\":7.90967891216278,\"y0\":8.037347555160522,\"y1\":8.037347555160522}],\"annotations\":[{\"showarrow\":false,\"text\":\"D1\",\"x\":2.0957669019699097,\"y\":8.037347555160522,\"yshift\":10},{\"showarrow\":false,\"text\":\"D2\",\"x\":5.002722907066345,\"xshift\":10,\"y\":11.490547323226929}],\"title\":{\"font\":{\"size\":22,\"color\":\"Black\"},\"text\":\"Question Clustering\",\"x\":0.5,\"xanchor\":\"center\",\"yanchor\":\"top\"},\"width\":1200,\"height\":750,\"xaxis\":{\"visible\":false},\"yaxis\":{\"visible\":false}},                        {\"responsive\": true}                    ).then(function(){\n                            \nvar gd = document.getElementById('e251027e-2c98-488d-ad3d-fe8e38231add');\nvar x = new MutationObserver(function (mutations, observer) {{\n        var display = window.getComputedStyle(gd).display;\n        if (!display || display === 'none') {{\n            console.log([gd, 'removed!']);\n            Plotly.purge(gd);\n            observer.disconnect();\n        }}\n}});\n\n// Listen for the removal of the full notebook cells\nvar notebookContainer = gd.closest('#notebook-container');\nif (notebookContainer) {{\n    x.observe(notebookContainer, {childList: true});\n}}\n\n// Listen for the clearing of the current output cell\nvar outputEl = gd.closest('.output');\nif (outputEl) {{\n    x.observe(outputEl, {childList: true});\n}}\n\n                        })                };                });            </script>        </div>"
     },
     "metadata": {},
     "output_type": "display_data"
    }
   ],
   "source": [
    "fig = topic_model.visualize_documents(docs, title=\"Question Clustering\")\n",
    "fig"
   ],
   "metadata": {
    "collapsed": false,
    "ExecuteTime": {
     "end_time": "2024-05-23T16:25:06.114113Z",
     "start_time": "2024-05-23T16:25:03.577717900Z"
    }
   },
   "id": "1722ce3e4bcf0b24"
  },
  {
   "cell_type": "code",
   "execution_count": 61,
   "outputs": [],
   "source": [
    "fig.write_html(\"clustering.html\")"
   ],
   "metadata": {
    "collapsed": false,
    "ExecuteTime": {
     "end_time": "2024-05-23T16:29:00.146894Z",
     "start_time": "2024-05-23T16:29:00.006800Z"
    }
   },
   "id": "f19e99c55d796039"
  },
  {
   "cell_type": "code",
   "execution_count": 46,
   "outputs": [
    {
     "data": {
      "text/plain": "PreparedData(topic_coordinates=              x         y  topics  cluster       Freq\ntopic                                                \n1     -0.142256  0.062035       1        1  13.952129\n0     -0.050324 -0.105820       2        1  12.631008\n12    -0.135456  0.103113       3        1  12.443405\n13    -0.006665  0.004709       4        1   9.659002\n11    -0.068750 -0.153966       5        1   8.436668\n8      0.173818  0.016113       6        1   7.599916\n3      0.005830  0.040002       7        1   6.935108\n9     -0.059856 -0.027554       8        1   6.548817\n2     -0.000339  0.146819       9        1   6.370693\n7      0.005792 -0.057369      10        1   4.949938\n10     0.136010  0.018466      11        1   4.188480\n6      0.061999  0.036107      12        1   4.074876\n4      0.006421 -0.029890      13        1   1.553830\n5      0.036888 -0.026382      14        1   0.328064\n14     0.036888 -0.026382      15        1   0.328064, topic_info=              Term       Freq      Total Category  logprob  loglift\n261          grade  13.000000  13.000000  Default   30.000  30.0000\n145        meeting  33.000000  33.000000  Default   29.000  29.0000\n259          class   9.000000   9.000000  Default   28.000  28.0000\n94     skill class   6.000000   6.000000  Default   27.000  27.0000\n370           need   6.000000   6.000000  Default   26.000  26.0000\n..             ...        ...        ...      ...      ...      ...\n70   documentation   0.007789   2.055943  Topic15   -6.107   0.1439\n43        headache   0.007789   1.335363  Topic15   -6.107   0.5754\n60        big coff   0.007789   1.335363  Topic15   -6.107   0.5754\n228        disease   0.007789   1.335363  Topic15   -6.107   0.5754\n307         grades   0.007789   2.633993  Topic15   -6.107  -0.1039\n\n[714 rows x 6 columns], token_table=      Topic      Freq                 Term\nterm                                      \n178       6  0.302912                    %\n178      10  0.302912                    %\n178      12  0.302912                    %\n57        4  0.494589                 11th\n57       10  0.494589                 11th\n...     ...       ...                  ...\n4         7  0.311403                 work\n4         8  0.311403                 work\n383       9  0.768509  worst case scenario\n289       6  0.634207            yesterday\n320       2  0.698738                 zoom\n\n[650 rows x 3 columns], R=30, lambda_step=0.01, plot_opts={'xlab': 'PC1', 'ylab': 'PC2'}, topic_order=[2, 1, 13, 14, 12, 9, 4, 10, 3, 8, 11, 7, 5, 6, 15])",
      "text/html": "\n<link rel=\"stylesheet\" type=\"text/css\" href=\"https://cdn.jsdelivr.net/gh/bmabey/pyLDAvis@3.4.0/pyLDAvis/js/ldavis.v1.0.0.css\">\n\n\n<div id=\"ldavis_el110202180378246976224845699\" style=\"background-color:white;\"></div>\n<script type=\"text/javascript\">\n\nvar ldavis_el110202180378246976224845699_data = {\"mdsDat\": {\"x\": [-0.1422558963528072, -0.05032402336750367, -0.1354564712998246, -0.006664900011531595, -0.06874981368190441, 0.17381771507439778, 0.0058304617683937925, -0.0598563277330195, -0.00033855180960538434, 0.0057918977718726585, 0.1360095739799623, 0.06199857582775614, 0.006421085100880879, 0.036888337366466406, 0.03688833736646641], \"y\": [0.06203464373896487, -0.10581987819169218, 0.10311252343432374, 0.004708594548020279, -0.15396577141109102, 0.016113165445428238, 0.040001793327883825, -0.027553604744530825, 0.14681927320585048, -0.05736946936659726, 0.018465601468971485, 0.03610709881543333, -0.029889757078534602, -0.0263821065962149, -0.026382106596214906], \"topics\": [1, 2, 3, 4, 5, 6, 7, 8, 9, 10, 11, 12, 13, 14, 15], \"cluster\": [1, 1, 1, 1, 1, 1, 1, 1, 1, 1, 1, 1, 1, 1, 1], \"Freq\": [13.952129139143574, 12.631008131117671, 12.443405354512354, 9.659002016540196, 8.436668212093329, 7.599916392132945, 6.9351077368752385, 6.548817343740619, 6.370693071222846, 4.94993784590896, 4.188479541498754, 4.074876454154118, 1.5538303325468097, 0.32806421425629384, 0.32806421425629384]}, \"tinfo\": {\"Term\": [\"grade\", \"meeting\", \"class\", \"skill class\", \"need\", \"friday\", \"project meeting\", \"group\", \"today\", \"meetings\", \"time\", \"question\", \"classes\", \"project\", \"flight\", \"bus\", \"case\", \"one\", \"yesterday\", \"project opening\", \"final grade\", \"tomorrow\", \"skill classes\", \"well\", \"po\", \"phase\", \"team\", \"call\", \"work\", \"help\", \"tutors\", \"uber\", \"4th\", \"existence\", \"close relative\", \"martijn bousse\", \"project coordinator\", \"instances\", \"spriha joshi\", \"group project\", \"condition\", \"call\", \"favor\", \"stops\", \"hour\", \"nothing\", \"bus stop\", \"student ov\", \"little bit\", \"buses\", \"driver\", \"next bus\", \"screenshot\", \"number\", \"report meeting today\", \"netherlands(they\", \"terrible pain\", \"stomach\", \"gp\", \"universities\", \"room\", \"december\", \"bus\", \"minutes\", \"meeting\", \"one\", \"group\", \"presence\", \"health\", \"anything\", \"end\", \"order\", \"today\", \"report\", \"project\", \"assignments\", \"group members\", \"well\", \"meetings\", \"attendance\", \"email\", \"project meetings\", \"morning\", \"period\", \"participation\", \"stay\", \"arrangement\", \"surgery\", \"recovery\", \"school\", \"pre - examination\", \"toll\", \"necessity\", \"mental health\", \"active participation\", \"combination\", \"temporary measure\", \"upcoming return\", \"highlight\", \"university experience\", \"additional requirements\", \"goals\", \"guidance\", \"current circumstances\", \"zoom\", \"contrary\", \"best interest\", \"financial limitations\", \"intention\", \"overall success\", \"involvement\", \"attempt\", \"permission\", \"pre -\", \"process\", \"home\", \"campus\", \"response\", \"credits\", \"matter\", \"support\", \"request\", \"meetings\", \"project meetings\", \"project\", \"email\", \"question\", \"well\", \"january\", \"site\", \"progress\", \"university\", \"contribution\", \"teammates\", \"next friday\", \"tim\", \"tutor\", \"friday\", \"project opening\", \"groups\", \"different maastricht\", \"online meeting\", \"suitable environment\", \"luxembourg bus times\", \"previous assignments\", \"morning bus\", \"better option\", \"cs1 lecture\", \"new content\", \"afternoon bus\", \"recording\", \"activities\", \"last project meeting\", \"muslim\", \"mosque\", \"side\", \"religious reasons\", \"mandatory friday prayers\", \"last week\", \"project skills\", \"information search\", \"projects meetings\", \"medical issue\", \"dad\", \"project meeting\", \"day\", \"project\", \"meeting\", \"problem\", \"maastricht\", \"email\", \"case\", \"po\", \"reason\", \"bus\", \"group members\", \"morning\", \"attendance\", \"meetings\", \"today\", \"project meetings\", \"group\", \"time\", \"week\", \"luxembourg\", \"storm\", \"javafx\", \"9th\", \"box plot\", \"libraries\", \"correspondence\", \"code\", \"letters\", \"cancellation\", \"tropical storm\", \"group mates\", \"delay\", \"word\", \"early morning thursday\", \"airline\", \"longer route\", \"second project meetings\", \"exception\", \"religious obligations\", \"second phases\", \"mandatory prayers\", \"control\", \"touch\", \"colleagues\", \"first meetings\", \"personal family problems\", \"online platform\", \"janurary\", \"possibilty\", \"components\", \"update\", \"meetings\", \"flight\", \"project meetings\", \"information\", \"project\", \"need\", \"grade\", \"group\", \"well\", \"individual grade\", \"tasks\", \"issue\", \"week\", \"good reason\", \"january 8th\", \"better tomorrow\", \"small chance\", \"first day\", \"capability\", \"boe\", \"sickness\", \"justification\", \"verry good reason\", \"clarification\", \"romania\", \"endeavors\", \"inability\", \"unforeseen challenges\", \"commitments\", \"unexpected change\", \"group meeting\", \"assistance\", \"scheduled flight\", \"flight today\", \"travel plans\", \"sunday\", \"brief explanation\", \"unforeseen weather conditions\", \"paper\", \"understanding\", \"meeting tomorrow\", \"absence\", \"support\", \"request\", \"meeting\", \"today\", \"reason\", \"order\", \"tomorrow\", \"project meeting\", \"phase\", \"flight\", \"one\", \"project\", \"information\", \"end\", \"belgium\", \"contribution\", \"final grade\", \"skill class\", \"skill class grade\", \"project grade\", \"documentation\", \"yesterday\", \"grade\", \"total\", \"assessment\", \"individual grades\", \"formula\", \"1s grading\", \"doctor today\", \"laptop yesterday\", \"repercussions\", \"group grade\", \"individuals\", \"overview\", \"headache\", \"big coff\", \"disease\", \"grading\", \"individual grade\", \"class\", \"%\", \"people\", \"doctor\", \"everything\", \"grades\", \"presentation\", \"group\", \"project\", \"today\", \"paper\", \"housing\", \"advance\", \"google meet\", \"project meeting today\", \"online counts\", \"hours\", \"nido living\", \"maastricht tomorrow\", \"construction issues\", \"force majeur\", \"lack\", \"percentages\", \"someone\", \"person\", \"beginning\", \"actual workload distribution\", \"messages\", \"textbox\", \"peer review class\", \"estimation date\", \"project1\", \"results\", \"pre - examination meeting\", \"makeup assignment\", \"team members\", \"task\", \"canvas\", \"team\", \"assignment\", \"students\", \"help\", \"one\", \"attendance\", \"project\", \"time\", \"class\", \"meeting\", \"group\", \"reason\", \"referencing\", \"scenario\", \"maastricht\", \"part\", \"teammates\", \"tuesday\", \"completion\", \"ongoing treatment\", \"unexpected circumstances\", \"necessary steps\", \"healthcare provider\", \"mandatory project meeting\", \"commitment\", \"month\", \"retake\", \"flights\", \"late notice\", \"bicycle\", \"direct bus route\", \"alarm\", \"crutches\", \"todays project meeting\", \"group ken x.\", \"egypt\", \"rehearsing slides\", \"group thing\", \"due tonight\", \"everyone\", \"slide presentations(first draft\", \"dear student\", \"faculty\", \"need\", \"tasks\", \"message\", \"ng\", \"information\", \"group\", \"meeting\", \"project\", \"project meeting\", \"phase\", \"well\", \"date\", \"second draft\", \"end\", \"commute\", \"reasons\", \"projects\", \"option\", \"work\", \"circumstances\", \"pm\", \"pms\", \"internet\", \"tb classes\", \"mandatory requirements\", \"general question\", \"worst case scenario\", \"harsh place\", \"much knowledge\", \"fault\", \"mistake\", \"wanna\", \"good explanation\", \"final product\", \"several times\", \"rules\", \"regulations\", \"tragically\", \"idea\", \"schedule\", \"october\", \"po\", \"weekend\", \"ng\", \"case\", \"report examination\", \"question\", \"luxembourg\", \"help\", \"classes\", \"project opening\", \"skill classes\", \"project\", \"friday\", \"something\", \"anything\", \"scenario\", \"member\", \"immediate flight\", \"publishing\", \"salaries\", \"airport\", \"constant travel\", \"conflict\", \"past announcements\", \"monetary investment\", \"groupmates\", \"sort\", \"dates\", \"tickets\", \"countries\", \"difference\", \"flight plan\", \"thought process\", \"next meeting\", \"project report\", \"11th\", \"student portal\", \"family\", \"everything\", \"schedule\", \"alternative\", \"days\", \"course\", \"process\", \"university\", \"flight\", \"grade\", \"time\", \"project\", \"meeting\", \"situation\", \"tomorrow\", \"group\", \"matter\", \"skills class\", \"citation\", \"pdf\", \"pre - task\", \"pdf files\", \"citation line\", \"glitch\", \"skills classes\", \"text entry box\", \"rest\", \"previous email\", \"references\", \"assignment status\", \"screenshots\", \"claim\", \"arguments\", \"proof\", \"mark\", \"students\", \"people\", \"everything\", \"grades\", \"canvas\", \"task\", \"citing\", \"issue\", \"contribution\", \"assignment\", \"problem\", \"pre -\", \"class\", \"classes\", \"assignments\", \"question\", \"email\", \"one\", \"time\", \"quizzes\", \"state\", \"second time\", \"effort\", \"good morning\", \"interface\", \"many skill classes\", \"subpoints tree\", \"draft report feedback\", \"1st\", \"first skill class\", \"access\", \"computer\", \"quiet room\", \"mark\", \"weekend\", \"message\", \"presentations\", \"grading\", \"presentation\", \"skill classes\", \"phase\", \"december\", \"room\", \"%\", \"classes\", \"anything\", \"home\", \"time\", \"report\", \"project\", \"meeting\", \"assignments\", \"morning\", \"skill class\", \"class\", \"yesterday night\", \"doctors\", \"meeting tomorrow\", \"call\", \"team\", \"yesterday\", \"work\", \"case\", \"tomorrow\", \"well\", \"need\", \"today\", \"state\", \"second time\", \"effort\", \"good morning\", \"interface\", \"many skill classes\", \"subpoints tree\", \"draft report feedback\", \"1st\", \"first skill class\", \"access\", \"computer\", \"quiet room\", \"claim\", \"arguments\", \"pre - task\", \"pdf files\", \"citation line\", \"meeting\", \"project\", \"phase\", \"classes\", \"group\", \"skill classes\", \"anything\", \"ng\", \"3rd phase\", \"individual grade\", \"grade\", \"information\", \"one\", \"report\", \"clarification\", \"course\", \"meetings\", \"projects\", \"yesterday night\", \"doctors\", \"state\", \"second time\", \"effort\", \"good morning\", \"interface\", \"many skill classes\", \"subpoints tree\", \"draft report feedback\", \"1st\", \"first skill class\", \"access\", \"computer\", \"quiet room\", \"claim\", \"arguments\", \"pre - task\", \"pdf files\", \"citation line\", \"glitch\", \"skills classes\", \"text entry box\", \"rest\", \"previous email\", \"references\", \"assignment status\", \"screenshots\", \"thought process\", \"member\", \"phase\", \"project\", \"classes\", \"group\", \"meeting\", \"skill classes\", \"anything\", \"well\", \"ng\", \"3rd phase\", \"individual grade\", \"grade\", \"information\", \"one\", \"report\", \"clarification\", \"course\", \"meetings\", \"projects\", \"assignments\", \"reason\", \"second draft\", \"dad\", \"question\", \"time\", \"documentation\", \"headache\", \"big coff\", \"disease\", \"grades\", \"yesterday night\", \"doctors\", \"state\", \"second time\", \"effort\", \"good morning\", \"interface\", \"many skill classes\", \"subpoints tree\", \"draft report feedback\", \"1st\", \"first skill class\", \"access\", \"computer\", \"quiet room\", \"claim\", \"arguments\", \"pre - task\", \"pdf files\", \"citation line\", \"glitch\", \"skills classes\", \"text entry box\", \"rest\", \"previous email\", \"references\", \"assignment status\", \"screenshots\", \"thought process\", \"member\", \"phase\", \"project\", \"classes\", \"group\", \"meeting\", \"skill classes\", \"anything\", \"well\", \"ng\", \"3rd phase\", \"individual grade\", \"grade\", \"information\", \"one\", \"report\", \"clarification\", \"course\", \"meetings\", \"projects\", \"assignments\", \"reason\", \"second draft\", \"dad\", \"question\", \"time\", \"documentation\", \"headache\", \"big coff\", \"disease\", \"grades\"], \"Freq\": [13.0, 33.0, 9.0, 6.0, 6.0, 8.0, 11.0, 17.0, 8.0, 19.0, 8.0, 7.0, 7.0, 50.0, 5.0, 9.0, 3.0, 12.0, 3.0, 5.0, 3.0, 4.0, 5.0, 5.0, 4.0, 5.0, 3.0, 2.0, 3.0, 4.0, 3.3614343992110247, 2.5348521698968036, 1.7082699405826178, 1.7082699405826178, 1.7082699405826178, 1.7082699405826178, 1.7082699405826178, 1.7082699405826178, 1.7082699405826178, 1.708269940582551, 3.361434425424878, 1.7082699399845602, 0.8816877112683736, 0.8816877112683736, 0.8816877112683736, 0.8816877112683736, 0.8816877112683736, 0.8816877112683736, 0.8816877112683736, 0.8816877112683736, 0.8816877112683736, 0.8816877112683736, 0.8816877112683733, 0.8816877112683733, 0.8816877112683558, 0.8816877112683558, 0.8816877112683558, 0.8816877112683558, 0.8816877112683558, 0.8816877112683558, 1.7082699592773531, 1.7082699417103973, 5.014598953528987, 2.5348522098428212, 8.320928196573414, 4.188016775888908, 5.014598983115123, 1.708269960564007, 1.7082699483972825, 1.7082699913231372, 1.7082699767413692, 1.7082699606983023, 2.5348522091233616, 1.7082699667179988, 5.84118113551572, 1.7082698816026636, 1.7082699626514468, 1.7082700081749809, 2.5348521711265994, 1.7082699745984744, 1.708269969626188, 1.7082699590107548, 1.7082699499690819, 1.6871636835730086, 1.6871636835730086, 1.6871636835730086, 1.6871636835730086, 1.687163683572985, 1.6871636835729709, 1.68716368357296, 2.5035332739995804, 0.8707941592634459, 0.8707941592634459, 0.8707941592634459, 0.8707941592634459, 0.8707941592634459, 0.8707941592634459, 0.8707941592634459, 0.8707941592634459, 0.8707941592634459, 0.8707941592634459, 0.8707941592634459, 0.8707941592634459, 0.8707941592634459, 0.8707941592634459, 0.8707941592634459, 0.8707941592634459, 0.8707941592634459, 0.8707941592634459, 0.8707941592634459, 0.8707941592634459, 0.8707941592634459, 0.8707941592634459, 2.5035332713614356, 1.687163705633842, 2.5035332647246893, 1.687163694556587, 1.6871636922075375, 1.6871637054186035, 1.687163689240908, 1.6871636822863048, 1.6871636822863048, 4.952641962547259, 3.3199028210916524, 7.401750854689498, 1.68716366590992, 1.6871636804069885, 0.8707941719958733, 0.8707941698740648, 0.8707941666217534, 0.8707941658246542, 0.870794165519282, 0.8707941638228113, 0.8707941625642815, 2.4334625344302596, 1.6399421953619113, 1.6399421953619113, 5.60754448332656, 3.226982985898446, 0.8464218128691212, 0.8464218128691212, 0.8464218128691212, 0.8464218128691212, 0.8464218128691212, 0.8464218128691212, 0.8464218128691212, 0.8464218128691212, 0.8464218128691212, 0.8464218128691212, 0.8464218128691212, 0.8464218128691212, 0.8464218128691212, 0.846421812869112, 0.846421812869112, 0.846421812869112, 0.846421812869112, 0.846421812869112, 0.846421812869112, 0.846421812869112, 0.8464218128690463, 0.8464218128690463, 0.8464218128690371, 0.8464218128690371, 0.8464218128688811, 5.607544512016858, 2.433462746039925, 12.963853761638784, 8.630969230609292, 1.6399419457931184, 1.6399422822440104, 2.4334626324527227, 1.6399421170250452, 1.639942252842977, 1.6399422000819734, 2.433462739365218, 1.6399422556877674, 1.6399421740380342, 1.6399421731669783, 2.433462559723113, 1.6399422038357474, 1.6399421952945255, 1.6399421494305215, 0.9641421872066628, 0.8464218184056459, 0.8464218139507707, 2.340112786074258, 2.340112786074217, 1.577032529745675, 1.577032529745631, 1.5770325297455339, 0.8139522734170817, 0.8139522734170817, 0.8139522734170817, 0.8139522734170817, 0.8139522734170817, 0.8139522734170817, 0.8139522734170817, 0.8139522734170817, 0.8139522734170817, 0.8139522734170817, 0.8139522734170817, 0.8139522734170817, 0.813952273417049, 0.813952273417049, 0.813952273417049, 0.813952273417049, 0.813952273417049, 0.8139522734170365, 0.8139522734170365, 0.8139522734170365, 0.8139522734170365, 0.8139522734170365, 0.8139522734170365, 0.8139522734170365, 0.8139522734170253, 1.5770325495492639, 6.155514328484041, 2.3401127833603113, 2.34011282763941, 1.5770324703528964, 4.629353501156926, 1.5770325149289428, 1.577032394244984, 1.5770325742222329, 0.8139522821221077, 0.8139522813873884, 0.8139522805591275, 0.8139522796605344, 0.8139522740825685, 1.537292856771544, 0.7934414744627124, 0.7934414744627124, 0.7934414744627122, 0.7934414744627124, 0.7934414744627122, 0.793441474462706, 0.793441474462706, 0.793441474462706, 0.793441474462706, 0.7934414744624968, 0.7934414657531372, 0.7934414657531372, 0.7934414657531372, 0.7934414657531372, 0.7934414657531372, 0.7934414657531372, 0.7934414657531372, 0.7934414657531372, 0.7934414657531372, 0.7934414657531372, 0.7934414657531372, 0.7934414657531372, 0.7934414657531372, 0.7934414657531372, 1.5372928688941405, 1.5372928554851566, 0.7934414492554362, 2.2811442944520275, 1.5372928511226058, 1.5372928511226058, 6.744252848744058, 2.25959747255971, 1.5372928381104434, 1.5372928714294316, 1.5372928539709219, 2.2811442284944152, 1.5372929812541272, 1.5372928447295393, 1.5372927980536728, 2.2811438022177577, 0.793441486331769, 0.7934414758748628, 0.7934414754945757, 0.7934414741441175, 2.930358620132369, 5.0920985424994525, 2.2097786315752153, 1.4891986430180577, 1.4891963862237174, 2.209778538693934, 8.69499912272236, 0.7686186544608935, 0.7686186544608935, 0.7686186544608897, 0.7686186544608897, 0.7686186544608897, 0.7686186544608729, 0.7686186544608729, 0.768618654460835, 0.768618654460835, 0.768618654460835, 0.768618654460835, 0.7686183389576077, 0.7686183389576077, 0.7686183389576077, 1.4891986697775796, 1.4891986354914293, 5.09209860209353, 1.4891986835758357, 0.7686186347752851, 0.7686186580148101, 0.7686186428552789, 0.7686186662812857, 0.7686186576426838, 3.6509378206267495, 3.2676777482576047, 0.7894913470873414, 0.7686186427176167, 1.4560201465564997, 0.7514942691904163, 0.7514942691904163, 0.7514942691904163, 0.7514942691904163, 0.7514942691904163, 0.7514942691904163, 0.7514942691904163, 0.7514942691904163, 0.7514942691904162, 0.7514942691904163, 0.7514942691904117, 0.7514942691904117, 0.7514942691904117, 0.7514942691904117, 0.7514942691904117, 0.7514942691904116, 0.7514942691903865, 0.7514942691903865, 0.7514942691902959, 0.7514942691902959, 0.7514942691902959, 0.7514942691902959, 0.7514942691902959, 0.7514942691902959, 1.4560201465245173, 1.4560201420663585, 1.4560201272489517, 1.456020156249091, 0.7514942642344662, 1.4560202043599366, 2.8650720734546815, 1.456020200534025, 2.8650719963714084, 1.456020156594866, 1.456020080356971, 2.1605458479634465, 1.456020205589083, 0.7514942832526835, 0.7514942787873201, 0.751494276083928, 0.7514942726449323, 0.7514942710190752, 0.751494270915875, 0.7451409477424933, 0.7451409477424933, 0.7451409477424933, 0.7451409477424933, 0.7451409477424933, 0.7451409477424933, 0.7451409477424933, 0.7451409477424933, 0.74514094774249, 0.74514094774249, 0.74514094774249, 0.74514094774249, 0.74514094774249, 0.74514094774249, 0.74514094774249, 0.74514094774249, 0.74514094774249, 0.74514094774249, 0.74514094774249, 0.7451409477424276, 0.7451409477424276, 0.7451409477424276, 0.7451409477424276, 0.7451409477424276, 0.7451409477423769, 1.4437106028385964, 2.840850013089069, 1.4437106576307892, 0.7451409447653146, 0.7451409524197709, 1.4437106888300022, 2.1422803599279017, 2.8408500567476893, 2.840849782545187, 1.4437106157770396, 0.7451409965970796, 0.74514097060232, 0.7451409684031829, 0.7451409642474668, 0.7451409575854573, 0.7451409522365247, 0.7451409520334829, 0.7451409512468885, 0.7451409507498289, 0.7451409507308868, 0.7451409478744954, 1.4186382879801147, 0.7322004066993884, 0.7322004066993884, 0.7322004066993884, 0.7322004066993884, 0.7322004066993884, 0.7322004066993884, 0.7322004066993693, 0.7322004066993693, 0.7322004066993693, 0.7322004066993693, 0.7322004066993693, 0.7322004066993654, 0.7322004066993654, 0.7322004066993654, 0.7322004066993654, 0.7322004066993654, 0.7322004066993654, 0.7322004066992519, 1.4186382856207813, 1.4186382986965334, 2.105076177557625, 0.7322004050500502, 0.732200402103104, 1.4186383204541158, 0.7322004128107513, 2.7915142159106408, 0.7322004057636743, 1.4186382916227396, 2.1050763841117535, 1.4186383290773887, 1.4186383752883795, 4.8508279504092355, 1.4186383125338464, 0.7322004217651699, 0.7322004212656482, 0.7322004137222002, 0.6869498771151422, 0.6869498771151422, 0.6869498771151422, 0.6869498771151422, 0.6869498771151422, 0.6869498771151422, 0.6869498771151422, 0.6869498771151422, 0.6869498771151422, 0.6869498771151422, 0.6869498771151422, 0.6869498771151422, 0.6869498771151422, 0.6869498771151422, 0.6869498771151422, 0.6869498771151422, 0.6869498771150506, 0.686949878831169, 0.6869498833767134, 0.6869498804774157, 0.6869498833741811, 1.3309654572263347, 0.6869498644961017, 0.6869498793286668, 0.6869498813297735, 0.6869499007204328, 0.6869498995150394, 0.6869498597117251, 0.6869498949787126, 1.3309653937210875, 1.9749808468023775, 1.330965471653462, 1.9749807614254355, 1.3309654607921633, 0.6869499094071942, 0.6869498922657634, 0.6869498894432918, 0.6869498774584636, 1.2651964704132959, 1.2651964704132959, 1.2651964704132959, 0.6530046298907155, 0.6530046298907155, 0.6530046298907155, 0.6530046298907155, 0.6530046298907155, 0.6530046298907155, 0.6530046298907155, 0.6530046298907155, 0.6530046298907155, 0.6530046298907155, 0.6530046298907155, 0.6530046298906529, 0.6530046298906529, 1.2651964944061174, 0.6530046161511037, 0.6530046341971494, 0.6530046466152123, 0.6530046517460626, 0.6530046683868754, 0.6530046337923698, 0.6530046299185063, 0.6530046583866701, 0.6530046538324306, 0.6530046195658141, 0.653004654958257, 0.6530046596625823, 0.6530046597887458, 1.265196532678328, 0.6530046837389231, 0.6530046664903482, 0.6530046513568657, 0.653004651099358, 0.6530046488943859, 0.6530046455573041, 1.2427589695436323, 0.6414239842805646, 0.6414239842805646, 0.6414239842805646, 0.6414239842805646, 0.6414239842805646, 0.6414239842805646, 0.6414239842805646, 0.6414239842805646, 0.6414239842805646, 0.6414239842805646, 0.6414239235771441, 0.6414239235771441, 0.6414239235771441, 0.6414239977764576, 0.6414239250219818, 0.6414239868433492, 0.6414239971140658, 0.6414239619492847, 0.6414239895084869, 1.2427590935849488, 1.242759168194164, 0.6414239834601119, 0.641423909976808, 0.6414240031075011, 1.242759105334045, 0.641424035688836, 0.6414239051396564, 1.1535496920593058, 0.6414240228824205, 1.3999516349744676, 0.7555929395709158, 0.6414240171117491, 0.6414240119939826, 0.6414239709664076, 0.6414239688359755, 0.40215675338615803, 0.4021567533861581, 0.4021567661625008, 0.40215675365894643, 0.40215676536872563, 0.40215676213960466, 0.40215677705819874, 0.4021567730793967, 0.40215677527098087, 0.40215680453725233, 0.40215677201763833, 0.4021567701960368, 0.025134797086637378, 0.025134797086637378, 0.025134797086637378, 0.025134797086637378, 0.025134797086637378, 0.025134797086637378, 0.025134797086637378, 0.025134797086637378, 0.025134797086637378, 0.025134797086637378, 0.02513479708664134, 0.02513479708664134, 0.02513479708664134, 0.025134797086641635, 0.025134797086641635, 0.02513479708663709, 0.02513479708663709, 0.02513479708663709, 0.4021567184677426, 0.4021566675307642, 0.025134797086670824, 0.025134797086662247, 0.0251347970866617, 0.025134797086657813, 0.02513479708665653, 0.02513479708665598, 0.025134797086655083, 0.025134797086654694, 0.0251347970866545, 0.025134797086654413, 0.025134797086654136, 0.025134797086653775, 0.025134797086653095, 0.02513479708665292, 0.02513479708665199, 0.0251347970866518, 0.0077887851313393, 0.0077887851313393, 0.007788785131339162, 0.007788785131339162, 0.007788785131339162, 0.007788785131339162, 0.007788785131339162, 0.007788785131339162, 0.007788785131339162, 0.007788785131339162, 0.007788785131339162, 0.007788785131339162, 0.007788785131340974, 0.007788785131340974, 0.007788785131340974, 0.007788785131341111, 0.007788785131341111, 0.007788785131339029, 0.007788785131339029, 0.007788785131339029, 0.007788785131339029, 0.007788785131339029, 0.007788785131339029, 0.007788785131339029, 0.007788785131339029, 0.007788785131339029, 0.007788785131339029, 0.007788785131339029, 0.00778878513134194, 0.007788785131339074, 0.0077887851313544545, 0.007788785131351941, 0.007788785131350533, 0.007788785131350286, 0.007788785131349218, 0.007788785131348507, 0.007788785131347921, 0.007788785131347866, 0.007788785131347668, 0.007788785131347258, 0.00778878513134708, 0.007788785131346989, 0.007788785131346951, 0.0077887851313468235, 0.007788785131346659, 0.007788785131346349, 0.00778878513134627, 0.007788785131345844, 0.007788785131345759, 0.007788785131345709, 0.007788785131345644, 0.007788785131345587, 0.007788785131345482, 0.007788785131345401, 0.007788785131345376, 0.007788785131345292, 0.007788785131345237, 0.007788785131345237, 0.007788785131345237, 0.007788785131345213, 0.0077887851313393, 0.0077887851313393, 0.007788785131339162, 0.007788785131339162, 0.007788785131339162, 0.007788785131339162, 0.007788785131339162, 0.007788785131339162, 0.007788785131339162, 0.007788785131339162, 0.007788785131339162, 0.007788785131339162, 0.007788785131340974, 0.007788785131340974, 0.007788785131340974, 0.007788785131341111, 0.007788785131341111, 0.007788785131339029, 0.007788785131339029, 0.007788785131339029, 0.007788785131339029, 0.007788785131339029, 0.007788785131339029, 0.007788785131339029, 0.007788785131339029, 0.007788785131339029, 0.007788785131339029, 0.007788785131339029, 0.00778878513134194, 0.007788785131339074, 0.0077887851313544545, 0.007788785131351941, 0.007788785131350533, 0.007788785131350286, 0.007788785131349218, 0.007788785131348507, 0.007788785131347921, 0.007788785131347866, 0.007788785131347668, 0.007788785131347258, 0.00778878513134708, 0.007788785131346989, 0.007788785131346951, 0.0077887851313468235, 0.007788785131346659, 0.007788785131346349, 0.00778878513134627, 0.007788785131345844, 0.007788785131345759, 0.007788785131345709, 0.007788785131345644, 0.007788785131345587, 0.007788785131345482, 0.007788785131345401, 0.007788785131345376, 0.007788785131345292, 0.007788785131345237, 0.007788785131345237, 0.007788785131345237, 0.007788785131345213], \"Total\": [13.0, 33.0, 9.0, 6.0, 6.0, 8.0, 11.0, 17.0, 8.0, 19.0, 8.0, 7.0, 7.0, 50.0, 5.0, 9.0, 3.0, 12.0, 3.0, 5.0, 3.0, 4.0, 5.0, 5.0, 4.0, 5.0, 3.0, 2.0, 3.0, 4.0, 3.9211119221473885, 3.0945296928331785, 2.267947463518983, 2.267947463518983, 2.267947463518983, 2.267947463518983, 2.267947463518983, 2.267947463518983, 2.267947463518983, 2.267947463518952, 4.737481446780744, 2.64496941949325, 1.4413652342047563, 1.4413652342047563, 1.4413652342047563, 1.4413652342047563, 1.4413652342047563, 1.4413652342047563, 1.4413652342047563, 1.4413652342047563, 1.4413652342047563, 1.4413652342047563, 1.4413652342047558, 1.4413652342047558, 1.4413652342047483, 1.4413652342047483, 1.4413652342047483, 1.4413652342047483, 1.4413652342047483, 1.4413652342047483, 2.869282473277063, 2.8692824490893476, 9.339845268769867, 4.651130401204301, 33.02119844173179, 12.68260010253351, 17.25552343172575, 3.7748791033007913, 3.7828866269878256, 4.349240762954681, 4.354384003972904, 4.399665744693466, 8.714578455419764, 4.962816091539167, 50.77518995636369, 5.038074972500695, 5.32259449838436, 5.716509231628495, 19.256780917775327, 5.950477993768322, 6.893439691940346, 10.80067099891489, 5.905841474048849, 2.247522053509683, 2.247522053509683, 2.247522053509683, 2.247522053509683, 2.247522053509672, 2.2475220535096656, 2.2475220535096594, 3.768417464243326, 1.431152529200123, 1.431152529200123, 1.431152529200123, 1.431152529200123, 1.431152529200123, 1.431152529200123, 1.431152529200123, 1.431152529200123, 1.431152529200123, 1.431152529200123, 1.431152529200123, 1.431152529200123, 1.431152529200123, 1.431152529200123, 1.431152529200123, 1.431152529200123, 1.431152529200123, 1.431152529200123, 1.431152529200123, 1.431152529200123, 1.431152529200123, 1.431152529200123, 4.38060929989507, 2.8915375679626356, 4.491808817992222, 3.041042503381912, 3.0410425033161554, 3.0741042825504685, 3.6353889457917665, 3.7352248177997325, 3.7352248177997325, 19.256780917775327, 10.80067099891489, 50.77518995636369, 6.893439691940346, 7.88264609000883, 5.716509231628495, 2.938084168632898, 2.2246729789708395, 2.1942327859569164, 2.901750263167416, 2.787195754384526, 2.8221162884164945, 2.995344310579218, 2.2018238978550198, 2.2018238978550198, 8.262881888782593, 5.161740528261653, 1.408303454455452, 1.408303454455452, 1.408303454455452, 1.408303454455452, 1.408303454455452, 1.408303454455452, 1.408303454455452, 1.408303454455452, 1.408303454455452, 1.408303454455452, 1.408303454455452, 1.408303454455452, 1.408303454455452, 1.408303454455448, 1.408303454455448, 1.408303454455448, 1.408303454455448, 1.408303454455448, 1.408303454455448, 1.408303454455448, 1.4083034544554185, 1.4083034544554185, 1.408303454455415, 1.408303454455415, 1.4083034544553459, 11.146660963183066, 4.5555652613124975, 50.77518995636369, 33.02119844173179, 3.5185415444435133, 3.669430038187709, 6.893439691940346, 3.9517215899547926, 4.2611375465682375, 4.3940525393684, 9.339845268769867, 5.32259449838436, 5.905841474048849, 5.950477993768322, 19.256780917775327, 8.714578455419764, 10.80067099891489, 17.25552343172575, 8.288361474362862, 2.987753234887517, 2.0947413358820994, 2.904023773876334, 2.904023773876316, 2.140943517547752, 2.140943517547733, 2.1409435175476923, 1.377863261219162, 1.377863261219162, 1.377863261219162, 1.377863261219162, 1.377863261219162, 1.377863261219162, 1.377863261219162, 1.377863261219162, 1.377863261219162, 1.377863261219162, 1.377863261219162, 1.377863261219162, 1.3778632612191486, 1.3778632612191486, 1.3778632612191486, 1.3778632612191486, 1.3778632612191486, 1.3778632612191428, 1.3778632612191428, 1.3778632612191428, 1.3778632612191428, 1.3778632612191428, 1.3778632612191428, 1.3778632612191428, 1.3778632612191388, 2.9573130404742294, 19.256780917775327, 5.679757556747468, 10.80067099891489, 5.075454613218549, 50.77518995636369, 6.717956309862926, 13.513470316033985, 17.25552343172575, 5.716509231628495, 2.8190232387772474, 3.6015847538758363, 2.7835755439660073, 2.987753234887517, 2.1024857695083385, 1.3586343871994655, 1.3586343871994655, 1.3586343871994653, 1.3586343871994655, 1.3586343871994653, 1.3586343871994624, 1.3586343871994624, 1.3586343871994624, 1.3586343871994624, 1.3586343871993778, 1.3586343869270054, 1.3586343869270054, 1.3586343869270054, 1.3586343869270054, 1.3586343869270054, 1.3586343869270054, 1.3586343869270054, 1.3586343869270054, 1.3586343869270054, 1.3586343869270054, 1.3586343869270054, 1.3586343869270054, 1.3586343869270054, 1.3586343869270054, 2.8230657584447245, 2.918855293064867, 1.7356563310680648, 5.124356569228574, 3.7352248177997325, 3.7352248177997325, 33.02119844173179, 8.714578455419764, 4.3940525393684, 4.399665744693466, 4.548629079940118, 11.146660963183066, 5.4873855651849235, 5.679757556747468, 12.68260010253351, 50.77518995636369, 5.075454613218549, 4.354384003972904, 2.1852166163988134, 2.787195754384526, 3.4971029591192098, 6.26017791869232, 2.776522970562057, 2.0559429820049027, 2.0559430548884814, 3.153544926593444, 13.513470316033985, 1.3353629934477413, 1.3353629934477413, 1.3353629934477402, 1.3353629934477402, 1.3353629934477402, 1.3353629934477336, 1.3353629934477336, 1.3353629934477187, 1.3353629934477187, 1.3353629934477187, 1.3353629934477187, 1.3353630253842832, 1.3353630253842832, 1.3353630253842832, 2.657277971696219, 2.8190232387772474, 9.656693598011572, 3.3012934800365277, 1.9475548310092137, 2.0792143756417865, 2.591570341396475, 2.6339927111422314, 2.680549359677802, 17.25552343172575, 50.77518995636369, 8.714578455419764, 2.8230657584447245, 2.0238347596227446, 1.3193088822566659, 1.3193088822566659, 1.3193088822566659, 1.3193088822566659, 1.3193088822566659, 1.3193088822566659, 1.3193088822566659, 1.3193088822566659, 1.3193088822566656, 1.3193088822566659, 1.3193088822566645, 1.3193088822566645, 1.3193088822566645, 1.3193088822566645, 1.3193088822566645, 1.3193088822566643, 1.3193088822566548, 1.3193088822566548, 1.3193088822566215, 1.3193088822566215, 1.3193088822566215, 1.3193088822566215, 1.3193088822566215, 1.3193088822566215, 2.6360266001411077, 2.6360265995568235, 3.144708087377729, 3.399106849489754, 1.9315007221297016, 4.11729050924289, 12.68260010253351, 5.950477993768322, 50.77518995636369, 8.288361474362862, 9.656693598011572, 33.02119844173179, 17.25552343172575, 4.3940525393684, 2.112829330609171, 2.7495981448740223, 3.669430038187709, 2.112829331590489, 2.8221162884164945, 1.3133526433992357, 1.3133526433992357, 1.3133526433992357, 1.3133526433992357, 1.3133526433992357, 1.3133526433992357, 1.3133526433992357, 1.3133526433992357, 1.3133526433992346, 1.3133526433992346, 1.3133526433992346, 1.3133526433992346, 1.3133526433992346, 1.3133526433992346, 1.3133526433992346, 1.3133526433992346, 1.3133526433992346, 1.3133526433992346, 1.3133526433992346, 1.3133526433992115, 1.3133526433992115, 1.3133526433992115, 1.3133526433992115, 1.3133526433992115, 1.313352643399193, 2.8385045081823574, 6.717956309862926, 3.6015847538758363, 1.9146876282478795, 1.999790524761069, 5.075454613218549, 17.25552343172575, 33.02119844173179, 50.77518995636369, 11.146660963183066, 5.4873855651849235, 5.716509231628495, 2.0178785205890626, 2.139934869688733, 4.354384003972904, 2.1399348718898263, 2.106873092380811, 2.106873092487636, 2.106873092555291, 3.2112699737907255, 2.8735735496336487, 1.987658767452062, 1.301220886171329, 1.301220886171329, 1.301220886171329, 1.301220886171329, 1.301220886171329, 1.301220886171329, 1.3012208861713221, 1.3012208861713221, 1.3012208861713221, 1.3012208861713221, 1.3012208861713221, 1.3012208861713208, 1.3012208861713208, 1.3012208861713208, 1.3012208861713208, 1.3012208861713208, 1.3012208861713208, 1.3012208861712806, 2.6316742771017068, 2.781179215345149, 4.2611375465682375, 1.902555890630524, 1.999790524761069, 3.9517215899547926, 2.064301141817476, 7.88264609000883, 2.0947413358820994, 4.11729050924289, 7.481716406005216, 5.161740528261653, 5.478560827685202, 50.77518995636369, 8.262881888782593, 2.762870780402317, 4.349240762954681, 2.7495981448740223, 1.2587985146860887, 1.2587985146860887, 1.2587985146860887, 1.2587985146860887, 1.2587985146860887, 1.2587985146860887, 1.2587985146860887, 1.2587985146860887, 1.2587985146860887, 1.2587985146860887, 1.2587985146860887, 1.2587985146860887, 1.2587985146860887, 1.2587985146860887, 1.2587985146860887, 1.2587985146860887, 1.2587985146860596, 2.00264989645644, 2.0218787698569365, 2.0218787703930046, 2.07516803732045, 4.168701677034639, 2.591570341396475, 2.6316742771017068, 2.701219534773393, 2.8686884830220123, 2.8789011878020414, 2.8915375679626356, 2.901750263167416, 5.679757556747468, 13.513470316033985, 8.288361474362862, 50.77518995636369, 33.02119844173179, 3.645601642638903, 4.548629079940118, 17.25552343172575, 3.6353889457917665, 1.8391666859357663, 1.8391666859357663, 1.8391666859357663, 1.226974845413188, 1.226974845413188, 1.226974845413188, 1.226974845413188, 1.226974845413188, 1.226974845413188, 1.226974845413188, 1.226974845413188, 1.226974845413188, 1.226974845413188, 1.226974845413188, 1.2269748454131708, 1.2269748454131708, 3.418616459002008, 1.828309830432548, 1.9315007221297016, 1.9475548310092137, 2.591570341396475, 2.6339927111422314, 2.6360265995568235, 2.6360266001411077, 2.7250211641635977, 2.7835755439660073, 2.787195754384526, 3.399106849489754, 3.5185415444435133, 4.38060929989507, 9.656693598011572, 7.481716406005216, 5.038074972500695, 7.88264609000883, 6.893439691940346, 12.68260010253351, 8.288361474362862, 1.8174529754167388, 1.216117990153674, 1.216117990153674, 1.216117990153674, 1.216117990153674, 1.216117990153674, 1.216117990153674, 1.216117990153674, 1.216117990153674, 1.216117990153674, 1.216117990153674, 1.2161180095543183, 1.2161180095543183, 1.2161180095543183, 1.828309830432548, 1.902555890630524, 1.9146876282478795, 1.9599693694209646, 2.657277971696219, 2.680549359677802, 5.478560827685202, 5.4873855651849235, 2.8692824490893476, 2.869282473277063, 3.3012934800365277, 7.481716406005216, 4.349240762954681, 4.491808817992222, 8.288361474362862, 4.962816091539167, 50.77518995636369, 33.02119844173179, 5.038074972500695, 5.905841474048849, 6.26017791869232, 9.656693598011572, 0.9918049611901718, 0.9918049611901719, 1.7356563310680648, 2.64496941949325, 3.144708087377729, 3.153544926593444, 3.2112699737907255, 3.9517215899547926, 4.548629079940118, 5.716509231628495, 6.717956309862926, 8.714578455419764, 1.216117990153674, 1.216117990153674, 1.216117990153674, 1.216117990153674, 1.216117990153674, 1.216117990153674, 1.216117990153674, 1.216117990153674, 1.216117990153674, 1.216117990153674, 1.2161180095543183, 1.2161180095543183, 1.2161180095543183, 1.2269748454131708, 1.2269748454131708, 1.226974845413188, 1.226974845413188, 1.226974845413188, 33.02119844173179, 50.77518995636369, 5.4873855651849235, 7.481716406005216, 17.25552343172575, 5.478560827685202, 4.349240762954681, 1.999790524761069, 1.3778632612190345, 2.8190232387772474, 13.513470316033985, 5.075454613218549, 12.68260010253351, 4.962816091539167, 1.3586343871993778, 2.8789011878020414, 19.256780917775327, 2.106873092487636, 0.9918049611901718, 0.9918049611901719, 1.216117990153674, 1.216117990153674, 1.216117990153674, 1.216117990153674, 1.216117990153674, 1.216117990153674, 1.216117990153674, 1.216117990153674, 1.216117990153674, 1.216117990153674, 1.2161180095543183, 1.2161180095543183, 1.2161180095543183, 1.2269748454131708, 1.2269748454131708, 1.226974845413188, 1.226974845413188, 1.226974845413188, 1.226974845413188, 1.226974845413188, 1.226974845413188, 1.226974845413188, 1.226974845413188, 1.226974845413188, 1.226974845413188, 1.226974845413188, 1.2587985146860596, 1.2587985146860887, 5.4873855651849235, 50.77518995636369, 7.481716406005216, 17.25552343172575, 33.02119844173179, 5.478560827685202, 4.349240762954681, 5.716509231628495, 1.999790524761069, 1.3778632612190345, 2.8190232387772474, 13.513470316033985, 5.075454613218549, 12.68260010253351, 4.962816091539167, 1.3586343871993778, 2.8789011878020414, 19.256780917775327, 2.106873092487636, 5.038074972500695, 4.3940525393684, 2.139934869688733, 1.4083034544553459, 7.88264609000883, 8.288361474362862, 2.0559430548884814, 1.3353630253842832, 1.3353630253842832, 1.3353630253842832, 2.6339927111422314, 0.9918049611901718, 0.9918049611901719, 1.216117990153674, 1.216117990153674, 1.216117990153674, 1.216117990153674, 1.216117990153674, 1.216117990153674, 1.216117990153674, 1.216117990153674, 1.216117990153674, 1.216117990153674, 1.2161180095543183, 1.2161180095543183, 1.2161180095543183, 1.2269748454131708, 1.2269748454131708, 1.226974845413188, 1.226974845413188, 1.226974845413188, 1.226974845413188, 1.226974845413188, 1.226974845413188, 1.226974845413188, 1.226974845413188, 1.226974845413188, 1.226974845413188, 1.226974845413188, 1.2587985146860596, 1.2587985146860887, 5.4873855651849235, 50.77518995636369, 7.481716406005216, 17.25552343172575, 33.02119844173179, 5.478560827685202, 4.349240762954681, 5.716509231628495, 1.999790524761069, 1.3778632612190345, 2.8190232387772474, 13.513470316033985, 5.075454613218549, 12.68260010253351, 4.962816091539167, 1.3586343871993778, 2.8789011878020414, 19.256780917775327, 2.106873092487636, 5.038074972500695, 4.3940525393684, 2.139934869688733, 1.4083034544553459, 7.88264609000883, 8.288361474362862, 2.0559430548884814, 1.3353630253842832, 1.3353630253842832, 1.3353630253842832, 2.6339927111422314], \"Category\": [\"Default\", \"Default\", \"Default\", \"Default\", \"Default\", \"Default\", \"Default\", \"Default\", \"Default\", \"Default\", \"Default\", \"Default\", \"Default\", \"Default\", \"Default\", \"Default\", \"Default\", \"Default\", \"Default\", \"Default\", \"Default\", \"Default\", \"Default\", \"Default\", \"Default\", \"Default\", \"Default\", \"Default\", \"Default\", \"Default\", \"Topic1\", \"Topic1\", \"Topic1\", \"Topic1\", \"Topic1\", \"Topic1\", \"Topic1\", \"Topic1\", \"Topic1\", \"Topic1\", \"Topic1\", \"Topic1\", \"Topic1\", \"Topic1\", \"Topic1\", \"Topic1\", \"Topic1\", \"Topic1\", \"Topic1\", \"Topic1\", \"Topic1\", \"Topic1\", \"Topic1\", \"Topic1\", \"Topic1\", \"Topic1\", \"Topic1\", \"Topic1\", \"Topic1\", \"Topic1\", \"Topic1\", \"Topic1\", \"Topic1\", \"Topic1\", \"Topic1\", \"Topic1\", \"Topic1\", \"Topic1\", \"Topic1\", \"Topic1\", \"Topic1\", \"Topic1\", \"Topic1\", \"Topic1\", \"Topic1\", \"Topic1\", \"Topic1\", \"Topic1\", \"Topic1\", \"Topic1\", \"Topic1\", \"Topic1\", \"Topic1\", \"Topic2\", \"Topic2\", \"Topic2\", \"Topic2\", \"Topic2\", \"Topic2\", \"Topic2\", \"Topic2\", \"Topic2\", \"Topic2\", \"Topic2\", \"Topic2\", \"Topic2\", \"Topic2\", \"Topic2\", \"Topic2\", \"Topic2\", \"Topic2\", \"Topic2\", \"Topic2\", \"Topic2\", \"Topic2\", \"Topic2\", \"Topic2\", \"Topic2\", \"Topic2\", \"Topic2\", \"Topic2\", \"Topic2\", \"Topic2\", \"Topic2\", \"Topic2\", \"Topic2\", \"Topic2\", \"Topic2\", \"Topic2\", \"Topic2\", \"Topic2\", \"Topic2\", \"Topic2\", \"Topic2\", \"Topic2\", \"Topic2\", \"Topic2\", \"Topic2\", \"Topic2\", \"Topic2\", \"Topic2\", \"Topic2\", \"Topic2\", \"Topic2\", \"Topic3\", \"Topic3\", \"Topic3\", \"Topic3\", \"Topic3\", \"Topic3\", \"Topic3\", \"Topic3\", \"Topic3\", \"Topic3\", \"Topic3\", \"Topic3\", \"Topic3\", \"Topic3\", \"Topic3\", \"Topic3\", \"Topic3\", \"Topic3\", \"Topic3\", \"Topic3\", \"Topic3\", \"Topic3\", \"Topic3\", \"Topic3\", \"Topic3\", \"Topic3\", \"Topic3\", \"Topic3\", \"Topic3\", \"Topic3\", \"Topic3\", \"Topic3\", \"Topic3\", \"Topic3\", \"Topic3\", \"Topic3\", \"Topic3\", \"Topic3\", \"Topic3\", \"Topic3\", \"Topic3\", \"Topic3\", \"Topic3\", \"Topic3\", \"Topic3\", \"Topic3\", \"Topic3\", \"Topic3\", \"Topic3\", \"Topic3\", \"Topic3\", \"Topic4\", \"Topic4\", \"Topic4\", \"Topic4\", \"Topic4\", \"Topic4\", \"Topic4\", \"Topic4\", \"Topic4\", \"Topic4\", \"Topic4\", \"Topic4\", \"Topic4\", \"Topic4\", \"Topic4\", \"Topic4\", \"Topic4\", \"Topic4\", \"Topic4\", \"Topic4\", \"Topic4\", \"Topic4\", \"Topic4\", \"Topic4\", \"Topic4\", \"Topic4\", \"Topic4\", \"Topic4\", \"Topic4\", \"Topic4\", \"Topic4\", \"Topic4\", \"Topic4\", \"Topic4\", \"Topic4\", \"Topic4\", \"Topic4\", \"Topic4\", \"Topic4\", \"Topic4\", \"Topic4\", \"Topic4\", \"Topic4\", \"Topic4\", \"Topic5\", \"Topic5\", \"Topic5\", \"Topic5\", \"Topic5\", \"Topic5\", \"Topic5\", \"Topic5\", \"Topic5\", \"Topic5\", \"Topic5\", \"Topic5\", \"Topic5\", \"Topic5\", \"Topic5\", \"Topic5\", \"Topic5\", \"Topic5\", \"Topic5\", \"Topic5\", \"Topic5\", \"Topic5\", \"Topic5\", \"Topic5\", \"Topic5\", \"Topic5\", \"Topic5\", \"Topic5\", \"Topic5\", \"Topic5\", \"Topic5\", \"Topic5\", \"Topic5\", \"Topic5\", \"Topic5\", \"Topic5\", \"Topic5\", \"Topic5\", \"Topic5\", \"Topic5\", \"Topic5\", \"Topic5\", \"Topic5\", \"Topic5\", \"Topic5\", \"Topic6\", \"Topic6\", \"Topic6\", \"Topic6\", \"Topic6\", \"Topic6\", \"Topic6\", \"Topic6\", \"Topic6\", \"Topic6\", \"Topic6\", \"Topic6\", \"Topic6\", \"Topic6\", \"Topic6\", \"Topic6\", \"Topic6\", \"Topic6\", \"Topic6\", \"Topic6\", \"Topic6\", \"Topic6\", \"Topic6\", \"Topic6\", \"Topic6\", \"Topic6\", \"Topic6\", \"Topic6\", \"Topic6\", \"Topic6\", \"Topic6\", \"Topic6\", \"Topic6\", \"Topic6\", \"Topic7\", \"Topic7\", \"Topic7\", \"Topic7\", \"Topic7\", \"Topic7\", \"Topic7\", \"Topic7\", \"Topic7\", \"Topic7\", \"Topic7\", \"Topic7\", \"Topic7\", \"Topic7\", \"Topic7\", \"Topic7\", \"Topic7\", \"Topic7\", \"Topic7\", \"Topic7\", \"Topic7\", \"Topic7\", \"Topic7\", \"Topic7\", \"Topic7\", \"Topic7\", \"Topic7\", \"Topic7\", \"Topic7\", \"Topic7\", \"Topic7\", \"Topic7\", \"Topic7\", \"Topic7\", \"Topic7\", \"Topic7\", \"Topic7\", \"Topic7\", \"Topic7\", \"Topic7\", \"Topic7\", \"Topic7\", \"Topic7\", \"Topic7\", \"Topic8\", \"Topic8\", \"Topic8\", \"Topic8\", \"Topic8\", \"Topic8\", \"Topic8\", \"Topic8\", \"Topic8\", \"Topic8\", \"Topic8\", \"Topic8\", \"Topic8\", \"Topic8\", \"Topic8\", \"Topic8\", \"Topic8\", \"Topic8\", \"Topic8\", \"Topic8\", \"Topic8\", \"Topic8\", \"Topic8\", \"Topic8\", \"Topic8\", \"Topic8\", \"Topic8\", \"Topic8\", \"Topic8\", \"Topic8\", \"Topic8\", \"Topic8\", \"Topic8\", \"Topic8\", \"Topic8\", \"Topic8\", \"Topic8\", \"Topic8\", \"Topic8\", \"Topic8\", \"Topic8\", \"Topic8\", \"Topic8\", \"Topic8\", \"Topic8\", \"Topic8\", \"Topic9\", \"Topic9\", \"Topic9\", \"Topic9\", \"Topic9\", \"Topic9\", \"Topic9\", \"Topic9\", \"Topic9\", \"Topic9\", \"Topic9\", \"Topic9\", \"Topic9\", \"Topic9\", \"Topic9\", \"Topic9\", \"Topic9\", \"Topic9\", \"Topic9\", \"Topic9\", \"Topic9\", \"Topic9\", \"Topic9\", \"Topic9\", \"Topic9\", \"Topic9\", \"Topic9\", \"Topic9\", \"Topic9\", \"Topic9\", \"Topic9\", \"Topic9\", \"Topic9\", \"Topic9\", \"Topic9\", \"Topic9\", \"Topic9\", \"Topic10\", \"Topic10\", \"Topic10\", \"Topic10\", \"Topic10\", \"Topic10\", \"Topic10\", \"Topic10\", \"Topic10\", \"Topic10\", \"Topic10\", \"Topic10\", \"Topic10\", \"Topic10\", \"Topic10\", \"Topic10\", \"Topic10\", \"Topic10\", \"Topic10\", \"Topic10\", \"Topic10\", \"Topic10\", \"Topic10\", \"Topic10\", \"Topic10\", \"Topic10\", \"Topic10\", \"Topic10\", \"Topic10\", \"Topic10\", \"Topic10\", \"Topic10\", \"Topic10\", \"Topic10\", \"Topic10\", \"Topic10\", \"Topic10\", \"Topic10\", \"Topic11\", \"Topic11\", \"Topic11\", \"Topic11\", \"Topic11\", \"Topic11\", \"Topic11\", \"Topic11\", \"Topic11\", \"Topic11\", \"Topic11\", \"Topic11\", \"Topic11\", \"Topic11\", \"Topic11\", \"Topic11\", \"Topic11\", \"Topic11\", \"Topic11\", \"Topic11\", \"Topic11\", \"Topic11\", \"Topic11\", \"Topic11\", \"Topic11\", \"Topic11\", \"Topic11\", \"Topic11\", \"Topic11\", \"Topic11\", \"Topic11\", \"Topic11\", \"Topic11\", \"Topic11\", \"Topic11\", \"Topic11\", \"Topic11\", \"Topic12\", \"Topic12\", \"Topic12\", \"Topic12\", \"Topic12\", \"Topic12\", \"Topic12\", \"Topic12\", \"Topic12\", \"Topic12\", \"Topic12\", \"Topic12\", \"Topic12\", \"Topic12\", \"Topic12\", \"Topic12\", \"Topic12\", \"Topic12\", \"Topic12\", \"Topic12\", \"Topic12\", \"Topic12\", \"Topic12\", \"Topic12\", \"Topic12\", \"Topic12\", \"Topic12\", \"Topic12\", \"Topic12\", \"Topic12\", \"Topic12\", \"Topic12\", \"Topic12\", \"Topic12\", \"Topic12\", \"Topic12\", \"Topic13\", \"Topic13\", \"Topic13\", \"Topic13\", \"Topic13\", \"Topic13\", \"Topic13\", \"Topic13\", \"Topic13\", \"Topic13\", \"Topic13\", \"Topic13\", \"Topic13\", \"Topic13\", \"Topic13\", \"Topic13\", \"Topic13\", \"Topic13\", \"Topic13\", \"Topic13\", \"Topic13\", \"Topic13\", \"Topic13\", \"Topic13\", \"Topic13\", \"Topic13\", \"Topic13\", \"Topic13\", \"Topic13\", \"Topic13\", \"Topic13\", \"Topic13\", \"Topic13\", \"Topic13\", \"Topic13\", \"Topic13\", \"Topic13\", \"Topic13\", \"Topic13\", \"Topic13\", \"Topic13\", \"Topic13\", \"Topic13\", \"Topic13\", \"Topic13\", \"Topic13\", \"Topic13\", \"Topic13\", \"Topic14\", \"Topic14\", \"Topic14\", \"Topic14\", \"Topic14\", \"Topic14\", \"Topic14\", \"Topic14\", \"Topic14\", \"Topic14\", \"Topic14\", \"Topic14\", \"Topic14\", \"Topic14\", \"Topic14\", \"Topic14\", \"Topic14\", \"Topic14\", \"Topic14\", \"Topic14\", \"Topic14\", \"Topic14\", \"Topic14\", \"Topic14\", \"Topic14\", \"Topic14\", \"Topic14\", \"Topic14\", \"Topic14\", \"Topic14\", \"Topic14\", \"Topic14\", \"Topic14\", \"Topic14\", \"Topic14\", \"Topic14\", \"Topic14\", \"Topic14\", \"Topic14\", \"Topic14\", \"Topic14\", \"Topic14\", \"Topic14\", \"Topic14\", \"Topic14\", \"Topic14\", \"Topic14\", \"Topic14\", \"Topic14\", \"Topic14\", \"Topic14\", \"Topic14\", \"Topic14\", \"Topic14\", \"Topic14\", \"Topic14\", \"Topic14\", \"Topic14\", \"Topic14\", \"Topic14\", \"Topic15\", \"Topic15\", \"Topic15\", \"Topic15\", \"Topic15\", \"Topic15\", \"Topic15\", \"Topic15\", \"Topic15\", \"Topic15\", \"Topic15\", \"Topic15\", \"Topic15\", \"Topic15\", \"Topic15\", \"Topic15\", \"Topic15\", \"Topic15\", \"Topic15\", \"Topic15\", \"Topic15\", \"Topic15\", \"Topic15\", \"Topic15\", \"Topic15\", \"Topic15\", \"Topic15\", \"Topic15\", \"Topic15\", \"Topic15\", \"Topic15\", \"Topic15\", \"Topic15\", \"Topic15\", \"Topic15\", \"Topic15\", \"Topic15\", \"Topic15\", \"Topic15\", \"Topic15\", \"Topic15\", \"Topic15\", \"Topic15\", \"Topic15\", \"Topic15\", \"Topic15\", \"Topic15\", \"Topic15\", \"Topic15\", \"Topic15\", \"Topic15\", \"Topic15\", \"Topic15\", \"Topic15\", \"Topic15\", \"Topic15\", \"Topic15\", \"Topic15\", \"Topic15\", \"Topic15\"], \"logprob\": [30.0, 29.0, 28.0, 27.0, 26.0, 25.0, 24.0, 23.0, 22.0, 21.0, 20.0, 19.0, 18.0, 17.0, 16.0, 15.0, 14.0, 13.0, 12.0, 11.0, 10.0, 9.0, 8.0, 7.0, 6.0, 5.0, 4.0, 3.0, 2.0, 1.0, -3.7898, -4.072, -4.4666, -4.4666, -4.4666, -4.4666, -4.4666, -4.4666, -4.4666, -4.4666, -3.7898, -4.4666, -5.128, -5.128, -5.128, -5.128, -5.128, -5.128, -5.128, -5.128, -5.128, -5.128, -5.128, -5.128, -5.128, -5.128, -5.128, -5.128, -5.128, -5.128, -4.4666, -4.4666, -3.3898, -4.072, -2.8834, -3.5699, -3.3898, -4.4666, -4.4666, -4.4666, -4.4666, -4.4666, -4.072, -4.4666, -3.2372, -4.4666, -4.4666, -4.4666, -4.072, -4.4666, -4.4666, -4.4666, -4.4666, -4.3796, -4.3796, -4.3796, -4.3796, -4.3796, -4.3796, -4.3796, -3.985, -5.041, -5.041, -5.041, -5.041, -5.041, -5.041, -5.041, -5.041, -5.041, -5.041, -5.041, -5.041, -5.041, -5.041, -5.041, -5.041, -5.041, -5.041, -5.041, -5.041, -5.041, -5.041, -3.985, -4.3796, -3.985, -4.3796, -4.3796, -4.3796, -4.3796, -4.3796, -4.3796, -3.3027, -3.7027, -2.9009, -4.3796, -4.3796, -5.041, -5.041, -5.041, -5.041, -5.041, -5.041, -5.041, -3.9984, -4.393, -4.393, -3.1636, -3.7161, -5.0544, -5.0544, -5.0544, -5.0544, -5.0544, -5.0544, -5.0544, -5.0544, -5.0544, -5.0544, -5.0544, -5.0544, -5.0544, -5.0544, -5.0544, -5.0544, -5.0544, -5.0544, -5.0544, -5.0544, -5.0544, -5.0544, -5.0544, -5.0544, -5.0544, -3.1636, -3.9984, -2.3255, -2.7323, -4.393, -4.393, -3.9984, -4.393, -4.393, -4.393, -3.9984, -4.393, -4.393, -4.393, -3.9984, -4.393, -4.393, -4.393, -4.9242, -5.0544, -5.0544, -3.7842, -3.7842, -4.1788, -4.1788, -4.1788, -4.8402, -4.8402, -4.8402, -4.8402, -4.8402, -4.8402, -4.8402, -4.8402, -4.8402, -4.8402, -4.8402, -4.8402, -4.8402, -4.8402, -4.8402, -4.8402, -4.8402, -4.8402, -4.8402, -4.8402, -4.8402, -4.8402, -4.8402, -4.8402, -4.8402, -4.1788, -2.817, -3.7842, -3.7842, -4.1788, -3.102, -4.1788, -4.1788, -4.1788, -4.8402, -4.8402, -4.8402, -4.8402, -4.8402, -4.0691, -4.7305, -4.7305, -4.7305, -4.7305, -4.7305, -4.7305, -4.7305, -4.7305, -4.7305, -4.7305, -4.7305, -4.7305, -4.7305, -4.7305, -4.7305, -4.7305, -4.7305, -4.7305, -4.7305, -4.7305, -4.7305, -4.7305, -4.7305, -4.7305, -4.0691, -4.0691, -4.7305, -3.6744, -4.0691, -4.0691, -2.5904, -3.6839, -4.0691, -4.0691, -4.0691, -3.6744, -4.0691, -4.0691, -4.0691, -3.6744, -4.7305, -4.7305, -4.7305, -4.7305, -3.3195, -2.7669, -3.6017, -3.9964, -3.9964, -3.6017, -2.2319, -4.6578, -4.6578, -4.6578, -4.6578, -4.6578, -4.6578, -4.6578, -4.6578, -4.6578, -4.6578, -4.6578, -4.6578, -4.6578, -4.6578, -3.9964, -3.9964, -2.7669, -3.9964, -4.6578, -4.6578, -4.6578, -4.6578, -4.6578, -3.0997, -3.2106, -4.631, -4.6578, -3.9274, -4.5888, -4.5888, -4.5888, -4.5888, -4.5888, -4.5888, -4.5888, -4.5888, -4.5888, -4.5888, -4.5888, -4.5888, -4.5888, -4.5888, -4.5888, -4.5888, -4.5888, -4.5888, -4.5888, -4.5888, -4.5888, -4.5888, -4.5888, -4.5888, -3.9274, -3.9274, -3.9274, -3.9274, -4.5888, -3.9274, -3.2505, -3.9274, -3.2505, -3.9274, -3.9274, -3.5327, -3.9274, -4.5888, -4.5888, -4.5888, -4.5888, -4.5888, -4.5888, -4.54, -4.54, -4.54, -4.54, -4.54, -4.54, -4.54, -4.54, -4.54, -4.54, -4.54, -4.54, -4.54, -4.54, -4.54, -4.54, -4.54, -4.54, -4.54, -4.54, -4.54, -4.54, -4.54, -4.54, -4.54, -3.8786, -3.2017, -3.8786, -4.54, -4.54, -3.8786, -3.4839, -3.2017, -3.2017, -3.8786, -4.54, -4.54, -4.54, -4.54, -4.54, -4.54, -4.54, -4.54, -4.54, -4.54, -4.54, -3.8685, -4.5299, -4.5299, -4.5299, -4.5299, -4.5299, -4.5299, -4.5299, -4.5299, -4.5299, -4.5299, -4.5299, -4.5299, -4.5299, -4.5299, -4.5299, -4.5299, -4.5299, -4.5299, -3.8685, -3.8685, -3.4739, -4.5299, -4.5299, -3.8685, -4.5299, -3.1916, -4.5299, -3.8685, -3.4739, -3.8685, -3.8685, -2.6391, -3.8685, -4.5299, -4.5299, -4.5299, -4.3414, -4.3414, -4.3414, -4.3414, -4.3414, -4.3414, -4.3414, -4.3414, -4.3414, -4.3414, -4.3414, -4.3414, -4.3414, -4.3414, -4.3414, -4.3414, -4.3414, -4.3414, -4.3414, -4.3414, -4.3414, -3.68, -4.3414, -4.3414, -4.3414, -4.3414, -4.3414, -4.3414, -4.3414, -3.68, -3.2853, -3.68, -3.2853, -3.68, -4.3414, -4.3414, -4.3414, -4.3414, -3.5636, -3.5636, -3.5636, -4.225, -4.225, -4.225, -4.225, -4.225, -4.225, -4.225, -4.225, -4.225, -4.225, -4.225, -4.225, -4.225, -3.5636, -4.225, -4.225, -4.225, -4.225, -4.225, -4.225, -4.225, -4.225, -4.225, -4.225, -4.225, -4.225, -4.225, -3.5636, -4.225, -4.225, -4.225, -4.225, -4.225, -4.225, -3.554, -4.2154, -4.2154, -4.2154, -4.2154, -4.2154, -4.2154, -4.2154, -4.2154, -4.2154, -4.2154, -4.2154, -4.2154, -4.2154, -4.2154, -4.2154, -4.2154, -4.2154, -4.2154, -4.2154, -3.554, -3.554, -4.2154, -4.2154, -4.2154, -3.554, -4.2154, -4.2154, -3.6285, -4.2154, -3.4349, -4.0516, -4.2154, -4.2154, -4.2154, -4.2154, -3.7181, -3.7181, -3.7181, -3.7181, -3.7181, -3.7181, -3.7181, -3.7181, -3.7181, -3.7181, -3.7181, -3.7181, -6.4907, -6.4907, -6.4907, -6.4907, -6.4907, -6.4907, -6.4907, -6.4907, -6.4907, -6.4907, -6.4907, -6.4907, -6.4907, -6.4907, -6.4907, -6.4907, -6.4907, -6.4907, -3.7181, -3.7181, -6.4907, -6.4907, -6.4907, -6.4907, -6.4907, -6.4907, -6.4907, -6.4907, -6.4907, -6.4907, -6.4907, -6.4907, -6.4907, -6.4907, -6.4907, -6.4907, -6.107, -6.107, -6.107, -6.107, -6.107, -6.107, -6.107, -6.107, -6.107, -6.107, -6.107, -6.107, -6.107, -6.107, -6.107, -6.107, -6.107, -6.107, -6.107, -6.107, -6.107, -6.107, -6.107, -6.107, -6.107, -6.107, -6.107, -6.107, -6.107, -6.107, -6.107, -6.107, -6.107, -6.107, -6.107, -6.107, -6.107, -6.107, -6.107, -6.107, -6.107, -6.107, -6.107, -6.107, -6.107, -6.107, -6.107, -6.107, -6.107, -6.107, -6.107, -6.107, -6.107, -6.107, -6.107, -6.107, -6.107, -6.107, -6.107, -6.107, -6.107, -6.107, -6.107, -6.107, -6.107, -6.107, -6.107, -6.107, -6.107, -6.107, -6.107, -6.107, -6.107, -6.107, -6.107, -6.107, -6.107, -6.107, -6.107, -6.107, -6.107, -6.107, -6.107, -6.107, -6.107, -6.107, -6.107, -6.107, -6.107, -6.107, -6.107, -6.107, -6.107, -6.107, -6.107, -6.107, -6.107, -6.107, -6.107, -6.107, -6.107, -6.107, -6.107, -6.107, -6.107, -6.107, -6.107, -6.107, -6.107, -6.107, -6.107, -6.107, -6.107, -6.107, -6.107, -6.107, -6.107, -6.107, -6.107, -6.107], \"loglift\": [30.0, 29.0, 28.0, 27.0, 26.0, 25.0, 24.0, 23.0, 22.0, 21.0, 20.0, 19.0, 18.0, 17.0, 16.0, 15.0, 14.0, 13.0, 12.0, 11.0, 10.0, 9.0, 8.0, 7.0, 6.0, 5.0, 4.0, 3.0, 2.0, 1.0, 1.8155, 1.77, 1.6861, 1.6861, 1.6861, 1.6861, 1.6861, 1.6861, 1.6861, 1.6861, 1.6264, 1.5324, 1.478, 1.478, 1.478, 1.478, 1.478, 1.478, 1.478, 1.478, 1.478, 1.478, 1.478, 1.478, 1.478, 1.478, 1.478, 1.478, 1.478, 1.478, 1.451, 1.451, 1.3476, 1.3626, 0.5912, 0.8615, 0.7338, 1.1767, 1.1745, 1.035, 1.0338, 1.0235, 0.7347, 0.903, -0.1929, 0.888, 0.8331, 0.7617, -0.0582, 0.7215, 0.5744, 0.1254, 0.7291, 1.7822, 1.7822, 1.7822, 1.7822, 1.7822, 1.7822, 1.7822, 1.6601, 1.5722, 1.5722, 1.5722, 1.5722, 1.5722, 1.5722, 1.5722, 1.5722, 1.5722, 1.5722, 1.5722, 1.5722, 1.5722, 1.5722, 1.5722, 1.5722, 1.5722, 1.5722, 1.5722, 1.5722, 1.5722, 1.5722, 1.5095, 1.5303, 1.4845, 1.4799, 1.4799, 1.4691, 1.3013, 1.2743, 1.2743, 0.7111, 0.8893, 0.1433, 0.6615, 0.5274, 0.1873, 0.8529, 1.1311, 1.1448, 0.8654, 0.9056, 0.8932, 1.8762, 1.7894, 1.7894, 1.6963, 1.6143, 1.5749, 1.5749, 1.5749, 1.5749, 1.5749, 1.5749, 1.5749, 1.5749, 1.5749, 1.5749, 1.5749, 1.5749, 1.5749, 1.5749, 1.5749, 1.5749, 1.5749, 1.5749, 1.5749, 1.5749, 1.5749, 1.5749, 1.5749, 1.5749, 1.5749, 1.397, 1.4569, 0.7187, 0.7422, 1.3206, 1.2786, 1.0427, 1.2045, 1.1291, 1.0984, 0.739, 0.9067, 0.8027, 0.7952, 0.0154, 0.4136, 0.199, -0.2695, -0.0674, 0.8227, 1.1778, 2.1214, 2.1214, 2.0316, 2.0316, 2.0316, 1.8109, 1.8109, 1.8109, 1.8109, 1.8109, 1.8109, 1.8109, 1.8109, 1.8109, 1.8109, 1.8109, 1.8109, 1.8109, 1.8109, 1.8109, 1.8109, 1.8109, 1.8109, 1.8109, 1.8109, 1.8109, 1.8109, 1.8109, 1.8109, 1.8109, 1.7085, 1.1968, 1.4506, 0.8079, 1.1684, -0.0577, 0.888, 0.1891, -0.0553, 0.3881, 1.095, 0.8501, 1.1077, 1.0369, 2.1595, 1.9347, 1.9347, 1.9347, 1.9347, 1.9347, 1.9347, 1.9347, 1.9347, 1.9347, 1.9347, 1.9347, 1.9347, 1.9347, 1.9347, 1.9347, 1.9347, 1.9347, 1.9347, 1.9347, 1.9347, 1.9347, 1.9347, 1.9347, 1.9347, 1.8648, 1.8314, 1.6898, 1.6633, 1.5848, 1.5848, 0.8841, 1.1228, 1.4224, 1.4211, 1.3878, 0.8861, 1.2002, 1.1657, 0.3624, -0.6301, 0.6168, 0.77, 1.4595, 1.2162, 2.4002, 2.3705, 2.3487, 2.2545, 2.2545, 2.2214, 2.1361, 2.0247, 2.0247, 2.0247, 2.0247, 2.0247, 2.0247, 2.0247, 2.0247, 2.0247, 2.0247, 2.0247, 2.0247, 2.0247, 2.0247, 1.998, 1.9389, 1.9371, 1.781, 1.6473, 1.5819, 1.3616, 1.3454, 1.3279, 1.0239, -0.1663, 0.1757, 1.276, 2.3393, 2.1058, 2.1058, 2.1058, 2.1058, 2.1058, 2.1058, 2.1058, 2.1058, 2.1058, 2.1058, 2.1058, 2.1058, 2.1058, 2.1058, 2.1058, 2.1058, 2.1058, 2.1058, 2.1058, 2.1058, 2.1058, 2.1058, 2.1058, 2.1058, 2.075, 2.075, 1.8986, 1.8208, 1.7246, 1.6291, 1.1809, 1.2608, -0.2062, 0.9294, 0.7766, -0.0582, 0.1961, 0.9026, 1.6349, 1.3714, 1.0828, 1.6349, 1.3454, 2.1591, 2.1591, 2.1591, 2.1591, 2.1591, 2.1591, 2.1591, 2.1591, 2.1591, 2.1591, 2.1591, 2.1591, 2.1591, 2.1591, 2.1591, 2.1591, 2.1591, 2.1591, 2.1591, 2.1591, 2.1591, 2.1591, 2.1591, 2.1591, 2.1591, 2.0498, 1.8652, 1.8117, 1.7821, 1.7387, 1.4687, 0.6396, 0.2728, -0.1574, 0.682, 0.7293, 0.6883, 1.7297, 1.6709, 0.9605, 1.6709, 1.6865, 1.6865, 1.6865, 1.265, 1.3761, 2.4162, 2.1785, 2.1785, 2.1785, 2.1785, 2.1785, 2.1785, 2.1785, 2.1785, 2.1785, 2.1785, 2.1785, 2.1785, 2.1785, 2.1785, 2.1785, 2.1785, 2.1785, 2.1785, 2.1355, 2.0803, 2.0483, 1.7986, 1.7487, 1.729, 1.717, 1.7154, 1.7023, 1.688, 1.4854, 1.4619, 1.4023, 0.4052, 0.9914, 1.4255, 0.9718, 1.4303, 2.4001, 2.4001, 2.4001, 2.4001, 2.4001, 2.4001, 2.4001, 2.4001, 2.4001, 2.4001, 2.4001, 2.4001, 2.4001, 2.4001, 2.4001, 2.4001, 2.4001, 1.9358, 1.9263, 1.9263, 1.9003, 1.8641, 1.678, 1.6627, 1.6366, 1.5764, 1.5729, 1.5685, 1.565, 1.5548, 1.0827, 1.1768, -0.2411, -0.2054, 1.3368, 1.1155, -0.2178, 1.3396, 2.7987, 2.7987, 2.7987, 2.5421, 2.5421, 2.5421, 2.5421, 2.5421, 2.5421, 2.5421, 2.5421, 2.5421, 2.5421, 2.5421, 2.5421, 2.5421, 2.1788, 2.1433, 2.0884, 2.0801, 1.7944, 1.7782, 1.7774, 1.7774, 1.7442, 1.7229, 1.7216, 1.5231, 1.4886, 1.2695, 1.1404, 0.7342, 1.1296, 0.682, 0.8161, 0.2064, 0.6318, 2.8202, 2.5606, 2.5606, 2.5606, 2.5606, 2.5606, 2.5606, 2.5606, 2.5606, 2.5606, 2.5606, 2.5606, 2.5606, 2.5606, 2.1529, 2.1131, 2.1067, 2.0833, 1.779, 1.7702, 1.7168, 1.7152, 1.7022, 1.7022, 1.562, 1.4052, 1.2863, 1.254, 1.2283, 1.1543, -0.3906, -0.5771, 1.1392, 0.9803, 0.9221, 0.4886, 3.2618, 3.2618, 2.7021, 2.2809, 2.1078, 2.105, 2.0869, 1.8794, 1.7387, 1.5102, 1.3487, 1.0885, 0.2853, 0.2853, 0.2853, 0.2853, 0.2853, 0.2853, 0.2853, 0.2853, 0.2853, 0.2853, 0.2853, 0.2853, 0.2853, 0.2764, 0.2764, 0.2764, 0.2764, 0.2764, -0.2436, -0.6739, -1.2215, -1.5315, -2.3672, -1.2199, -0.9891, -0.2121, 0.1604, -0.5554, -2.1227, -1.1435, -2.0593, -1.121, 0.1745, -0.5765, -2.4769, -0.2643, 0.8729, 0.8729, 0.669, 0.669, 0.669, 0.669, 0.669, 0.669, 0.669, 0.669, 0.669, 0.669, 0.669, 0.669, 0.669, 0.6601, 0.6601, 0.6601, 0.6601, 0.6601, 0.6601, 0.6601, 0.6601, 0.6601, 0.6601, 0.6601, 0.6601, 0.6601, 0.6345, 0.6345, -0.8378, -3.0628, -1.1478, -1.9835, -2.6325, -0.8362, -0.6054, -0.8787, 0.1716, 0.5441, -0.1717, -1.739, -0.7598, -1.6756, -0.7373, 0.5582, -0.1928, -2.0932, 0.1194, -0.7524, -0.6156, 0.1039, 0.5223, -1.2, -1.2502, 0.1439, 0.5754, 0.5754, 0.5754, -0.1039, 0.8729, 0.8729, 0.669, 0.669, 0.669, 0.669, 0.669, 0.669, 0.669, 0.669, 0.669, 0.669, 0.669, 0.669, 0.669, 0.6601, 0.6601, 0.6601, 0.6601, 0.6601, 0.6601, 0.6601, 0.6601, 0.6601, 0.6601, 0.6601, 0.6601, 0.6601, 0.6345, 0.6345, -0.8378, -3.0628, -1.1478, -1.9835, -2.6325, -0.8362, -0.6054, -0.8787, 0.1716, 0.5441, -0.1717, -1.739, -0.7598, -1.6756, -0.7373, 0.5582, -0.1928, -2.0932, 0.1194, -0.7524, -0.6156, 0.1039, 0.5223, -1.2, -1.2502, 0.1439, 0.5754, 0.5754, 0.5754, -0.1039]}, \"token.table\": {\"Topic\": [6, 10, 12, 4, 10, 6, 12, 4, 1, 4, 2, 4, 5, 8, 12, 2, 3, 7, 2, 7, 3, 4, 10, 8, 5, 8, 10, 1, 3, 9, 12, 11, 2, 6, 4, 7, 11, 11, 1, 3, 4, 11, 12, 5, 2, 1, 3, 7, 9, 7, 1, 5, 2, 3, 5, 8, 6, 5, 4, 5, 1, 3, 8, 9, 1, 1, 1, 2, 3, 4, 7, 11, 5, 3, 9, 2, 5, 8, 11, 11, 3, 7, 11, 11, 5, 4, 6, 7, 11, 12, 1, 4, 7, 8, 9, 11, 12, 1, 4, 4, 2, 8, 5, 1, 8, 8, 4, 12, 1, 2, 10, 10, 7, 2, 2, 5, 11, 4, 4, 10, 1, 3, 10, 1, 2, 8, 3, 2, 3, 7, 8, 10, 2, 3, 5, 2, 3, 10, 8, 1, 12, 4, 10, 3, 8, 6, 5, 6, 6, 6, 12, 1, 8, 4, 12, 8, 1, 2, 3, 11, 1, 5, 8, 10, 5, 7, 8, 6, 10, 11, 4, 1, 1, 8, 2, 4, 9, 10, 9, 1, 6, 9, 2, 5, 4, 12, 4, 5, 10, 10, 5, 8, 7, 6, 3, 6, 9, 9, 11, 2, 9, 12, 5, 7, 1, 3, 4, 6, 10, 6, 9, 11, 6, 12, 1, 2, 3, 4, 6, 7, 8, 10, 6, 8, 4, 5, 1, 3, 4, 7, 1, 8, 10, 3, 2, 9, 6, 1, 2, 8, 8, 6, 7, 9, 2, 1, 2, 12, 1, 7, 7, 9, 10, 5, 4, 6, 6, 6, 3, 4, 5, 8, 3, 1, 2, 12, 9, 2, 3, 4, 11, 2, 4, 5, 5, 4, 4, 5, 7, 6, 3, 3, 8, 4, 4, 1, 4, 3, 9, 3, 3, 4, 7, 7, 7, 3, 4, 8, 9, 12, 11, 12, 1, 2, 5, 10, 3, 1, 2, 3, 4, 5, 7, 8, 10, 12, 5, 1, 2, 3, 4, 5, 7, 9, 10, 10, 2, 8, 12, 7, 1, 3, 4, 9, 10, 8, 1, 3, 4, 9, 12, 3, 3, 9, 3, 8, 2, 3, 4, 8, 11, 1, 3, 1, 3, 5, 10, 8, 9, 7, 1, 1, 3, 9, 1, 2, 3, 5, 6, 7, 9, 11, 8, 7, 3, 4, 3, 8, 1, 5, 10, 2, 6, 5, 6, 3, 7, 2, 10, 11, 11, 7, 6, 11, 7, 2, 2, 7, 4, 4, 5, 6, 8, 12, 9, 9, 3, 9, 4, 2, 7, 11, 2, 7, 7, 11, 1, 4, 5, 5, 6, 12, 5, 12, 3, 11, 3, 7, 11, 2, 10, 2, 4, 1, 2, 3, 4, 5, 6, 7, 8, 9, 10, 12, 1, 6, 3, 5, 7, 8, 10, 7, 1, 2, 3, 4, 7, 9, 3, 9, 4, 10, 3, 7, 3, 8, 3, 2, 4, 11, 10, 2, 3, 4, 6, 9, 11, 12, 12, 3, 5, 7, 3, 8, 3, 2, 11, 3, 7, 9, 8, 4, 3, 6, 1, 4, 9, 10, 12, 4, 9, 1, 2, 5, 2, 3, 11, 7, 8, 5, 1, 12, 9, 10, 5, 7, 9, 9, 10, 5, 2, 1, 11, 1, 8, 4, 4, 12, 9, 5, 3, 2, 3, 1, 2, 5, 10, 6, 12, 6, 1, 4, 8, 9, 12, 11, 11, 8, 5, 7, 4, 8, 9, 10, 1, 12, 2, 1, 1, 4, 1, 2, 10, 7, 11, 12, 3, 5, 2, 5, 2, 7, 11, 1, 4, 8, 9, 5, 7, 7, 2, 7, 9, 2, 1, 11, 7, 10, 10, 3, 1, 3, 7, 9, 10, 11, 12, 1, 3, 5, 6, 7, 8, 2, 5, 6, 7, 10, 6, 4, 9, 5, 4, 8, 3, 1, 1, 2, 5, 5, 8, 5, 5, 1, 1, 2, 10, 2, 2, 2, 4, 5, 9, 2, 3, 4, 9, 12, 1, 2, 3, 4, 8, 4, 2, 7, 8, 9, 6, 2], \"Freq\": [0.30291157270541585, 0.30291157270541585, 0.30291157270541585, 0.4945894950000509, 0.4945894950000509, 0.748860051466699, 0.822288633254768, 0.7257614221568487, 0.8818546426541858, 0.9341675684610357, 0.19514645136229095, 0.19514645136229095, 0.3902929027245819, 0.19514645136229095, 0.8222886201368558, 0.6987375416643424, 0.7100742363702214, 0.7579726123646724, 0.6987375416643424, 0.7579726123646716, 0.7100742363702214, 0.7257614221567816, 0.7944083094579864, 0.761410124710899, 0.37020315717651975, 0.37020315717651975, 0.37020315717651975, 0.45985037596338746, 0.22992518798169373, 0.22992518798169373, 0.22992518798169373, 0.8150126335012684, 0.8898689100188549, 0.7488600514666984, 0.29419492951512005, 0.29419492951512005, 0.29419492951512005, 0.815012633501257, 0.3969770221595733, 0.19848851107978666, 0.19848851107978666, 0.19848851107978666, 0.19848851107978666, 0.736033188635705, 0.6987375416643424, 0.3361074525600319, 0.3361074525600319, 0.16805372628001594, 0.16805372628001594, 0.7579726123646724, 0.45762053633290456, 0.45762053633290456, 0.6987375416643424, 0.7100742363702214, 0.7360331884881012, 0.761410124710899, 0.7488600335569615, 0.7360331884881028, 0.9341675684610439, 0.736033188635705, 0.5353407745114112, 0.21413630980456447, 0.10706815490228223, 0.10706815490228223, 0.6937866796487079, 0.6937866796487079, 0.7561524096498553, 0.6576692031682624, 0.3288346015841312, 0.7257614221567816, 0.3793588426490548, 0.3793588426490548, 0.7360331884881013, 0.5061085287698316, 0.2530542643849158, 0.3479987488496648, 0.3479987488496648, 0.3479987488496648, 0.5437245072168111, 0.815012633501257, 0.36696962693386426, 0.36696962693386426, 0.36696962693386426, 0.8150126335012684, 0.7360331884881487, 0.10355511333671309, 0.5177755666835654, 0.10355511333671309, 0.10355511333671309, 0.10355511333671309, 0.13365916933143146, 0.13365916933143146, 0.13365916933143146, 0.13365916933143146, 0.2673183386628629, 0.13365916933143146, 0.13365916933143146, 0.8818546426541858, 0.7257614221567816, 0.7257614221567916, 0.6987375416643424, 0.7614101247108983, 0.736033188635705, 0.467303941412421, 0.467303941412421, 0.7614101247108983, 0.7257614221567937, 0.8222886201368558, 0.6332478625406728, 0.21108262084689092, 0.7944083094579864, 0.7944083094579864, 0.7579726123646716, 0.6987375416643424, 0.3587835545554718, 0.3587835545554718, 0.3587835545554718, 0.7257614221567886, 0.7257614221567816, 0.7944083094579864, 0.34735474917896414, 0.34735474917896414, 0.34735474917896414, 0.3252980081633202, 0.6505960163266404, 0.761410124710899, 0.7100742363702214, 0.6987375416643424, 0.7100742363702749, 0.4955699710347669, 0.4955699710347669, 0.7944083094579864, 0.21951172744518896, 0.4390234548903779, 0.21951172744518896, 0.3485913531282256, 0.3485913531282256, 0.3485913531282256, 0.761410124710923, 0.697038383458819, 0.3485191917294095, 0.7257614221567816, 0.7944083094579864, 0.7100742363702214, 0.761410124710899, 0.7488600335569615, 0.4809508878522121, 0.4809508878522121, 0.7488600514667028, 0.4863947946526379, 0.822288633254768, 0.6937866796487079, 0.7614101247109123, 0.7257614221567816, 0.822288633254768, 0.761410124710899, 0.29013092003087443, 0.29013092003087443, 0.29013092003087443, 0.14506546001543721, 0.4593072173182743, 0.22965360865913714, 0.22965360865913714, 0.22965360865913714, 0.736033188635705, 0.7579726123646972, 0.7614101247109123, 0.3858664316482134, 0.3858664316482134, 0.3858664316482134, 0.7257614221567886, 0.8818546426541858, 0.3522981898099405, 0.3522981898099405, 0.23988284062373572, 0.23988284062373572, 0.23988284062373572, 0.23988284062373572, 0.7685090291951687, 0.6937866796487079, 0.857852924283244, 0.7685090291951696, 0.6987375416643424, 0.7360331884881012, 0.7257614221567916, 0.822288633254768, 0.35212770615957534, 0.35212770615957534, 0.17606385307978767, 0.7944083094579864, 0.736033188635705, 0.761410124710899, 0.7579726123646717, 0.748860051466699, 0.7261389041691854, 0.12102315069486422, 0.12102315069486422, 0.7685090291951647, 0.815012633501257, 0.6987375416643424, 0.7685090291951696, 0.822288633254768, 0.9512549521168437, 0.7579726123646716, 0.6937866796487117, 0.07400023655015406, 0.14800047310030812, 0.6660021289513866, 0.14800047310030812, 0.37965177191638844, 0.37965177191638844, 0.37965177191638844, 0.3763249500622136, 0.3763249500622136, 0.2897622908851942, 0.05795245817703883, 0.11590491635407767, 0.11590491635407767, 0.23180983270815533, 0.05795245817703883, 0.11590491635407767, 0.05795245817703883, 0.7488600514667111, 0.761410124710899, 0.7257614221567816, 0.736033188635705, 0.37575659776582404, 0.37575659776582404, 0.18787829888291202, 0.18787829888291202, 0.8818546426541979, 0.7614101247109123, 0.7944083094579864, 0.7100742363702214, 0.6987375416643424, 0.7685090291951687, 0.7488600335569615, 0.5286967856058977, 0.26434839280294886, 0.26434839280294886, 0.7614101247108983, 0.24287817382696308, 0.24287817382696308, 0.24287817382696308, 0.6987375416643424, 0.22262746268150088, 0.6678823880445026, 0.22262746268150088, 0.6937866796487079, 0.7579726123646716, 0.49411148575509506, 0.7685090291951933, 0.7944083094579864, 0.736033188635705, 0.3547327976032402, 0.3547327976032402, 0.748860051466699, 0.7488600514667111, 0.1970266855299214, 0.3940533710598428, 0.1970266855299214, 0.1970266855299214, 0.7100742363702384, 0.8818546426541858, 0.6987375416643424, 0.822288633254768, 0.7685090291951647, 0.6987375416643424, 0.3592501745345884, 0.3592501745345884, 0.3592501745345884, 0.340357846339475, 0.340357846339475, 0.340357846339475, 0.7360331884881012, 0.7257614221567916, 0.6886995960540581, 0.7360331884881028, 0.7579726123646716, 0.7488600514667028, 0.7100742363702235, 0.7100742363702235, 0.761410124710899, 0.7257614221567816, 0.9341675684610616, 0.6937866796487079, 0.7257614221567816, 0.4773859105515279, 0.4773859105515279, 0.7100742363702214, 0.5450437749694167, 0.27252188748470835, 0.27252188748470835, 0.7579726123646716, 0.7579726123646972, 0.7100742363702235, 0.7257614221567886, 0.7614101247108983, 0.7685090291951647, 0.822288633254768, 0.5469532479423449, 0.5469532479423449, 0.8818546426541858, 0.5501474614745553, 0.27507373073727764, 0.27507373073727764, 0.7100742363702401, 0.2422686146330079, 0.030283576829125986, 0.2725521914621339, 0.030283576829125986, 0.21198503780388192, 0.06056715365825197, 0.09085073048737796, 0.030283576829125986, 0.030283576829125986, 0.5761509246387696, 0.15578927821891533, 0.25964879703152555, 0.10385951881261021, 0.31157855643783067, 0.05192975940630511, 0.05192975940630511, 0.05192975940630511, 0.05192975940630511, 0.7944083094579864, 0.6987375416643424, 0.5222784047103781, 0.5222784047103781, 0.7579726123646725, 0.6450044916442722, 0.2150014972147574, 0.2150014972147574, 0.7685090291951687, 0.7944083094579864, 0.761410124710899, 0.3386477623533072, 0.3386477623533072, 0.1693238811766536, 0.1693238811766536, 0.1693238811766536, 0.7100742363702214, 0.7100742363702235, 0.7685090291951687, 0.7100742363702235, 0.7614101247108983, 0.6987375416643424, 0.1488547936121371, 0.2977095872242742, 0.4465643808364113, 0.1488547936121371, 0.6937866796487117, 0.7100742363702214, 0.6937866796487079, 0.6677028723997523, 0.4993384024683673, 0.4993384024683673, 0.5000523742952918, 0.5000523742952918, 0.7579726123646716, 0.6937866796487079, 0.6937866796487081, 0.35955971283062327, 0.35955971283062327, 0.31539274026316966, 0.07884818506579241, 0.07884818506579241, 0.15769637013158483, 0.07884818506579241, 0.23654455519737724, 0.07884818506579241, 0.07884818506579241, 0.7614101247108983, 0.7579726123646716, 0.7100742363702214, 0.7257614221567916, 0.4746370360576223, 0.4746370360576223, 0.45457998767571023, 0.45457998767571023, 0.22728999383785511, 0.6987375416643424, 0.7488600514667111, 0.7084496682435887, 0.35422483412179434, 0.4732989953557788, 0.4732989953557788, 0.8898689100188549, 0.7944083094579864, 0.5437245072168111, 0.815012633501257, 0.7579726123646781, 0.5134643626345579, 0.5134643626345579, 0.7579726123646724, 0.8898689100188549, 0.6987375416643424, 0.7579726123646724, 0.7257614221567916, 0.18223614654391435, 0.3644722930878287, 0.18223614654391435, 0.18223614654391435, 0.18223614654391435, 0.5031044645967472, 0.7685090291951647, 0.4693582354812099, 0.4693582354812099, 0.7257614221567916, 0.6848362395778732, 0.22827874652595775, 0.22827874652595775, 0.79609014353254, 0.26536338117751335, 0.7579726123646972, 0.815012633501257, 0.5298182922603217, 0.26490914613016087, 0.26490914613016087, 0.37305785711037925, 0.37305785711037925, 0.37305785711037925, 0.5102120551483061, 0.5102120551483061, 0.7100742363702214, 0.815012633501257, 0.5684173327890368, 0.2842086663945184, 0.2842086663945184, 0.6916735311203966, 0.3458367655601983, 0.4557401595673883, 0.4557401595673883, 0.11816794787289646, 0.13786260585171253, 0.256030553724609, 0.09847328989408037, 0.03938931595763215, 0.05908397393644823, 0.05908397393644823, 0.05908397393644823, 0.09847328989408037, 0.03938931595763215, 0.019694657978816074, 0.8818546426541858, 0.48639481189542805, 0.5382777873856339, 0.17942592912854463, 0.08971296456427232, 0.08971296456427232, 0.08971296456427232, 0.7579726123646716, 0.18517368043160778, 0.2777605206474117, 0.18517368043160778, 0.18517368043160778, 0.09258684021580389, 0.09258684021580389, 0.5811993035245276, 0.19373310117484255, 0.4945894951311832, 0.4945894951311832, 0.7100742363702384, 0.7579726123646972, 0.4746370360728637, 0.4746370360728637, 0.7100742363702401, 0.29251599645428744, 0.29251599645428744, 0.29251599645428744, 0.7944083094579864, 0.25372190723302657, 0.12686095361651328, 0.12686095361651328, 0.12686095361651328, 0.38058286084953985, 0.12686095361651328, 0.8222886201368558, 0.5502205633522385, 0.4551606932509459, 0.4551606932509459, 0.22758034662547294, 0.47463703609692925, 0.47463703609692925, 0.7100742363702214, 0.8898689100188617, 0.815012633501257, 0.4732989955756057, 0.4732989955756057, 0.7685090291951696, 0.7614101247109123, 0.7257614221567886, 0.7100742363702235, 0.7488600514667111, 0.40299700071692973, 0.20149850035846487, 0.20149850035846487, 0.20149850035846487, 0.20149850035846487, 0.4844254453686774, 0.4844254453686774, 0.6937866796487117, 0.5354430047876255, 0.5354430047876255, 0.6576692031824832, 0.3288346015912416, 0.815012633501257, 0.7579726123646972, 0.761410124710899, 0.736033188635705, 0.697038377582867, 0.3485191887914335, 0.7685090291951696, 0.7944083094579864, 0.3636895092703871, 0.3636895092703871, 0.3636895092703871, 0.3799862348851589, 0.3799862348851589, 0.736033188635705, 0.8898689100188643, 0.6937866796487081, 0.815012633501257, 0.46730394189308033, 0.46730394189308033, 0.7257614221567886, 0.7257614221567816, 0.822288633254768, 0.7685090291951696, 0.7360331884881028, 0.7100742363702235, 0.4495042684712303, 0.4495042684712303, 0.274303146099128, 0.274303146099128, 0.274303146099128, 0.274303146099128, 0.7986993444819606, 0.1597398688963921, 0.7203253930202984, 0.18252968826167426, 0.18252968826167426, 0.18252968826167426, 0.18252968826167426, 0.18252968826167426, 0.5437245072168111, 0.815012633501257, 0.7614101247109123, 0.7360331884881013, 0.7579726123646724, 0.36194237062885165, 0.36194237062885165, 0.36194237062885165, 0.7944083094579864, 0.8818546426541858, 0.822288633254768, 0.8898689100188549, 0.6937866796487117, 0.6937866796487079, 0.6886995960540537, 0.6937866796487079, 0.48188868661028766, 0.48188868661028766, 0.5177321388196972, 0.5177321388196972, 0.822288633254768, 0.7100742363702214, 0.736033188635705, 0.5354430047876255, 0.5354430047876255, 0.8898689100188593, 0.37935884256496866, 0.37935884256496866, 0.2776555511914172, 0.2776555511914172, 0.2776555511914172, 0.7685090291951647, 0.31799453946578166, 0.31799453946578166, 0.7579726123646972, 0.3543440091765693, 0.3543440091765693, 0.3543440091765693, 0.6987375416643424, 0.6937866796487117, 0.815012633501257, 0.7579726123646781, 0.7944083094580048, 0.7944083094579864, 0.9083378566053202, 0.24130221711327363, 0.12065110855663681, 0.12065110855663681, 0.12065110855663681, 0.12065110855663681, 0.12065110855663681, 0.12065110855663681, 0.34425073058287087, 0.22950048705524725, 0.22950048705524725, 0.11475024352762363, 0.11475024352762363, 0.761410124710899, 0.6987375416643424, 0.43969291952605855, 0.21984645976302927, 0.21984645976302927, 0.21984645976302927, 0.7488600514666984, 0.7257614221567916, 0.7685090291951696, 0.736033188635705, 0.7257614221567816, 0.7614101247108983, 0.9083378566053202, 0.765089102163923, 0.9694526463739851, 0.34260006050179226, 0.6852001210035845, 0.736033188635705, 0.7614101247108983, 0.736033188635705, 0.736033188635705, 0.6937866796487117, 0.3446195948332391, 0.3446195948332391, 0.3446195948332391, 0.6987375416643424, 0.6987375416643424, 0.33814479100245737, 0.6762895820049147, 0.7360331884881028, 0.7685090291951687, 0.3346996627175095, 0.3346996627175095, 0.3346996627175095, 0.5256087376589978, 0.5256087376589978, 0.3498638625359568, 0.1749319312679784, 0.1749319312679784, 0.1749319312679784, 0.1749319312679784, 0.7257614221567816, 0.311403279126842, 0.311403279126842, 0.311403279126842, 0.7685090291951647, 0.6342069152509147, 0.6987375416643424], \"Term\": [\"%\", \"%\", \"%\", \"11th\", \"11th\", \"1s grading\", \"1st\", \"3rd phase\", \"4th\", \"9th\", \"absence\", \"absence\", \"absence\", \"absence\", \"access\", \"active participation\", \"activities\", \"actual workload distribution\", \"additional requirements\", \"advance\", \"afternoon bus\", \"airline\", \"airport\", \"alarm\", \"alternative\", \"alternative\", \"alternative\", \"anything\", \"anything\", \"anything\", \"anything\", \"arguments\", \"arrangement\", \"assessment\", \"assignment\", \"assignment\", \"assignment\", \"assignment status\", \"assignments\", \"assignments\", \"assignments\", \"assignments\", \"assignments\", \"assistance\", \"attempt\", \"attendance\", \"attendance\", \"attendance\", \"attendance\", \"beginning\", \"belgium\", \"belgium\", \"best interest\", \"better option\", \"better tomorrow\", \"bicycle\", \"big coff\", \"boe\", \"box plot\", \"brief explanation\", \"bus\", \"bus\", \"bus\", \"bus\", \"bus stop\", \"buses\", \"call\", \"campus\", \"campus\", \"cancellation\", \"canvas\", \"canvas\", \"capability\", \"case\", \"case\", \"circumstances\", \"circumstances\", \"circumstances\", \"citation\", \"citation line\", \"citing\", \"citing\", \"citing\", \"claim\", \"clarification\", \"class\", \"class\", \"class\", \"class\", \"class\", \"classes\", \"classes\", \"classes\", \"classes\", \"classes\", \"classes\", \"classes\", \"close relative\", \"code\", \"colleagues\", \"combination\", \"commitment\", \"commitments\", \"commute\", \"commute\", \"completion\", \"components\", \"computer\", \"condition\", \"condition\", \"conflict\", \"constant travel\", \"construction issues\", \"contrary\", \"contribution\", \"contribution\", \"contribution\", \"control\", \"correspondence\", \"countries\", \"course\", \"course\", \"course\", \"credits\", \"credits\", \"crutches\", \"cs1 lecture\", \"current circumstances\", \"dad\", \"date\", \"date\", \"dates\", \"day\", \"day\", \"day\", \"days\", \"days\", \"days\", \"dear student\", \"december\", \"december\", \"delay\", \"difference\", \"different maastricht\", \"direct bus route\", \"disease\", \"doctor\", \"doctor\", \"doctor today\", \"documentation\", \"draft report feedback\", \"driver\", \"due tonight\", \"early morning thursday\", \"effort\", \"egypt\", \"email\", \"email\", \"email\", \"email\", \"end\", \"end\", \"end\", \"end\", \"endeavors\", \"estimation date\", \"everyone\", \"everything\", \"everything\", \"everything\", \"exception\", \"existence\", \"faculty\", \"faculty\", \"family\", \"family\", \"family\", \"family\", \"fault\", \"favor\", \"final grade\", \"final product\", \"financial limitations\", \"first day\", \"first meetings\", \"first skill class\", \"flight\", \"flight\", \"flight\", \"flight plan\", \"flight today\", \"flights\", \"force majeur\", \"formula\", \"friday\", \"friday\", \"friday\", \"general question\", \"glitch\", \"goals\", \"good explanation\", \"good morning\", \"good reason\", \"google meet\", \"gp\", \"grade\", \"grade\", \"grade\", \"grade\", \"grades\", \"grades\", \"grades\", \"grading\", \"grading\", \"group\", \"group\", \"group\", \"group\", \"group\", \"group\", \"group\", \"group\", \"group grade\", \"group ken x.\", \"group mates\", \"group meeting\", \"group members\", \"group members\", \"group members\", \"group members\", \"group project\", \"group thing\", \"groupmates\", \"groups\", \"guidance\", \"harsh place\", \"headache\", \"health\", \"health\", \"health\", \"healthcare provider\", \"help\", \"help\", \"help\", \"highlight\", \"home\", \"home\", \"home\", \"hour\", \"hours\", \"housing\", \"idea\", \"immediate flight\", \"inability\", \"individual grade\", \"individual grade\", \"individual grades\", \"individuals\", \"information\", \"information\", \"information\", \"information\", \"information search\", \"instances\", \"intention\", \"interface\", \"internet\", \"involvement\", \"issue\", \"issue\", \"issue\", \"january\", \"january\", \"january\", \"january 8th\", \"janurary\", \"javafx\", \"justification\", \"lack\", \"laptop yesterday\", \"last project meeting\", \"last week\", \"late notice\", \"letters\", \"libraries\", \"little bit\", \"longer route\", \"luxembourg\", \"luxembourg\", \"luxembourg bus times\", \"maastricht\", \"maastricht\", \"maastricht\", \"maastricht tomorrow\", \"makeup assignment\", \"mandatory friday prayers\", \"mandatory prayers\", \"mandatory project meeting\", \"mandatory requirements\", \"many skill classes\", \"mark\", \"mark\", \"martijn bousse\", \"matter\", \"matter\", \"matter\", \"medical issue\", \"meeting\", \"meeting\", \"meeting\", \"meeting\", \"meeting\", \"meeting\", \"meeting\", \"meeting\", \"meeting\", \"meeting tomorrow\", \"meetings\", \"meetings\", \"meetings\", \"meetings\", \"meetings\", \"meetings\", \"meetings\", \"meetings\", \"member\", \"mental health\", \"message\", \"message\", \"messages\", \"minutes\", \"minutes\", \"minutes\", \"mistake\", \"monetary investment\", \"month\", \"morning\", \"morning\", \"morning\", \"morning\", \"morning\", \"morning bus\", \"mosque\", \"much knowledge\", \"muslim\", \"necessary steps\", \"necessity\", \"need\", \"need\", \"need\", \"need\", \"netherlands(they\", \"new content\", \"next bus\", \"next friday\", \"next meeting\", \"next meeting\", \"ng\", \"ng\", \"nido living\", \"nothing\", \"number\", \"october\", \"october\", \"one\", \"one\", \"one\", \"one\", \"one\", \"one\", \"one\", \"one\", \"ongoing treatment\", \"online counts\", \"online meeting\", \"online platform\", \"option\", \"option\", \"order\", \"order\", \"order\", \"overall success\", \"overview\", \"paper\", \"paper\", \"part\", \"part\", \"participation\", \"past announcements\", \"pdf\", \"pdf files\", \"peer review class\", \"people\", \"people\", \"percentages\", \"period\", \"permission\", \"person\", \"personal family problems\", \"phase\", \"phase\", \"phase\", \"phase\", \"phase\", \"pm\", \"pms\", \"po\", \"po\", \"possibilty\", \"pre -\", \"pre -\", \"pre -\", \"pre - examination\", \"pre - examination\", \"pre - examination meeting\", \"pre - task\", \"presence\", \"presence\", \"presence\", \"presentation\", \"presentation\", \"presentation\", \"presentations\", \"presentations\", \"previous assignments\", \"previous email\", \"problem\", \"problem\", \"problem\", \"process\", \"process\", \"progress\", \"progress\", \"project\", \"project\", \"project\", \"project\", \"project\", \"project\", \"project\", \"project\", \"project\", \"project\", \"project\", \"project coordinator\", \"project grade\", \"project meeting\", \"project meeting\", \"project meeting\", \"project meeting\", \"project meeting\", \"project meeting today\", \"project meetings\", \"project meetings\", \"project meetings\", \"project meetings\", \"project meetings\", \"project meetings\", \"project opening\", \"project opening\", \"project report\", \"project report\", \"project skills\", \"project1\", \"projects\", \"projects\", \"projects meetings\", \"proof\", \"proof\", \"proof\", \"publishing\", \"question\", \"question\", \"question\", \"question\", \"question\", \"question\", \"quiet room\", \"quizzes\", \"reason\", \"reason\", \"reason\", \"reasons\", \"reasons\", \"recording\", \"recovery\", \"references\", \"referencing\", \"referencing\", \"regulations\", \"rehearsing slides\", \"religious obligations\", \"religious reasons\", \"repercussions\", \"report\", \"report\", \"report\", \"report\", \"report\", \"report examination\", \"report examination\", \"report meeting today\", \"request\", \"request\", \"response\", \"response\", \"rest\", \"results\", \"retake\", \"romania\", \"room\", \"room\", \"rules\", \"salaries\", \"scenario\", \"scenario\", \"scenario\", \"schedule\", \"schedule\", \"scheduled flight\", \"school\", \"screenshot\", \"screenshots\", \"second draft\", \"second draft\", \"second phases\", \"second project meetings\", \"second time\", \"several times\", \"sickness\", \"side\", \"site\", \"site\", \"situation\", \"situation\", \"situation\", \"situation\", \"skill class\", \"skill class\", \"skill class grade\", \"skill classes\", \"skill classes\", \"skill classes\", \"skill classes\", \"skill classes\", \"skills class\", \"skills classes\", \"slide presentations(first draft\", \"small chance\", \"someone\", \"something\", \"something\", \"something\", \"sort\", \"spriha joshi\", \"state\", \"stay\", \"stomach\", \"stops\", \"storm\", \"student ov\", \"student portal\", \"student portal\", \"students\", \"students\", \"subpoints tree\", \"suitable environment\", \"sunday\", \"support\", \"support\", \"surgery\", \"task\", \"task\", \"tasks\", \"tasks\", \"tasks\", \"tb classes\", \"team\", \"team\", \"team members\", \"teammates\", \"teammates\", \"teammates\", \"temporary measure\", \"terrible pain\", \"text entry box\", \"textbox\", \"thought process\", \"tickets\", \"tim\", \"time\", \"time\", \"time\", \"time\", \"time\", \"time\", \"time\", \"today\", \"today\", \"today\", \"today\", \"today\", \"todays project meeting\", \"toll\", \"tomorrow\", \"tomorrow\", \"tomorrow\", \"tomorrow\", \"total\", \"touch\", \"tragically\", \"travel plans\", \"tropical storm\", \"tuesday\", \"tutor\", \"tutors\", \"uber\", \"understanding\", \"understanding\", \"unexpected change\", \"unexpected circumstances\", \"unforeseen challenges\", \"unforeseen weather conditions\", \"universities\", \"university\", \"university\", \"university\", \"university experience\", \"upcoming return\", \"update\", \"update\", \"verry good reason\", \"wanna\", \"week\", \"week\", \"week\", \"weekend\", \"weekend\", \"well\", \"well\", \"well\", \"well\", \"well\", \"word\", \"work\", \"work\", \"work\", \"worst case scenario\", \"yesterday\", \"zoom\"]}, \"R\": 30, \"lambda.step\": 0.01, \"plot.opts\": {\"xlab\": \"PC1\", \"ylab\": \"PC2\"}, \"topic.order\": [2, 1, 13, 14, 12, 9, 4, 10, 3, 8, 11, 7, 5, 6, 15]};\n\nfunction LDAvis_load_lib(url, callback){\n  var s = document.createElement('script');\n  s.src = url;\n  s.async = true;\n  s.onreadystatechange = s.onload = callback;\n  s.onerror = function(){console.warn(\"failed to load library \" + url);};\n  document.getElementsByTagName(\"head\")[0].appendChild(s);\n}\n\nif(typeof(LDAvis) !== \"undefined\"){\n   // already loaded: just create the visualization\n   !function(LDAvis){\n       new LDAvis(\"#\" + \"ldavis_el110202180378246976224845699\", ldavis_el110202180378246976224845699_data);\n   }(LDAvis);\n}else if(typeof define === \"function\" && define.amd){\n   // require.js is available: use it to load d3/LDAvis\n   require.config({paths: {d3: \"https://d3js.org/d3.v5\"}});\n   require([\"d3\"], function(d3){\n      window.d3 = d3;\n      LDAvis_load_lib(\"https://cdn.jsdelivr.net/gh/bmabey/pyLDAvis@3.4.0/pyLDAvis/js/ldavis.v3.0.0.js\", function(){\n        new LDAvis(\"#\" + \"ldavis_el110202180378246976224845699\", ldavis_el110202180378246976224845699_data);\n      });\n    });\n}else{\n    // require.js not available: dynamically load d3 & LDAvis\n    LDAvis_load_lib(\"https://d3js.org/d3.v5.js\", function(){\n         LDAvis_load_lib(\"https://cdn.jsdelivr.net/gh/bmabey/pyLDAvis@3.4.0/pyLDAvis/js/ldavis.v3.0.0.js\", function(){\n                 new LDAvis(\"#\" + \"ldavis_el110202180378246976224845699\", ldavis_el110202180378246976224845699_data);\n            })\n         });\n}\n</script>"
     },
     "execution_count": 46,
     "metadata": {},
     "output_type": "execute_result"
    }
   ],
   "source": [
    "pyLDAvis.enable_notebook()\n",
    "\n",
    "tf_vectorizer = KeyphraseCountVectorizer(stop_words=stop_words)\n",
    "dtm_tf = tf_vectorizer.fit_transform(docs)\n",
    "lda_tf = LatentDirichletAllocation(n_components=15, random_state=0, max_iter=1000)\n",
    "lda_tf.fit(dtm_tf)\n",
    "fig = lda.prepare(lda_tf, dtm_tf, tf_vectorizer)\n",
    "fig"
   ],
   "metadata": {
    "collapsed": false,
    "ExecuteTime": {
     "end_time": "2024-05-23T16:18:47.440533600Z",
     "start_time": "2024-05-23T16:18:44.634639Z"
    }
   },
   "id": "a49bb94e097c69fe"
  },
  {
   "cell_type": "code",
   "execution_count": null,
   "outputs": [],
   "source": [],
   "metadata": {
    "collapsed": false
   },
   "id": "bd15d17f536f927e"
  }
 ],
 "metadata": {
  "kernelspec": {
   "display_name": "Python 3",
   "language": "python",
   "name": "python3"
  },
  "language_info": {
   "codemirror_mode": {
    "name": "ipython",
    "version": 2
   },
   "file_extension": ".py",
   "mimetype": "text/x-python",
   "name": "python",
   "nbconvert_exporter": "python",
   "pygments_lexer": "ipython2",
   "version": "2.7.6"
  }
 },
 "nbformat": 4,
 "nbformat_minor": 5
}
