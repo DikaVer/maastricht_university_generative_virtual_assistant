{
 "cells": [
  {
   "cell_type": "code",
   "id": "initial_id",
   "metadata": {
    "collapsed": true,
    "ExecuteTime": {
     "end_time": "2024-06-26T16:16:24.759011100Z",
     "start_time": "2024-06-26T16:16:24.740008Z"
    }
   },
   "source": [
    "import os\n",
    "# First we change the directory to the root directory of the project.\n",
    "os.chdir(os.getcwd().replace(\"\\\\notebooks\\\\retrieve\", \"\"))"
   ],
   "outputs": [],
   "execution_count": 1
  },
  {
   "cell_type": "code",
   "source": [
    "from model.models import Agent"
   ],
   "metadata": {
    "collapsed": false,
    "ExecuteTime": {
     "end_time": "2024-06-26T16:16:30.225095800Z",
     "start_time": "2024-06-26T16:16:30.211310300Z"
    }
   },
   "id": "46b1c5e609f53885",
   "outputs": [],
   "execution_count": 3
  },
  {
   "cell_type": "code",
   "source": [
    "# vector search \n",
    "param_vs = {\n",
    "    \"embed_name\": \"bge\",\n",
    "    \"param\": \n",
    "        {\n",
    "            \"search_type\": \"similarity\",\n",
    "            \"search_kwargs\": {\n",
    "                    \"k\": 5,\n",
    "                    # \"score_threshold\": None\n",
    "            }\n",
    "        }   \n",
    "}\n",
    "\n",
    "# multi query\n",
    "param_mq = {\n",
    "    \"param\": \n",
    "        {\n",
    "            \"llm_model\": \"openai\",\n",
    "            \"temperature\": 0,\n",
    "            \"top_p\": None,\n",
    "            \"top_k\": None,\n",
    "            \"frequency_penalty\": None,\n",
    "            \"max_tokens\": None\n",
    "        }\n",
    "}\n",
    "\n",
    "# keyword extraction - just in case\n",
    "param_ke = {\n",
    "    \"embed_name\": \"bge\",\n",
    "    \"param\":\n",
    "        {\n",
    "          \n",
    "        }\n",
    "}\n",
    "\n",
    "# Reranker BGE\n",
    "param_reranker = {\n",
    "    \"param\":\n",
    "        {\n",
    "            \"k\": 5,\n",
    "        }\n",
    "}\n",
    "\n",
    "# LLM Reranker BGE\n",
    "param_llm_reranker = {\n",
    "    \"param\":\n",
    "        {\n",
    "            \"k\": 5,\n",
    "        }\n",
    "}\n",
    "\n",
    "# Response LLM\n",
    "param_response_llm = {\n",
    "    \"param\":{\n",
    "        \n",
    "        \"llm\": {\n",
    "            \"llm_model\": \"openai\",\n",
    "            \"temperature\": 0.2,\n",
    "            \"top_p\": None,\n",
    "            \"top_k\": None,\n",
    "            \"frequency_penalty\": None,\n",
    "            \"max_tokens\": None\n",
    "        },\n",
    "        \"shots\": {\n",
    "            \"embed_name\": \"openai\",\n",
    "            \"k\": 0\n",
    "        }\n",
    "    }\n",
    "}\n",
    "\n",
    "model_in = {\n",
    "    \"vector_search\" : param_vs,\n",
    "    \"multi_query\": param_mq,\n",
    "    # \"keyword_extractor\": param_ke,\n",
    "    # \"reranker\": param_reranker, # Uncomment if you are brave enough and your GPU or CPU is strong enough\n",
    "    # \"llm_reranker\": param_llm_reranker, # Uncomment if you are brave enough and your GPU or CPU is strong enough\n",
    "    \"response_llm\": param_response_llm \n",
    "}"
   ],
   "metadata": {
    "collapsed": false,
    "ExecuteTime": {
     "end_time": "2024-05-18T16:11:54.348665100Z",
     "start_time": "2024-05-18T16:11:54.335471100Z"
    }
   },
   "id": "137d3513661f05c",
   "outputs": [],
   "execution_count": 7
  },
  {
   "cell_type": "code",
   "source": [
    "agent = Agent(model_in, DEBUG=True)"
   ],
   "metadata": {
    "collapsed": false,
    "ExecuteTime": {
     "end_time": "2024-05-18T16:11:56.413364400Z",
     "start_time": "2024-05-18T16:11:54.894594900Z"
    }
   },
   "id": "e00c5055aee5480f",
   "outputs": [
    {
     "name": "stdout",
     "output_type": "stream",
     "text": [
      "Device: cuda:0\n",
      "\n",
      "Vector Search Initialized\n",
      "Vector Search Parameters:\n",
      "Vector Database: Chroma\n",
      "Embedding Model: HuggingFaceHubEmbeddings\n",
      "Search Parameters: \n",
      "{'k': 5}\n",
      "\n",
      "Multi Query Initialized\n",
      "Multi Query Parameters:\n",
      "LLM Model: \n",
      "Verbose: False\n",
      "Client: <openai.resources.chat.completions.Completions object at 0x000002B29ED76800>\n",
      "Async_client: <openai.resources.chat.completions.AsyncCompletions object at 0x000002B29ED74730>\n",
      "Model_name: gpt-3.5-turbo-0125\n",
      "Temperature: 0.0\n",
      "Model_kwargs: {'top_p': None, 'frequency_penalty': None}\n",
      "Openai_api_key: **********\n",
      "Openai_proxy: \n",
      "Max_retries: 2\n",
      "Streaming: False\n",
      "N: 1\n",
      "\n",
      "Prompt: \n",
      "Input_variables: ['question']\n",
      "Input_types: {}\n",
      "Partial_variables: {}\n",
      "Template: \n",
      "You are an AI language model assistant. Your task is to generate 3 different versions of the given user \n",
      "question to retrieve relevant documents from a vector database.\n",
      "By generating multiple perspectives on the user question,\n",
      "your goal is to help the user overcome some of the limitations\n",
      "of distance-based similarity search. Provide these alternative\n",
      "questions separated by newlines.\n",
      "Original question: {question}\n",
      "\n",
      "Template_format: f-string\n",
      "Validate_template: False\n",
      "\n",
      "Response LLM Initialized\n",
      "Response LLM Parameters:\n",
      "LLM Model: \n",
      "Verbose: False\n",
      "Client: <openai.resources.chat.completions.Completions object at 0x000002B29EC8CD30>\n",
      "Async_client: <openai.resources.chat.completions.AsyncCompletions object at 0x000002B29EC8E440>\n",
      "Model_name: gpt-3.5-turbo-0125\n",
      "Temperature: 0.2\n",
      "Model_kwargs: {'top_p': None, 'frequency_penalty': None}\n",
      "Openai_api_key: **********\n",
      "Openai_proxy: \n",
      "Max_retries: 2\n",
      "Streaming: False\n",
      "N: 1\n",
      "\n",
      "Prompt: \n",
      "Input_variables: ['context', 'input', 'query']\n",
      "Input_types: {}\n",
      "Partial_variables: {}\n",
      "Messages: [SystemMessagePromptTemplate(prompt=PromptTemplate(input_variables=[], template='You are an AI language model assistant. Your task is to generate a helpful response to the user query.')), FewShotChatMessagePromptTemplate(example_selector=SemanticSimilarityExampleSelector(vectorstore=<langchain_chroma.vectorstores.Chroma object at 0x000002B2A23F1300>, k=0, example_keys=None, input_keys=None, vectorstore_kwargs=None), input_variables=['input'], example_prompt=ChatPromptTemplate(input_variables=['input', 'output'], messages=[HumanMessagePromptTemplate(prompt=PromptTemplate(input_variables=['input'], template='{input}')), AIMessagePromptTemplate(prompt=PromptTemplate(input_variables=['output'], template='{output}'))])), HumanMessagePromptTemplate(prompt=PromptTemplate(input_variables=['context', 'query'], template='\\nUse the following pieces of context to answer the question at the end. If you don\\'t know the answer,\\njust say that you don\\'t know, don\\'t try to make up an answer. Always give\\nreferences of generated answer (document_name/article/page, e.g. \"references: Rules and Regulation/article: 5.1.1/page: 20), there can be multiple references\\nand say \"thanks for asking!\" at the end of the answer.\\n\\n{context}\\n\\nQuestion: {query}\\n\\nHelpful Answer:\\n    '))]\n",
      "Validate_template: False\n"
     ]
    }
   ],
   "execution_count": 8
  },
  {
   "cell_type": "code",
   "source": [
    "query = \"I have a question regarding the skill class grade. The skill class grade only affects the final grade for the project correct? Also, from what I understand from the grading and assessment, it's worth a total of 10% of the final grade so if you missed one skill class, you would only miss out on 5% of the final grade, correct?\""
   ],
   "metadata": {
    "collapsed": false,
    "ExecuteTime": {
     "end_time": "2024-05-18T15:57:20.530030100Z",
     "start_time": "2024-05-18T15:57:20.510908600Z"
    }
   },
   "id": "851a3cc45d3b15f0",
   "outputs": [],
   "execution_count": 5
  },
  {
   "cell_type": "code",
   "source": [
    "agent.extract_keywords([query], top_n=5)"
   ],
   "metadata": {
    "collapsed": false,
    "ExecuteTime": {
     "end_time": "2024-05-08T21:00:18.278554700Z",
     "start_time": "2024-05-08T21:00:15.127050600Z"
    }
   },
   "id": "1f5d0efbd8e96faa",
   "outputs": [
    {
     "data": {
      "text/plain": "[('skill class grade', 0.7712),\n ('skill class', 0.7271),\n ('grading', 0.6889),\n ('final grade', 0.6752),\n ('project', 0.5892)]"
     },
     "execution_count": 6,
     "metadata": {},
     "output_type": "execute_result"
    }
   ],
   "execution_count": 6
  },
  {
   "cell_type": "code",
   "source": [
    "# Works\n",
    "# agent.embed_documents([query])\n",
    "# agent.embed_query(query)"
   ],
   "metadata": {
    "collapsed": false,
    "ExecuteTime": {
     "end_time": "2024-05-08T21:00:18.309055300Z",
     "start_time": "2024-05-08T21:00:18.278554700Z"
    }
   },
   "id": "3c5567ae41b87a4f",
   "outputs": [],
   "execution_count": 7
  },
  {
   "cell_type": "code",
   "source": [
    "multi_query_results = agent.generate_multi_query(query) # Works fine, but should be tested in vector space\n",
    "retrieve_results = agent.retrieve_content(query) # Works fine, but should be evaluated (also we need to try with multi-vector)\n",
    "# reranker_results = agent.retrieve_content_with_reranker(query, top_n=4)\n",
    "# llm_reranker_results = agent.retrieve_content_with_llm_reranker(query, top_n=4)\n",
    "# final_results = agent.apply_reciprocal_rank_fusion([retrieve_results, reranker_results, llm_reranker_results])"
   ],
   "metadata": {
    "collapsed": false,
    "ExecuteTime": {
     "end_time": "2024-05-17T16:35:33.489786Z",
     "start_time": "2024-05-17T16:35:31.260672Z"
    }
   },
   "id": "80353a96809c668f",
   "outputs": [
    {
     "name": "stdout",
     "output_type": "stream",
     "text": [
      "\n",
      "\n",
      "Retriever Results:\n",
      "1. Participation in project skill trainings is taken into account in the final grading. If a student has missed three or more skills trainings, the student will not be able to participate in the final examination of the project, meaning that an NG is given for the project. This NG will also be awarded if after the final examination it turns out that a student that was ineligible still participated.\n",
      "2. The project grade is a group grade, which applies to all members of the group. The project examiners may deviate (positively or negatively) from the group grade and issue an individual grade for students, if participation and cooperation within a group has not been homogeneous.\n",
      "3. If a student has participated fully in all but one skill trainings, where fully participating includes that the student has a passing grade for all assignments, the student will receive a grade of 0.5 for the skill classes.\n",
      "4. The project is graded on three occasions by the examiners. The first grade is issued after the presentation first phase and accounts for 15% of the final grade. The second grade is issued after the presentation second phase and accounts for 15% of the final grade. The third grade is issued after the final assessment at the end of the third block and accounts for 70% of the grade. These grades are then rescaled in Paragraph 5 to a range 0 to 9.\n",
      "5. All project meetings are mandatory. One project meeting may be missed each block of the three blocks of a semester, without consequences, as an arrangement to cover force majeure and may only be used as such. If two or more meetings are missed in the first or second block of the semester, the student will not have access to the exam of that project phase and that phase will count as grade zero. If two meetings are missed in the third block of the semester, the student will automatically receive a lowered individual grade. If three or more meetings are missed in the third block of the semester, the student will not have access to the exam of that project phase and that phase will count as grade zero.\n"
     ]
    }
   ],
   "execution_count": 8
  },
  {
   "metadata": {
    "ExecuteTime": {
     "end_time": "2024-05-17T16:35:45.167165Z",
     "start_time": "2024-05-17T16:35:45.151164Z"
    }
   },
   "cell_type": "code",
   "source": [
    "multi_query_results"
   ],
   "id": "2982827f1b2fb3c5",
   "outputs": [
    {
     "data": {
      "text/plain": [
       "{'question': \"I have a question regarding the skill class grade. The skill class grade only affects the final grade for the project correct? Also, from what I understand from the grading and assessment, it's worth a total of 10% of the final grade so if you missed one skill class, you would only miss out on 5% of the final grade, correct?\",\n",
       " 'text': ['1. Does the skill class grade solely impact the final project grade, or are there other factors involved?',\n",
       "  '2. How much weight does the skill class grade carry in the overall final grade calculation, and what happens if a skill class is missed?',\n",
       "  \"3. Can missing a skill class affect the final grade significantly, considering it's worth 10% of the total grade?\"]}"
      ]
     },
     "execution_count": 9,
     "metadata": {},
     "output_type": "execute_result"
    }
   ],
   "execution_count": 9
  },
  {
   "cell_type": "code",
   "execution_count": 10,
   "outputs": [
    {
     "name": "stdout",
     "output_type": "stream",
     "text": [
      "\n",
      "\n",
      "Reranker content Results:\n",
      "1. Participation in project skill trainings is taken into account in the final grading. If a student has missed three or more skills trainings, the student will not be able to participate in the final examination of the project, meaning that an NG is given for the project. This NG will also be awarded if after the final examination it turns out that a student that was ineligible still participated.\n",
      "2. The project is graded on three occasions by the examiners. The first grade is issued after the presentation first phase and accounts for 15% of the final grade. The second grade is issued after the presentation second phase and accounts for 15% of the final grade. The third grade is issued after the final assessment at the end of the third block and accounts for 70% of the grade. These grades are then rescaled in Paragraph 5 to a range 0 to 9.\n",
      "3. If a student has participated fully in all but one skill trainings, where fully participating includes that the student has a passing grade for all assignments, the student will receive a grade of 0.5 for the skill classes.\n",
      "4. The project grade is a group grade, which applies to all members of the group. The project examiners may deviate (positively or negatively) from the group grade and issue an individual grade for students, if participation and cooperation within a group has not been homogeneous.\n",
      "5. All project meetings are mandatory. One project meeting may be missed each block of the three blocks of a semester, without consequences, as an arrangement to cover force majeure and may only be used as such. If two or more meetings are missed in the first or second block of the semester, the student will not have access to the exam of that project phase and that phase will count as grade zero. If two meetings are missed in the third block of the semester, the student will automatically receive a lowered individual grade. If three or more meetings are missed in the third block of the semester, the student will not have access to the exam of that project phase and that phase will count as grade zero.\n"
     ]
    },
    {
     "data": {
      "text/plain": "  0%|          | 0/5 [00:00<?, ?it/s]",
      "application/vnd.jupyter.widget-view+json": {
       "version_major": 2,
       "version_minor": 0,
       "model_id": "7b4036cbb97247cf80c22150b1fb8e44"
      }
     },
     "metadata": {},
     "output_type": "display_data"
    },
    {
     "name": "stderr",
     "output_type": "stream",
     "text": [
      "D:\\Code\\uni_llm\\venv\\lib\\site-packages\\transformers\\tokenization_utils_base.py:2707: UserWarning: `max_length` is ignored when `padding`=`True` and there is no truncation strategy. To pad to max length, use `padding='max_length'`.\n",
      "  warnings.warn(\n"
     ]
    },
    {
     "name": "stdout",
     "output_type": "stream",
     "text": [
      "\n",
      "\n",
      "LLM Reranker content Results:\n",
      "1. Participation in project skill trainings is taken into account in the final grading. If a student has missed three or more skills trainings, the student will not be able to participate in the final examination of the project, meaning that an NG is given for the project. This NG will also be awarded if after the final examination it turns out that a student that was ineligible still participated.\n",
      "2. If a student has participated fully in all but one skill trainings, where fully participating includes that the student has a passing grade for all assignments, the student will receive a grade of 0.5 for the skill classes.\n",
      "3. The project is graded on three occasions by the examiners. The first grade is issued after the presentation first phase and accounts for 15% of the final grade. The second grade is issued after the presentation second phase and accounts for 15% of the final grade. The third grade is issued after the final assessment at the end of the third block and accounts for 70% of the grade. These grades are then rescaled in Paragraph 5 to a range 0 to 9.\n",
      "4. The project grade is a group grade, which applies to all members of the group. The project examiners may deviate (positively or negatively) from the group grade and issue an individual grade for students, if participation and cooperation within a group has not been homogeneous.\n",
      "5. All project meetings are mandatory. One project meeting may be missed each block of the three blocks of a semester, without consequences, as an arrangement to cover force majeure and may only be used as such. If two or more meetings are missed in the first or second block of the semester, the student will not have access to the exam of that project phase and that phase will count as grade zero. If two meetings are missed in the third block of the semester, the student will automatically receive a lowered individual grade. If three or more meetings are missed in the third block of the semester, the student will not have access to the exam of that project phase and that phase will count as grade zero.\n"
     ]
    }
   ],
   "source": [
    "reranker_content_results = agent.rerank_content(retrieve_results, query)\n",
    "llm_reranker_content_results = agent.rerank_content_with_llm(retrieve_results, query)"
   ],
   "metadata": {
    "collapsed": false,
    "ExecuteTime": {
     "end_time": "2024-05-08T20:19:42.663506300Z",
     "start_time": "2024-05-08T20:19:41.700789200Z"
    }
   },
   "id": "306f656b35f3ea55"
  },
  {
   "cell_type": "markdown",
   "source": [
    "## Example of outputs"
   ],
   "metadata": {
    "collapsed": false
   },
   "id": "69eda9ec31812960"
  },
  {
   "cell_type": "code",
   "execution_count": 16,
   "outputs": [
    {
     "data": {
      "text/plain": "{'question': \"I have a question regarding the skill class grade. The skill class grade only affects the final grade for the project correct? Also, from what I understand from the grading and assessment, it's worth a total of 10% of the final grade so if you missed one skill class, you would only miss out on 5% of the final grade, correct?\",\n 'text': ['1. How does the skill class grade impact the final project grade? Does missing one skill class result in a 5% deduction from the final grade?',\n  '2. Can you clarify the relationship between the skill class grade and the final project grade? Is it true that missing one skill class only results in a 5% deduction from the final grade?',\n  '3. Regarding the skill class grade, does missing one class affect the final grade by 5%? How does the skill class grade contribute to the overall assessment of the project?']}"
     },
     "execution_count": 16,
     "metadata": {},
     "output_type": "execute_result"
    }
   ],
   "source": [
    "multi_query_results"
   ],
   "metadata": {
    "collapsed": false,
    "ExecuteTime": {
     "end_time": "2024-05-03T18:38:13.359559400Z",
     "start_time": "2024-05-03T18:38:13.330145700Z"
    }
   },
   "id": "cab7b4cf70f22518"
  },
  {
   "cell_type": "code",
   "execution_count": 9,
   "outputs": [
    {
     "data": {
      "text/plain": "[Document(page_content='Participation in project skill trainings is taken into account in the final grading. If a student has missed three or more skills trainings, the student will not be able to participate in the final examination of the project, meaning that an NG is given for the project. This NG will also be awarded if after the final examination it turns out that a student that was ineligible still participated.', metadata={'article': '5.4', 'article_name': 'attendance and participation', 'document_name': 'rules and regulation', 'page': '21', 'section': '5', 'section_name': 'semester project regulations'}),\n Document(page_content='The project grade is a group grade, which applies to all members of the group. The project examiners may deviate (positively or negatively) from the group grade and issue an individual grade for students, if participation and cooperation within a group has not been homogeneous.', metadata={'article': '5.6', 'article_name': 'project grade', 'document_name': 'rules and regulation', 'page': '22', 'section': '5', 'section_name': 'semester project regulations'}),\n Document(page_content='If a student has participated fully in all but one skill trainings, where fully participating includes that the student has a passing grade for all assignments, the student will receive a grade of 0.5 for the skill classes.', metadata={'article': '5.6', 'article_name': 'skill class grade', 'document_name': 'rules and regulation', 'page': '22', 'section': '5', 'section_name': 'semester project regulations'}),\n Document(page_content='The project is graded on three occasions by the examiners. The first grade is issued after the presentation first phase and accounts for 15% of the final grade. The second grade is issued after the presentation second phase and accounts for 15% of the final grade. The third grade is issued after the final assessment at the end of the third block and accounts for 70% of the grade. These grades are then rescaled in Paragraph 5 to a range 0 to 9.', metadata={'article': '5.6', 'article_name': 'project grade', 'document_name': 'rules and regulation', 'page': '22', 'section': '5', 'section_name': 'semester project regulations'})]"
     },
     "execution_count": 9,
     "metadata": {},
     "output_type": "execute_result"
    }
   ],
   "source": [
    "retrieve_results # reranker_results and llm_reranker_results are similar"
   ],
   "metadata": {
    "collapsed": false,
    "ExecuteTime": {
     "end_time": "2024-05-03T18:36:32.310840100Z",
     "start_time": "2024-05-03T18:36:32.295977300Z"
    }
   },
   "id": "78e2d8f262ca6562"
  },
  {
   "cell_type": "markdown",
   "source": [
    "## Pipeline Examples"
   ],
   "metadata": {
    "collapsed": false
   },
   "id": "6bc87e72af78d2ee"
  },
  {
   "cell_type": "code",
   "source": [
    "tmp = \"I wanted to ask you a question related to the project meetings and the pre-examination. Two days ago, I had a surgery on my toe in my home country and even though I got discharged, it is recommended to me to visit the hospital every day for monitoring and dressings for the next one or two weeks(depending on my physical condition). My question is, if I show proof about the surgery and the recovery, can I participate in the project meetings and in the pre-examination online instead of on site?\"\n",
    "result = agent.generate_response(tmp, multi_query=True, retrieve_type=\"vector_search\", rerank_type=None)"
   ],
   "metadata": {
    "collapsed": false,
    "ExecuteTime": {
     "end_time": "2024-05-18T16:05:54.569705Z",
     "start_time": "2024-05-18T16:05:48.264646800Z"
    }
   },
   "id": "57ebb7a1f197c2c7",
   "outputs": [
    {
     "name": "stderr",
     "output_type": "stream",
     "text": [
      "D:\\Code\\uni_llm\\venv\\lib\\site-packages\\langchain_core\\_api\\deprecation.py:119: LangChainDeprecationWarning: The method `Chain.__call__` was deprecated in langchain 0.1.0 and will be removed in 0.2.0. Use invoke instead.\n",
      "  warn_deprecated(\n"
     ]
    },
    {
     "name": "stdout",
     "output_type": "stream",
     "text": [
      "\n",
      "\n",
      "Retriever Results:\n",
      "1. The Board of Examiners can excuse students from the participation in project meetings in individual cases due to personal circumstances and can offer repair opportunities for the project as a whole. The student must in such cases prove force majeure for all mandatory meeting that the student missed, see also Article 3.7 of the Rules and Regulations. Deviation from the group grade is possible in such cases. The Board of Examiners can also grant resits for projects in special circumstances. Since the project is an onsite group activity, students must be within commuting distance from Maastricht during each project activity.\n",
      "2. All project meetings are mandatory. One project meeting may be missed each block of the three blocks of a semester, without consequences, as an arrangement to cover force majeure and may only be used as such. If two or more meetings are missed in the first or second block of the semester, the student will not have access to the exam of that project phase and that phase will count as grade zero. If two meetings are missed in the third block of the semester, the student will automatically receive a lowered individual grade. If three or more meetings are missed in the third block of the semester, the student will not have access to the exam of that project phase and that phase will count as grade zero.\n",
      "3. On-campus attendance and participation in the project meetings and project skills trainings, is mandatory, see Article 4.4 of the EER. Missing a meeting or training in this article means failure to be present during part of or the complete meeting or training, inadequate participation or inadequately completing the assignments. For project meetings the project tutor or project coordinator decides whether a student missed it or not, and for the skill trainings the lecturer or project coordinator.\n",
      "4. Attendance and participation at project skill trainings and project meetings is mandatory. In addition, each student is required to participate actively in doing tasks with respect to the project and to cooperate actively with their group in order to successfully finish the project assignment.\n",
      "5. The resit is a repair opportunity, and the method shall be determined by the examiners. Repair opportunities can be individual or on a group level, where changes will be permitted to the composition of the original project group. Students who were expelled from the project or did not receive a grade in the current academic year are not allowed to take the project resit. A repair opportunity will only be offered if the grade is 4.0 or more (hence an NG is ineligible for a resit) to ensure that a student has obtained sufficient practical training. The student(s) will receive the resit assignment from the examiners within 2 working days after failing the project. This additional assignment must be handed in within 10 working days. If completed successfully, the student will receive a 6.0 for the project.\n",
      "\n",
      "\n",
      "Retriever Results:\n",
      "1. The Board of Examiners can excuse students from the participation in project meetings in individual cases due to personal circumstances and can offer repair opportunities for the project as a whole. The student must in such cases prove force majeure for all mandatory meeting that the student missed, see also Article 3.7 of the Rules and Regulations. Deviation from the group grade is possible in such cases. The Board of Examiners can also grant resits for projects in special circumstances. Since the project is an onsite group activity, students must be within commuting distance from Maastricht during each project activity.\n",
      "2. Attendance and participation in other education activities may be part of an exam when announced in the study guide or Student Portal/the digital learning environment. Prior approval of the Board of Examiners is required.\n",
      "3. On-campus attendance and participation in the project meetings and project skills trainings, is mandatory, see Article 4.4 of the EER. Missing a meeting or training in this article means failure to be present during part of or the complete meeting or training, inadequate participation or inadequately completing the assignments. For project meetings the project tutor or project coordinator decides whether a student missed it or not, and for the skill trainings the lecturer or project coordinator.\n",
      "4. All project meetings are mandatory. One project meeting may be missed each block of the three blocks of a semester, without consequences, as an arrangement to cover force majeure and may only be used as such. If two or more meetings are missed in the first or second block of the semester, the student will not have access to the exam of that project phase and that phase will count as grade zero. If two meetings are missed in the third block of the semester, the student will automatically receive a lowered individual grade. If three or more meetings are missed in the third block of the semester, the student will not have access to the exam of that project phase and that phase will count as grade zero.\n",
      "5. It is up to the examiners to decide which student will present what in the project presentations, and this decision can be communicated by the examiners last-minute. The first and second phase presentations are in principle non-public (unless the examiners decide otherwise), the final presentation is a public presentation.\n",
      "\n",
      "\n",
      "Retriever Results:\n",
      "1. The Board of Examiners can excuse students from the participation in project meetings in individual cases due to personal circumstances and can offer repair opportunities for the project as a whole. The student must in such cases prove force majeure for all mandatory meeting that the student missed, see also Article 3.7 of the Rules and Regulations. Deviation from the group grade is possible in such cases. The Board of Examiners can also grant resits for projects in special circumstances. Since the project is an onsite group activity, students must be within commuting distance from Maastricht during each project activity.\n",
      "2. All project meetings are mandatory. One project meeting may be missed each block of the three blocks of a semester, without consequences, as an arrangement to cover force majeure and may only be used as such. If two or more meetings are missed in the first or second block of the semester, the student will not have access to the exam of that project phase and that phase will count as grade zero. If two meetings are missed in the third block of the semester, the student will automatically receive a lowered individual grade. If three or more meetings are missed in the third block of the semester, the student will not have access to the exam of that project phase and that phase will count as grade zero.\n",
      "3. On-campus attendance and participation in the project meetings and project skills trainings, is mandatory, see Article 4.4 of the EER. Missing a meeting or training in this article means failure to be present during part of or the complete meeting or training, inadequate participation or inadequately completing the assignments. For project meetings the project tutor or project coordinator decides whether a student missed it or not, and for the skill trainings the lecturer or project coordinator.\n",
      "4. Attendance and participation in other education activities may be part of an exam when announced in the study guide or Student Portal/the digital learning environment. Prior approval of the Board of Examiners is required.\n",
      "5. The resit is a repair opportunity, and the method shall be determined by the examiners. Repair opportunities can be individual or on a group level, where changes will be permitted to the composition of the original project group. Students who were expelled from the project or did not receive a grade in the current academic year are not allowed to take the project resit. A repair opportunity will only be offered if the grade is 4.0 or more (hence an NG is ineligible for a resit) to ensure that a student has obtained sufficient practical training. The student(s) will receive the resit assignment from the examiners within 2 working days after failing the project. This additional assignment must be handed in within 10 working days. If completed successfully, the student will receive a 6.0 for the project.\n",
      "\n",
      "\n",
      "Retriever Results:\n",
      "1. The Board of Examiners can excuse students from the participation in project meetings in individual cases due to personal circumstances and can offer repair opportunities for the project as a whole. The student must in such cases prove force majeure for all mandatory meeting that the student missed, see also Article 3.7 of the Rules and Regulations. Deviation from the group grade is possible in such cases. The Board of Examiners can also grant resits for projects in special circumstances. Since the project is an onsite group activity, students must be within commuting distance from Maastricht during each project activity.\n",
      "2. It is up to the examiners to decide which student will present what in the project presentations, and this decision can be communicated by the examiners last-minute. The first and second phase presentations are in principle non-public (unless the examiners decide otherwise), the final presentation is a public presentation.\n",
      "3. Attendance and participation in other education activities may be part of an exam when announced in the study guide or Student Portal/the digital learning environment. Prior approval of the Board of Examiners is required.\n",
      "4. On-campus attendance and participation in the project meetings and project skills trainings, is mandatory, see Article 4.4 of the EER. Missing a meeting or training in this article means failure to be present during part of or the complete meeting or training, inadequate participation or inadequately completing the assignments. For project meetings the project tutor or project coordinator decides whether a student missed it or not, and for the skill trainings the lecturer or project coordinator.\n",
      "5. All project meetings are mandatory. One project meeting may be missed each block of the three blocks of a semester, without consequences, as an arrangement to cover force majeure and may only be used as such. If two or more meetings are missed in the first or second block of the semester, the student will not have access to the exam of that project phase and that phase will count as grade zero. If two meetings are missed in the third block of the semester, the student will automatically receive a lowered individual grade. If three or more meetings are missed in the third block of the semester, the student will not have access to the exam of that project phase and that phase will count as grade zero.\n",
      "No reranker applied\n",
      "\n",
      "\n",
      "Reciprocal Rank Fusion Result:\n",
      "1. The Board of Examiners can excuse students from the participation in project meetings in individual cases due to personal circumstances and can offer repair opportunities for the project as a whole. The student must in such cases prove force majeure for all mandatory meeting that the student missed, see also Article 3.7 of the Rules and Regulations. Deviation from the group grade is possible in such cases. The Board of Examiners can also grant resits for projects in special circumstances. Since the project is an onsite group activity, students must be within commuting distance from Maastricht during each project activity.\n",
      "2. All project meetings are mandatory. One project meeting may be missed each block of the three blocks of a semester, without consequences, as an arrangement to cover force majeure and may only be used as such. If two or more meetings are missed in the first or second block of the semester, the student will not have access to the exam of that project phase and that phase will count as grade zero. If two meetings are missed in the third block of the semester, the student will automatically receive a lowered individual grade. If three or more meetings are missed in the third block of the semester, the student will not have access to the exam of that project phase and that phase will count as grade zero.\n",
      "3. On-campus attendance and participation in the project meetings and project skills trainings, is mandatory, see Article 4.4 of the EER. Missing a meeting or training in this article means failure to be present during part of or the complete meeting or training, inadequate participation or inadequately completing the assignments. For project meetings the project tutor or project coordinator decides whether a student missed it or not, and for the skill trainings the lecturer or project coordinator.\n",
      "4. Attendance and participation in other education activities may be part of an exam when announced in the study guide or Student Portal/the digital learning environment. Prior approval of the Board of Examiners is required.\n",
      "5. It is up to the examiners to decide which student will present what in the project presentations, and this decision can be communicated by the examiners last-minute. The first and second phase presentations are in principle non-public (unless the examiners decide otherwise), the final presentation is a public presentation.\n",
      "6. The resit is a repair opportunity, and the method shall be determined by the examiners. Repair opportunities can be individual or on a group level, where changes will be permitted to the composition of the original project group. Students who were expelled from the project or did not receive a grade in the current academic year are not allowed to take the project resit. A repair opportunity will only be offered if the grade is 4.0 or more (hence an NG is ineligible for a resit) to ensure that a student has obtained sufficient practical training. The student(s) will receive the resit assignment from the examiners within 2 working days after failing the project. This additional assignment must be handed in within 10 working days. If completed successfully, the student will receive a 6.0 for the project.\n",
      "7. Attendance and participation at project skill trainings and project meetings is mandatory. In addition, each student is required to participate actively in doing tasks with respect to the project and to cooperate actively with their group in order to successfully finish the project assignment.\n"
     ]
    }
   ],
   "execution_count": 5
  },
  {
   "metadata": {
    "ExecuteTime": {
     "end_time": "2024-05-18T16:03:15.568835700Z",
     "start_time": "2024-05-18T16:03:15.555549Z"
    }
   },
   "cell_type": "code",
   "source": [
    "result.keys()"
   ],
   "id": "16548c25e145a5a9",
   "outputs": [
    {
     "data": {
      "text/plain": "dict_keys(['context', 'query', 'response'])"
     },
     "execution_count": 6,
     "metadata": {},
     "output_type": "execute_result"
    }
   ],
   "execution_count": 6
  },
  {
   "metadata": {
    "ExecuteTime": {
     "end_time": "2024-05-18T15:58:07.600805900Z",
     "start_time": "2024-05-18T15:58:07.584607800Z"
    }
   },
   "cell_type": "code",
   "source": [
    "print(result[\"context\"])"
   ],
   "id": "dd26932f9201f36e",
   "outputs": [
    {
     "name": "stdout",
     "output_type": "stream",
     "text": [
      "[Document(page_content='The Board of Examiners can excuse students from the participation in project meetings in individual cases due to personal circumstances and can offer repair opportunities for the project as a whole. The student must in such cases prove force majeure for all mandatory meeting that the student missed, see also Article 3.7 of the Rules and Regulations. Deviation from the group grade is possible in such cases. The Board of Examiners can also grant resits for projects in special circumstances. Since the project is an onsite group activity, students must be within commuting distance from Maastricht during each project activity.', metadata={'article': '5.9', 'article_name': 'project hardship', 'document_name': 'rules and regulation', 'page': '23', 'section': '5', 'section_name': 'semester project regulations'}), Document(page_content='On-campus attendance and participation in the project meetings and project skills trainings, is mandatory, see Article 4.4 of the EER. Missing a meeting or training in this article means failure to be present during part of or the complete meeting or training, inadequate participation or inadequately completing the assignments. For project meetings the project tutor or project coordinator decides whether a student missed it or not, and for the skill trainings the lecturer or project coordinator.', metadata={'article': '5.4', 'article_name': 'attendance and participation', 'document_name': 'rules and regulation', 'page': '21', 'related_articles': 'Article 4.4', 'section': '5', 'section_name': 'semester project regulations'}), Document(page_content='All project meetings are mandatory. One project meeting may be missed each block of the three blocks of a semester, without consequences, as an arrangement to cover force majeure and may only be used as such. If two or more meetings are missed in the first or second block of the semester, the student will not have access to the exam of that project phase and that phase will count as grade zero. If two meetings are missed in the third block of the semester, the student will automatically receive a lowered individual grade. If three or more meetings are missed in the third block of the semester, the student will not have access to the exam of that project phase and that phase will count as grade zero.', metadata={'article': '5.4', 'article_name': 'attendance and participation', 'document_name': 'rules and regulation', 'page': '21', 'section': '5', 'section_name': 'semester project regulations'}), Document(page_content='Attendance and participation in other education activities may be part of an exam when announced in the study guide or Student Portal/the digital learning environment. Prior approval of the Board of Examiners is required.', metadata={'article': '4.4', 'article_name': 'attendance, participation, and best-efforts obligation', 'document_name': 'education and examination regulation', 'page': '11', 'section': '4', 'section_name': 'education'}), Document(page_content='It is up to the examiners to decide which student will present what in the project presentations, and this decision can be communicated by the examiners last-minute. The first and second phase presentations are in principle non-public (unless the examiners decide otherwise), the final presentation is a public presentation.', metadata={'article': '5.3', 'article_name': 'organization', 'document_name': 'rules and regulation', 'page': '21', 'section': '5', 'section_name': 'semester project regulations'}), Document(page_content='Attendance and participation at project skill trainings and project meetings is mandatory. In addition, each student is required to participate actively in doing tasks with respect to the project and to cooperate actively with their group in order to successfully finish the project assignment.', metadata={'article': '4.4', 'article_name': 'attendance, participation, and best-efforts obligation', 'document_name': 'education and examination regulation', 'page': '11', 'section': '4', 'section_name': 'education'}), Document(page_content='The resit is a repair opportunity, and the method shall be determined by the examiners. Repair opportunities can be individual or on a group level, where changes will be permitted to the composition of the original project group. Students who were expelled from the project or did not receive a grade in the current academic year are not allowed to take the project resit. A repair opportunity will only be offered if the grade is 4.0 or more (hence an NG is ineligible for a resit) to ensure that a student has obtained sufficient practical training. The student(s) will receive the resit assignment from the examiners within 2 working days after failing the project. This additional assignment must be handed in within 10 working days. If completed successfully, the student will receive a 6.0 for the project.', metadata={'article': '5.8', 'article_name': 'project resits', 'document_name': 'rules and regulation', 'page': '23', 'section': '5', 'section_name': 'semester project regulations'})]\n"
     ]
    }
   ],
   "execution_count": 8
  },
  {
   "metadata": {
    "ExecuteTime": {
     "end_time": "2024-05-18T16:05:59.002525800Z",
     "start_time": "2024-05-18T16:05:58.974569300Z"
    }
   },
   "cell_type": "code",
   "source": [
    "print(result[\"response\"])"
   ],
   "id": "ec37988e08843750",
   "outputs": [
    {
     "name": "stdout",
     "output_type": "stream",
     "text": [
      "Based on the Rules and Regulations, if you provide proof of force majeure, such as your recent surgery and the need for daily monitoring and dressings, the Board of Examiners may excuse you from participating in the project meetings in individual cases. They can offer repair opportunities for the project as a whole. However, since project meetings are mandatory on-site sessions, you may not be able to fully participate online and receive attendance credit. It is recommended to communicate your situation with the Board of Examiners and seek their guidance on how to proceed with your participation in the project meetings and pre-examination given your circumstances.\n",
      "\n",
      "References: \n",
      "- Rules and Regulations, Article: Project Hardship, Page: 23\n",
      "- Rules and Regulations, Article: Attendance and Participation, Page: 21\n",
      "- Education and Examination Regulation, Article: Attendance, Participation, and Best-Efforts Obligation, Page: 11\n",
      "\n",
      "Thanks for asking!\n"
     ]
    }
   ],
   "execution_count": 6
  },
  {
   "cell_type": "code",
   "execution_count": 12,
   "outputs": [
    {
     "name": "stdout",
     "output_type": "stream",
     "text": [
      "\n",
      "\n",
      "Reranker Results:\n",
      "1. The project grade is on a scale from 0 to 10, where the grade consists for 90% of the grade from paragraph 1, to which the skill class grade is added.\n",
      "2. Participation in project skill trainings is taken into account in the final grading. If a student has missed three or more skills trainings, the student will not be able to participate in the final examination of the project, meaning that an NG is given for the project. This NG will also be awarded if after the final examination it turns out that a student that was ineligible still participated.\n",
      "3. The project is graded on three occasions by the examiners. The first grade is issued after the presentation first phase and accounts for 15% of the final grade. The second grade is issued after the presentation second phase and accounts for 15% of the final grade. The third grade is issued after the final assessment at the end of the third block and accounts for 70% of the grade. These grades are then rescaled in Paragraph 5 to a range 0 to 9.\n",
      "4. The project is graded on three occasions by the examiners. The first grade is issued after the presentation first phase and accounts for 15% of the final grade. The second grade is issued after the presentation second phase and accounts for 15% of the final grade. The third grade is issued after the final assessment at the end of the third block and accounts for 70% of the grade. These grades are then rescaled in Paragraph 5 to a range 0 to 9.\n",
      "\n",
      "\n",
      "Reranker Results:\n",
      "1. Participation in project skill trainings is taken into account in the final grading. If a student has missed three or more skills trainings, the student will not be able to participate in the final examination of the project, meaning that an NG is given for the project. This NG will also be awarded if after the final examination it turns out that a student that was ineligible still participated.\n",
      "2. The project grade is on a scale from 0 to 10, where the grade consists for 90% of the grade from paragraph 1, to which the skill class grade is added.\n",
      "3. The project is graded on three occasions by the examiners. The first grade is issued after the presentation first phase and accounts for 15% of the final grade. The second grade is issued after the presentation second phase and accounts for 15% of the final grade. The third grade is issued after the final assessment at the end of the third block and accounts for 70% of the grade. These grades are then rescaled in Paragraph 5 to a range 0 to 9.\n",
      "4. The project is graded on three occasions by the examiners. The first grade is issued after the presentation first phase and accounts for 15% of the final grade. The second grade is issued after the presentation second phase and accounts for 15% of the final grade. The third grade is issued after the final assessment at the end of the third block and accounts for 70% of the grade. These grades are then rescaled in Paragraph 5 to a range 0 to 9.\n",
      "\n",
      "\n",
      "Reranker Results:\n",
      "1. If a student has participated fully in all but one skill trainings, where fully participating includes that the student has a passing grade for all assignments, the student will receive a grade of 0.5 for the skill classes.\n",
      "2. The skill trainings are graded on a scale from 0 to 1.\n",
      "3. Participation in project skill trainings is taken into account in the final grading. If a student has missed three or more skills trainings, the student will not be able to participate in the final examination of the project, meaning that an NG is given for the project. This NG will also be awarded if after the final examination it turns out that a student that was ineligible still participated.\n",
      "4. The project is graded on three occasions by the examiners. The first grade is issued after the presentation first phase and accounts for 15% of the final grade. The second grade is issued after the presentation second phase and accounts for 15% of the final grade. The third grade is issued after the final assessment at the end of the third block and accounts for 70% of the grade. These grades are then rescaled in Paragraph 5 to a range 0 to 9.\n",
      "\n",
      "\n",
      "Reranker Results:\n",
      "1. The project grade is on a scale from 0 to 10, where the grade consists for 90% of the grade from paragraph 1, to which the skill class grade is added.\n",
      "2. Participation in project skill trainings is taken into account in the final grading. If a student has missed three or more skills trainings, the student will not be able to participate in the final examination of the project, meaning that an NG is given for the project. This NG will also be awarded if after the final examination it turns out that a student that was ineligible still participated.\n",
      "3. The final assessment will be determined at the end of each project. Each project will be assessed separately and will be based on the following aspects: the project report; the project product; the project presentation; participation; project management and coorperation; the grades from earlier project phases. The requirements for the project product, report and presentations are determined separately for each project and will be listed in the project manual or on the Student Portal.\n",
      "4. The project is graded on three occasions by the examiners. The first grade is issued after the presentation first phase and accounts for 15% of the final grade. The second grade is issued after the presentation second phase and accounts for 15% of the final grade. The third grade is issued after the final assessment at the end of the third block and accounts for 70% of the grade. These grades are then rescaled in Paragraph 5 to a range 0 to 9.\n",
      "\n",
      "\n",
      "Reciprocal Rank Fusion Result:\n",
      "1. The project is graded on three occasions by the examiners. The first grade is issued after the presentation first phase and accounts for 15% of the final grade. The second grade is issued after the presentation second phase and accounts for 15% of the final grade. The third grade is issued after the final assessment at the end of the third block and accounts for 70% of the grade. These grades are then rescaled in Paragraph 5 to a range 0 to 9.\n",
      "2. Participation in project skill trainings is taken into account in the final grading. If a student has missed three or more skills trainings, the student will not be able to participate in the final examination of the project, meaning that an NG is given for the project. This NG will also be awarded if after the final examination it turns out that a student that was ineligible still participated.\n",
      "3. The project grade is on a scale from 0 to 10, where the grade consists for 90% of the grade from paragraph 1, to which the skill class grade is added.\n",
      "4. If a student has participated fully in all but one skill trainings, where fully participating includes that the student has a passing grade for all assignments, the student will receive a grade of 0.5 for the skill classes.\n",
      "5. The skill trainings are graded on a scale from 0 to 1.\n",
      "6. The final assessment will be determined at the end of each project. Each project will be assessed separately and will be based on the following aspects: the project report; the project product; the project presentation; participation; project management and coorperation; the grades from earlier project phases. The requirements for the project product, report and presentations are determined separately for each project and will be listed in the project manual or on the Student Portal.\n"
     ]
    },
    {
     "data": {
      "text/plain": "[Document(page_content='The project is graded on three occasions by the examiners. The first grade is issued after the presentation first phase and accounts for 15% of the final grade. The second grade is issued after the presentation second phase and accounts for 15% of the final grade. The third grade is issued after the final assessment at the end of the third block and accounts for 70% of the grade. These grades are then rescaled in Paragraph 5 to a range 0 to 9.', metadata={'page': '21 & 22', 'article': '5.6', 'article_name': 'project grade', 'document_name': 'rules and regulation', 'section': '5', 'section_name': 'semester project regulations'}),\n Document(page_content='Participation in project skill trainings is taken into account in the final grading. If a student has missed three or more skills trainings, the student will not be able to participate in the final examination of the project, meaning that an NG is given for the project. This NG will also be awarded if after the final examination it turns out that a student that was ineligible still participated.', metadata={'page': '21', 'article': '5.4', 'article_name': 'attendance and participation', 'document_name': 'rules and regulation', 'section': '5', 'section_name': 'semester project regulations'}),\n Document(page_content='The project grade is on a scale from 0 to 10, where the grade consists for 90% of the grade from paragraph 1, to which the skill class grade is added.', metadata={'page': '22', 'article': '5.6', 'article_name': 'project grade', 'document_name': 'rules and regulation', 'section': '5', 'section_name': 'semester project regulations'}),\n Document(page_content='If a student has participated fully in all but one skill trainings, where fully participating includes that the student has a passing grade for all assignments, the student will receive a grade of 0.5 for the skill classes.', metadata={'page': '22', 'article': '5.6', 'article_name': 'skill class grade', 'document_name': 'rules and regulation', 'section': '5', 'section_name': 'semester project regulations'}),\n Document(page_content='The skill trainings are graded on a scale from 0 to 1.', metadata={'page': '22', 'article': '5.6', 'article_name': 'project grade', 'document_name': 'rules and regulation', 'section': '5', 'section_name': 'semester project regulations'}),\n Document(page_content='The final assessment will be determined at the end of each project. Each project will be assessed separately and will be based on the following aspects: the project report; the project product; the project presentation; participation; project management and coorperation; the grades from earlier project phases. The requirements for the project product, report and presentations are determined separately for each project and will be listed in the project manual or on the Student Portal.', metadata={'page': '22', 'article': '5.6', 'article_name': 'project grade', 'document_name': 'rules and regulation', 'section': '5', 'section_name': 'semester project regulations'})]"
     },
     "execution_count": 12,
     "metadata": {},
     "output_type": "execute_result"
    }
   ],
   "source": [
    "agent.generate_response(query, multi_query=False, retrieve_type=\"reranker\", rerank_type=None)"
   ],
   "metadata": {
    "collapsed": false,
    "ExecuteTime": {
     "end_time": "2024-05-03T18:36:41.984834800Z",
     "start_time": "2024-05-03T18:36:34.658424700Z"
    }
   },
   "id": "5913b18115016bb3"
  },
  {
   "cell_type": "code",
   "execution_count": 13,
   "outputs": [
    {
     "data": {
      "text/plain": "  0%|          | 0/77 [00:00<?, ?it/s]",
      "application/vnd.jupyter.widget-view+json": {
       "version_major": 2,
       "version_minor": 0,
       "model_id": "889fda404e374122ab0668bb9b3bc7ff"
      }
     },
     "metadata": {},
     "output_type": "display_data"
    },
    {
     "name": "stderr",
     "output_type": "stream",
     "text": [
      "D:\\Code\\uni_llm\\venv\\lib\\site-packages\\transformers\\tokenization_utils_base.py:2692: UserWarning: `max_length` is ignored when `padding`=`True` and there is no truncation strategy. To pad to max length, use `padding='max_length'`.\n",
      "  warnings.warn(\n"
     ]
    },
    {
     "name": "stdout",
     "output_type": "stream",
     "text": [
      "\n",
      "\n",
      "LLM Reranker Results:\n",
      "1. The project grade is on a scale from 0 to 10, where the grade consists for 90% of the grade from paragraph 1, to which the skill class grade is added.\n",
      "2. Participation in project skill trainings is taken into account in the final grading. If a student has missed three or more skills trainings, the student will not be able to participate in the final examination of the project, meaning that an NG is given for the project. This NG will also be awarded if after the final examination it turns out that a student that was ineligible still participated.\n",
      "3. If a student has participated fully in all but one skill trainings, where fully participating includes that the student has a passing grade for all assignments, the student will receive a grade of 0.5 for the skill classes.\n",
      "4. The project is graded on three occasions by the examiners. The first grade is issued after the presentation first phase and accounts for 15% of the final grade. The second grade is issued after the presentation second phase and accounts for 15% of the final grade. The third grade is issued after the final assessment at the end of the third block and accounts for 70% of the grade. These grades are then rescaled in Paragraph 5 to a range 0 to 9.\n"
     ]
    },
    {
     "data": {
      "text/plain": "  0%|          | 0/77 [00:00<?, ?it/s]",
      "application/vnd.jupyter.widget-view+json": {
       "version_major": 2,
       "version_minor": 0,
       "model_id": "693ed32a387c4519a25c6f45a777fd22"
      }
     },
     "metadata": {},
     "output_type": "display_data"
    },
    {
     "name": "stdout",
     "output_type": "stream",
     "text": [
      "\n",
      "\n",
      "LLM Reranker Results:\n",
      "1. The project grade is on a scale from 0 to 10, where the grade consists for 90% of the grade from paragraph 1, to which the skill class grade is added.\n",
      "2. Participation in project skill trainings is taken into account in the final grading. If a student has missed three or more skills trainings, the student will not be able to participate in the final examination of the project, meaning that an NG is given for the project. This NG will also be awarded if after the final examination it turns out that a student that was ineligible still participated.\n",
      "3. If a student has participated fully in all skill classes, where the student also has a passing grade for all assignments, the student will receive the grade of 1 for the skill trainings.\n",
      "4. If a student has participated fully in all but one skill trainings, where fully participating includes that the student has a passing grade for all assignments, the student will receive a grade of 0.5 for the skill classes.\n"
     ]
    },
    {
     "data": {
      "text/plain": "  0%|          | 0/77 [00:00<?, ?it/s]",
      "application/vnd.jupyter.widget-view+json": {
       "version_major": 2,
       "version_minor": 0,
       "model_id": "d9cd41ac0c4f4610a32a46b1eddc6a8a"
      }
     },
     "metadata": {},
     "output_type": "display_data"
    },
    {
     "name": "stdout",
     "output_type": "stream",
     "text": [
      "\n",
      "\n",
      "LLM Reranker Results:\n",
      "1. If a student has participated fully in all but one skill trainings, where fully participating includes that the student has a passing grade for all assignments, the student will receive a grade of 0.5 for the skill classes.\n",
      "2. Participation in project skill trainings is taken into account in the final grading. If a student has missed three or more skills trainings, the student will not be able to participate in the final examination of the project, meaning that an NG is given for the project. This NG will also be awarded if after the final examination it turns out that a student that was ineligible still participated.\n",
      "3. The project grade is on a scale from 0 to 10, where the grade consists for 90% of the grade from paragraph 1, to which the skill class grade is added.\n",
      "4. If a student has participated fully in all skill classes, where the student also has a passing grade for all assignments, the student will receive the grade of 1 for the skill trainings.\n"
     ]
    },
    {
     "data": {
      "text/plain": "  0%|          | 0/77 [00:00<?, ?it/s]",
      "application/vnd.jupyter.widget-view+json": {
       "version_major": 2,
       "version_minor": 0,
       "model_id": "80255cf490814fff8600f7fa268ed53c"
      }
     },
     "metadata": {},
     "output_type": "display_data"
    },
    {
     "name": "stdout",
     "output_type": "stream",
     "text": [
      "\n",
      "\n",
      "LLM Reranker Results:\n",
      "1. The project grade is on a scale from 0 to 10, where the grade consists for 90% of the grade from paragraph 1, to which the skill class grade is added.\n",
      "2. If a student has participated fully in all but one skill trainings, where fully participating includes that the student has a passing grade for all assignments, the student will receive a grade of 0.5 for the skill classes.\n",
      "3. If a student has participated fully in all skill classes, where the student also has a passing grade for all assignments, the student will receive the grade of 1 for the skill trainings.\n",
      "4. The project is graded on three occasions by the examiners. The first grade is issued after the presentation first phase and accounts for 15% of the final grade. The second grade is issued after the presentation second phase and accounts for 15% of the final grade. The third grade is issued after the final assessment at the end of the third block and accounts for 70% of the grade. These grades are then rescaled in Paragraph 5 to a range 0 to 9.\n",
      "\n",
      "\n",
      "Reciprocal Rank Fusion Result:\n",
      "1. The project grade is on a scale from 0 to 10, where the grade consists for 90% of the grade from paragraph 1, to which the skill class grade is added.\n",
      "2. If a student has participated fully in all but one skill trainings, where fully participating includes that the student has a passing grade for all assignments, the student will receive a grade of 0.5 for the skill classes.\n",
      "3. Participation in project skill trainings is taken into account in the final grading. If a student has missed three or more skills trainings, the student will not be able to participate in the final examination of the project, meaning that an NG is given for the project. This NG will also be awarded if after the final examination it turns out that a student that was ineligible still participated.\n",
      "4. If a student has participated fully in all skill classes, where the student also has a passing grade for all assignments, the student will receive the grade of 1 for the skill trainings.\n",
      "5. The project is graded on three occasions by the examiners. The first grade is issued after the presentation first phase and accounts for 15% of the final grade. The second grade is issued after the presentation second phase and accounts for 15% of the final grade. The third grade is issued after the final assessment at the end of the third block and accounts for 70% of the grade. These grades are then rescaled in Paragraph 5 to a range 0 to 9.\n"
     ]
    },
    {
     "data": {
      "text/plain": "[Document(page_content='The project grade is on a scale from 0 to 10, where the grade consists for 90% of the grade from paragraph 1, to which the skill class grade is added.', metadata={'page': '22', 'article': '5.6', 'article_name': 'project grade', 'document_name': 'rules and regulation', 'section': '5', 'section_name': 'semester project regulations'}),\n Document(page_content='If a student has participated fully in all but one skill trainings, where fully participating includes that the student has a passing grade for all assignments, the student will receive a grade of 0.5 for the skill classes.', metadata={'page': '22', 'article': '5.6', 'article_name': 'skill class grade', 'document_name': 'rules and regulation', 'section': '5', 'section_name': 'semester project regulations'}),\n Document(page_content='Participation in project skill trainings is taken into account in the final grading. If a student has missed three or more skills trainings, the student will not be able to participate in the final examination of the project, meaning that an NG is given for the project. This NG will also be awarded if after the final examination it turns out that a student that was ineligible still participated.', metadata={'page': '21', 'article': '5.4', 'article_name': 'attendance and participation', 'document_name': 'rules and regulation', 'section': '5', 'section_name': 'semester project regulations'}),\n Document(page_content='If a student has participated fully in all skill classes, where the student also has a passing grade for all assignments, the student will receive the grade of 1 for the skill trainings.', metadata={'page': '22', 'article': '5.6', 'article_name': 'skill class grade', 'document_name': 'rules and regulation', 'section': '5', 'section_name': 'semester project regulations'}),\n Document(page_content='The project is graded on three occasions by the examiners. The first grade is issued after the presentation first phase and accounts for 15% of the final grade. The second grade is issued after the presentation second phase and accounts for 15% of the final grade. The third grade is issued after the final assessment at the end of the third block and accounts for 70% of the grade. These grades are then rescaled in Paragraph 5 to a range 0 to 9.', metadata={'page': '21 & 22', 'article': '5.6', 'article_name': 'project grade', 'document_name': 'rules and regulation', 'section': '5', 'section_name': 'semester project regulations'})]"
     },
     "execution_count": 13,
     "metadata": {},
     "output_type": "execute_result"
    }
   ],
   "source": [
    "agent.generate_response(query, multi_query=True, retrieve_type=\"llm_reranker\")"
   ],
   "metadata": {
    "collapsed": false,
    "ExecuteTime": {
     "end_time": "2024-05-03T18:37:21.733013400Z",
     "start_time": "2024-05-03T18:36:41.984834800Z"
    }
   },
   "id": "17c51394c46c23db"
  },
  {
   "cell_type": "code",
   "execution_count": null,
   "outputs": [],
   "source": [],
   "metadata": {
    "collapsed": false
   },
   "id": "3b81e734c36d18e0"
  }
 ],
 "metadata": {
  "kernelspec": {
   "display_name": "Python 3",
   "language": "python",
   "name": "python3"
  },
  "language_info": {
   "codemirror_mode": {
    "name": "ipython",
    "version": 2
   },
   "file_extension": ".py",
   "mimetype": "text/x-python",
   "name": "python",
   "nbconvert_exporter": "python",
   "pygments_lexer": "ipython2",
   "version": "2.7.6"
  }
 },
 "nbformat": 4,
 "nbformat_minor": 5
}
