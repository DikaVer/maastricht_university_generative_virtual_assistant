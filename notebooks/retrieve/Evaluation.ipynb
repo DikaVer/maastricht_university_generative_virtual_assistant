{
 "cells": [
  {
   "cell_type": "markdown",
   "id": "dc65c571",
   "metadata": {},
   "source": [
    "# Notebook to evaluate the Retrieval part of the system"
   ]
  },
  {
   "cell_type": "markdown",
   "id": "ca2c17c7",
   "metadata": {},
   "source": [
    "## Setup"
   ]
  },
  {
   "cell_type": "code",
   "execution_count": 1,
   "id": "initial_id",
   "metadata": {
    "ExecuteTime": {
     "end_time": "2024-05-03T18:41:51.518263800Z",
     "start_time": "2024-05-03T18:41:51.515263300Z"
    },
    "collapsed": true
   },
   "outputs": [],
   "source": [
    "# First we change the directory to the root directory of the project.\n",
    "import os\n",
    "os.chdir(os.getcwd().replace(\"\\\\notebooks\\\\retrieve\", \"\"))\n",
    "\n",
    "# Alternatively, move two directories up using the following two commands instead of running the above two lines.\n",
    "#%cd ..\n",
    "#%cd .."
   ]
  },
  {
   "cell_type": "code",
   "execution_count": null,
   "id": "92f10d61",
   "metadata": {},
   "outputs": [],
   "source": [
    "import pandas as pd\n",
    "from tqdm import tqdm\n",
    "from model.models import Agent"
   ]
  },
  {
   "cell_type": "code",
   "execution_count": 3,
   "id": "808c4f5210a529f7",
   "metadata": {
    "ExecuteTime": {
     "end_time": "2024-05-03T18:44:05.758031200Z",
     "start_time": "2024-05-03T18:44:05.750031800Z"
    },
    "collapsed": false
   },
   "outputs": [],
   "source": [
    "# vector search (embed_name: bge, openai, google, mistral)\n",
    "# Possible parameters are below, just three were wrapped.\n",
    "\"\"\" \n",
    "as_retriever function:\n",
    "        Converts the Chroma object to a retriever object.\n",
    "Args:\n",
    "            search_type (Optional[str]): Defines the type of search that\n",
    "                the Retriever should perform.\n",
    "                Can be \"similarity\" (default), \"mmr\", or\n",
    "                \"similarity_score_threshold\".\n",
    "            search_kwargs (Optional[Dict]): Keyword arguments to pass to the\n",
    "                search function. Can include things like:\n",
    "                    k: Amount of documents to return (Default: 4)\n",
    "                    score_threshold: Minimum relevance threshold\n",
    "                        for similarity_score_threshold\n",
    "                    fetch_k: Amount of documents to pass to MMR algorithm (Default: 20)\n",
    "                    lambda_mult: Diversity of results returned by MMR;\n",
    "                        1 for minimum diversity and 0 for maximum. (Default: 0.5)\n",
    "                    filter: Filter by document metadata\n",
    "\n",
    "        Returns:\n",
    "            VectorStoreRetriever: Retriever class for VectorStore.\n",
    "\"\"\"\n",
    "\n",
    "param_vs = {\n",
    "    \"embed_name\": \"openai_parser\",\n",
    "    \"param\":\n",
    "        {\n",
    "            \"search_type\": \"similarity\",\n",
    "            \"search_kwargs\": {\n",
    "                \"k\": 10,\n",
    "                # \"score_threshold\": None\n",
    "            }\n",
    "        }\n",
    "}\n",
    "\n",
    "model_in = {\n",
    "    \"vector_search\" : param_vs,\n",
    "}"
   ]
  },
  {
   "cell_type": "code",
   "execution_count": 4,
   "id": "e0b027874477e512",
   "metadata": {
    "ExecuteTime": {
     "end_time": "2024-05-03T18:44:40.603701200Z",
     "start_time": "2024-05-03T18:44:40.523206700Z"
    },
    "collapsed": false
   },
   "outputs": [],
   "source": [
    "agent = Agent(model_in)"
   ]
  },
  {
   "cell_type": "markdown",
   "id": "a8120031",
   "metadata": {},
   "source": [
    "## Example usage"
   ]
  },
  {
   "cell_type": "code",
   "execution_count": 6,
   "id": "293395a1cf779752",
   "metadata": {
    "ExecuteTime": {
     "end_time": "2024-05-03T18:44:41.456756500Z",
     "start_time": "2024-05-03T18:44:41.451756100Z"
    },
    "collapsed": false
   },
   "outputs": [],
   "source": [
    "#query = \"I have a question regarding the skill class grade. The skill class grade only affects the final grade for the project correct? Also, from what I understand from the grading and assessment, it's worth a total of 10% of the final grade so if you missed one skill class, you would only miss out on 5% of the final grade, correct?\""
   ]
  },
  {
   "cell_type": "code",
   "execution_count": 7,
   "id": "bb10d2d4d254507e",
   "metadata": {
    "ExecuteTime": {
     "end_time": "2024-05-03T18:44:55.382241400Z",
     "start_time": "2024-05-03T18:44:54.855477200Z"
    },
    "collapsed": false
   },
   "outputs": [],
   "source": [
    "#agent.retrieve_content(query)"
   ]
  },
  {
   "cell_type": "markdown",
   "id": "47e2d2ce",
   "metadata": {},
   "source": [
    "## Using provided QA pairs"
   ]
  },
  {
   "cell_type": "code",
   "execution_count": null,
   "id": "519a57a973862620",
   "metadata": {
    "collapsed": false
   },
   "outputs": [],
   "source": [
    "#df = pd.read_csv(\"data/QA/qa_pairs.csv\", sep=\";\")\n",
    "df = pd.read_csv(\"data/QA/qa_pairs_cleaned_V2.csv\", sep=\";\")\n",
    "df = df.dropna(subset=[\"Question\", \"Answer\"])\n",
    "df = df.dropna(axis=1)\n",
    "df"
   ]
  },
  {
   "cell_type": "code",
   "execution_count": null,
   "id": "697b548b",
   "metadata": {},
   "outputs": [],
   "source": [
    "df_retrieved_documents = []\n",
    "\n",
    "for query in tqdm(df[\"Question\"]):\n",
    "    retrieved_documents = agent.retrieve_content(query)\n",
    "    df_retrieved_documents.append(retrieved_documents)\n",
    "\n",
    "df[\"Retrieved Documents\"] = df_retrieved_documents"
   ]
  },
  {
   "cell_type": "code",
   "execution_count": 10,
   "id": "0debd0a9",
   "metadata": {},
   "outputs": [],
   "source": [
    "# Save the results to a pickle file to save computational resources (time and costs) and preserve the data structure.\n",
    "df.to_pickle('data/QA/P3 experiments/qa_pairs_cleaned_retrieved_openaiparser_google.pkl')"
   ]
  },
  {
   "cell_type": "code",
   "execution_count": null,
   "id": "301e8b66",
   "metadata": {},
   "outputs": [],
   "source": [
    "df"
   ]
  },
  {
   "cell_type": "markdown",
   "id": "b5ede7d6",
   "metadata": {},
   "source": [
    "## CHECKPOINT 1\n",
    "The notebook has been sub-divided by checkpoints to continue working at a later moment and load the previous work.\n",
    "\n",
    "Let's look at the first question and retrieved documents. One can load the saved retrievals by running the cell below"
   ]
  },
  {
   "cell_type": "code",
   "execution_count": 1,
   "id": "a5b90bb4",
   "metadata": {},
   "outputs": [],
   "source": [
    "##CHECKPOINT cell\n",
    "import os\n",
    "import pandas as pd\n",
    "\n",
    "os.chdir(os.getcwd().replace(\"\\\\notebooks\\\\retrieve\", \"\"))\n",
    "df = pd.read_pickle('data/QA/P3 experiments/qa_pairs_cleaned_retrieved_openaiparser_google.pkl')"
   ]
  },
  {
   "cell_type": "code",
   "execution_count": 4,
   "id": "89da7df8",
   "metadata": {},
   "outputs": [],
   "source": [
    "df.rename(columns={'DocumentList': 'idd'}, inplace=True)"
   ]
  },
  {
   "cell_type": "code",
   "execution_count": 5,
   "id": "f5834eaf",
   "metadata": {},
   "outputs": [],
   "source": [
    "df[\"idd\"]=df[\"idd\"].replace(\".\", \"0\")"
   ]
  },
  {
   "cell_type": "code",
   "execution_count": null,
   "id": "9c04fbbd",
   "metadata": {},
   "outputs": [],
   "source": [
    "from model.raw_data import documents\n",
    "\n",
    "page_content_to_iid = {doc.page_content: doc.metadata['iid'] for doc in documents}\n",
    "\n",
    "def extract_ids_from_docs(retrieved_docs):\n",
    "    ids = []\n",
    "    for doc in retrieved_docs:\n",
    "        if doc.page_content in page_content_to_iid:\n",
    "            ids.append(page_content_to_iid[doc.page_content])\n",
    "    return ids\n",
    "\n",
    "df[\"idd_retrieved\"] = df[\"Retrieved Documents\"].apply(extract_ids_from_docs)\n",
    "\n",
    "df"
   ]
  },
  {
   "cell_type": "code",
   "execution_count": 7,
   "id": "c288d284",
   "metadata": {},
   "outputs": [],
   "source": [
    "# Converti 'idd' in liste di interi\n",
    "df['idd'] = df['idd'].apply(lambda x: list(map(int, x.split(','))))"
   ]
  },
  {
   "cell_type": "code",
   "execution_count": null,
   "id": "69069a35",
   "metadata": {},
   "outputs": [],
   "source": [
    "import numpy as np\n",
    "metrics = []\n",
    "\n",
    "for index, row in df.iterrows():\n",
    "    idd = row[\"idd\"]\n",
    "    idd_retrieved = row[\"idd_retrieved\"]\n",
    "    \n",
    "    if idd==[0]: \n",
    "        metrics.append(np.nan)\n",
    "    else:\n",
    "        correctly_retrieved = set(idd).intersection(idd_retrieved)\n",
    "        metric = len(correctly_retrieved) / len(idd)\n",
    "        metrics.append(metric)\n",
    "\n",
    "df[\"retrieval_metric\"] = metrics\n",
    "\n",
    "df"
   ]
  },
  {
   "cell_type": "code",
   "execution_count": null,
   "id": "b7ef9d0c",
   "metadata": {},
   "outputs": [],
   "source": [
    "print(\"Mean retrieval metric: \", df[\"retrieval_metric\"].mean())"
   ]
  },
  {
   "cell_type": "code",
   "execution_count": null,
   "id": "a8531c4f",
   "metadata": {},
   "outputs": [],
   "source": [
    "df[\"idd\"]"
   ]
  },
  {
   "cell_type": "code",
   "execution_count": 11,
   "id": "e6cb0f3b",
   "metadata": {},
   "outputs": [],
   "source": [
    "from model.raw_data import documents\n",
    "\n",
    "def return_docs_from_ids(docs, ids):\n",
    "    relevant_docs = []\n",
    "    for doc in docs:\n",
    "        #print(doc)\n",
    "        if doc.metadata['iid'] in ids:\n",
    "            relevant_docs.append(doc)\n",
    "    return relevant_docs\n",
    "\n",
    "\n",
    "#df[\"idd\"] = df[\"idd\"].apply(lambda x: [int(i) for i in str(x).split(',') if i.strip().isdigit()]) # not needed when rerunning from the checkpoint\n",
    "\n",
    "df[\"Truth\"] = [return_docs_from_ids(documents, ids) for ids in df[\"idd\"]]"
   ]
  },
  {
   "cell_type": "code",
   "execution_count": null,
   "id": "756916c1",
   "metadata": {},
   "outputs": [],
   "source": [
    "df"
   ]
  },
  {
   "cell_type": "code",
   "execution_count": 13,
   "id": "1aaea568",
   "metadata": {},
   "outputs": [],
   "source": [
    "def display_data(df: pd.DataFrame, index: int):\n",
    "    print(\"Q:\", df.iloc[index][\"Question\"])\n",
    "    print(\"A:\", df.iloc[index][\"Answer\"])\n",
    "    print(10*\"-\")\n",
    "    print(\"Retrieved Documents:\")\n",
    "    for doc in df.iloc[index][\"Retrieved Documents\"]:\n",
    "        print(doc.page_content)\n",
    "    print(10*\"-\")\n",
    "    print(\"True Documents:\")\n",
    "    for doc in df.iloc[index][\"Truth\"]:\n",
    "        print(doc.page_content)"
   ]
  },
  {
   "cell_type": "code",
   "execution_count": null,
   "id": "0c2bb18b",
   "metadata": {},
   "outputs": [],
   "source": [
    "i=15\n",
    "display_data(df, i)"
   ]
  },
  {
   "cell_type": "markdown",
   "id": "ca1af4b7",
   "metadata": {},
   "source": [
    "### Generating responses"
   ]
  },
  {
   "cell_type": "code",
   "execution_count": null,
   "id": "7a8b5711",
   "metadata": {},
   "outputs": [],
   "source": [
    "from model.models import Agent\n",
    "from tqdm import tqdm\n",
    "\n",
    "def generate_answer(queries, multi_query=True, retrieve_type=\"vector_search\", rerank_type=None):\n",
    "    # vector search\n",
    "    param_vs = {\n",
    "        \"embed_name\": \"openai_parser\",\n",
    "        \"param\":\n",
    "            {\n",
    "                \"search_type\": \"similarity\",\n",
    "                \"search_kwargs\": {\n",
    "                    \"k\": 10,\n",
    "                    # \"score_threshold\": None\n",
    "                }\n",
    "            }\n",
    "    }\n",
    "\n",
    "    # multi query\n",
    "    param_mq = {\n",
    "        \"param\":\n",
    "            {\n",
    "                \"llm_model\": \"openai\",\n",
    "                \"temperature\": 0,\n",
    "                \"top_p\": None,\n",
    "                \"top_k\": None,\n",
    "                \"frequency_penalty\": None,\n",
    "                \"max_tokens\": None\n",
    "            }\n",
    "    }\n",
    "\n",
    "    param_google_reranker = {\n",
    "        \"param\":\n",
    "            {\n",
    "                \"k\": 5,\n",
    "            }\n",
    "    }\n",
    "\n",
    "    # Response LLM\n",
    "    param_response_llm = {\n",
    "        \"param\": {\n",
    "\n",
    "            \"llm\": {\n",
    "                \"llm_model\": \"google\",\n",
    "                \"temperature\": 0.2,\n",
    "                \"top_p\": None,\n",
    "                \"top_k\": None,\n",
    "                \"frequency_penalty\": None,\n",
    "                \"max_tokens\": None\n",
    "            },\n",
    "            \"shots\": {\n",
    "                \"embed_name\": \"openai\",\n",
    "                \"k\": 0  # 0 means no shot\n",
    "            }\n",
    "        }\n",
    "    }\n",
    "\n",
    "    model_in = {\n",
    "        \"vector_search\": param_vs,\n",
    "        \"multi_query\": param_mq,\n",
    "        \"google_reranker\": param_google_reranker,\n",
    "        \"response_llm\": param_response_llm\n",
    "    }\n",
    "\n",
    "    agent = Agent(model_in, DEBUG=False)\n",
    "\n",
    "    results = []\n",
    "\n",
    "    for query in tqdm(queries):\n",
    "        result = agent.generate_response(query, multi_query=multi_query, retrieve_type=retrieve_type, rerank_type=rerank_type, self_reflection=False)\n",
    "        results.append(result)\n",
    "\n",
    "    return results"
   ]
  },
  {
   "cell_type": "code",
   "execution_count": null,
   "id": "10e52bed",
   "metadata": {},
   "outputs": [],
   "source": [
    "queries = df[\"Question\"].to_list()\n",
    "results = generate_answer(queries, multi_query=True, retrieve_type=\"vector_search\", rerank_type=\"google_reranker\")"
   ]
  },
  {
   "cell_type": "code",
   "execution_count": 17,
   "id": "3ee44141",
   "metadata": {},
   "outputs": [],
   "source": [
    "answer_after_generation = [result[\"response\"] for result in results]"
   ]
  },
  {
   "cell_type": "code",
   "execution_count": null,
   "id": "443a818c",
   "metadata": {},
   "outputs": [],
   "source": [
    "df[\"Answer after generation\"] = answer_after_generation\n",
    "df"
   ]
  },
  {
   "cell_type": "code",
   "execution_count": 19,
   "id": "a7a7feda",
   "metadata": {},
   "outputs": [],
   "source": [
    "# Save the results to a pkl file to save computational resources (time and costs)\n",
    "df.to_pickle('data/QA/P3 experiments/qa_pairs_cleaned_retrieved_openaiparser_google.pkl') # Save to pickle to preserve datastructure"
   ]
  },
  {
   "cell_type": "markdown",
   "id": "58bdd503",
   "metadata": {},
   "source": [
    "## CHECKPOINT 2 - Evaluation using RAGAS\n",
    "Let's look at the evaluation of the entire pipeline using RAGAS. One can load the saved retrievals and generations by running the cell below"
   ]
  },
  {
   "cell_type": "code",
   "execution_count": 1,
   "id": "adfa441e",
   "metadata": {},
   "outputs": [],
   "source": [
    "##CHECKPOINT cell\n",
    "\n",
    "import os\n",
    "import pandas as pd\n",
    "\n",
    "os.chdir(os.getcwd().replace(\"\\\\notebooks\\\\retrieve\", \"\"))\n",
    "df = pd.read_pickle('data/QA/P3 experiments/qa_pairs_cleaned_retrieved_openaiparser_google.pkl')"
   ]
  },
  {
   "cell_type": "code",
   "execution_count": null,
   "id": "786a963d",
   "metadata": {},
   "outputs": [],
   "source": [
    "df"
   ]
  },
  {
   "cell_type": "code",
   "execution_count": 3,
   "id": "4a45f174",
   "metadata": {},
   "outputs": [],
   "source": [
    "questions = df[\"Question\"].to_list()\n",
    "answers_by_Martijn = df[\"Answer\"].to_list()\n",
    "answer_after_generation = df[\"Answer after generation\"].to_list()\n",
    "contexts = []\n",
    "\n",
    "for i in range(len(df)):\n",
    "    #ground_truths.append(\" \".join([doc.page_content for doc in df.iloc[i][\"Truth\"]])) #pay attention, this is a str\n",
    "    contexts.append([\" \".join([doc.page_content for doc in df.iloc[i][\"Retrieved Documents\"]])]) #pay attention, this is a List[str]"
   ]
  },
  {
   "cell_type": "code",
   "execution_count": 4,
   "id": "2a07a95b",
   "metadata": {},
   "outputs": [],
   "source": [
    "test_example = False #just use one example of the dataset\n",
    "\n",
    "if test_example == True:\n",
    "    exmp = {\n",
    "        'question': [questions[6]],\n",
    "        'answer': [answer_after_generation[6]],\n",
    "        'contexts': [contexts[6]],\n",
    "        'ground_truth': [answers_by_Martijn[6]]\n",
    "    }\n",
    "else:\n",
    "    exmp = {\n",
    "        'question': questions,\n",
    "        'answer': answer_after_generation,\n",
    "        'contexts': contexts,\n",
    "        'ground_truth': answers_by_Martijn\n",
    "    }"
   ]
  },
  {
   "cell_type": "code",
   "execution_count": 5,
   "id": "5ce5dc66",
   "metadata": {},
   "outputs": [],
   "source": [
    "from datasets import Dataset\n",
    "custom_dataset = Dataset.from_dict(exmp)"
   ]
  },
  {
   "cell_type": "code",
   "execution_count": null,
   "id": "fecfb7b0",
   "metadata": {},
   "outputs": [],
   "source": [
    "print(custom_dataset)"
   ]
  },
  {
   "cell_type": "code",
   "execution_count": null,
   "id": "efabd85e",
   "metadata": {},
   "outputs": [],
   "source": [
    "# Load local environment variables\n",
    "from dotenv import load_dotenv\n",
    "print(\"Environment variables are loaded = \", load_dotenv())"
   ]
  },
  {
   "cell_type": "code",
   "execution_count": 8,
   "id": "d6b6189a",
   "metadata": {},
   "outputs": [],
   "source": [
    "import os\n",
    "openai_api_key = os.getenv(\"OPENAI_API_KEY\")\n",
    "huggingface_api_key = os.getenv(\"HUGGINGFACE_API_KEY\")"
   ]
  },
  {
   "cell_type": "code",
   "execution_count": null,
   "id": "49a962bd",
   "metadata": {},
   "outputs": [],
   "source": [
    "from model.utils.utils import get_llm_model, get_embed_model\n",
    "from ragas.metrics import answer_relevancy, faithfulness, context_recall, context_precision\n",
    "from ragas import evaluate\n",
    "from tqdm import tqdm\n",
    "import time\n",
    "\n",
    "langchain_llm = get_llm_model(\"openai\", temperature=0.7)\n",
    "langchain_embeddings = get_embed_model(\"openai\")\n",
    "\n",
    "for i in tqdm(range(len(df))):\n",
    "\n",
    "    exmp = {\n",
    "        'question': [questions[i]],\n",
    "        'answer': [answer_after_generation[i]],\n",
    "        'contexts': [contexts[i]],\n",
    "        'ground_truth': [answers_by_Martijn[i]]\n",
    "    }\n",
    "\n",
    "    custom_dataset = Dataset.from_dict(exmp)\n",
    "\n",
    "    results = evaluate(custom_dataset, metrics=[context_precision, context_recall, answer_relevancy, faithfulness], llm=langchain_llm, embeddings=langchain_embeddings, is_async=True)\n",
    "\n",
    "    if i == 0:\n",
    "        df_results = results.to_pandas()\n",
    "    if i != 0:\n",
    "        df_results = pd.concat([df_results, results.to_pandas()])\n",
    "\n",
    "    time.sleep(3) # To avoid the API rate limit"
   ]
  },
  {
   "cell_type": "code",
   "execution_count": null,
   "id": "d6eeacf9",
   "metadata": {},
   "outputs": [],
   "source": [
    "df_results = df_results.reset_index().drop(columns=[\"index\"])\n",
    "df_results"
   ]
  },
  {
   "cell_type": "code",
   "execution_count": 12,
   "id": "294f8925",
   "metadata": {},
   "outputs": [],
   "source": [
    "# Save the results to a pkl file to save computational resources (time and costs)\n",
    "df_results.to_pickle('data/QA/P3 experiments/qa_pairs_cleaned_retrieved_openaiparser_google_evaluated.pkl') # Save to pickle to preserve datastructure"
   ]
  },
  {
   "cell_type": "markdown",
   "id": "9ecadb77",
   "metadata": {},
   "source": [
    "## CHECKPOINT 3 - Evaluation manual inspection\n",
    "Let's look at the evaluation of the entire pipeline using RAGAS. One can load the saved retrievals and generations by running the cell below"
   ]
  },
  {
   "cell_type": "code",
   "execution_count": 1,
   "id": "0f35083b",
   "metadata": {},
   "outputs": [],
   "source": [
    "##CHECKPOINT cell\n",
    "\n",
    "import os\n",
    "import pandas as pd\n",
    "\n",
    "os.chdir(os.getcwd().replace(\"\\\\notebooks\\\\retrieve\", \"\"))\n",
    "df_results = pd.read_pickle('data/QA/P3 experiments/qa_pairs_cleaned_retrieved_openaiparser_google_evaluated.pkl')"
   ]
  },
  {
   "cell_type": "code",
   "execution_count": null,
   "id": "6258215a",
   "metadata": {},
   "outputs": [],
   "source": [
    "df_results"
   ]
  },
  {
   "cell_type": "code",
   "execution_count": null,
   "id": "fc31cc7c",
   "metadata": {},
   "outputs": [],
   "source": [
    "import numpy as np\n",
    "print(\"Context Precision:\", np.mean(df_results[\"context_precision\"]))\n",
    "print(\"Context Recall:\", np.mean(df_results[\"context_recall\"]))\n",
    "print(\"Answer Relevancy:\", np.mean(df_results[\"answer_relevancy\"]))\n",
    "print(\"Faithfulness:\", np.mean(df_results[\"faithfulness\"]))"
   ]
  },
  {
   "cell_type": "code",
   "execution_count": 4,
   "id": "27e01799",
   "metadata": {},
   "outputs": [],
   "source": [
    "def display_data(df: pd.DataFrame, index: int):\n",
    "    print('Index', i)\n",
    "    print(\"Q:\", df.iloc[index][\"question\"])\n",
    "    print(\"A:\", df.iloc[index][\"answer\"])\n",
    "    print(10*\"-\")\n",
    "    print(\"Retrieved Documents:\")\n",
    "    print(df.iloc[index][\"contexts\"])\n",
    "    print(10*\"-\")\n",
    "    print(\"True Answer:\")\n",
    "    print(df.iloc[index][\"ground_truth\"])\n",
    "    print()\n",
    "    print()"
   ]
  }
 ],
 "metadata": {
  "kernelspec": {
   "display_name": "university-grounded-llm-pT5sllf0-py3.10",
   "language": "python",
   "name": "python3"
  },
  "language_info": {
   "codemirror_mode": {
    "name": "ipython",
    "version": 3
   },
   "file_extension": ".py",
   "mimetype": "text/x-python",
   "name": "python",
   "nbconvert_exporter": "python",
   "pygments_lexer": "ipython3",
   "version": "3.10.11"
  }
 },
 "nbformat": 4,
 "nbformat_minor": 5
}
