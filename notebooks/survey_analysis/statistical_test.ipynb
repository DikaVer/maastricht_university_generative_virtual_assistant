{
 "cells": [
  {
   "cell_type": "markdown",
   "metadata": {},
   "source": [
    "# Statistical Test Notebook\n",
    "For evaluating the signficance of the improvement in correctly answered scenarios, reduction in \"I don't know\" and increase helpfulness."
   ]
  },
  {
   "cell_type": "code",
   "execution_count": 1,
   "metadata": {},
   "outputs": [],
   "source": [
    "# Imports\n",
    "import numpy as np\n",
    "from scipy import stats"
   ]
  },
  {
   "cell_type": "markdown",
   "metadata": {},
   "source": [
    "## Correctly answered scenarios"
   ]
  },
  {
   "cell_type": "code",
   "execution_count": 2,
   "metadata": {},
   "outputs": [],
   "source": [
    "# Both days, all scenarios\n",
    "#wo_va = np.array([32.4, 17.6, 32.4, 2.9, 53.3, 50, 63.3, 36.7])\n",
    "#w_va = np.array([46.7, 26.7, 56.7, 26.7, 35.3, 73.5, 50, 32.4])\n",
    "\n",
    "# Both days, without scenarios 5:\n",
    "#wo_va = np.array([32.4, 17.6, 32.4, 2.9, 50, 63.3, 36.7])\n",
    "#w_va = np.array([46.7, 26.7, 56.7, 26.7, 73.5, 50, 32.4])\n",
    "\n",
    "# Both days, without scenarios 5 and 7:\n",
    "wo_va = np.array([32.4, 17.6, 32.4, 2.9, 50, 36.7])\n",
    "w_va = np.array([46.7, 26.7, 56.7, 26.7, 73.5, 32.4])"
   ]
  },
  {
   "cell_type": "markdown",
   "metadata": {},
   "source": [
    "### Using Scipy and NumPy"
   ]
  },
  {
   "cell_type": "code",
   "execution_count": 3,
   "metadata": {},
   "outputs": [
    {
     "data": {
      "text/plain": [
       "TtestResult(statistic=-3.262957265749972, pvalue=0.022372269756085163, df=5)"
      ]
     },
     "execution_count": 3,
     "metadata": {},
     "output_type": "execute_result"
    }
   ],
   "source": [
    "stats.ttest_rel(a = wo_va, b = w_va)"
   ]
  },
  {
   "cell_type": "markdown",
   "metadata": {},
   "source": [
    "As the p-value is less than 0.05 and the test statistic is negative, we can construct a 95% confidence interval that the results with the use of a Virtual Assistant is better. "
   ]
  },
  {
   "cell_type": "markdown",
   "metadata": {},
   "source": [
    "### Using material from the Maastricht Unversity \"Simulation and Statistical Analysis\" course at the Department of Advanced Computing Sciences.\n",
    "\n",
    "Especially inspired by the chapter about \"Comparing Alternative System Configuration\" in \"Simulation Modeling and Analysis\" by Averill M. Law.\n",
    "\n",
    "BibTex:\n",
    "@inbook{Law_2015, edition={5}, title={Comparing Alternative System Configurations}, booktitle={Simulation Modeling and Analysis}, publisher={McGraw-Hill Education}, author={Law, Averill M}, year={2015}, pages={556–586}, language={en} }"
   ]
  },
  {
   "cell_type": "code",
   "execution_count": 4,
   "metadata": {},
   "outputs": [],
   "source": [
    "#https://www.ttable.org/\n",
    "t_value = 2.365 #95%\n",
    "#t_value = 1.895 #90%"
   ]
  },
  {
   "cell_type": "code",
   "execution_count": 5,
   "metadata": {},
   "outputs": [],
   "source": [
    "def construct_confidence_interval(wo_va, w_va, t_value):\n",
    "    # Construct an array with the differences\n",
    "    z = wo_va - w_va\n",
    "    mean_z = np.mean(z)\n",
    "\n",
    "    # Estimate the variance\n",
    "    l = []\n",
    "    for i in range(len(wo_va)):\n",
    "        l.append(np.square(z[i] - mean_z))\n",
    "    l = np.array(l)\n",
    "\n",
    "    var_est = np.sum(l) / (len(wo_va)*(len(wo_va) - 1))\n",
    "\n",
    "    # Constructing the confidence interval\n",
    "    lb = mean_z - t_value * np.sqrt(var_est)\n",
    "    ub = mean_z + t_value * np.sqrt(var_est)\n",
    "\n",
    "    return lb, ub"
   ]
  },
  {
   "cell_type": "code",
   "execution_count": 6,
   "metadata": {},
   "outputs": [
    {
     "name": "stdout",
     "output_type": "stream",
     "text": [
      "Confidence interval: (-26.073266, -4.160067)\n"
     ]
    }
   ],
   "source": [
    "lb, ub = construct_confidence_interval(wo_va, w_va, t_value)\n",
    "print(f\"Confidence interval: ({lb:3f}, {ub:3f})\")"
   ]
  },
  {
   "cell_type": "markdown",
   "metadata": {},
   "source": [
    "As the confidence interval does not include 0, it means that we can reject the null hypothesis which was that the means between the two test versions is the same. In other words, the null hypothesis is that there is no difference in the correctly answered scenarios with and without using the Virtual Assistant. As the confidence interval is on the negative side, it means that the using the virtual assistant performed better, recall that ```z=wo_va-w_va```"
   ]
  },
  {
   "cell_type": "markdown",
   "metadata": {},
   "source": [
    "## Number of \"I don't know\" answered scenarios"
   ]
  },
  {
   "cell_type": "code",
   "execution_count": 7,
   "metadata": {},
   "outputs": [],
   "source": [
    "# Both days, all scenarios:\n",
    "#wo_va = np.array([29.4, 32.4, 50, 41.4, 30, 30, 3.3, 30])\n",
    "#w_va = np.array([16.7, 6.7, 16.7, 26.7, 2.9, 5.9, 2.9, 32.4])\n",
    "\n",
    "# Both days, without scenarios 5:\n",
    "wo_va = np.array([29.4, 32.4, 50, 41.4, 30, 3.3, 30])\n",
    "w_va = np.array([16.7, 6.7, 16.7, 26.7, 5.9, 2.9, 32.4])\n",
    "\n",
    "# Both days, without scenarios 5 and 7:\n",
    "#wo_va = np.array([29.4, 32.4, 50, 41.4, 30, 30])\n",
    "#w_va = np.array([16.7, 6.7, 16.7, 26.7, 5.9, 32.4])"
   ]
  },
  {
   "cell_type": "markdown",
   "metadata": {},
   "source": [
    "### Using Scipy and NumPy"
   ]
  },
  {
   "cell_type": "code",
   "execution_count": 8,
   "metadata": {},
   "outputs": [
    {
     "data": {
      "text/plain": [
       "TtestResult(statistic=3.0974346165366513, pvalue=0.021185731908727624, df=6)"
      ]
     },
     "execution_count": 8,
     "metadata": {},
     "output_type": "execute_result"
    }
   ],
   "source": [
    "stats.ttest_rel(a = wo_va, b = w_va)"
   ]
  },
  {
   "cell_type": "markdown",
   "metadata": {},
   "source": [
    "As the p-value is less than 0.05 and the test statistic is negative again, we can construct a 95% confidence interval that the results with the use of a Virtual Assistant is better. "
   ]
  },
  {
   "cell_type": "markdown",
   "metadata": {},
   "source": [
    "### Using material from the Maastricht Unversity \"Simulation and Statistical Analysis\" course at the Department of Advanced Computing Sciences.\n",
    "\n",
    "Especially inspired by the chapter about \"Comparing Alternative System Configuration\" in \"Simulation Modeling and Analysis\" by Averill M. Law.\n",
    "\n",
    "BibTex:\n",
    "@inbook{Law_2015, edition={5}, title={Comparing Alternative System Configurations}, booktitle={Simulation Modeling and Analysis}, publisher={McGraw-Hill Education}, author={Law, Averill M}, year={2015}, pages={556–586}, language={en} }"
   ]
  },
  {
   "cell_type": "code",
   "execution_count": 9,
   "metadata": {},
   "outputs": [
    {
     "name": "stdout",
     "output_type": "stream",
     "text": [
      "Confidence interval: (3.665206, 27.334794)\n"
     ]
    }
   ],
   "source": [
    "lb, ub = construct_confidence_interval(wo_va, w_va, t_value)\n",
    "print(f\"Confidence interval: ({lb:3f}, {ub:3f})\")"
   ]
  },
  {
   "cell_type": "markdown",
   "metadata": {},
   "source": [
    "As the confidence interval does not include 0, it means that we can reject the null hypothesis which was that the means between the two test versions is the same. In other words, the null hypothesis is that there is no difference in the amount of \"I don't know\"s submitted answered in the scenarios with and without using the Virtual Assistant. As the confidence interval is on the positive side, it means that the using the Virtual Assistant performed better, recall that ```z=wo_va-w_va```, but this time we want to avoid giving \"I don't know\" as an answer."
   ]
  }
 ],
 "metadata": {
  "kernelspec": {
   "display_name": "university-grounded-llm-pT5sllf0-py3.10",
   "language": "python",
   "name": "python3"
  },
  "language_info": {
   "codemirror_mode": {
    "name": "ipython",
    "version": 3
   },
   "file_extension": ".py",
   "mimetype": "text/x-python",
   "name": "python",
   "nbconvert_exporter": "python",
   "pygments_lexer": "ipython3",
   "version": "3.10.11"
  }
 },
 "nbformat": 4,
 "nbformat_minor": 2
}
