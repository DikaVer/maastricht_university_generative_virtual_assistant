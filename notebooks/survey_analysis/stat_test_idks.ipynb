{
 "cells": [
  {
   "cell_type": "markdown",
   "metadata": {},
   "source": [
    "# Statistical test notebook for\n",
    "evaluating the percentage of #idk_submission of the survey"
   ]
  },
  {
   "cell_type": "code",
   "execution_count": 36,
   "metadata": {},
   "outputs": [],
   "source": [
    "#https://www.ttable.org/\n",
    "t_value = 2.365 #95%\n",
    "#t_value = 1.895 #90%"
   ]
  },
  {
   "cell_type": "markdown",
   "metadata": {},
   "source": [
    "# Both days"
   ]
  },
  {
   "cell_type": "code",
   "execution_count": 37,
   "metadata": {},
   "outputs": [],
   "source": [
    "import numpy as np\n",
    "\n",
    "#wo_va = np.array([29.4, 32.4, 50, 41.4, 30, 30, 3.3, 30])\n",
    "#w_va = np.array([16.7, 6.7, 16.7, 26.7, 2.9, 5.9, 2.9, 32.4])\n",
    "\n",
    "#without scenarios 5&7\n",
    "#wo_va = np.array([29.4, 32.4, 50, 41.4, 30, 30])\n",
    "#w_va = np.array([16.7, 6.7, 16.7, 26.7, 5.9, 32.4])\n",
    "\n",
    "#without scenario 5\n",
    "wo_va = np.array([29.4, 32.4, 50, 41.4, 30, 3.3, 30])\n",
    "w_va = np.array([16.7, 6.7, 16.7, 26.7, 5.9, 2.9, 32.4])\n",
    "\n",
    "z = wo_va - w_va\n",
    "mean_z = np.mean(z)\n"
   ]
  },
  {
   "cell_type": "code",
   "execution_count": 38,
   "metadata": {},
   "outputs": [],
   "source": [
    "l = []\n",
    "for i in range(len(wo_va)):\n",
    "    l.append(np.square(z[i] - mean_z))\n",
    "l = np.array(l)\n",
    "\n",
    "var_est = np.sum(l) / (len(wo_va)*(len(wo_va) - 1))"
   ]
  },
  {
   "cell_type": "code",
   "execution_count": 39,
   "metadata": {},
   "outputs": [
    {
     "data": {
      "text/plain": [
       "(3.6652061986096047, 27.334793801390397)"
      ]
     },
     "execution_count": 39,
     "metadata": {},
     "output_type": "execute_result"
    }
   ],
   "source": [
    "lb = mean_z - t_value * np.sqrt(var_est)\n",
    "ub = mean_z + t_value * np.sqrt(var_est)\n",
    "\n",
    "lb, ub"
   ]
  },
  {
   "cell_type": "markdown",
   "metadata": {},
   "source": [
    "# Only Friday"
   ]
  },
  {
   "cell_type": "code",
   "execution_count": 40,
   "metadata": {},
   "outputs": [],
   "source": [
    "import numpy as np\n",
    "\n",
    "#wo_va = np.array([100, 33.3, 44.4, 27.8, 28.6, 28.6, 7.1, 35.7])\n",
    "#w_va = np.array([14.3, 7.1, 14.3, 21.4, 0, 11.1, 0, 33.3])\n",
    "\n",
    "#without scenarios 5&7\n",
    "#wo_va = np.array([100, 33.3, 44.4, 27.8, 28.6, 35.7])\n",
    "#w_va = np.array([14.3, 7.1, 14.3, 21.4, 11.1, 33.3])\n",
    "\n",
    "#without scenario 5\n",
    "wo_va = np.array([100, 33.3, 44.4, 27.8, 28.6, 7.1, 35.7])\n",
    "w_va = np.array([14.3, 7.1, 14.3, 21.4, 11.1, 0, 33.3])\n",
    "\n",
    "z = wo_va - w_va\n",
    "mean_z = np.mean(z)"
   ]
  },
  {
   "cell_type": "code",
   "execution_count": 41,
   "metadata": {},
   "outputs": [],
   "source": [
    "l = []\n",
    "for i in range(len(wo_va)):\n",
    "    l.append(np.square(z[i] - mean_z))\n",
    "l = np.array(l)\n",
    "\n",
    "var_est = np.sum(l) / (len(wo_va)*(len(wo_va) - 1))"
   ]
  },
  {
   "cell_type": "code",
   "execution_count": 42,
   "metadata": {},
   "outputs": [
    {
     "data": {
      "text/plain": [
       "(-0.6055777479243645, 50.71986346221008)"
      ]
     },
     "execution_count": 42,
     "metadata": {},
     "output_type": "execute_result"
    }
   ],
   "source": [
    "lb = mean_z - t_value * np.sqrt(var_est)\n",
    "ub = mean_z + t_value * np.sqrt(var_est)\n",
    "\n",
    "lb, ub"
   ]
  }
 ],
 "metadata": {
  "kernelspec": {
   "display_name": "university-grounded-llm-pT5sllf0-py3.10",
   "language": "python",
   "name": "python3"
  },
  "language_info": {
   "codemirror_mode": {
    "name": "ipython",
    "version": 3
   },
   "file_extension": ".py",
   "mimetype": "text/x-python",
   "name": "python",
   "nbconvert_exporter": "python",
   "pygments_lexer": "ipython3",
   "version": "3.10.11"
  }
 },
 "nbformat": 4,
 "nbformat_minor": 2
}
