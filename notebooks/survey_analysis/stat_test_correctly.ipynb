{
 "cells": [
  {
   "cell_type": "markdown",
   "metadata": {},
   "source": [
    "# Statistical test notebook for\n",
    "evaluating the percentage of #correct_submission of the survey"
   ]
  },
  {
   "cell_type": "code",
   "execution_count": 29,
   "metadata": {},
   "outputs": [],
   "source": [
    "#https://www.ttable.org/\n",
    "#t_value = 2.365 #95%\n",
    "t_value = 1.895 #90%"
   ]
  },
  {
   "cell_type": "markdown",
   "metadata": {},
   "source": [
    "# Both days"
   ]
  },
  {
   "cell_type": "code",
   "execution_count": 30,
   "metadata": {},
   "outputs": [],
   "source": [
    "import numpy as np\n",
    "\n",
    "#wo_va = np.array([32.4, 17.6, 32.4, 2.9, 53.3, 50, 63.3, 36.7])\n",
    "#w_va = np.array([46.7, 26.7, 56.7, 26.7, 35.3, 73.5, 50, 32.4])\n",
    "\n",
    "#Without scenarios 5 and 7:\n",
    "#wo_va = np.array([32.4, 17.6, 32.4, 2.9, 50, 36.7])\n",
    "#w_va = np.array([46.7, 26.7, 56.7, 26.7, 73.5, 32.4])\n",
    "\n",
    "#Without scenario 5:\n",
    "wo_va = np.array([32.4, 17.6, 32.4, 2.9, 50, 63.3, 36.7])\n",
    "w_va = np.array([46.7, 26.7, 56.7, 26.7, 73.5, 50, 32.4])\n",
    "\n",
    "z = wo_va - w_va\n",
    "mean_z = np.mean(z)\n"
   ]
  },
  {
   "cell_type": "code",
   "execution_count": 31,
   "metadata": {},
   "outputs": [],
   "source": [
    "l = []\n",
    "for i in range(len(wo_va)):\n",
    "    l.append(np.square(z[i] - mean_z))\n",
    "l = np.array(l)\n",
    "\n",
    "var_est = np.sum(l) / (len(wo_va)*(len(wo_va) - 1))"
   ]
  },
  {
   "cell_type": "code",
   "execution_count": 32,
   "metadata": {},
   "outputs": [
    {
     "data": {
      "text/plain": [
       "(-21.745078624843273, -0.36920708944244574)"
      ]
     },
     "execution_count": 32,
     "metadata": {},
     "output_type": "execute_result"
    }
   ],
   "source": [
    "lb = mean_z - t_value * np.sqrt(var_est)\n",
    "ub = mean_z + t_value * np.sqrt(var_est)\n",
    "\n",
    "lb, ub"
   ]
  },
  {
   "cell_type": "markdown",
   "metadata": {},
   "source": [
    "# Only Friday"
   ]
  },
  {
   "cell_type": "code",
   "execution_count": 33,
   "metadata": {},
   "outputs": [],
   "source": [
    "import numpy as np\n",
    "\n",
    "#wo_va = np.array([0, 27.8, 33.3, 5.6, 50, 57.1, 64.3, 35.7])\n",
    "#w_va = np.array([50, 42.9, 42.9, 28.6, 37.9, 66.7, 55.6, 38.9])\n",
    "\n",
    "#Without scenario 5 and 7\n",
    "#wo_va = np.array([0, 27.8, 33.3, 5.6, 57.1, 35.7])\n",
    "#w_va = np.array([50, 42.9, 42.9, 28.6, 66.7, 38.9])\n",
    "\n",
    "#Without scenario 5\n",
    "wo_va = np.array([0, 27.8, 33.3, 5.6, 57.1, 64.3, 35.7])\n",
    "w_va = np.array([50, 42.9, 42.9, 28.6, 66.7, 55.6, 38.9])\n",
    "\n",
    "z = wo_va - w_va\n",
    "mean_z = np.mean(z)"
   ]
  },
  {
   "cell_type": "code",
   "execution_count": 34,
   "metadata": {},
   "outputs": [],
   "source": [
    "l = []\n",
    "for i in range(len(wo_va)):\n",
    "    l.append(np.square(z[i] - mean_z))\n",
    "l = np.array(l)\n",
    "\n",
    "var_est = np.sum(l) / (len(wo_va)*(len(wo_va) - 1))"
   ]
  },
  {
   "cell_type": "code",
   "execution_count": 35,
   "metadata": {},
   "outputs": [
    {
     "data": {
      "text/plain": [
       "(-27.771703428377222, -1.3140108573370615)"
      ]
     },
     "execution_count": 35,
     "metadata": {},
     "output_type": "execute_result"
    }
   ],
   "source": [
    "lb = mean_z - t_value * np.sqrt(var_est)\n",
    "ub = mean_z + t_value * np.sqrt(var_est)\n",
    "\n",
    "lb, ub"
   ]
  }
 ],
 "metadata": {
  "kernelspec": {
   "display_name": "university-grounded-llm-pT5sllf0-py3.10",
   "language": "python",
   "name": "python3"
  },
  "language_info": {
   "codemirror_mode": {
    "name": "ipython",
    "version": 3
   },
   "file_extension": ".py",
   "mimetype": "text/x-python",
   "name": "python",
   "nbconvert_exporter": "python",
   "pygments_lexer": "ipython3",
   "version": "3.10.11"
  }
 },
 "nbformat": 4,
 "nbformat_minor": 2
}
